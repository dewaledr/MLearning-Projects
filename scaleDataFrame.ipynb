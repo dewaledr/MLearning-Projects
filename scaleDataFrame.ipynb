{
 "cells": [
  {
   "cell_type": "code",
   "execution_count": 10,
   "metadata": {},
   "outputs": [
    {
     "name": "stdout",
     "output_type": "stream",
     "text": [
      "MinMaxScaler(copy=True, feature_range=(0, 1))\n",
      "[ 1. 18.]\n",
      "[-1.  2.]\n",
      "[[0.   0.  ]\n",
      " [0.25 0.25]\n",
      " [1.   0.5 ]\n",
      " [1.   1.  ]]\n",
      "\n",
      "[[1.5 0. ]]\n",
      "[[0.5 0.5]]\n",
      "[[0.25 0.25]]\n"
     ]
    }
   ],
   "source": [
    "from sklearn.preprocessing import MinMaxScaler\n",
    "data = [[-1, 2], [-0.5, 6], [1, 10], [1, 18]]\n",
    "#data = [[1, 18], [-0.5, 6],[-1, 2], [0, 10]]\n",
    "scaler = MinMaxScaler()\n",
    "print(scaler.fit(data))\n",
    "MinMaxScaler(copy=True, feature_range=(0, 1))\n",
    "print(scaler.data_max_)\n",
    "print(scaler.data_min_)\n",
    "print(scaler.transform(data))\n",
    "print(\"\")\n",
    "print(scaler.transform([[2,2]]))\n",
    "print(scaler.transform([[0,10]]))\n",
    "print(scaler.transform([[-0.5,6]]))"
   ]
  },
  {
   "cell_type": "code",
   "execution_count": null,
   "metadata": {},
   "outputs": [],
   "source": []
  }
 ],
 "metadata": {
  "kernelspec": {
   "display_name": "Python 3",
   "language": "python",
   "name": "python3"
  },
  "language_info": {
   "codemirror_mode": {
    "name": "ipython",
    "version": 3
   },
   "file_extension": ".py",
   "mimetype": "text/x-python",
   "name": "python",
   "nbconvert_exporter": "python",
   "pygments_lexer": "ipython3",
   "version": "3.7.4"
  }
 },
 "nbformat": 4,
 "nbformat_minor": 4
}
