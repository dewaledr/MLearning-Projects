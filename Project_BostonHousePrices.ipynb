{
 "cells": [
  {
   "cell_type": "markdown",
   "metadata": {},
   "source": [
    "# Machine Learning and Statistics Project, November 2019\n",
    "***\n",
    "\n",
    "## **Submitted by:** Francis Adepoju (G00364694)\n",
    "***\n",
    "## __Title:__ Using Descriptive Statistics and Plots to Describe the Boston House Prices Dataset \n",
    "***\n",
    "\n",
    "\n",
    "## Summary of the dataset:\n",
    "#### The Boston data frame has 506 rows and 14 columns. This data frame contains the following columns:\n",
    "1. __crim__   - per capita crime rate by town.\n",
    "2. __zn__     - proportion of residential land zoned for lots over 25,000 sq.ft.\n",
    "3. __indus__  - proportion of non-retail business acres per town.\n",
    "4. __chas__   - Charles River dummy variable (= 1 if tract bounds river; 0 otherwise).\n",
    "5. __nox__    - nitrogen oxides concentration (parts per 10 million).\n",
    "6. __rm__     - average number of rooms per dwelling.\n",
    "7. __age__    - proportion of owner-occupied units built prior to 1940.\n",
    "8. __dis__    - weighted mean of distances to five Boston employment centres.\n",
    "9. __rad__    - index of accessibility to radial highways.\n",
    "10. __tax__    - full-value property-tax rate per **`$10,000`**.\n",
    "11. __ptratio__  - pupil-teacher ratio by town.\n",
    "12. __black__  - `1000 * (Bk - 0.63)^2` where Bk is the proportion of blacks by town.\n",
    "13. __lstat__  - lower status of the population (percent).\n",
    "14. __medv__  - median value of owner-occupied homes in **`$1,000`**.\n",
    "\n",
    "#### NOTE: \n",
    "1. The __medv__ variable is the target (y) variable. The prices of the house indicated by the __medv__ variable is therefore our target variable and the remaining 13 are the feature variables.The effect of the these 13 variables on house prices are to be investigated and predicted.\n",
    "2. In this project, we use the Python[1], scipy[2], keras[3], and Jupyter[4] packages to produce a comprehensive description, inference and prediction of house prices using the Boston house prices' dataset [5] \n",
    "\n",
    "***\n",
    "## 1. Description\n",
    "***"
   ]
  },
  {
   "cell_type": "markdown",
   "metadata": {},
   "source": [
    "#### Import necessary Libraries"
   ]
  },
  {
   "cell_type": "code",
   "execution_count": 1,
   "metadata": {},
   "outputs": [
    {
     "name": "stderr",
     "output_type": "stream",
     "text": [
      "Using TensorFlow backend.\n"
     ]
    }
   ],
   "source": [
    "# Library for generating random variables.\n",
    "import numpy as np\n",
    "\n",
    "# Library for handling data.\n",
    "import pandas as pd\n",
    "\n",
    "# random number gen\n",
    "from random import sample\n",
    "\n",
    "# Library for plotting.\n",
    "import matplotlib.pyplot as plt\n",
    "import seaborn as sns\n",
    "\n",
    "# Library for t-tests and ANOVA.\n",
    "import scipy.stats as stats\n",
    "\n",
    "# For Machine Learning\n",
    "import statsmodels.api as sm\n",
    "import statsmodels.formula.api as smf\n",
    "import scipy.linalg as sl\n",
    "import keras as kr\n",
    "#For more practical ML,Import linear_model from sklearn\n",
    "import sklearn.linear_model as lm   \n",
    "# Data Scaler\n",
    "from sklearn.preprocessing import MinMaxScaler\n",
    "\n",
    "# Make the plots bigger.\n",
    "plt.rcParams['figure.figsize'] = (20.0, 10.0)"
   ]
  },
  {
   "cell_type": "markdown",
   "metadata": {},
   "source": [
    "### 1.1 Load Dataset from my gitHub repository and gain some insight about the dataset"
   ]
  },
  {
   "cell_type": "code",
   "execution_count": 2,
   "metadata": {},
   "outputs": [
    {
     "data": {
      "text/html": [
       "<div>\n",
       "<style scoped>\n",
       "    .dataframe tbody tr th:only-of-type {\n",
       "        vertical-align: middle;\n",
       "    }\n",
       "\n",
       "    .dataframe tbody tr th {\n",
       "        vertical-align: top;\n",
       "    }\n",
       "\n",
       "    .dataframe thead th {\n",
       "        text-align: right;\n",
       "    }\n",
       "</style>\n",
       "<table border=\"1\" class=\"dataframe\">\n",
       "  <thead>\n",
       "    <tr style=\"text-align: right;\">\n",
       "      <th></th>\n",
       "      <th>crim</th>\n",
       "      <th>zn</th>\n",
       "      <th>indus</th>\n",
       "      <th>chas</th>\n",
       "      <th>nox</th>\n",
       "      <th>rm</th>\n",
       "      <th>age</th>\n",
       "      <th>dis</th>\n",
       "      <th>rad</th>\n",
       "      <th>tax</th>\n",
       "      <th>ptratio</th>\n",
       "      <th>black</th>\n",
       "      <th>lstat</th>\n",
       "      <th>medv</th>\n",
       "    </tr>\n",
       "  </thead>\n",
       "  <tbody>\n",
       "    <tr>\n",
       "      <td>0</td>\n",
       "      <td>0.00632</td>\n",
       "      <td>18.0</td>\n",
       "      <td>2.31</td>\n",
       "      <td>0</td>\n",
       "      <td>0.538</td>\n",
       "      <td>6.575</td>\n",
       "      <td>65.2</td>\n",
       "      <td>4.0900</td>\n",
       "      <td>1</td>\n",
       "      <td>296</td>\n",
       "      <td>15.3</td>\n",
       "      <td>396.90</td>\n",
       "      <td>4.98</td>\n",
       "      <td>24.0</td>\n",
       "    </tr>\n",
       "    <tr>\n",
       "      <td>1</td>\n",
       "      <td>0.02731</td>\n",
       "      <td>0.0</td>\n",
       "      <td>7.07</td>\n",
       "      <td>0</td>\n",
       "      <td>0.469</td>\n",
       "      <td>6.421</td>\n",
       "      <td>78.9</td>\n",
       "      <td>4.9671</td>\n",
       "      <td>2</td>\n",
       "      <td>242</td>\n",
       "      <td>17.8</td>\n",
       "      <td>396.90</td>\n",
       "      <td>9.14</td>\n",
       "      <td>21.6</td>\n",
       "    </tr>\n",
       "    <tr>\n",
       "      <td>2</td>\n",
       "      <td>0.02729</td>\n",
       "      <td>0.0</td>\n",
       "      <td>7.07</td>\n",
       "      <td>0</td>\n",
       "      <td>0.469</td>\n",
       "      <td>7.185</td>\n",
       "      <td>61.1</td>\n",
       "      <td>4.9671</td>\n",
       "      <td>2</td>\n",
       "      <td>242</td>\n",
       "      <td>17.8</td>\n",
       "      <td>392.83</td>\n",
       "      <td>4.03</td>\n",
       "      <td>34.7</td>\n",
       "    </tr>\n",
       "    <tr>\n",
       "      <td>3</td>\n",
       "      <td>0.03237</td>\n",
       "      <td>0.0</td>\n",
       "      <td>2.18</td>\n",
       "      <td>0</td>\n",
       "      <td>0.458</td>\n",
       "      <td>6.998</td>\n",
       "      <td>45.8</td>\n",
       "      <td>6.0622</td>\n",
       "      <td>3</td>\n",
       "      <td>222</td>\n",
       "      <td>18.7</td>\n",
       "      <td>394.63</td>\n",
       "      <td>2.94</td>\n",
       "      <td>33.4</td>\n",
       "    </tr>\n",
       "    <tr>\n",
       "      <td>4</td>\n",
       "      <td>0.06905</td>\n",
       "      <td>0.0</td>\n",
       "      <td>2.18</td>\n",
       "      <td>0</td>\n",
       "      <td>0.458</td>\n",
       "      <td>7.147</td>\n",
       "      <td>54.2</td>\n",
       "      <td>6.0622</td>\n",
       "      <td>3</td>\n",
       "      <td>222</td>\n",
       "      <td>18.7</td>\n",
       "      <td>396.90</td>\n",
       "      <td>5.33</td>\n",
       "      <td>36.2</td>\n",
       "    </tr>\n",
       "  </tbody>\n",
       "</table>\n",
       "</div>"
      ],
      "text/plain": [
       "      crim    zn  indus  chas    nox     rm   age     dis  rad  tax  ptratio  \\\n",
       "0  0.00632  18.0   2.31     0  0.538  6.575  65.2  4.0900    1  296     15.3   \n",
       "1  0.02731   0.0   7.07     0  0.469  6.421  78.9  4.9671    2  242     17.8   \n",
       "2  0.02729   0.0   7.07     0  0.469  7.185  61.1  4.9671    2  242     17.8   \n",
       "3  0.03237   0.0   2.18     0  0.458  6.998  45.8  6.0622    3  222     18.7   \n",
       "4  0.06905   0.0   2.18     0  0.458  7.147  54.2  6.0622    3  222     18.7   \n",
       "\n",
       "    black  lstat  medv  \n",
       "0  396.90   4.98  24.0  \n",
       "1  396.90   9.14  21.6  \n",
       "2  392.83   4.03  34.7  \n",
       "3  394.63   2.94  33.4  \n",
       "4  396.90   5.33  36.2  "
      ]
     },
     "execution_count": 2,
     "metadata": {},
     "output_type": "execute_result"
    }
   ],
   "source": [
    "# Let's use pandas to read this csv file and organise the housing data.\n",
    "# Load the boston-housing dataset... This is the URL from \"raw\" version of housing.csv file from my github\n",
    "#df = pd.read_csv(\"housingCSV2.csv\")\n",
    "df = pd.read_csv(\"https://raw.githubusercontent.com/dewaledr/MLearning-Projects/master/housing.csv\")\n",
    "df.head()"
   ]
  },
  {
   "cell_type": "code",
   "execution_count": 3,
   "metadata": {},
   "outputs": [
    {
     "data": {
      "text/html": [
       "<div>\n",
       "<style scoped>\n",
       "    .dataframe tbody tr th:only-of-type {\n",
       "        vertical-align: middle;\n",
       "    }\n",
       "\n",
       "    .dataframe tbody tr th {\n",
       "        vertical-align: top;\n",
       "    }\n",
       "\n",
       "    .dataframe thead th {\n",
       "        text-align: right;\n",
       "    }\n",
       "</style>\n",
       "<table border=\"1\" class=\"dataframe\">\n",
       "  <thead>\n",
       "    <tr style=\"text-align: right;\">\n",
       "      <th></th>\n",
       "      <th>crim</th>\n",
       "      <th>zn</th>\n",
       "      <th>indus</th>\n",
       "      <th>chas</th>\n",
       "      <th>nox</th>\n",
       "      <th>rm</th>\n",
       "      <th>age</th>\n",
       "      <th>dis</th>\n",
       "      <th>rad</th>\n",
       "      <th>tax</th>\n",
       "      <th>ptratio</th>\n",
       "      <th>black</th>\n",
       "      <th>lstat</th>\n",
       "      <th>medv</th>\n",
       "    </tr>\n",
       "  </thead>\n",
       "  <tbody>\n",
       "    <tr>\n",
       "      <td>501</td>\n",
       "      <td>0.06263</td>\n",
       "      <td>0.0</td>\n",
       "      <td>11.93</td>\n",
       "      <td>0</td>\n",
       "      <td>0.573</td>\n",
       "      <td>6.593</td>\n",
       "      <td>69.1</td>\n",
       "      <td>2.4786</td>\n",
       "      <td>1</td>\n",
       "      <td>273</td>\n",
       "      <td>21.0</td>\n",
       "      <td>391.99</td>\n",
       "      <td>9.67</td>\n",
       "      <td>22.4</td>\n",
       "    </tr>\n",
       "    <tr>\n",
       "      <td>502</td>\n",
       "      <td>0.04527</td>\n",
       "      <td>0.0</td>\n",
       "      <td>11.93</td>\n",
       "      <td>0</td>\n",
       "      <td>0.573</td>\n",
       "      <td>6.120</td>\n",
       "      <td>76.7</td>\n",
       "      <td>2.2875</td>\n",
       "      <td>1</td>\n",
       "      <td>273</td>\n",
       "      <td>21.0</td>\n",
       "      <td>396.90</td>\n",
       "      <td>9.08</td>\n",
       "      <td>20.6</td>\n",
       "    </tr>\n",
       "    <tr>\n",
       "      <td>503</td>\n",
       "      <td>0.06076</td>\n",
       "      <td>0.0</td>\n",
       "      <td>11.93</td>\n",
       "      <td>0</td>\n",
       "      <td>0.573</td>\n",
       "      <td>6.976</td>\n",
       "      <td>91.0</td>\n",
       "      <td>2.1675</td>\n",
       "      <td>1</td>\n",
       "      <td>273</td>\n",
       "      <td>21.0</td>\n",
       "      <td>396.90</td>\n",
       "      <td>5.64</td>\n",
       "      <td>23.9</td>\n",
       "    </tr>\n",
       "    <tr>\n",
       "      <td>504</td>\n",
       "      <td>0.10959</td>\n",
       "      <td>0.0</td>\n",
       "      <td>11.93</td>\n",
       "      <td>0</td>\n",
       "      <td>0.573</td>\n",
       "      <td>6.794</td>\n",
       "      <td>89.3</td>\n",
       "      <td>2.3889</td>\n",
       "      <td>1</td>\n",
       "      <td>273</td>\n",
       "      <td>21.0</td>\n",
       "      <td>393.45</td>\n",
       "      <td>6.48</td>\n",
       "      <td>22.0</td>\n",
       "    </tr>\n",
       "    <tr>\n",
       "      <td>505</td>\n",
       "      <td>0.04741</td>\n",
       "      <td>0.0</td>\n",
       "      <td>11.93</td>\n",
       "      <td>0</td>\n",
       "      <td>0.573</td>\n",
       "      <td>6.030</td>\n",
       "      <td>80.8</td>\n",
       "      <td>2.5050</td>\n",
       "      <td>1</td>\n",
       "      <td>273</td>\n",
       "      <td>21.0</td>\n",
       "      <td>396.90</td>\n",
       "      <td>7.88</td>\n",
       "      <td>11.9</td>\n",
       "    </tr>\n",
       "  </tbody>\n",
       "</table>\n",
       "</div>"
      ],
      "text/plain": [
       "        crim   zn  indus  chas    nox     rm   age     dis  rad  tax  ptratio  \\\n",
       "501  0.06263  0.0  11.93     0  0.573  6.593  69.1  2.4786    1  273     21.0   \n",
       "502  0.04527  0.0  11.93     0  0.573  6.120  76.7  2.2875    1  273     21.0   \n",
       "503  0.06076  0.0  11.93     0  0.573  6.976  91.0  2.1675    1  273     21.0   \n",
       "504  0.10959  0.0  11.93     0  0.573  6.794  89.3  2.3889    1  273     21.0   \n",
       "505  0.04741  0.0  11.93     0  0.573  6.030  80.8  2.5050    1  273     21.0   \n",
       "\n",
       "      black  lstat  medv  \n",
       "501  391.99   9.67  22.4  \n",
       "502  396.90   9.08  20.6  \n",
       "503  396.90   5.64  23.9  \n",
       "504  393.45   6.48  22.0  \n",
       "505  396.90   7.88  11.9  "
      ]
     },
     "execution_count": 3,
     "metadata": {},
     "output_type": "execute_result"
    }
   ],
   "source": [
    "df.tail()"
   ]
  },
  {
   "cell_type": "code",
   "execution_count": 4,
   "metadata": {},
   "outputs": [
    {
     "name": "stdout",
     "output_type": "stream",
     "text": [
      "Number of rows in this dataset : 506\n",
      "====================================\n",
      "<class 'pandas.core.frame.DataFrame'>\n",
      "RangeIndex: 506 entries, 0 to 505\n",
      "Data columns (total 14 columns):\n",
      "crim       506 non-null float64\n",
      "zn         506 non-null float64\n",
      "indus      506 non-null float64\n",
      "chas       506 non-null int64\n",
      "nox        506 non-null float64\n",
      "rm         506 non-null float64\n",
      "age        506 non-null float64\n",
      "dis        506 non-null float64\n",
      "rad        506 non-null int64\n",
      "tax        506 non-null int64\n",
      "ptratio    506 non-null float64\n",
      "black      506 non-null float64\n",
      "lstat      506 non-null float64\n",
      "medv       506 non-null float64\n",
      "dtypes: float64(11), int64(3)\n",
      "memory usage: 55.5 KB\n"
     ]
    }
   ],
   "source": [
    "# Investigate the data for missing or non values...\n",
    "print(\"Number of rows in this dataset :\", len(df.index))\n",
    "print(\"====================================\")\n",
    "df.info()"
   ]
  },
  {
   "cell_type": "markdown",
   "metadata": {},
   "source": [
    "To get some basic statistics about our data like mean, median, count etc. we can use __.describe()__ method as shown below:"
   ]
  },
  {
   "cell_type": "code",
   "execution_count": 5,
   "metadata": {},
   "outputs": [
    {
     "data": {
      "text/html": [
       "<div>\n",
       "<style scoped>\n",
       "    .dataframe tbody tr th:only-of-type {\n",
       "        vertical-align: middle;\n",
       "    }\n",
       "\n",
       "    .dataframe tbody tr th {\n",
       "        vertical-align: top;\n",
       "    }\n",
       "\n",
       "    .dataframe thead th {\n",
       "        text-align: right;\n",
       "    }\n",
       "</style>\n",
       "<table border=\"1\" class=\"dataframe\">\n",
       "  <thead>\n",
       "    <tr style=\"text-align: right;\">\n",
       "      <th></th>\n",
       "      <th>crim</th>\n",
       "      <th>zn</th>\n",
       "      <th>indus</th>\n",
       "      <th>chas</th>\n",
       "      <th>nox</th>\n",
       "      <th>rm</th>\n",
       "      <th>age</th>\n",
       "      <th>dis</th>\n",
       "      <th>rad</th>\n",
       "      <th>tax</th>\n",
       "      <th>ptratio</th>\n",
       "      <th>black</th>\n",
       "      <th>lstat</th>\n",
       "      <th>medv</th>\n",
       "    </tr>\n",
       "  </thead>\n",
       "  <tbody>\n",
       "    <tr>\n",
       "      <td>count</td>\n",
       "      <td>506.000000</td>\n",
       "      <td>506.000000</td>\n",
       "      <td>506.000000</td>\n",
       "      <td>506.000000</td>\n",
       "      <td>506.000000</td>\n",
       "      <td>506.000000</td>\n",
       "      <td>506.000000</td>\n",
       "      <td>506.000000</td>\n",
       "      <td>506.000000</td>\n",
       "      <td>506.000000</td>\n",
       "      <td>506.000000</td>\n",
       "      <td>506.000000</td>\n",
       "      <td>506.000000</td>\n",
       "      <td>506.000000</td>\n",
       "    </tr>\n",
       "    <tr>\n",
       "      <td>mean</td>\n",
       "      <td>3.613524</td>\n",
       "      <td>11.363636</td>\n",
       "      <td>11.136779</td>\n",
       "      <td>0.069170</td>\n",
       "      <td>0.554695</td>\n",
       "      <td>6.284634</td>\n",
       "      <td>68.574901</td>\n",
       "      <td>3.795043</td>\n",
       "      <td>9.549407</td>\n",
       "      <td>408.237154</td>\n",
       "      <td>18.455534</td>\n",
       "      <td>356.674032</td>\n",
       "      <td>12.653063</td>\n",
       "      <td>22.532806</td>\n",
       "    </tr>\n",
       "    <tr>\n",
       "      <td>std</td>\n",
       "      <td>8.601545</td>\n",
       "      <td>23.322453</td>\n",
       "      <td>6.860353</td>\n",
       "      <td>0.253994</td>\n",
       "      <td>0.115878</td>\n",
       "      <td>0.702617</td>\n",
       "      <td>28.148861</td>\n",
       "      <td>2.105710</td>\n",
       "      <td>8.707259</td>\n",
       "      <td>168.537116</td>\n",
       "      <td>2.164946</td>\n",
       "      <td>91.294864</td>\n",
       "      <td>7.141062</td>\n",
       "      <td>9.197104</td>\n",
       "    </tr>\n",
       "    <tr>\n",
       "      <td>min</td>\n",
       "      <td>0.006320</td>\n",
       "      <td>0.000000</td>\n",
       "      <td>0.460000</td>\n",
       "      <td>0.000000</td>\n",
       "      <td>0.385000</td>\n",
       "      <td>3.561000</td>\n",
       "      <td>2.900000</td>\n",
       "      <td>1.129600</td>\n",
       "      <td>1.000000</td>\n",
       "      <td>187.000000</td>\n",
       "      <td>12.600000</td>\n",
       "      <td>0.320000</td>\n",
       "      <td>1.730000</td>\n",
       "      <td>5.000000</td>\n",
       "    </tr>\n",
       "    <tr>\n",
       "      <td>25%</td>\n",
       "      <td>0.082045</td>\n",
       "      <td>0.000000</td>\n",
       "      <td>5.190000</td>\n",
       "      <td>0.000000</td>\n",
       "      <td>0.449000</td>\n",
       "      <td>5.885500</td>\n",
       "      <td>45.025000</td>\n",
       "      <td>2.100175</td>\n",
       "      <td>4.000000</td>\n",
       "      <td>279.000000</td>\n",
       "      <td>17.400000</td>\n",
       "      <td>375.377500</td>\n",
       "      <td>6.950000</td>\n",
       "      <td>17.025000</td>\n",
       "    </tr>\n",
       "    <tr>\n",
       "      <td>50%</td>\n",
       "      <td>0.256510</td>\n",
       "      <td>0.000000</td>\n",
       "      <td>9.690000</td>\n",
       "      <td>0.000000</td>\n",
       "      <td>0.538000</td>\n",
       "      <td>6.208500</td>\n",
       "      <td>77.500000</td>\n",
       "      <td>3.207450</td>\n",
       "      <td>5.000000</td>\n",
       "      <td>330.000000</td>\n",
       "      <td>19.050000</td>\n",
       "      <td>391.440000</td>\n",
       "      <td>11.360000</td>\n",
       "      <td>21.200000</td>\n",
       "    </tr>\n",
       "    <tr>\n",
       "      <td>75%</td>\n",
       "      <td>3.677082</td>\n",
       "      <td>12.500000</td>\n",
       "      <td>18.100000</td>\n",
       "      <td>0.000000</td>\n",
       "      <td>0.624000</td>\n",
       "      <td>6.623500</td>\n",
       "      <td>94.075000</td>\n",
       "      <td>5.188425</td>\n",
       "      <td>24.000000</td>\n",
       "      <td>666.000000</td>\n",
       "      <td>20.200000</td>\n",
       "      <td>396.225000</td>\n",
       "      <td>16.955000</td>\n",
       "      <td>25.000000</td>\n",
       "    </tr>\n",
       "    <tr>\n",
       "      <td>max</td>\n",
       "      <td>88.976200</td>\n",
       "      <td>100.000000</td>\n",
       "      <td>27.740000</td>\n",
       "      <td>1.000000</td>\n",
       "      <td>0.871000</td>\n",
       "      <td>8.780000</td>\n",
       "      <td>100.000000</td>\n",
       "      <td>12.126500</td>\n",
       "      <td>24.000000</td>\n",
       "      <td>711.000000</td>\n",
       "      <td>22.000000</td>\n",
       "      <td>396.900000</td>\n",
       "      <td>37.970000</td>\n",
       "      <td>50.000000</td>\n",
       "    </tr>\n",
       "  </tbody>\n",
       "</table>\n",
       "</div>"
      ],
      "text/plain": [
       "             crim          zn       indus        chas         nox          rm  \\\n",
       "count  506.000000  506.000000  506.000000  506.000000  506.000000  506.000000   \n",
       "mean     3.613524   11.363636   11.136779    0.069170    0.554695    6.284634   \n",
       "std      8.601545   23.322453    6.860353    0.253994    0.115878    0.702617   \n",
       "min      0.006320    0.000000    0.460000    0.000000    0.385000    3.561000   \n",
       "25%      0.082045    0.000000    5.190000    0.000000    0.449000    5.885500   \n",
       "50%      0.256510    0.000000    9.690000    0.000000    0.538000    6.208500   \n",
       "75%      3.677082   12.500000   18.100000    0.000000    0.624000    6.623500   \n",
       "max     88.976200  100.000000   27.740000    1.000000    0.871000    8.780000   \n",
       "\n",
       "              age         dis         rad         tax     ptratio       black  \\\n",
       "count  506.000000  506.000000  506.000000  506.000000  506.000000  506.000000   \n",
       "mean    68.574901    3.795043    9.549407  408.237154   18.455534  356.674032   \n",
       "std     28.148861    2.105710    8.707259  168.537116    2.164946   91.294864   \n",
       "min      2.900000    1.129600    1.000000  187.000000   12.600000    0.320000   \n",
       "25%     45.025000    2.100175    4.000000  279.000000   17.400000  375.377500   \n",
       "50%     77.500000    3.207450    5.000000  330.000000   19.050000  391.440000   \n",
       "75%     94.075000    5.188425   24.000000  666.000000   20.200000  396.225000   \n",
       "max    100.000000   12.126500   24.000000  711.000000   22.000000  396.900000   \n",
       "\n",
       "            lstat        medv  \n",
       "count  506.000000  506.000000  \n",
       "mean    12.653063   22.532806  \n",
       "std      7.141062    9.197104  \n",
       "min      1.730000    5.000000  \n",
       "25%      6.950000   17.025000  \n",
       "50%     11.360000   21.200000  \n",
       "75%     16.955000   25.000000  \n",
       "max     37.970000   50.000000  "
      ]
     },
     "execution_count": 5,
     "metadata": {},
     "output_type": "execute_result"
    }
   ],
   "source": [
    "df.describe()"
   ]
  },
  {
   "cell_type": "markdown",
   "metadata": {},
   "source": [
    "### 1.2 Data Backup and Clean up...\n",
    "Generally, NaN or missing values can be in any form like 0, ?, or may be written as “missing” and as observed in our dataset above __(chas and zn)__, there are a lot of  0’s, so we can replace them with NaN to calculate how much data we are missing [6]."
   ]
  },
  {
   "cell_type": "code",
   "execution_count": 6,
   "metadata": {},
   "outputs": [],
   "source": [
    "# Make a copy of the dataset\n",
    "df2 = df.copy(deep=True)\n",
    "# Another copy for Stage 3 - Prediction\n",
    "dfp = df.copy(deep=True)"
   ]
  },
  {
   "cell_type": "code",
   "execution_count": 7,
   "metadata": {},
   "outputs": [],
   "source": [
    "#print(df2.head())\n",
    "df2.zn.replace(0, np.nan, inplace=True)\n",
    "df2.chas.replace(0, np.nan, inplace=True)"
   ]
  },
  {
   "cell_type": "code",
   "execution_count": 8,
   "metadata": {},
   "outputs": [
    {
     "name": "stdout",
     "output_type": "stream",
     "text": [
      "<class 'pandas.core.frame.DataFrame'>\n",
      "RangeIndex: 506 entries, 0 to 505\n",
      "Data columns (total 14 columns):\n",
      "crim       506 non-null float64\n",
      "zn         134 non-null float64\n",
      "indus      506 non-null float64\n",
      "chas       35 non-null float64\n",
      "nox        506 non-null float64\n",
      "rm         506 non-null float64\n",
      "age        506 non-null float64\n",
      "dis        506 non-null float64\n",
      "rad        506 non-null int64\n",
      "tax        506 non-null int64\n",
      "ptratio    506 non-null float64\n",
      "black      506 non-null float64\n",
      "lstat      506 non-null float64\n",
      "medv       506 non-null float64\n",
      "dtypes: float64(12), int64(2)\n",
      "memory usage: 55.5 KB\n"
     ]
    }
   ],
   "source": [
    "#After replacing let’s again use .info() method to see the details about missing values in our dataset:\n",
    "df2.info()"
   ]
  },
  {
   "cell_type": "code",
   "execution_count": 9,
   "metadata": {},
   "outputs": [
    {
     "data": {
      "text/plain": [
       "crim        0.000000\n",
       "zn         73.517787\n",
       "indus       0.000000\n",
       "chas       93.083004\n",
       "nox         0.000000\n",
       "rm          0.000000\n",
       "age         0.000000\n",
       "dis         0.000000\n",
       "rad         0.000000\n",
       "tax         0.000000\n",
       "ptratio     0.000000\n",
       "black       0.000000\n",
       "lstat       0.000000\n",
       "medv        0.000000\n",
       "dtype: float64"
      ]
     },
     "execution_count": 9,
     "metadata": {},
     "output_type": "execute_result"
    }
   ],
   "source": [
    "df2.isnull().sum()/len(df2)*100"
   ]
  },
  {
   "cell_type": "markdown",
   "metadata": {},
   "source": [
    "#### 1.2.2 Calculate the percentageof features with missing values\n",
    "Generally, if there is 20-25% missing values we can impute them with different ways like mean, median or an educated guess by us. But if it’s more than that, it’s better to remove those features otherwise they can affect our result. As we can see below both “zn” and “chas” missing more than 70% data so we will remove both these features."
   ]
  },
  {
   "cell_type": "code",
   "execution_count": 10,
   "metadata": {},
   "outputs": [],
   "source": [
    "df2 = df2.drop(\"zn\", 1)\n",
    "df2 = df2.drop(\"chas\", 1)"
   ]
  },
  {
   "cell_type": "code",
   "execution_count": 11,
   "metadata": {},
   "outputs": [
    {
     "data": {
      "text/html": [
       "<div>\n",
       "<style scoped>\n",
       "    .dataframe tbody tr th:only-of-type {\n",
       "        vertical-align: middle;\n",
       "    }\n",
       "\n",
       "    .dataframe tbody tr th {\n",
       "        vertical-align: top;\n",
       "    }\n",
       "\n",
       "    .dataframe thead th {\n",
       "        text-align: right;\n",
       "    }\n",
       "</style>\n",
       "<table border=\"1\" class=\"dataframe\">\n",
       "  <thead>\n",
       "    <tr style=\"text-align: right;\">\n",
       "      <th></th>\n",
       "      <th>crim</th>\n",
       "      <th>indus</th>\n",
       "      <th>nox</th>\n",
       "      <th>rm</th>\n",
       "      <th>age</th>\n",
       "      <th>dis</th>\n",
       "      <th>rad</th>\n",
       "      <th>tax</th>\n",
       "      <th>ptratio</th>\n",
       "      <th>black</th>\n",
       "      <th>lstat</th>\n",
       "      <th>medv</th>\n",
       "    </tr>\n",
       "  </thead>\n",
       "  <tbody>\n",
       "    <tr>\n",
       "      <td>0</td>\n",
       "      <td>0.00632</td>\n",
       "      <td>2.31</td>\n",
       "      <td>0.538</td>\n",
       "      <td>6.575</td>\n",
       "      <td>65.2</td>\n",
       "      <td>4.0900</td>\n",
       "      <td>1</td>\n",
       "      <td>296</td>\n",
       "      <td>15.3</td>\n",
       "      <td>396.90</td>\n",
       "      <td>4.98</td>\n",
       "      <td>24.0</td>\n",
       "    </tr>\n",
       "    <tr>\n",
       "      <td>1</td>\n",
       "      <td>0.02731</td>\n",
       "      <td>7.07</td>\n",
       "      <td>0.469</td>\n",
       "      <td>6.421</td>\n",
       "      <td>78.9</td>\n",
       "      <td>4.9671</td>\n",
       "      <td>2</td>\n",
       "      <td>242</td>\n",
       "      <td>17.8</td>\n",
       "      <td>396.90</td>\n",
       "      <td>9.14</td>\n",
       "      <td>21.6</td>\n",
       "    </tr>\n",
       "    <tr>\n",
       "      <td>2</td>\n",
       "      <td>0.02729</td>\n",
       "      <td>7.07</td>\n",
       "      <td>0.469</td>\n",
       "      <td>7.185</td>\n",
       "      <td>61.1</td>\n",
       "      <td>4.9671</td>\n",
       "      <td>2</td>\n",
       "      <td>242</td>\n",
       "      <td>17.8</td>\n",
       "      <td>392.83</td>\n",
       "      <td>4.03</td>\n",
       "      <td>34.7</td>\n",
       "    </tr>\n",
       "    <tr>\n",
       "      <td>3</td>\n",
       "      <td>0.03237</td>\n",
       "      <td>2.18</td>\n",
       "      <td>0.458</td>\n",
       "      <td>6.998</td>\n",
       "      <td>45.8</td>\n",
       "      <td>6.0622</td>\n",
       "      <td>3</td>\n",
       "      <td>222</td>\n",
       "      <td>18.7</td>\n",
       "      <td>394.63</td>\n",
       "      <td>2.94</td>\n",
       "      <td>33.4</td>\n",
       "    </tr>\n",
       "    <tr>\n",
       "      <td>4</td>\n",
       "      <td>0.06905</td>\n",
       "      <td>2.18</td>\n",
       "      <td>0.458</td>\n",
       "      <td>7.147</td>\n",
       "      <td>54.2</td>\n",
       "      <td>6.0622</td>\n",
       "      <td>3</td>\n",
       "      <td>222</td>\n",
       "      <td>18.7</td>\n",
       "      <td>396.90</td>\n",
       "      <td>5.33</td>\n",
       "      <td>36.2</td>\n",
       "    </tr>\n",
       "  </tbody>\n",
       "</table>\n",
       "</div>"
      ],
      "text/plain": [
       "      crim  indus    nox     rm   age     dis  rad  tax  ptratio   black  \\\n",
       "0  0.00632   2.31  0.538  6.575  65.2  4.0900    1  296     15.3  396.90   \n",
       "1  0.02731   7.07  0.469  6.421  78.9  4.9671    2  242     17.8  396.90   \n",
       "2  0.02729   7.07  0.469  7.185  61.1  4.9671    2  242     17.8  392.83   \n",
       "3  0.03237   2.18  0.458  6.998  45.8  6.0622    3  222     18.7  394.63   \n",
       "4  0.06905   2.18  0.458  7.147  54.2  6.0622    3  222     18.7  396.90   \n",
       "\n",
       "   lstat  medv  \n",
       "0   4.98  24.0  \n",
       "1   9.14  21.6  \n",
       "2   4.03  34.7  \n",
       "3   2.94  33.4  \n",
       "4   5.33  36.2  "
      ]
     },
     "execution_count": 11,
     "metadata": {},
     "output_type": "execute_result"
    }
   ],
   "source": [
    "df2.head()"
   ]
  },
  {
   "cell_type": "markdown",
   "metadata": {},
   "source": [
    "### 1.3 Multi-Linear Regression on the dataset - Statsmodel"
   ]
  },
  {
   "cell_type": "code",
   "execution_count": 12,
   "metadata": {},
   "outputs": [],
   "source": [
    "# Let's pretend we want to do linear regression on these variables.\n",
    "x = df2[['crim', 'indus', 'nox', 'rm', 'age', 'dis', 'rad', 'tax', \n",
    "          'ptratio', 'black', 'lstat']]"
   ]
  },
  {
   "cell_type": "code",
   "execution_count": 13,
   "metadata": {},
   "outputs": [],
   "source": [
    "# # price relationship.\n",
    "y = df['medv']"
   ]
  },
  {
   "cell_type": "code",
   "execution_count": 14,
   "metadata": {},
   "outputs": [
    {
     "name": "stdout",
     "output_type": "stream",
     "text": [
      "                            OLS Regression Results                            \n",
      "==============================================================================\n",
      "Dep. Variable:                   medv   R-squared:                       0.729\n",
      "Model:                            OLS   Adj. R-squared:                  0.723\n",
      "Method:                 Least Squares   F-statistic:                     121.0\n",
      "Date:                Wed, 20 Nov 2019   Prob (F-statistic):          1.87e-132\n",
      "Time:                        19:50:02   Log-Likelihood:                -1509.6\n",
      "No. Observations:                 506   AIC:                             3043.\n",
      "Df Residuals:                     494   BIC:                             3094.\n",
      "Df Model:                          11                                         \n",
      "Covariance Type:            nonrobust                                         \n",
      "==============================================================================\n",
      "                 coef    std err          t      P>|t|      [0.025      0.975]\n",
      "------------------------------------------------------------------------------\n",
      "const         37.3083      5.200      7.175      0.000      27.092      47.525\n",
      "crim          -0.1034      0.033     -3.102      0.002      -0.169      -0.038\n",
      "indus          0.0182      0.062      0.294      0.769      -0.104       0.140\n",
      "nox          -17.8292      3.890     -4.584      0.000     -25.472     -10.187\n",
      "rm             4.0744      0.421      9.686      0.000       3.248       4.901\n",
      "age           -0.0026      0.013     -0.198      0.843      -0.029       0.024\n",
      "dis           -1.2102      0.186     -6.502      0.000      -1.576      -0.844\n",
      "rad            0.3046      0.067      4.555      0.000       0.173       0.436\n",
      "tax           -0.0109      0.004     -2.939      0.003      -0.018      -0.004\n",
      "ptratio       -1.1311      0.126     -8.972      0.000      -1.379      -0.883\n",
      "black          0.0099      0.003      3.603      0.000       0.004       0.015\n",
      "lstat         -0.5251      0.052    -10.187      0.000      -0.626      -0.424\n",
      "==============================================================================\n",
      "Omnibus:                      195.481   Durbin-Watson:                   0.987\n",
      "Prob(Omnibus):                  0.000   Jarque-Bera (JB):              936.742\n",
      "Skew:                           1.657   Prob(JB):                    3.88e-204\n",
      "Kurtosis:                       8.783   Cond. No.                     1.51e+04\n",
      "==============================================================================\n",
      "\n",
      "Warnings:\n",
      "[1] Standard Errors assume that the covariance matrix of the errors is correctly specified.\n",
      "[2] The condition number is large, 1.51e+04. This might indicate that there are\n",
      "strong multicollinearity or other numerical problems.\n"
     ]
    },
    {
     "name": "stderr",
     "output_type": "stream",
     "text": [
      "/Users/francisadepoju/anaconda3/lib/python3.7/site-packages/numpy/core/fromnumeric.py:2495: FutureWarning: Method .ptp is deprecated and will be removed in a future version. Use numpy.ptp instead.\n",
      "  return ptp(axis=axis, out=out, **kwargs)\n"
     ]
    }
   ],
   "source": [
    "# Tell statmodels to include an intercept.\n",
    "xwithc = sm.add_constant(x)\n",
    "\n",
    "# Create a model.\n",
    "msm = sm.OLS(y, xwithc)\n",
    "\n",
    "# Fit the data.\n",
    "rsm = msm.fit()\n",
    "\n",
    "# Print a summary.\n",
    "print(rsm.summary())"
   ]
  },
  {
   "cell_type": "markdown",
   "metadata": {},
   "source": [
    "### 1.3.1 HINT:\n",
    "The condition number is large, 15,100. This might indicate that there are strong multicollinearity or other numerical problems... Need to investigate this!\n",
    "In statistics, multicollinearity (also collinearity) is a phenomenon in which one predictor variable in a multiple regression model can be linearly predicted from the others with a substantial degree of accuracy. In this situation the coefficient estimates of the multiple regression may change erratically in response to small changes in the model or the data. Multicollinearity does not reduce the predictive power or reliability of the model as a whole, at least within the sample data set; it only affects calculations regarding individual predictors. That is, a multivariate regression model with collinear predictors can indicate how well the entire bundle of predictors predicts the outcome variable, but it may not give valid results about any individual predictor, or about which predictors are redundant with respect to others.[7]"
   ]
  },
  {
   "cell_type": "markdown",
   "metadata": {},
   "source": [
    "***\n",
    "### Multi-linear regression on the dataset - SKLearn.\n",
    "[https://scikit-learn.org/stable/](https://scikit-learn.org/stable/)"
   ]
  },
  {
   "cell_type": "code",
   "execution_count": 15,
   "metadata": {},
   "outputs": [],
   "source": [
    "# Create a linear regression model instance.\n",
    "m = lm.LinearRegression()"
   ]
  },
  {
   "cell_type": "markdown",
   "metadata": {},
   "source": [
    "#### 1.3.2:\n",
    "Assuming that the following Linear Relationship exists between the remaining features and the output (house prices):\n",
    "***"
   ]
  },
  {
   "cell_type": "markdown",
   "metadata": {},
   "source": [
    "$$ medv = int+ a (crim) + b (indus)  + c (nox) + d (rm) + e (age) + \n",
    "          f (dis) + g (rad) + h (tax) + i (ptratio) + j (black) + k (lstat) $$\n",
    "int = intercept\n",
    "***"
   ]
  },
  {
   "cell_type": "code",
   "execution_count": 16,
   "metadata": {},
   "outputs": [
    {
     "data": {
      "text/plain": [
       "LinearRegression(copy_X=True, fit_intercept=True, n_jobs=None, normalize=False)"
      ]
     },
     "execution_count": 16,
     "metadata": {},
     "output_type": "execute_result"
    }
   ],
   "source": [
    "# Ask our model to fit the data.\n",
    "m.fit(x, y)"
   ]
  },
  {
   "cell_type": "code",
   "execution_count": 17,
   "metadata": {},
   "outputs": [
    {
     "data": {
      "text/plain": [
       "37.30833678353185"
      ]
     },
     "execution_count": 17,
     "metadata": {},
     "output_type": "execute_result"
    }
   ],
   "source": [
    "# Here's our intercept.\n",
    "m.intercept_"
   ]
  },
  {
   "cell_type": "code",
   "execution_count": 18,
   "metadata": {},
   "outputs": [
    {
     "data": {
      "text/plain": [
       "array([-1.03402051e-01,  1.82116406e-02, -1.78291762e+01,  4.07437888e+00,\n",
       "       -2.64677545e-03, -1.21018231e+00,  3.04603188e-01, -1.09013226e-02,\n",
       "       -1.13114598e+00,  9.85349521e-03, -5.25072184e-01])"
      ]
     },
     "execution_count": 18,
     "metadata": {},
     "output_type": "execute_result"
    }
   ],
   "source": [
    "# Here's our coefficients, in order.\n",
    "m.coef_"
   ]
  },
  {
   "cell_type": "code",
   "execution_count": 19,
   "metadata": {},
   "outputs": [
    {
     "data": {
      "text/plain": [
       "0.7293219233110855"
      ]
     },
     "execution_count": 19,
     "metadata": {},
     "output_type": "execute_result"
    }
   ],
   "source": [
    "# See how good our fit is.\n",
    "m.score(x, y)"
   ]
  },
  {
   "cell_type": "markdown",
   "metadata": {},
   "source": [
    "### REMARKS:\n",
    "These results agree largely with those from statsmodel. Therefore, we can use statsmodel or sklearn for the descriptive analysis.\n",
    "Statsmodel involves calling fewer command to achieve the same outputs as sklearn\n",
    "Statsmodels fared quite well with Panda's data frames while sklearn models work with arrays (ndarray)."
   ]
  },
  {
   "cell_type": "markdown",
   "metadata": {},
   "source": [
    "### 1.3.3 Histogram:\n",
    "Now let’s plot the histogram of all the available features to see the distribution"
   ]
  },
  {
   "cell_type": "code",
   "execution_count": 20,
   "metadata": {},
   "outputs": [
    {
     "data": {
      "text/plain": [
       "array([[<matplotlib.axes._subplots.AxesSubplot object at 0x1c484a4650>,\n",
       "        <matplotlib.axes._subplots.AxesSubplot object at 0x1c4adf4bd0>,\n",
       "        <matplotlib.axes._subplots.AxesSubplot object at 0x1c4ae2b7d0>],\n",
       "       [<matplotlib.axes._subplots.AxesSubplot object at 0x1c4ae54c50>,\n",
       "        <matplotlib.axes._subplots.AxesSubplot object at 0x1c4ae9f810>,\n",
       "        <matplotlib.axes._subplots.AxesSubplot object at 0x1c4aedf050>],\n",
       "       [<matplotlib.axes._subplots.AxesSubplot object at 0x1c4af13d50>,\n",
       "        <matplotlib.axes._subplots.AxesSubplot object at 0x1c4af52050>,\n",
       "        <matplotlib.axes._subplots.AxesSubplot object at 0x1c4af5d0d0>],\n",
       "       [<matplotlib.axes._subplots.AxesSubplot object at 0x1c4af91a10>,\n",
       "        <matplotlib.axes._subplots.AxesSubplot object at 0x1c4affb890>,\n",
       "        <matplotlib.axes._subplots.AxesSubplot object at 0x1c4b03b0d0>]],\n",
       "      dtype=object)"
      ]
     },
     "execution_count": 20,
     "metadata": {},
     "output_type": "execute_result"
    },
    {
     "data": {
      "image/png": "[encoded data removed]",
      "text/plain": [
       "<Figure size 1080x1080 with 12 Axes>"
      ]
     },
     "metadata": {
      "needs_background": "light"
     },
     "output_type": "display_data"
    }
   ],
   "source": [
    "df2.hist(bins=50, figsize=(15, 15))"
   ]
  },
  {
   "cell_type": "markdown",
   "metadata": {},
   "source": [
    "### 1.3.4 Correlation:\n",
    "Now let’s check the correlation between all the feature variable and target variable by plotting the heatmap as shown below:"
   ]
  },
  {
   "cell_type": "code",
   "execution_count": 21,
   "metadata": {},
   "outputs": [
    {
     "data": {
      "text/plain": [
       "<matplotlib.axes._subplots.AxesSubplot at 0x1c4bedaad0>"
      ]
     },
     "execution_count": 21,
     "metadata": {},
     "output_type": "execute_result"
    },
    {
     "data": {
      "image/png": "[encoded data removed]",
      "text/plain": [
       "<Figure size 842.4x595.44 with 2 Axes>"
      ]
     },
     "metadata": {},
     "output_type": "display_data"
    }
   ],
   "source": [
    "### set the size of the figure\n",
    "sns.set(rc={'figure.figsize':(11.7,8.27)})\n",
    "sns.heatmap(df2.corr().round(2), square=True, cmap='RdYlGn', annot=True)"
   ]
  },
  {
   "cell_type": "markdown",
   "metadata": {},
   "source": [
    "### Observation from Heat Map:\n",
    "- From the above correlation plot, we can see that MEDV is strongly correlated to LSTAT, RM\n",
    "- RAD and TAX are strongly correlated, so we don’t include this in our features together to avoid multicollinearity. Similar to the features DIS and AGE which have a correlation of -0.75. So we will exclude these four features from our features list.\n"
   ]
  },
  {
   "cell_type": "markdown",
   "metadata": {},
   "source": [
    "### NOTE:\n",
    "From Heat map above, we know that it will be neat to exclude the following features, in addition to the earlier ones from the regression equation:\n",
    "__(zn, chas, medv,rad, tax, dis, age)__\n",
    "As Scikit learn wants “features” and “target” variables in X and Y respectively. Here __medv__ is our target variable, we can extract features and target arrays from our dataset as shown below. From X we drop the medv column along with other features and in y we keep only medv column:"
   ]
  },
  {
   "cell_type": "code",
   "execution_count": 22,
   "metadata": {},
   "outputs": [],
   "source": [
    "xdrop = df2.drop([\"medv\",\"rad\",\"tax\",\"dis\",\"age\"], 1).values\n",
    "y3 = df2[\"medv\"].values\n"
   ]
  },
  {
   "cell_type": "code",
   "execution_count": 23,
   "metadata": {},
   "outputs": [],
   "source": [
    "# Let's re-do linear regression on these variables.\n",
    "x3 = df2[['crim', 'indus', 'nox', 'rm', 'ptratio', 'black', 'lstat']]"
   ]
  },
  {
   "cell_type": "code",
   "execution_count": 24,
   "metadata": {},
   "outputs": [
    {
     "name": "stdout",
     "output_type": "stream",
     "text": [
      "                            OLS Regression Results                            \n",
      "==============================================================================\n",
      "Dep. Variable:                      y   R-squared:                       0.690\n",
      "Model:                            OLS   Adj. R-squared:                  0.685\n",
      "Method:                 Least Squares   F-statistic:                     158.2\n",
      "Date:                Wed, 20 Nov 2019   Prob (F-statistic):          3.22e-122\n",
      "Time:                        19:50:05   Log-Likelihood:                -1544.1\n",
      "No. Observations:                 506   AIC:                             3104.\n",
      "Df Residuals:                     498   BIC:                             3138.\n",
      "Df Model:                           7                                         \n",
      "Covariance Type:            nonrobust                                         \n",
      "==============================================================================\n",
      "                 coef    std err          t      P>|t|      [0.025      0.975]\n",
      "------------------------------------------------------------------------------\n",
      "const         12.8620      4.548      2.828      0.005       3.927      21.797\n",
      "crim          -0.0399      0.032     -1.248      0.212      -0.103       0.023\n",
      "indus          0.0748      0.057      1.305      0.192      -0.038       0.187\n",
      "nox           -2.6653      3.334     -0.800      0.424      -9.215       3.885\n",
      "rm             4.8324      0.428     11.300      0.000       3.992       5.673\n",
      "ptratio       -0.9229      0.123     -7.496      0.000      -1.165      -0.681\n",
      "black          0.0098      0.003      3.422      0.001       0.004       0.015\n",
      "lstat         -0.5036      0.052     -9.751      0.000      -0.605      -0.402\n",
      "==============================================================================\n",
      "Omnibus:                      231.057   Durbin-Watson:                   0.897\n",
      "Prob(Omnibus):                  0.000   Jarque-Bera (JB):             1384.676\n",
      "Skew:                           1.923   Prob(JB):                    2.10e-301\n",
      "Kurtosis:                      10.133   Cond. No.                     7.76e+03\n",
      "==============================================================================\n",
      "\n",
      "Warnings:\n",
      "[1] Standard Errors assume that the covariance matrix of the errors is correctly specified.\n",
      "[2] The condition number is large, 7.76e+03. This might indicate that there are\n",
      "strong multicollinearity or other numerical problems.\n"
     ]
    },
    {
     "name": "stderr",
     "output_type": "stream",
     "text": [
      "/Users/francisadepoju/anaconda3/lib/python3.7/site-packages/numpy/core/fromnumeric.py:2495: FutureWarning: Method .ptp is deprecated and will be removed in a future version. Use numpy.ptp instead.\n",
      "  return ptp(axis=axis, out=out, **kwargs)\n"
     ]
    }
   ],
   "source": [
    "# # Tell statmodels to include an intercept.\n",
    "xwithc = sm.add_constant(x3)\n",
    "\n",
    "# Create a model.\n",
    "msm = sm.OLS(y3, xwithc)\n",
    "# Fit the data.\n",
    "rsm = msm.fit()\n",
    "# Print a summary.\n",
    "print(rsm.summary())"
   ]
  },
  {
   "cell_type": "markdown",
   "metadata": {},
   "source": [
    "### 1.3.4.1 HINT:\n",
    "The condition number is is still large (7760,) but better than earlier (15,100). This might indicate that there are still strong multicollinearity or other numerical problems... Need to investigate this further!"
   ]
  },
  {
   "cell_type": "markdown",
   "metadata": {},
   "source": [
    "***\n",
    "### Turning to Statistics:\n",
    "1. Features with high coefficients should be included in the regression\n",
    "2. For multi-linear regression, adjusted R-squared is one of the most common measures of goodness of fit. In other words it is a universal measure to evaluate how well linear regressions fair and compare.[7]. It is a much more appropriate measure for a multiple linear regression because it steps on the R-squared and adjusts for the number of variables included in the model. If we are using features with little or no explanatory power. The R squared would increase nonetheless.\n",
    "3. As observed, adjusted R-squared is still much lower than the R-squared this indicates that one or more of the predictors have little or no explanatory power, so more investigation is needed.\n",
    "4. Turning to the Summary report from the statsmodel, we were given the p values of the features which we later use to determine whether the independent variables were relevant for the model. If a variable has a **p value above 0.05** we can disregard it. Thus (crim, indus and nox should be dropped)\n",
    "***"
   ]
  },
  {
   "cell_type": "code",
   "execution_count": 25,
   "metadata": {},
   "outputs": [],
   "source": [
    "xdrop = df2.drop([\"medv\",\"rad\",\"tax\",\"dis\",\"age\",\"crim\",\"indus\",\"nox\"], 1).values\n",
    "y4 = df2[\"medv\"].values"
   ]
  },
  {
   "cell_type": "code",
   "execution_count": 26,
   "metadata": {},
   "outputs": [],
   "source": [
    "# Let's re-do linear regression on these variables.\n",
    "x4 = df2[[ 'rm', 'ptratio', 'black', 'lstat']]"
   ]
  },
  {
   "cell_type": "code",
   "execution_count": 27,
   "metadata": {},
   "outputs": [
    {
     "name": "stdout",
     "output_type": "stream",
     "text": [
      "                            OLS Regression Results                            \n",
      "==============================================================================\n",
      "Dep. Variable:                      y   R-squared:                       0.688\n",
      "Model:                            OLS   Adj. R-squared:                  0.685\n",
      "Method:                 Least Squares   F-statistic:                     275.9\n",
      "Date:                Wed, 20 Nov 2019   Prob (F-statistic):          4.10e-125\n",
      "Time:                        19:50:05   Log-Likelihood:                -1545.8\n",
      "No. Observations:                 506   AIC:                             3102.\n",
      "Df Residuals:                     501   BIC:                             3123.\n",
      "Df Model:                           4                                         \n",
      "Covariance Type:            nonrobust                                         \n",
      "==============================================================================\n",
      "                 coef    std err          t      P>|t|      [0.025      0.975]\n",
      "------------------------------------------------------------------------------\n",
      "const         12.0548      4.220      2.857      0.004       3.764      20.345\n",
      "rm             4.7458      0.424     11.180      0.000       3.912       5.580\n",
      "ptratio       -0.8990      0.116     -7.725      0.000      -1.128      -0.670\n",
      "black          0.0105      0.003      3.826      0.000       0.005       0.016\n",
      "lstat         -0.5125      0.044    -11.530      0.000      -0.600      -0.425\n",
      "==============================================================================\n",
      "Omnibus:                      225.637   Durbin-Watson:                   0.897\n",
      "Prob(Omnibus):                  0.000   Jarque-Bera (JB):             1341.814\n",
      "Skew:                           1.871   Prob(JB):                    4.25e-292\n",
      "Kurtosis:                      10.046   Cond. No.                     6.81e+03\n",
      "==============================================================================\n",
      "\n",
      "Warnings:\n",
      "[1] Standard Errors assume that the covariance matrix of the errors is correctly specified.\n",
      "[2] The condition number is large, 6.81e+03. This might indicate that there are\n",
      "strong multicollinearity or other numerical problems.\n"
     ]
    }
   ],
   "source": [
    "# # Tell statmodels to include an intercept.\n",
    "xwithc = sm.add_constant(x4)\n",
    "\n",
    "# Create a model.\n",
    "msm = sm.OLS(y4, xwithc)\n",
    "# Fit the data.\n",
    "rsm = msm.fit()\n",
    "# Print a summary.\n",
    "print(rsm.summary())"
   ]
  },
  {
   "cell_type": "markdown",
   "metadata": {},
   "source": [
    "***\n",
    "### 1.4 Summary Observation:\n",
    "1. The condition number is is still large (6,810) but better than earlier (7,760). This indicates that there are still strong multicollinearity or other numerical problems.\n",
    "2. Adjusted R-squared is still lower than the R-squared but better than previous prediction. This indicates that one or more of the predictors still have little or no explanatory power.\n",
    "3. There are no more features with p value > 0.05\n",
    "***"
   ]
  },
  {
   "cell_type": "code",
   "execution_count": 28,
   "metadata": {},
   "outputs": [
    {
     "data": {
      "image/png": "[encoded data removed]",
      "text/plain": [
       "<Figure size 1440x1080 with 4 Axes>"
      ]
     },
     "metadata": {},
     "output_type": "display_data"
    }
   ],
   "source": [
    "plt.figure(figsize=(20, 15))\n",
    "#features = ['crim','indus','nox','rm','ptratio','black','lstat']\n",
    "features = ['rm','ptratio','black','lstat']\n",
    "target = df2['medv']\n",
    "for i, col in enumerate(features):\n",
    "    plt.subplot(3, len(features)/2 , i+1)\n",
    "    x3 = df2[col]\n",
    "    y3 = target\n",
    "    plt.scatter(x3, y3, marker='o')\n",
    "    plt.title(col)\n",
    "    plt.xlabel(col)\n",
    "    plt.ylabel('MEDV')\n"
   ]
  },
  {
   "cell_type": "markdown",
   "metadata": {},
   "source": [
    "From the above visualization, we can conclude that **medv** and **rm** are linearly correlated and medv increase with an increase in rm which is number of rooms and looks like both are following a linear relationship. Also when population of lower status percentage __(lstat)__ increases,house price __(medv)__ or price decreases."
   ]
  },
  {
   "cell_type": "markdown",
   "metadata": {},
   "source": [
    "***\n",
    "## 2. Inference\n",
    "***\n",
    "\n",
    "Inferential statistics use a random sample of data taken from a population to describe and make inferences about the population. Inferential statistics are valuable when examination of each member of an entire population is not convenient or possible.\n",
    "Inferential statistics use statistical models to help compare the sample data to other samples or to previous research. \n",
    "https://www.statisticshowto.datasciencecentral.com/inferential-statistics/\n",
    "Most research uses statistical models called the Generalized Linear model and include Student’s t-tests, ANOVA (Analysis of Variance), regression analysis and various other models that result in straight-line (“linear”) probabilities and results. The main indexes for inferential statistics articles are:\n",
    "* Binomial Theorem\n",
    "* Hypothesis Testing\n",
    "* Normal Distributions\n",
    "* T-Distributions\n",
    "* Central Limit Theorem\n",
    "* Confidence Intervals\n",
    "* Regression Analysis / Linear Regression\n",
    "* Comparison of Means.\n"
   ]
  },
  {
   "cell_type": "code",
   "execution_count": 29,
   "metadata": {},
   "outputs": [
    {
     "name": "stdout",
     "output_type": "stream",
     "text": [
      "      crim    zn  indus  chas    nox     rm   age     dis  rad  tax  ptratio  \\\n",
      "0  0.00632  18.0   2.31     0  0.538  6.575  65.2  4.0900    1  296     15.3   \n",
      "1  0.02731   0.0   7.07     0  0.469  6.421  78.9  4.9671    2  242     17.8   \n",
      "2  0.02729   0.0   7.07     0  0.469  7.185  61.1  4.9671    2  242     17.8   \n",
      "3  0.03237   0.0   2.18     0  0.458  6.998  45.8  6.0622    3  222     18.7   \n",
      "4  0.06905   0.0   2.18     0  0.458  7.147  54.2  6.0622    3  222     18.7   \n",
      "\n",
      "    black  lstat  medv  \n",
      "0  396.90   4.98  24.0  \n",
      "1  396.90   9.14  21.6  \n",
      "2  392.83   4.03  34.7  \n",
      "3  394.63   2.94  33.4  \n",
      "4  396.90   5.33  36.2  \n"
     ]
    }
   ],
   "source": [
    "# Let's make a copy of the dataset and then separate the chars column to show houses that are along the Charles river\n",
    "# (chas = 1) and those that are not (chas = 0);\n",
    "df3 = df.copy(deep=True)\n",
    "print(df3.head())"
   ]
  },
  {
   "cell_type": "code",
   "execution_count": 30,
   "metadata": {},
   "outputs": [],
   "source": [
    "df3_0 = df[df3['chas'] == 0]\n",
    "df3_1 = df[df3['chas'] == 1]\n",
    "n_0 = df3_0['chas'].count()\n",
    "n_1 = df3_1['chas'].count()"
   ]
  },
  {
   "cell_type": "code",
   "execution_count": 31,
   "metadata": {},
   "outputs": [
    {
     "name": "stdout",
     "output_type": "stream",
     "text": [
      "Non-boundary Houses:  471\n",
      "Boundary Houses    :  35\n",
      "Total no. Houses   :  506\n"
     ]
    }
   ],
   "source": [
    "print(\"Non-boundary Houses: \", n_0)\n",
    "print(\"Boundary Houses    : \", n_1)\n",
    "print(\"Total no. Houses   : \", n_0 + n_1)\n"
   ]
  },
  {
   "cell_type": "markdown",
   "metadata": {},
   "source": [
    "### NOTE:\n",
    "Above count shows there are **35** houses bounds the Charles river while **471** houses do not.\n",
    "To make a reasonable inference with t-test or Anova, a random sample of 30 houses are selected from each group as follows:"
   ]
  },
  {
   "cell_type": "code",
   "execution_count": 32,
   "metadata": {},
   "outputs": [
    {
     "name": "stdout",
     "output_type": "stream",
     "text": [
      "Non-Boundary houses = 30\n",
      "Boundary houses     = 30\n",
      "mean of medv for Non-Bounded houses   = 21.90\n",
      "mean of medv for Bounded houses = 28.63\n"
     ]
    }
   ],
   "source": [
    "# given data frame df3\n",
    "# create random index of 30 out of the lot\n",
    "rindex_0 =  np.array(sample(range(len(df3_0)), 30))\n",
    "rindex_1 =  np.array(sample(range(len(df3_1)), 30))\n",
    "# print(rindex_0)\n",
    "# print(rindex_1)\n",
    "# get 30 random rows from each of the dataframes and then print them out (using iloc for positional indexing)\n",
    "dfr_0 = df3_0.iloc[rindex_0]\n",
    "dfr_1 = df3_1.iloc[rindex_1]\n",
    "# print(dfr_0)\n",
    "# print(dfr_1)\n",
    "\n",
    "# Count the samples.\n",
    "nA = dfr_0['chas'].count()\n",
    "nB = dfr_1['chas'].count()\n",
    "print(f'Non-Boundary houses = {nA}')\n",
    "print(f'Boundary houses     = {nB}')\n",
    "\n",
    "# Calculate the means.\n",
    "mA = dfr_0['medv'].sum() / nA\n",
    "mB = dfr_1['medv'].sum() / nB\n",
    "\n",
    "# Print to 2 decimal places\n",
    "print(f\"mean of medv for Non-Bounded houses   = {mA:.2f}\")\n",
    "print(f\"mean of medv for Bounded houses = {mB:.2f}\")"
   ]
  },
  {
   "cell_type": "code",
   "execution_count": 33,
   "metadata": {},
   "outputs": [
    {
     "name": "stdout",
     "output_type": "stream",
     "text": [
      "[21.59970293 21.88324728 22.05776935 21.72354959 22.30546733 21.49056694\n",
      " 21.65239533 21.37330821 21.12275891 21.5838766  21.63450292 21.07419684\n",
      " 21.6261419  21.97847388 22.03118675 21.27143308 21.66884936 22.08055001\n",
      " 21.66090179 21.81762801 22.10136162 21.93218012 22.21167786 22.41592151\n",
      " 21.49469156 22.49360754 21.55694384 21.80657571 21.2666583  22.70626723]\n",
      "[28.13835693 28.63777702 29.31570062 28.22892519 28.48783682 28.6645639\n",
      " 28.24417353 28.17285894 28.56517769 29.24247423 27.82985693 29.41269784\n",
      " 28.9765197  28.8684229  29.37345559 27.8613616  28.74173115 28.13463928\n",
      " 28.66852909 28.62059566 28.8334621  28.48188502 28.39654872 28.59002948\n",
      " 28.79680726 28.78696651 28.33938881 28.57658446 28.45053087 28.69134844]\n"
     ]
    }
   ],
   "source": [
    "# Set parameters for two populations.\n",
    "popA = {'m': mA, 's': 0.50}\n",
    "popB = {'m': mB, 's': 0.50}\n",
    "\n",
    "# # Create two samples, one from each population.\n",
    "# # Create two samples, one from each population.\n",
    "# sampA = np.random.normal(popA['m'], popA['s'], 100)\n",
    "\n",
    "sampA = np.random.normal(popA['m'], popA['s'], 30)\n",
    "sampB = np.random.normal(popB['m'], popB['s'], 30)\n",
    "print(sampA)\n",
    "print(sampB)"
   ]
  },
  {
   "cell_type": "code",
   "execution_count": 34,
   "metadata": {},
   "outputs": [
    {
     "data": {
      "image/png": "[encoded data removed]",
      "text/plain": [
       "<Figure size 842.4x595.44 with 1 Axes>"
      ]
     },
     "metadata": {},
     "output_type": "display_data"
    },
    {
     "name": "stdout",
     "output_type": "stream",
     "text": [
      "\n",
      "***********************************************\n",
      "mean of medv for Non-Bounded houses  = 21.90\n",
      "mean of medv for Bounded houses      = 28.63\n",
      "***********************************************\n"
     ]
    }
   ],
   "source": [
    "# Plot histograms of the two samples.\n",
    "plt.hist(sampA, density=True, color='g', label=\"Sample A, Non-Boundary River\")\n",
    "plt.hist(sampB, density=True, color='b', label=\"Sample B, Boundary River\")\n",
    "\n",
    "\n",
    "# Display a legend.\n",
    "plt.legend()\n",
    "plt.show()\n",
    "print(\"\")\n",
    "\n",
    "print(\"***********************************************\")\n",
    "print(f\"mean of medv for Non-Bounded houses  = {mA:.2f}\")\n",
    "print(f\"mean of medv for Bounded houses      = {mB:.2f}\")\n",
    "print(\"***********************************************\")"
   ]
  },
  {
   "cell_type": "markdown",
   "metadata": {},
   "source": []
  },
  {
   "cell_type": "code",
   "execution_count": 35,
   "metadata": {},
   "outputs": [],
   "source": [
    "## with equal length dataset taking 30 rows at random.==> pValue too small, < 0.05 \n",
    "# we therefore reject the null hypothesis. Mean of house prices equal.\n",
    "# print(dfr_0['medv'])\n",
    "# print(dfr_0['medv'].count())\n",
    "\n",
    "# print(dfr_1['medv'])\n",
    "# print(dfr_1['medv'].count())\n",
    "# T test\n",
    "# print(stats.ttest_ind(dfr_0['medv'], dfr_1['medv']))\n",
    "# print(sampA)\n",
    "# print(sampB)"
   ]
  },
  {
   "cell_type": "code",
   "execution_count": 36,
   "metadata": {},
   "outputs": [
    {
     "data": {
      "text/plain": [
       "Ttest_indResult(statistic=-65.6671505351127, pvalue=3.855714732869447e-56)"
      ]
     },
     "execution_count": 36,
     "metadata": {},
     "output_type": "execute_result"
    }
   ],
   "source": [
    "stats.ttest_ind(sampA, sampB)"
   ]
  },
  {
   "cell_type": "code",
   "execution_count": 37,
   "metadata": {},
   "outputs": [
    {
     "data": {
      "text/plain": [
       "F_onewayResult(statistic=4312.174659401173, pvalue=3.8557147328688705e-56)"
      ]
     },
     "execution_count": 37,
     "metadata": {},
     "output_type": "execute_result"
    }
   ],
   "source": [
    "# Anova... gives the same result as the t-test!\n",
    "# stats.f_oneway(dfr_0['medv'], dfr_1['medv'])\n",
    "stats.f_oneway(sampA, sampB)"
   ]
  },
  {
   "cell_type": "markdown",
   "metadata": {},
   "source": [
    "***\n",
    "\n",
    "### 2.1 Calculating the t-statistic\n",
    "\n",
    "From the WikiPedia pages for [Student's t-test](https://en.wikipedia.org/wiki/Student%27s_t-test#Equal_or_unequal_sample_sizes,_equal_variance) and [Variance](https://en.wikipedia.org/wiki/Variance#Sample_variance).\n",
    "\n",
    "Note that we are using the calculations for two samples, with equal variances, and possibly different sample sizes. Because the ratio of [0:1] is  471:35, we decided to use equal sample size of 30.\n",
    "\n",
    "$$ {\\displaystyle t={\\frac {{\\bar {X}}_{1}-{\\bar {X}}_{2}}{s_{p}\\cdot {\\sqrt {{\\frac {1}{n_{1}}}+{\\frac {1}{n_{2}}}}}}}} $$\n",
    "\n",
    "$$ {\\displaystyle s_{p}={\\sqrt {\\frac {\\left(n_{1}-1\\right)s_{X_{1}}^{2}+\\left(n_{2}-1\\right)s_{X_{2}}^{2}}{n_{1}+n_{2}-2}}}} $$\n",
    "\n",
    "$$ {\\displaystyle s^{2}={\\frac {1}{n-1}}\\sum _{i=1}^{n}\\left(Y_{i}-{\\overline {Y}}\\right)^{2}} $$"
   ]
  },
  {
   "cell_type": "code",
   "execution_count": 38,
   "metadata": {},
   "outputs": [
    {
     "name": "stdout",
     "output_type": "stream",
     "text": [
      "30.0\n",
      "30.0\n",
      "Mean of sample A:        21.7874\n",
      "Mean of sample B:        28.6043\n",
      "Size of sample A:        30.0000\n",
      "Size of sample B:        30.0000\n",
      "Variance of sample A:     0.1599\n",
      "Variance of sample B:     0.1634\n",
      "Pooled std dev:           0.4021\n",
      "t-statistic:            -65.6672\n"
     ]
    }
   ],
   "source": [
    "# # Count the samples.\n",
    "nA = float(len(sampA))\n",
    "nB = float(len(sampB))\n",
    "print(nA)\n",
    "print(nB)\n",
    "# # Calculate the means.\n",
    "mA = sampA.sum() / nA\n",
    "mB = sampB.sum() / nB\n",
    "\n",
    "# Sample variances.\n",
    "varA = ((sampA - mA)**2).sum() / (nA - 1.0)\n",
    "varB = ((sampB - mB)**2).sum() / (nB - 1.0)\n",
    "\n",
    "# Pooled standard deviation.\n",
    "sp = np.sqrt(((nA - 1.0) * varA + (nB - 1.0) * varB) / (nA + nB - 2.0))\n",
    "\n",
    "# t-statistic\n",
    "t = (mA - mB) / (sp * np.sqrt((1.0 / nA) + (1.0 / nB)))\n",
    "\n",
    "print(f\"Mean of sample A:       {mA:8.4f}\")\n",
    "print(f\"Mean of sample B:       {mB:8.4f}\")\n",
    "print(f\"Size of sample A:       {nA:8.4f}\")\n",
    "print(f\"Size of sample B:       {nB:8.4f}\")\n",
    "print(f\"Variance of sample A:   {varA:8.4f}\")\n",
    "print(f\"Variance of sample B:   {varB:8.4f}\")\n",
    "print(f\"Pooled std dev:         {sp:8.4f}\")\n",
    "print(f\"t-statistic:            {t:8.4f}\")"
   ]
  },
  {
   "cell_type": "markdown",
   "metadata": {},
   "source": [
    "### Note that the t-statistics is same as t-test from earlier..."
   ]
  },
  {
   "cell_type": "markdown",
   "metadata": {},
   "source": [
    "#### 2.1.1 Critical values\n",
    "\n",
    "For a two-tail test (e.g. $H_0$: the means are equal) we reject the null hypothesis $H_0$ if the value of the t-statistic from the samples is further away from zero than the t-statistic at the ($0.5 / 2.0 =$) $0.025$ level."
   ]
  },
  {
   "cell_type": "code",
   "execution_count": 39,
   "metadata": {},
   "outputs": [
    {
     "name": "stdout",
     "output_type": "stream",
     "text": [
      "2.0017174830120923\n"
     ]
    },
    {
     "data": {
      "image/png": "[encoded data removed]",
      "text/plain": [
       "<Figure size 842.4x595.44 with 1 Axes>"
      ]
     },
     "metadata": {},
     "output_type": "display_data"
    }
   ],
   "source": [
    "# x values for plotting.\n",
    "x = np.linspace(-5.0, 5.0, 1000)\n",
    "\n",
    "# The probability density functions (PDFs) for the t distribution.\n",
    "# The number of degrees of freedom is (nA + nB - 2).\n",
    "pdf = stats.t.pdf(x, (nA + nB - 2.0))\n",
    "\n",
    "# Create a dataframe from x and pdf.\n",
    "df = pd.DataFrame({'x': x, 'y': pdf})\n",
    "\n",
    "# Plot the overall distribution.\n",
    "plt.fill_between(df['x'], df['y'], color='g', alpha=0.25)\n",
    "\n",
    "# Plot the values more extreme than our |t|.\n",
    "crit = np.abs(stats.t.ppf(0.975, nA + nB - 2.0))\n",
    "tail1 = df[df['x'] >=  crit]\n",
    "tail2 = df[df['x'] <= -crit]\n",
    "plt.fill_between(tail1['x'], tail1['y'], color='b', alpha=0.25)\n",
    "plt.fill_between(tail2['x'], tail2['y'], color='b', alpha=0.25)\n",
    "\n",
    "print(crit)\n",
    "\n",
    "plt.show()"
   ]
  },
  {
   "cell_type": "markdown",
   "metadata": {},
   "source": [
    "t-statistics is much lesser than the critical value therefore __we reject__ the null hypothesis. The mean of house prices - those along & those not along the river are certainly different. "
   ]
  },
  {
   "cell_type": "markdown",
   "metadata": {},
   "source": [
    "***\n",
    "## 3. Prediction\n",
    "***"
   ]
  },
  {
   "cell_type": "code",
   "execution_count": 40,
   "metadata": {},
   "outputs": [],
   "source": [
    "# Library for generating random variables.\n",
    "import numpy as np\n",
    "# Library for handling data.\n",
    "import pandas as pd\n",
    "# Library for plotting.\n",
    "# import matplotlib.pyplot as plt\n",
    "# # Library for t-tests and ANOVA.\n",
    "# import scipy.stats as stats\n",
    "\n",
    "\n",
    "# import seaborn as sns\n",
    "\n",
    "# For basic ML,\n",
    "import statsmodels.api as sm\n",
    "import statsmodels.formula.api as smf\n",
    "import scipy.linalg as sl\n",
    "\n",
    "# For more practical ML,  Import linear_model from sklearn.\n",
    "import sklearn.linear_model as lm\n",
    "\n",
    "# random number gen\n",
    "from random import sample\n",
    "\n",
    "# # Make the plots bigger.\n",
    "# plt.rcParams['figure.figsize'] = (20.0, 10.0)\n",
    "import keras as kr"
   ]
  },
  {
   "cell_type": "markdown",
   "metadata": {},
   "source": [
    "The first thing is to split my dataset into two random samples (80% and 20%) for 80% training and 20% testing\n",
    "I'll use numpy's randn to do this."
   ]
  },
  {
   "cell_type": "markdown",
   "metadata": {},
   "source": [
    "Peek into the dataset once more...\n"
   ]
  },
  {
   "cell_type": "markdown",
   "metadata": {},
   "source": [
    "### 3.1 The dataset, input and output view"
   ]
  },
  {
   "cell_type": "code",
   "execution_count": 41,
   "metadata": {},
   "outputs": [
    {
     "data": {
      "text/html": [
       "<div>\n",
       "<style scoped>\n",
       "    .dataframe tbody tr th:only-of-type {\n",
       "        vertical-align: middle;\n",
       "    }\n",
       "\n",
       "    .dataframe tbody tr th {\n",
       "        vertical-align: top;\n",
       "    }\n",
       "\n",
       "    .dataframe thead th {\n",
       "        text-align: right;\n",
       "    }\n",
       "</style>\n",
       "<table border=\"1\" class=\"dataframe\">\n",
       "  <thead>\n",
       "    <tr style=\"text-align: right;\">\n",
       "      <th></th>\n",
       "      <th>crim</th>\n",
       "      <th>zn</th>\n",
       "      <th>indus</th>\n",
       "      <th>chas</th>\n",
       "      <th>nox</th>\n",
       "      <th>rm</th>\n",
       "      <th>age</th>\n",
       "      <th>dis</th>\n",
       "      <th>rad</th>\n",
       "      <th>tax</th>\n",
       "      <th>ptratio</th>\n",
       "      <th>black</th>\n",
       "      <th>lstat</th>\n",
       "      <th>medv</th>\n",
       "    </tr>\n",
       "  </thead>\n",
       "  <tbody>\n",
       "    <tr>\n",
       "      <td>0</td>\n",
       "      <td>0.00632</td>\n",
       "      <td>18.0</td>\n",
       "      <td>2.31</td>\n",
       "      <td>0</td>\n",
       "      <td>0.538</td>\n",
       "      <td>6.575</td>\n",
       "      <td>65.2</td>\n",
       "      <td>4.0900</td>\n",
       "      <td>1</td>\n",
       "      <td>296</td>\n",
       "      <td>15.3</td>\n",
       "      <td>396.90</td>\n",
       "      <td>4.98</td>\n",
       "      <td>24.0</td>\n",
       "    </tr>\n",
       "    <tr>\n",
       "      <td>1</td>\n",
       "      <td>0.02731</td>\n",
       "      <td>0.0</td>\n",
       "      <td>7.07</td>\n",
       "      <td>0</td>\n",
       "      <td>0.469</td>\n",
       "      <td>6.421</td>\n",
       "      <td>78.9</td>\n",
       "      <td>4.9671</td>\n",
       "      <td>2</td>\n",
       "      <td>242</td>\n",
       "      <td>17.8</td>\n",
       "      <td>396.90</td>\n",
       "      <td>9.14</td>\n",
       "      <td>21.6</td>\n",
       "    </tr>\n",
       "    <tr>\n",
       "      <td>2</td>\n",
       "      <td>0.02729</td>\n",
       "      <td>0.0</td>\n",
       "      <td>7.07</td>\n",
       "      <td>0</td>\n",
       "      <td>0.469</td>\n",
       "      <td>7.185</td>\n",
       "      <td>61.1</td>\n",
       "      <td>4.9671</td>\n",
       "      <td>2</td>\n",
       "      <td>242</td>\n",
       "      <td>17.8</td>\n",
       "      <td>392.83</td>\n",
       "      <td>4.03</td>\n",
       "      <td>34.7</td>\n",
       "    </tr>\n",
       "    <tr>\n",
       "      <td>3</td>\n",
       "      <td>0.03237</td>\n",
       "      <td>0.0</td>\n",
       "      <td>2.18</td>\n",
       "      <td>0</td>\n",
       "      <td>0.458</td>\n",
       "      <td>6.998</td>\n",
       "      <td>45.8</td>\n",
       "      <td>6.0622</td>\n",
       "      <td>3</td>\n",
       "      <td>222</td>\n",
       "      <td>18.7</td>\n",
       "      <td>394.63</td>\n",
       "      <td>2.94</td>\n",
       "      <td>33.4</td>\n",
       "    </tr>\n",
       "    <tr>\n",
       "      <td>4</td>\n",
       "      <td>0.06905</td>\n",
       "      <td>0.0</td>\n",
       "      <td>2.18</td>\n",
       "      <td>0</td>\n",
       "      <td>0.458</td>\n",
       "      <td>7.147</td>\n",
       "      <td>54.2</td>\n",
       "      <td>6.0622</td>\n",
       "      <td>3</td>\n",
       "      <td>222</td>\n",
       "      <td>18.7</td>\n",
       "      <td>396.90</td>\n",
       "      <td>5.33</td>\n",
       "      <td>36.2</td>\n",
       "    </tr>\n",
       "  </tbody>\n",
       "</table>\n",
       "</div>"
      ],
      "text/plain": [
       "      crim    zn  indus  chas    nox     rm   age     dis  rad  tax  ptratio  \\\n",
       "0  0.00632  18.0   2.31     0  0.538  6.575  65.2  4.0900    1  296     15.3   \n",
       "1  0.02731   0.0   7.07     0  0.469  6.421  78.9  4.9671    2  242     17.8   \n",
       "2  0.02729   0.0   7.07     0  0.469  7.185  61.1  4.9671    2  242     17.8   \n",
       "3  0.03237   0.0   2.18     0  0.458  6.998  45.8  6.0622    3  222     18.7   \n",
       "4  0.06905   0.0   2.18     0  0.458  7.147  54.2  6.0622    3  222     18.7   \n",
       "\n",
       "    black  lstat  medv  \n",
       "0  396.90   4.98  24.0  \n",
       "1  396.90   9.14  21.6  \n",
       "2  392.83   4.03  34.7  \n",
       "3  394.63   2.94  33.4  \n",
       "4  396.90   5.33  36.2  "
      ]
     },
     "execution_count": 41,
     "metadata": {},
     "output_type": "execute_result"
    }
   ],
   "source": [
    "dfp.head()"
   ]
  },
  {
   "cell_type": "markdown",
   "metadata": {},
   "source": [
    "### 3.2 Partition the dataset to Training and Test  - ratio(80:20)"
   ]
  },
  {
   "cell_type": "code",
   "execution_count": 86,
   "metadata": {},
   "outputs": [],
   "source": [
    "# REF: [https://stackoverflow.com/questions/24147278/\n",
    "# how-do-i-create-test-and-train-samples-from-one-dataframe-with-pandas]\n",
    "#df = pd.DataFrame(np.random.randn(10, 5))        #...5 columns of 100 random data\n",
    "\n",
    "trainSeries = dfp.sample(frac=0.8,random_state=111,axis=0) #random state is a seed value\n",
    "testSeries  = dfp.drop(trainSeries.index)\n",
    "\n",
    "# Training Set 80%\n",
    "inputTrainDataX  = trainSeries[['crim', 'zn', 'indus','chas','nox','rm','age','dis','rad','tax','ptratio','black','lstat']]\n",
    "outputTrainDataY = trainSeries[['medv']]\n",
    "\n",
    "# Test Set 20%\n",
    "inputTestDataX  = testSeries[['crim', 'zn', 'indus','chas','nox','rm','age','dis','rad','tax','ptratio','black','lstat']]\n",
    "outputTestDataY = testSeries[['medv']]\n",
    "\n",
    "# # Confirm their lengths\n",
    "# print(len(trainSeries)) \n",
    "# print(len(testSeries))\n",
    "\n",
    "# print(len(inputTrainDataX)) \n",
    "# print(len(outputTrainDataY))\n",
    "\n",
    "# print(len(inputTestDataX)) \n",
    "# print(len(outputTestDataY))"
   ]
  },
  {
   "cell_type": "code",
   "execution_count": 87,
   "metadata": {},
   "outputs": [
    {
     "name": "stdout",
     "output_type": "stream",
     "text": [
      "=====================================\n",
      "Size of Test data is:\t\t 101\n",
      "Size of Training data is: \t 405\n",
      "Total size of dataset is: \t 506\n",
      "=====================================\n"
     ]
    }
   ],
   "source": [
    "print(\"=====================================\")\n",
    "print(\"Size of Test data is:\\t\\t\", len(inputTestDataX))\n",
    "print(\"Size of Training data is: \\t\", len(inputTrainDataX))\n",
    "print(\"Total size of dataset is: \\t\", len(inputTestDataX) + len(inputTrainDataX))\n",
    "print(\"=====================================\")\n",
    "# print(inputTrainDataX)"
   ]
  },
  {
   "cell_type": "markdown",
   "metadata": {},
   "source": [
    "### 3.3 Create the model"
   ]
  },
  {
   "cell_type": "markdown",
   "metadata": {},
   "source": [
    "#### 3.3.1 Scale the trainData (to range between 0 & 1) so it will work well with sgd [REFz]"
   ]
  },
  {
   "cell_type": "code",
   "execution_count": 85,
   "metadata": {},
   "outputs": [
    {
     "name": "stdout",
     "output_type": "stream",
     "text": [
      "MinMaxScaler(copy=True, feature_range=(0, 1))\n"
     ]
    },
    {
     "data": {
      "text/html": [
       "<div>\n",
       "<style scoped>\n",
       "    .dataframe tbody tr th:only-of-type {\n",
       "        vertical-align: middle;\n",
       "    }\n",
       "\n",
       "    .dataframe tbody tr th {\n",
       "        vertical-align: top;\n",
       "    }\n",
       "\n",
       "    .dataframe thead th {\n",
       "        text-align: right;\n",
       "    }\n",
       "</style>\n",
       "<table border=\"1\" class=\"dataframe\">\n",
       "  <thead>\n",
       "    <tr style=\"text-align: right;\">\n",
       "      <th></th>\n",
       "      <th>crim</th>\n",
       "      <th>zn</th>\n",
       "      <th>indus</th>\n",
       "      <th>chas</th>\n",
       "      <th>nox</th>\n",
       "      <th>rm</th>\n",
       "      <th>age</th>\n",
       "      <th>dis</th>\n",
       "      <th>rad</th>\n",
       "      <th>tax</th>\n",
       "      <th>ptratio</th>\n",
       "      <th>black</th>\n",
       "      <th>lstat</th>\n",
       "    </tr>\n",
       "  </thead>\n",
       "  <tbody>\n",
       "    <tr>\n",
       "      <td>0</td>\n",
       "      <td>0.000252</td>\n",
       "      <td>0.28</td>\n",
       "      <td>0.534457</td>\n",
       "      <td>0.0</td>\n",
       "      <td>0.162551</td>\n",
       "      <td>0.513168</td>\n",
       "      <td>0.267765</td>\n",
       "      <td>0.230638</td>\n",
       "      <td>0.130435</td>\n",
       "      <td>0.158397</td>\n",
       "      <td>0.595745</td>\n",
       "      <td>0.998563</td>\n",
       "      <td>0.123620</td>\n",
       "    </tr>\n",
       "    <tr>\n",
       "      <td>1</td>\n",
       "      <td>0.006838</td>\n",
       "      <td>0.00</td>\n",
       "      <td>0.210411</td>\n",
       "      <td>0.0</td>\n",
       "      <td>0.251029</td>\n",
       "      <td>0.591983</td>\n",
       "      <td>0.802266</td>\n",
       "      <td>0.194828</td>\n",
       "      <td>0.304348</td>\n",
       "      <td>0.229008</td>\n",
       "      <td>0.510638</td>\n",
       "      <td>1.000000</td>\n",
       "      <td>0.161976</td>\n",
       "    </tr>\n",
       "    <tr>\n",
       "      <td>2</td>\n",
       "      <td>0.000240</td>\n",
       "      <td>0.75</td>\n",
       "      <td>0.091276</td>\n",
       "      <td>0.0</td>\n",
       "      <td>0.088477</td>\n",
       "      <td>0.587529</td>\n",
       "      <td>0.194645</td>\n",
       "      <td>0.388428</td>\n",
       "      <td>0.086957</td>\n",
       "      <td>0.124046</td>\n",
       "      <td>0.606383</td>\n",
       "      <td>0.996798</td>\n",
       "      <td>0.071468</td>\n",
       "    </tr>\n",
       "    <tr>\n",
       "      <td>3</td>\n",
       "      <td>0.000974</td>\n",
       "      <td>0.00</td>\n",
       "      <td>0.923387</td>\n",
       "      <td>0.0</td>\n",
       "      <td>0.403292</td>\n",
       "      <td>0.464756</td>\n",
       "      <td>0.926880</td>\n",
       "      <td>0.087052</td>\n",
       "      <td>0.043478</td>\n",
       "      <td>0.001908</td>\n",
       "      <td>0.691489</td>\n",
       "      <td>0.952569</td>\n",
       "      <td>0.447020</td>\n",
       "    </tr>\n",
       "    <tr>\n",
       "      <td>4</td>\n",
       "      <td>0.000323</td>\n",
       "      <td>0.95</td>\n",
       "      <td>0.081378</td>\n",
       "      <td>0.0</td>\n",
       "      <td>0.063992</td>\n",
       "      <td>0.831139</td>\n",
       "      <td>0.312049</td>\n",
       "      <td>0.362684</td>\n",
       "      <td>0.130435</td>\n",
       "      <td>0.070611</td>\n",
       "      <td>0.223404</td>\n",
       "      <td>0.989611</td>\n",
       "      <td>0.057395</td>\n",
       "    </tr>\n",
       "  </tbody>\n",
       "</table>\n",
       "</div>"
      ],
      "text/plain": [
       "       crim    zn     indus  chas       nox        rm       age       dis  \\\n",
       "0  0.000252  0.28  0.534457   0.0  0.162551  0.513168  0.267765  0.230638   \n",
       "1  0.006838  0.00  0.210411   0.0  0.251029  0.591983  0.802266  0.194828   \n",
       "2  0.000240  0.75  0.091276   0.0  0.088477  0.587529  0.194645  0.388428   \n",
       "3  0.000974  0.00  0.923387   0.0  0.403292  0.464756  0.926880  0.087052   \n",
       "4  0.000323  0.95  0.081378   0.0  0.063992  0.831139  0.312049  0.362684   \n",
       "\n",
       "        rad       tax   ptratio     black     lstat  \n",
       "0  0.130435  0.158397  0.595745  0.998563  0.123620  \n",
       "1  0.304348  0.229008  0.510638  1.000000  0.161976  \n",
       "2  0.086957  0.124046  0.606383  0.996798  0.071468  \n",
       "3  0.043478  0.001908  0.691489  0.952569  0.447020  \n",
       "4  0.130435  0.070611  0.223404  0.989611  0.057395  "
      ]
     },
     "execution_count": 85,
     "metadata": {},
     "output_type": "execute_result"
    }
   ],
   "source": [
    "scaler = MinMaxScaler()\n",
    "print(scaler.fit(inputTrainDataX))\n",
    "MinMaxScaler(copy=False, feature_range=(0, 1))      ## Already a dataframe, no need to copy\n",
    "scaledData = scaler.transform(inputTrainDataX)\n",
    "\n",
    "# Need to convert this to pandas dataframe since output from Scaler is numpy Array\n",
    "scaledTrain_df = pd.DataFrame(scaledData, columns=inputData.columns.values)\n",
    "scaledTrain_df.head()\n",
    "# print(scaledData)\n",
    "# print(scaledTrain_df)"
   ]
  },
  {
   "cell_type": "code",
   "execution_count": 110,
   "metadata": {},
   "outputs": [
    {
     "name": "stdout",
     "output_type": "stream",
     "text": [
      "MinMaxScaler(copy=True, feature_range=(0, 1))\n"
     ]
    },
    {
     "data": {
      "text/html": [
       "<div>\n",
       "<style scoped>\n",
       "    .dataframe tbody tr th:only-of-type {\n",
       "        vertical-align: middle;\n",
       "    }\n",
       "\n",
       "    .dataframe tbody tr th {\n",
       "        vertical-align: top;\n",
       "    }\n",
       "\n",
       "    .dataframe thead th {\n",
       "        text-align: right;\n",
       "    }\n",
       "</style>\n",
       "<table border=\"1\" class=\"dataframe\">\n",
       "  <thead>\n",
       "    <tr style=\"text-align: right;\">\n",
       "      <th></th>\n",
       "      <th>crim</th>\n",
       "      <th>zn</th>\n",
       "      <th>indus</th>\n",
       "      <th>chas</th>\n",
       "      <th>nox</th>\n",
       "      <th>rm</th>\n",
       "      <th>age</th>\n",
       "      <th>dis</th>\n",
       "      <th>rad</th>\n",
       "      <th>tax</th>\n",
       "      <th>ptratio</th>\n",
       "      <th>black</th>\n",
       "      <th>lstat</th>\n",
       "    </tr>\n",
       "  </thead>\n",
       "  <tbody>\n",
       "    <tr>\n",
       "      <td>0</td>\n",
       "      <td>0.000248</td>\n",
       "      <td>0.000000</td>\n",
       "      <td>0.220882</td>\n",
       "      <td>0.0</td>\n",
       "      <td>0.202941</td>\n",
       "      <td>0.380840</td>\n",
       "      <td>0.775532</td>\n",
       "      <td>0.460636</td>\n",
       "      <td>0.043478</td>\n",
       "      <td>0.103250</td>\n",
       "      <td>0.585366</td>\n",
       "      <td>1.000000</td>\n",
       "      <td>0.195991</td>\n",
       "    </tr>\n",
       "    <tr>\n",
       "      <td>1</td>\n",
       "      <td>0.001843</td>\n",
       "      <td>0.131579</td>\n",
       "      <td>0.251037</td>\n",
       "      <td>0.0</td>\n",
       "      <td>0.364706</td>\n",
       "      <td>0.315486</td>\n",
       "      <td>0.958511</td>\n",
       "      <td>0.585268</td>\n",
       "      <td>0.173913</td>\n",
       "      <td>0.235182</td>\n",
       "      <td>0.268293</td>\n",
       "      <td>1.000000</td>\n",
       "      <td>0.514477</td>\n",
       "    </tr>\n",
       "    <tr>\n",
       "      <td>2</td>\n",
       "      <td>0.008442</td>\n",
       "      <td>0.000000</td>\n",
       "      <td>0.261214</td>\n",
       "      <td>0.0</td>\n",
       "      <td>0.405882</td>\n",
       "      <td>0.256955</td>\n",
       "      <td>0.593617</td>\n",
       "      <td>0.427735</td>\n",
       "      <td>0.130435</td>\n",
       "      <td>0.227533</td>\n",
       "      <td>0.975610</td>\n",
       "      <td>1.000000</td>\n",
       "      <td>0.167992</td>\n",
       "    </tr>\n",
       "    <tr>\n",
       "      <td>3</td>\n",
       "      <td>0.011465</td>\n",
       "      <td>0.000000</td>\n",
       "      <td>0.261214</td>\n",
       "      <td>0.0</td>\n",
       "      <td>0.405882</td>\n",
       "      <td>0.261155</td>\n",
       "      <td>0.885106</td>\n",
       "      <td>0.339628</td>\n",
       "      <td>0.130435</td>\n",
       "      <td>0.227533</td>\n",
       "      <td>0.975610</td>\n",
       "      <td>0.988892</td>\n",
       "      <td>0.345212</td>\n",
       "    </tr>\n",
       "    <tr>\n",
       "      <td>4</td>\n",
       "      <td>0.018302</td>\n",
       "      <td>0.000000</td>\n",
       "      <td>0.261214</td>\n",
       "      <td>0.0</td>\n",
       "      <td>0.405882</td>\n",
       "      <td>0.289239</td>\n",
       "      <td>1.000000</td>\n",
       "      <td>0.360248</td>\n",
       "      <td>0.130435</td>\n",
       "      <td>0.227533</td>\n",
       "      <td>0.975610</td>\n",
       "      <td>0.948729</td>\n",
       "      <td>0.320076</td>\n",
       "    </tr>\n",
       "  </tbody>\n",
       "</table>\n",
       "</div>"
      ],
      "text/plain": [
       "       crim        zn     indus  chas       nox        rm       age       dis  \\\n",
       "0  0.000248  0.000000  0.220882   0.0  0.202941  0.380840  0.775532  0.460636   \n",
       "1  0.001843  0.131579  0.251037   0.0  0.364706  0.315486  0.958511  0.585268   \n",
       "2  0.008442  0.000000  0.261214   0.0  0.405882  0.256955  0.593617  0.427735   \n",
       "3  0.011465  0.000000  0.261214   0.0  0.405882  0.261155  0.885106  0.339628   \n",
       "4  0.018302  0.000000  0.261214   0.0  0.405882  0.289239  1.000000  0.360248   \n",
       "\n",
       "        rad       tax   ptratio     black     lstat  \n",
       "0  0.043478  0.103250  0.585366  1.000000  0.195991  \n",
       "1  0.173913  0.235182  0.268293  1.000000  0.514477  \n",
       "2  0.130435  0.227533  0.975610  1.000000  0.167992  \n",
       "3  0.130435  0.227533  0.975610  0.988892  0.345212  \n",
       "4  0.130435  0.227533  0.975610  0.948729  0.320076  "
      ]
     },
     "execution_count": 110,
     "metadata": {},
     "output_type": "execute_result"
    }
   ],
   "source": [
    "scaler = MinMaxScaler()\n",
    "print(scaler.fit(inputTestDataX))\n",
    "MinMaxScaler(copy=False, feature_range=(0, 1))      ## Already a dataframe, no need to copy\n",
    "scaledTestData = scaler.transform(inputTestDataX)\n",
    "\n",
    "# Need to convert this to pandas dataframe since output from Scaler is numpy Array\n",
    "scaledTest_df = pd.DataFrame(scaledTestData, columns=inputTestDataX.columns.values)\n",
    "scaledTest_df.head()\n",
    "# print(scaledData)\n",
    "# print(scaledTrain_df)"
   ]
  },
  {
   "cell_type": "code",
   "execution_count": 326,
   "metadata": {},
   "outputs": [],
   "source": [
    "m =kr.models.Sequential()\n",
    "\n",
    "m.add(kr.layers.Dense(100, input_dim=13,activation=\"linear\"))\n",
    "m.add(kr.layers.Dense(90, activation=\"relu\"))\n",
    "#m.add(kr.layers.Dense(15, activation=\"linear\"))\n",
    "#m.add(kr.layers.Dense(50, activation=\"linear\"))\n",
    "m.add(kr.layers.Dense(90, activation=\"linear\"))\n",
    "m.add(kr.layers.Dense(100, activation=\"linear\"))\n",
    "m.add(kr.layers.Dense(1,activation=\"linear\"))"
   ]
  },
  {
   "cell_type": "markdown",
   "metadata": {},
   "source": [
    "### 3.4 Compile and train the model (fitting the data) "
   ]
  },
  {
   "cell_type": "code",
   "execution_count": 327,
   "metadata": {},
   "outputs": [
    {
     "name": "stdout",
     "output_type": "stream",
     "text": [
      "Epoch 1/100\n",
      "405/405 [==============================] - 1s 2ms/step - loss: 234.2437\n",
      "Epoch 2/100\n",
      "405/405 [==============================] - 0s 214us/step - loss: 62.1086\n",
      "Epoch 3/100\n",
      "405/405 [==============================] - 0s 210us/step - loss: 40.3631\n",
      "Epoch 4/100\n",
      "405/405 [==============================] - 0s 219us/step - loss: 29.0089\n",
      "Epoch 5/100\n",
      "405/405 [==============================] - 0s 219us/step - loss: 24.7491\n",
      "Epoch 6/100\n",
      "405/405 [==============================] - 0s 212us/step - loss: 20.2617\n",
      "Epoch 7/100\n",
      "405/405 [==============================] - 0s 210us/step - loss: 18.2875\n",
      "Epoch 8/100\n",
      "405/405 [==============================] - 0s 213us/step - loss: 17.9238\n",
      "Epoch 9/100\n",
      "405/405 [==============================] - 0s 214us/step - loss: 18.7168\n",
      "Epoch 10/100\n",
      "405/405 [==============================] - 0s 215us/step - loss: 15.1121\n",
      "Epoch 11/100\n",
      "405/405 [==============================] - 0s 207us/step - loss: 14.1585\n",
      "Epoch 12/100\n",
      "405/405 [==============================] - 0s 208us/step - loss: 13.3712\n",
      "Epoch 13/100\n",
      "405/405 [==============================] - 0s 215us/step - loss: 12.0194\n",
      "Epoch 14/100\n",
      "405/405 [==============================] - 0s 218us/step - loss: 14.6897\n",
      "Epoch 15/100\n",
      "405/405 [==============================] - 0s 215us/step - loss: 11.6047\n",
      "Epoch 16/100\n",
      "405/405 [==============================] - 0s 202us/step - loss: 11.3460\n",
      "Epoch 17/100\n",
      "405/405 [==============================] - 0s 206us/step - loss: 11.1372\n",
      "Epoch 18/100\n",
      "405/405 [==============================] - 0s 208us/step - loss: 11.3491\n",
      "Epoch 19/100\n",
      "405/405 [==============================] - 0s 215us/step - loss: 10.7597\n",
      "Epoch 20/100\n",
      "405/405 [==============================] - 0s 216us/step - loss: 11.7133\n",
      "Epoch 21/100\n",
      "405/405 [==============================] - 0s 213us/step - loss: 9.8662\n",
      "Epoch 22/100\n",
      "405/405 [==============================] - 0s 212us/step - loss: 9.5600\n",
      "Epoch 23/100\n",
      "405/405 [==============================] - 0s 210us/step - loss: 9.7960\n",
      "Epoch 24/100\n",
      "405/405 [==============================] - 0s 224us/step - loss: 10.9071\n",
      "Epoch 25/100\n",
      "405/405 [==============================] - 0s 212us/step - loss: 9.6175\n",
      "Epoch 26/100\n",
      "405/405 [==============================] - 0s 209us/step - loss: 8.9771\n",
      "Epoch 27/100\n",
      "405/405 [==============================] - 0s 202us/step - loss: 9.3102\n",
      "Epoch 28/100\n",
      "405/405 [==============================] - 0s 210us/step - loss: 9.5934\n",
      "Epoch 29/100\n",
      "405/405 [==============================] - 0s 211us/step - loss: 8.5017\n",
      "Epoch 30/100\n",
      "405/405 [==============================] - 0s 211us/step - loss: 8.0823\n",
      "Epoch 31/100\n",
      "405/405 [==============================] - 0s 213us/step - loss: 8.5854\n",
      "Epoch 32/100\n",
      "405/405 [==============================] - 0s 210us/step - loss: 9.1843\n",
      "Epoch 33/100\n",
      "405/405 [==============================] - 0s 209us/step - loss: 10.6819\n",
      "Epoch 34/100\n",
      "405/405 [==============================] - 0s 213us/step - loss: 8.4828\n",
      "Epoch 35/100\n",
      "405/405 [==============================] - 0s 212us/step - loss: 8.1114\n",
      "Epoch 36/100\n",
      "405/405 [==============================] - 0s 214us/step - loss: 8.2459\n",
      "Epoch 37/100\n",
      "405/405 [==============================] - 0s 215us/step - loss: 8.2404\n",
      "Epoch 38/100\n",
      "405/405 [==============================] - 0s 210us/step - loss: 8.8455\n",
      "Epoch 39/100\n",
      "405/405 [==============================] - 0s 207us/step - loss: 10.4609\n",
      "Epoch 40/100\n",
      "405/405 [==============================] - 0s 206us/step - loss: 8.3139\n",
      "Epoch 41/100\n",
      "405/405 [==============================] - 0s 203us/step - loss: 7.8782\n",
      "Epoch 42/100\n",
      "405/405 [==============================] - 0s 213us/step - loss: 8.1829\n",
      "Epoch 43/100\n",
      "405/405 [==============================] - 0s 215us/step - loss: 8.1389\n",
      "Epoch 44/100\n",
      "405/405 [==============================] - 0s 216us/step - loss: 8.1922\n",
      "Epoch 45/100\n",
      "405/405 [==============================] - 0s 210us/step - loss: 7.6383\n",
      "Epoch 46/100\n",
      "405/405 [==============================] - 0s 203us/step - loss: 7.3081\n",
      "Epoch 47/100\n",
      "405/405 [==============================] - 0s 208us/step - loss: 8.2557\n",
      "Epoch 48/100\n",
      "405/405 [==============================] - 0s 204us/step - loss: 7.2293\n",
      "Epoch 49/100\n",
      "405/405 [==============================] - 0s 205us/step - loss: 7.3794\n",
      "Epoch 50/100\n",
      "405/405 [==============================] - 0s 208us/step - loss: 7.0044\n",
      "Epoch 51/100\n",
      "405/405 [==============================] - 0s 209us/step - loss: 7.6222\n",
      "Epoch 52/100\n",
      "405/405 [==============================] - 0s 219us/step - loss: 7.7390\n",
      "Epoch 53/100\n",
      "405/405 [==============================] - 0s 219us/step - loss: 7.4908\n",
      "Epoch 54/100\n",
      "405/405 [==============================] - 0s 210us/step - loss: 6.9529\n",
      "Epoch 55/100\n",
      "405/405 [==============================] - 0s 223us/step - loss: 7.7023\n",
      "Epoch 56/100\n",
      "405/405 [==============================] - 0s 230us/step - loss: 8.0571\n",
      "Epoch 57/100\n",
      "405/405 [==============================] - 0s 235us/step - loss: 7.1379\n",
      "Epoch 58/100\n",
      "405/405 [==============================] - 0s 237us/step - loss: 6.7870\n",
      "Epoch 59/100\n",
      "405/405 [==============================] - 0s 221us/step - loss: 6.6893\n",
      "Epoch 60/100\n",
      "405/405 [==============================] - 0s 215us/step - loss: 7.4946\n",
      "Epoch 61/100\n",
      "405/405 [==============================] - 0s 223us/step - loss: 6.3933\n",
      "Epoch 62/100\n",
      "405/405 [==============================] - 0s 237us/step - loss: 6.6952\n",
      "Epoch 63/100\n",
      "405/405 [==============================] - 0s 238us/step - loss: 9.5235\n",
      "Epoch 64/100\n",
      "405/405 [==============================] - 0s 233us/step - loss: 7.5359\n",
      "Epoch 65/100\n",
      "405/405 [==============================] - 0s 220us/step - loss: 8.4038\n",
      "Epoch 66/100\n",
      "405/405 [==============================] - 0s 225us/step - loss: 6.9204\n",
      "Epoch 67/100\n",
      "405/405 [==============================] - 0s 223us/step - loss: 6.4742\n",
      "Epoch 68/100\n",
      "405/405 [==============================] - 0s 224us/step - loss: 7.0476\n",
      "Epoch 69/100\n",
      "405/405 [==============================] - 0s 221us/step - loss: 6.9152\n",
      "Epoch 70/100\n",
      "405/405 [==============================] - 0s 224us/step - loss: 6.5198\n",
      "Epoch 71/100\n",
      "405/405 [==============================] - 0s 228us/step - loss: 5.8848\n",
      "Epoch 72/100\n",
      "405/405 [==============================] - 0s 220us/step - loss: 7.1289\n",
      "Epoch 73/100\n",
      "405/405 [==============================] - 0s 220us/step - loss: 6.4702\n",
      "Epoch 74/100\n",
      "405/405 [==============================] - 0s 223us/step - loss: 7.4278\n",
      "Epoch 75/100\n",
      "405/405 [==============================] - 0s 219us/step - loss: 6.7755\n",
      "Epoch 76/100\n",
      "405/405 [==============================] - 0s 229us/step - loss: 6.4151\n",
      "Epoch 77/100\n",
      "405/405 [==============================] - 0s 223us/step - loss: 8.2665\n",
      "Epoch 78/100\n",
      "405/405 [==============================] - 0s 222us/step - loss: 6.0968\n",
      "Epoch 79/100\n",
      "405/405 [==============================] - 0s 223us/step - loss: 5.6832\n",
      "Epoch 80/100\n",
      "405/405 [==============================] - 0s 220us/step - loss: 6.4853\n",
      "Epoch 81/100\n",
      "405/405 [==============================] - 0s 226us/step - loss: 6.6142\n",
      "Epoch 82/100\n",
      "405/405 [==============================] - 0s 222us/step - loss: 5.6702\n",
      "Epoch 83/100\n",
      "405/405 [==============================] - 0s 231us/step - loss: 7.2591\n",
      "Epoch 84/100\n",
      "405/405 [==============================] - 0s 222us/step - loss: 6.7337\n",
      "Epoch 85/100\n",
      "405/405 [==============================] - 0s 228us/step - loss: 5.3503\n",
      "Epoch 86/100\n",
      "405/405 [==============================] - 0s 232us/step - loss: 7.0753\n",
      "Epoch 87/100\n",
      "405/405 [==============================] - 0s 226us/step - loss: 5.7806\n",
      "Epoch 88/100\n",
      "405/405 [==============================] - 0s 221us/step - loss: 6.5619\n",
      "Epoch 89/100\n",
      "405/405 [==============================] - 0s 226us/step - loss: 5.8603\n",
      "Epoch 90/100\n",
      "405/405 [==============================] - 0s 242us/step - loss: 5.8121\n",
      "Epoch 91/100\n",
      "405/405 [==============================] - 0s 247us/step - loss: 7.1202\n",
      "Epoch 92/100\n",
      "405/405 [==============================] - 0s 237us/step - loss: 5.7441\n",
      "Epoch 93/100\n",
      "405/405 [==============================] - 0s 249us/step - loss: 6.3503\n",
      "Epoch 94/100\n",
      "405/405 [==============================] - 0s 254us/step - loss: 6.1331\n",
      "Epoch 95/100\n",
      "405/405 [==============================] - 0s 251us/step - loss: 5.2230\n",
      "Epoch 96/100\n",
      "405/405 [==============================] - 0s 239us/step - loss: 5.3477\n",
      "Epoch 97/100\n",
      "405/405 [==============================] - 0s 241us/step - loss: 5.7921\n",
      "Epoch 98/100\n",
      "405/405 [==============================] - 0s 249us/step - loss: 5.2333\n",
      "Epoch 99/100\n",
      "405/405 [==============================] - 0s 254us/step - loss: 6.2000\n",
      "Epoch 100/100\n",
      "405/405 [==============================] - 0s 249us/step - loss: 5.6512\n"
     ]
    },
    {
     "data": {
      "text/plain": [
       "<keras.callbacks.callbacks.History at 0x1c6def1a10>"
      ]
     },
     "execution_count": 327,
     "metadata": {},
     "output_type": "execute_result"
    }
   ],
   "source": [
    "m.compile(loss=\"mean_squared_error\", optimizer=\"adam\")\n",
    "\n",
    "# m.fit(inputData, outputData, epochs=50, batch_size=10)\n",
    "m.fit(scaledTrain_df, outputTrainDataY, epochs=100, batch_size=10)"
   ]
  },
  {
   "cell_type": "code",
   "execution_count": 328,
   "metadata": {},
   "outputs": [],
   "source": [
    "#len(scaledTrain_df)"
   ]
  },
  {
   "cell_type": "markdown",
   "metadata": {},
   "source": [
    "### 3.6 Predict and View the output"
   ]
  },
  {
   "cell_type": "code",
   "execution_count": 329,
   "metadata": {},
   "outputs": [
    {
     "data": {
      "text/plain": [
       "array([[24., 28., 29., 20., 48., 23., 36., 17., 22., 11., 25., 52., 24.,\n",
       "        29., 15., 23., 25., 21., 16., 20., 11., 25., 21., 29., 12., 19.,\n",
       "        45., 24., 22., 18., 32.,  5., 14., 22., 46., 28.,  8., 48., 22.,\n",
       "        14., 22., 20., 26., 20., 21., 33., 30., 16., 53., 16., 20., 30.,\n",
       "        18., 23., 22., 21., 20., 22.,  8., 21., 22., 27., 23., 20., 19.,\n",
       "        25., 31., 36., 26., 24., 26., 16., 10., 14., 37., 22., 25., 25.,\n",
       "        24., 28., 14., 14.,  9., 35., 17., 20., 49., 30., 18., 13., 14.,\n",
       "        11., 23., 16., 20., 10., 18., 24., 15., 17., 20., 24., 49., 21.,\n",
       "        22., 19., 14., 51., 26., 10., 16., 13., 23., 20., 31., 18.,  8.,\n",
       "        21., 27., 26., 41., 12., 35., 19., 21.,  7., 34., 22., 24., 17.,\n",
       "        17., 36., 40., 24., 22., 18., 49., 31., 13., 21., 32., 15.,  9.,\n",
       "        24., 19., 21., 15., 19., 24., 21., 14., 28., 31., 24.,  8., 21.,\n",
       "        24., 10., 37., 11., 35., 26., 20., 18., 19., 21., 19., 24., 17.,\n",
       "        33., 16., 33., 23., 23., 34., 46., 22., 21., 10., 10., 17., 28.,\n",
       "        10., 32., 28., 14., 21., 19., 17., 12., 23., 18., 22., 21., 33.,\n",
       "        15., 32., 35., 41., 21., 20., 27., 17., 23., 19.,  7., 23., 11.,\n",
       "        29., 13., 22., 20., 20., 20., 25., 20., 18., 25., 23., 23., 35.,\n",
       "        16., 14., 20., 10., 12., 20., 20., 21., 24.,  9., 24., 25., 20.,\n",
       "        34., 20., 34., 24., 25., 15., 17., 34., 23., 22., 48., 25., 31.,\n",
       "        33., 41., 19., 23., 18., 46., 11., 33., 23., 19.,  5., 30., 20.,\n",
       "        47., 20.,  9., 16., 52., 24., 19., 25., 21., 19., 24., 18., 10.,\n",
       "        15., 22., 23., 18., 21., 30., 24., 15., 28., 17., 18., 32., 27.,\n",
       "        12., 11., 22., 15., 18., 18., 16., 19., 19., 37., 18., 31., 28.,\n",
       "        22., 22., 22., 33., 18.,  9., 20., 53., 15., 12., 19., 24., 19.,\n",
       "        21., 15., 30., 24., 10., 26., 24., 22., 21., 34., 20., 21., 19.,\n",
       "        18., 16., 26., 35., 24., 10., 16., 22., 31., 21., 21., 55., 13.,\n",
       "        31., 31., 25., 23.,  9., 15., 17., 20., 14., 18., 15., 27.,  7.,\n",
       "        20., 15., 12., 20., 17., 17.,  5., 47., 19., 17., 21., 19., 25.,\n",
       "        24., 15., 21., 19., 18., 19., 15., 43., 22., 27., 17., 17., 24.,\n",
       "        19., 23., 10., 14., 19., 12., 30., 25., 13.,  8., 19., 22., 39.,\n",
       "        17., 21., 17.,  8., 10., 21., 14., 35., 17., 19., 19., 11., 19.,\n",
       "        15., 21.]], dtype=float32)"
      ]
     },
     "execution_count": 329,
     "metadata": {},
     "output_type": "execute_result"
    }
   ],
   "source": [
    "# Predicted output \n",
    "np.around(m.predict(scaledTrain_df).T)"
   ]
  },
  {
   "cell_type": "code",
   "execution_count": 330,
   "metadata": {},
   "outputs": [
    {
     "data": {
      "text/plain": [
       "array([[25. , 30.1, 30.8, 20.5, 48.5, 22.1, 35.1, 15.6, 22.7,  9.6, 25.2,\n",
       "        50. , 24.4, 29. , 13.1, 22.6, 26.2, 21.7, 14.5, 22.5, 11.7, 22. ,\n",
       "        23.8, 29.6, 11.9, 18.6, 48.3, 24.4, 23.1, 17.9, 31.1,  5. , 14.6,\n",
       "        24.1, 44.8, 29.6,  7.2, 50. , 23.1, 15.1, 22.8, 27.5, 27.5, 22.9,\n",
       "        21.7, 31. , 28.4, 14. , 50. , 16.7, 20.3, 36.2, 15.2, 20.6, 21.9,\n",
       "        21.2, 19.9, 20.3, 10.4, 19.8, 20.6, 26.6, 22. , 20.1, 19.2, 24.6,\n",
       "        28.2, 36. , 25. , 25. , 28.7, 15.3, 11.3, 14.3, 33.3, 21.4, 23.7,\n",
       "        22.5, 22.2, 27.9, 13.8, 13.9,  9.7, 36.5, 15.4, 20.4, 50. , 29.1,\n",
       "        18.3, 14.9, 12.6, 13.9, 24.4, 16.3, 18.5, 10.2, 19.5, 25. , 15.6,\n",
       "        13.8, 20.9, 22. , 50. , 22.2, 23.4, 17.8, 11.7, 50. , 23.5, 12.3,\n",
       "        18.4, 13.2, 25. , 20.1, 28.7, 19.9,  7.4, 20. , 29.1, 24. , 44. ,\n",
       "        12. , 36.4, 16.5, 23. ,  7. , 34.7, 23.9, 23.8, 17.6, 16.6, 35.4,\n",
       "        50. , 24.8, 22.8, 17. , 48.8, 31.6, 13.8, 22.2, 32.7, 15.6,  7.2,\n",
       "        21.4, 11.9, 22. , 14.6, 20.2, 21.5, 19.3, 18.4, 24.3, 34.9, 26.5,\n",
       "        10.5, 20.8, 23.2, 10.4, 37.9,  7.2, 33.2, 24.4, 19.4, 18.3, 18.9,\n",
       "        21.4, 15. , 23.7, 15.7, 32.5, 17.2, 32.4, 23.8, 20.7, 31.5, 46. ,\n",
       "        20. , 24.3, 10.2,  8.8, 16.1, 27.9,  8.3, 36.2, 26.6, 15.2, 21. ,\n",
       "        21.9, 19.9, 13.4, 22. , 18.8, 22. , 19.3, 33.1, 13.6, 30.1, 33.2,\n",
       "        39.8, 22.7, 19.2, 28.4, 19.7, 23.1, 19.5,  5.6, 21.7, 10.9, 29.8,\n",
       "        12.7, 19. , 21. , 16.6, 19.4, 21.7, 21.8, 16. , 25. , 27.5, 24.7,\n",
       "        37.2, 17.2, 13.4, 18.8, 10.9, 13.4, 23. , 18.5, 20. , 28.1, 10.8,\n",
       "        24.7, 23.7, 20.6, 34.9, 20.6, 37.3, 22.9, 22.8, 14.9, 20.1, 35.4,\n",
       "        23.4, 18.9, 50. , 22.2, 37. , 33.1, 42.8, 15. , 23.1, 19.4, 45.4,\n",
       "        12.7, 29. , 21.1, 18.4,  8.5, 26.6, 19.4, 50. , 20.6, 13.1, 19.1,\n",
       "        50. , 24.7, 18.5, 26.4, 19.5, 21.2, 23. , 18.2,  7.5, 17.8, 21.2,\n",
       "        22.8, 17.7, 24.5, 23.6, 23.9, 14.2, 28.6, 15.6, 17.5, 31.6, 24.8,\n",
       "        13.8, 13.4, 22.9, 17.8, 19.6, 19.1, 16.2, 20.6, 16.8, 50. , 18.9,\n",
       "        31.5, 30.5, 23.2, 24.5, 23.1, 33.4, 17.1,  7. , 20.1, 50. , 23.2,\n",
       "        11. , 18. , 23.3, 22.6, 20.8, 12.7, 29.4, 22.6, 11.8, 22.6, 23.1,\n",
       "        21.6, 19.8, 34.6, 21.2, 20.3, 19.9, 18.2, 13.1, 24.5, 34.9, 24.8,\n",
       "         8.4, 17.4, 23.3, 30.3, 19.3, 20. , 50. , 15.4, 29.9, 28.5, 23.3,\n",
       "        21.7,  8.7, 13.3, 20. , 19.4, 11.8, 18.2, 14.3, 28.7,  8.1, 21.5,\n",
       "        15.2, 12.1, 20.3, 14.4, 18.5,  5. , 41.7, 16.2, 14.5, 20.2, 19.4,\n",
       "        23.9, 24.1, 15. , 23.2, 21.8, 17.2, 18.7, 14.8, 43.8, 22.4, 28. ,\n",
       "        16.1, 16.5, 24.2, 20.5, 22.6, 12.8, 13.1, 18.7,  8.5, 30.1, 26.4,\n",
       "        14.1,  8.4, 20.1, 21.7, 43.1, 16.8, 22.3, 17.5, 10.5,  6.3, 21.7,\n",
       "        13.5, 36.1, 14.1, 19.8, 18.6, 11.5, 17.5, 16.7, 20.5]])"
      ]
     },
     "execution_count": 330,
     "metadata": {},
     "output_type": "execute_result"
    }
   ],
   "source": [
    "# Expected output\n",
    "outputTrainDataY.values.reshape(1,405)"
   ]
  },
  {
   "cell_type": "markdown",
   "metadata": {},
   "source": [
    "### 3.6.1 Observe the variation between prediction and real values"
   ]
  },
  {
   "cell_type": "code",
   "execution_count": 331,
   "metadata": {},
   "outputs": [],
   "source": [
    "# error_in_prediction = m.predict(inputs) - output.values\n",
    "error_in_prediction = m.predict(scaledTrain_df).T - outputTrainDataY.values.reshape(1,405)"
   ]
  },
  {
   "cell_type": "code",
   "execution_count": 332,
   "metadata": {},
   "outputs": [],
   "source": [
    "#print(error_in_prediction)"
   ]
  },
  {
   "cell_type": "code",
   "execution_count": 333,
   "metadata": {},
   "outputs": [
    {
     "data": {
      "text/plain": [
       "42.35521363702633"
      ]
     },
     "execution_count": 333,
     "metadata": {},
     "output_type": "execute_result"
    }
   ],
   "source": [
    "# Mean Square error of this prediction\n",
    "np.sqrt(np.sum((error_in_prediction)**2))"
   ]
  },
  {
   "cell_type": "markdown",
   "metadata": {},
   "source": [
    "### 3.7 Tweaking the model and Visually comparing the outputs"
   ]
  },
  {
   "cell_type": "code",
   "execution_count": 334,
   "metadata": {},
   "outputs": [
    {
     "data": {
      "image/png": "[encoded data removed]",
      "text/plain": [
       "<Figure size 842.4x595.44 with 1 Axes>"
      ]
     },
     "metadata": {},
     "output_type": "display_data"
    }
   ],
   "source": [
    "# Create plots of the 2 Outputs for better visual comparison 405\n",
    "x = np.arange(0.0,405.0,1)\n",
    "\n",
    "yPr = m.predict(scaledTrain_df)       # Predicted\n",
    "yKn   = outputTrainDataY              # Known Y\n",
    "\n",
    "plt.plot(x, yPr, 'r-')\n",
    "plt.plot(x, yKn, 'g-')\n",
    "plt.title(\"Comparing Real and Predicted Housing price Outputs\")\n",
    "plt.xlabel(\"datapoint\")\n",
    "plt.ylabel(\"medv\")\n",
    "plt.legend(\"PK\")\n",
    "\n",
    "plt.show()\n"
   ]
  },
  {
   "cell_type": "markdown",
   "metadata": {},
   "source": [
    "## 3.8 Time to test the model with the testData..."
   ]
  },
  {
   "cell_type": "code",
   "execution_count": 335,
   "metadata": {},
   "outputs": [
    {
     "data": {
      "text/plain": [
       "array([[17.731771 , 15.603119 , 15.558503 , 13.330232 , 12.600869 ,\n",
       "        17.84867  , 19.736883 , 16.724373 , 14.012145 , 16.993929 ,\n",
       "        17.416573 , 23.644688 , 15.468601 , 16.35732  , 18.825718 ,\n",
       "        17.033447 , 16.772942 , 18.037462 , 19.226503 , 39.718193 ,\n",
       "        15.273024 , 14.821186 , 13.002444 , 13.409265 , 14.837872 ,\n",
       "        13.414009 ,  7.5456195, 13.045817 , 14.154599 , 12.1442795,\n",
       "        12.511825 , 29.900133 , 27.882183 , 20.108576 , 19.827936 ,\n",
       "        16.038685 , 17.379255 , 21.256542 , 19.396296 , 39.06054  ,\n",
       "        21.935385 , 27.252539 , 36.662685 , 18.958246 , 19.297575 ,\n",
       "        20.829103 , 25.48459  , 24.089394 , 39.830433 , 37.415855 ,\n",
       "        17.011765 , 28.319479 , 17.697363 , 22.031527 , 29.181387 ,\n",
       "        26.061995 , 39.094814 , 16.539165 , 33.217285 , 24.640947 ,\n",
       "        45.583412 , 25.519272 , 18.792397 , 17.96926  , 20.390823 ,\n",
       "        31.017794 , 17.458944 , 20.218924 , 19.732553 , 16.918873 ,\n",
       "        22.744783 , 18.345852 , 38.142803 , 36.906345 ,  9.60401  ,\n",
       "         6.2339473, 11.366483 , 10.308528 ,  4.6230125,  1.2561631,\n",
       "        14.382106 ,  9.494487 ,  9.426658 ,  9.262392 , 11.812603 ,\n",
       "        14.974485 ,  6.6592255,  8.479838 ,  7.12721  , 12.953001 ,\n",
       "        16.555346 ,  9.93471  , 10.692274 , 20.18894  , 21.17639  ,\n",
       "        12.308223 , 21.975645 , 23.37806  , 11.019319 , 16.799824 ,\n",
       "        20.150377 ]], dtype=float32)"
      ]
     },
     "execution_count": 335,
     "metadata": {},
     "output_type": "execute_result"
    }
   ],
   "source": [
    "# TODO2\n",
    "# m.predict(testData)\n",
    "m.predict(scaledTest_df).T"
   ]
  },
  {
   "cell_type": "code",
   "execution_count": 336,
   "metadata": {},
   "outputs": [
    {
     "data": {
      "text/plain": [
       "array([[21.6, 27.1, 20.4, 19.6, 14.5, 21. , 25.3, 19.7, 18.9, 19.6, 22.2,\n",
       "        33. , 17.4, 20.9, 24.1, 21.4, 21.2, 22.5, 22. , 38.7, 19.3, 19.5,\n",
       "        20.4, 19.3, 17.3, 19.6, 15.6, 18.1, 17.1, 17.8, 14.4, 41.3, 27. ,\n",
       "        23.8, 22.3, 17.4, 19.1, 23.6, 24.6, 50. , 32. , 32.9, 42.3, 22.4,\n",
       "        23.3, 23. , 26.7, 27.5, 37.6, 46.7, 24.3, 31.7, 24. , 25.1, 33.8,\n",
       "        30.7, 43.5, 21.1, 35.2, 32. , 50. , 32.2, 24.8, 23.9, 27.1, 33.4,\n",
       "        20.4, 25. , 20.7, 18.7, 31.2, 22.9, 21.9, 50. , 13.3, 10.2, 13.8,\n",
       "        12.5,  8.3,  8.8, 20.8,  9.5, 17.1, 13. , 16.1, 17.8, 14.9, 14.1,\n",
       "        13.5, 16.4, 21.4, 19. , 19.1, 19.6, 29.8, 13.3, 23.7, 25. , 13.6,\n",
       "        23.1, 23.9]])"
      ]
     },
     "execution_count": 336,
     "metadata": {},
     "output_type": "execute_result"
    }
   ],
   "source": [
    "# Correct output\n",
    "outputTestDataY.values.reshape(1,101)"
   ]
  },
  {
   "cell_type": "code",
   "execution_count": 337,
   "metadata": {},
   "outputs": [
    {
     "data": {
      "text/plain": [
       "56.255659862594094"
      ]
     },
     "execution_count": 337,
     "metadata": {},
     "output_type": "execute_result"
    }
   ],
   "source": [
    "# TODO3 Error in TEST DATA\n",
    "error_in_TEST_prediction = m.predict(scaledTest_df).T - outputTestDataY.values.reshape(1,101)\n",
    "\n",
    "# Mean Square error of this prediction\n",
    "np.sqrt(np.sum((error_in_TEST_prediction)**2))"
   ]
  },
  {
   "cell_type": "code",
   "execution_count": 338,
   "metadata": {},
   "outputs": [],
   "source": [
    "# Plot and See"
   ]
  },
  {
   "cell_type": "code",
   "execution_count": 339,
   "metadata": {},
   "outputs": [
    {
     "data": {
      "image/png": "[encoded data removed]",
      "text/plain": [
       "<Figure size 842.4x595.44 with 1 Axes>"
      ]
     },
     "metadata": {},
     "output_type": "display_data"
    }
   ],
   "source": [
    "# Create plots of the 2 Outputs for better visual comparison 101\n",
    "xT = np.arange(0.0,101.0,1)\n",
    "\n",
    "yTPr = m.predict(scaledTest_df)        # Predicted Y\n",
    "yTKn   = outputTestDataY              # Known Y\n",
    "\n",
    "plt.plot(xT, yTPr, 'r-')\n",
    "plt.plot(xT, yTKn, 'k-')\n",
    "plt.title(\"Comparing Real and Predicted Housing price Outputs TEST Data\")\n",
    "plt.xlabel(\"datapoint\")\n",
    "plt.ylabel(\"medv\")\n",
    "plt.legend(\"PK\")\n",
    "\n",
    "plt.show()"
   ]
  },
  {
   "cell_type": "code",
   "execution_count": null,
   "metadata": {},
   "outputs": [],
   "source": []
  },
  {
   "cell_type": "code",
   "execution_count": null,
   "metadata": {},
   "outputs": [],
   "source": []
  },
  {
   "cell_type": "markdown",
   "metadata": {},
   "source": [
    "NOTE: Kaggle account opened & housing.csv dataset downloaded - Today 3rd October, 2019\n",
    "# References:\n",
    "#### [1] Python Software Foundation: https://www.python.org/\n",
    "#### [2] SciPy developers: https://www.scipy.org/\n",
    "#### [3] Keras: https://keras.io/\n",
    "#### [4] Project Jupyter: https://jupyter.org/\n",
    "#### [5] Housing Values in Suburbs of Boston: https://www.kaggle.com/c/boston-housing.\n",
    "#### [6] Online Resources: https://www.weirdgeek.com/2018/12/linear-regression-to-boston-housing-dataset/ \n",
    "#### [7] Wiki: https://en.wikipedia.org/wiki/Multicollinearity"
   ]
  },
  {
   "cell_type": "code",
   "execution_count": null,
   "metadata": {},
   "outputs": [],
   "source": []
  },
  {
   "cell_type": "code",
   "execution_count": null,
   "metadata": {},
   "outputs": [],
   "source": []
  }
 ],
 "metadata": {
  "kernelspec": {
   "display_name": "Python 3",
   "language": "python",
   "name": "python3"
  },
  "language_info": {
   "codemirror_mode": {
    "name": "ipython",
    "version": 3
   },
   "file_extension": ".py",
   "mimetype": "text/x-python",
   "name": "python",
   "nbconvert_exporter": "python",
   "pygments_lexer": "ipython3",
   "version": "3.7.4"
  }
 },
 "nbformat": 4,
 "nbformat_minor": 4
}
