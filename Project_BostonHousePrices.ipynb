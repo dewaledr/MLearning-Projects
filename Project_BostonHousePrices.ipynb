{
 "cells": [
  {
   "cell_type": "markdown",
   "metadata": {},
   "source": [
    "REF:https://www.kaggle.com/c/boston-housing\n",
    "        \n",
    "# Housing Values in Suburbs of Boston\n",
    "\n",
    "## Boston House Prices - Regression predictive modeling machine learning problem from end-to-end Python\n",
    "## The medv variable is the target variable.\n",
    "\n",
    "## Data description\n",
    "The Boston data frame has 506 rows and 14 columns.\n",
    "\n",
    "This data frame contains the following columns:\n",
    "crim - per capita crime rate by town.\n",
    "\n",
    "zn - proportion of residential land zoned for lots over 25,000 sq.ft.\n",
    "\n",
    "indus - proportion of non-retail business acres per town.\n",
    "\n",
    "chas - Charles River dummy variable (= 1 if tract bounds river; 0 otherwise).\n",
    "\n",
    "nox - nitrogen oxides concentration (parts per 10 million).\n",
    "\n",
    "rm - average number of rooms per dwelling.\n",
    "\n",
    "age - proportion of owner-occupied units built prior to 1940.\n",
    "\n",
    "dis - weighted mean of distances to five Boston employment centres.\n",
    "\n",
    "rad - index of accessibility to radial highways.\n",
    "\n",
    "tax - full-value property-tax rate per $10,000.\n",
    "\n",
    "ptratio - pupil-teacher ratio by town.\n",
    "\n",
    "black - 1000(Bk - 0.63)^2 where Bk is the proportion of blacks by town.\n",
    "\n",
    "lstat - lower status of the population (percent).\n",
    "\n",
    "medv - median value of owner-occupied homes in $1000s."
   ]
  },
  {
   "cell_type": "markdown",
   "metadata": {},
   "source": [
    "### Kaggle account opened & housing.csv dataset downloaded - Today 3rd October, 2019"
   ]
  },
  {
   "cell_type": "code",
   "execution_count": 2,
   "metadata": {},
   "outputs": [],
   "source": [
    "import numpy as np\n",
    "import pandas as pd\n",
    "import matplotlib.pyplot as plt\n",
    "import seaborn as sns\n",
    "\n",
    "import statsmodels.api as sm\n",
    "import statsmodels.formula.api as smf\n",
    "import scipy.linalg as sl\n",
    "\n"
   ]
  },
  {
   "cell_type": "code",
   "execution_count": 3,
   "metadata": {},
   "outputs": [
    {
     "name": "stdout",
     "output_type": "stream",
     "text": [
      "   0.00632  18.00   2.310  0  0.5380  6.5750  65.20  4.0900   1  296.0  15.30 396.90   4.98  24.00\n",
      "0   0.02731   0.00   7.070  0  0.4690  6.4210  78...                                              \n",
      "1   0.02729   0.00   7.070  0  0.4690  7.1850  61...                                              \n",
      "2   0.03237   0.00   2.180  0  0.4580  6.9980  45...                                              \n",
      "3   0.06905   0.00   2.180  0  0.4580  7.1470  54...                                              \n",
      "4   0.02985   0.00   2.180  0  0.4580  6.4300  58...                                              \n",
      "5   0.08829  12.50   7.870  0  0.5240  6.0120  66...                                              \n",
      "6   0.14455  12.50   7.870  0  0.5240  6.1720  96...                                              \n",
      "7   0.21124  12.50   7.870  0  0.5240  5.6310 100...                                              \n",
      "8   0.17004  12.50   7.870  0  0.5240  6.0040  85...                                              \n",
      "9   0.22489  12.50   7.870  0  0.5240  6.3770  94...                                              \n"
     ]
    }
   ],
   "source": [
    "# Load the boston-housing dataset... This is the URL from \"raw\" version of housing.csv file from my github\n",
    "df = pd.read_csv(\"https://raw.githubusercontent.com/dewaledr/MLearning-Project/master/housing.csv\")\n",
    "print(df.head(10)) "
   ]
  },
  {
   "cell_type": "code",
   "execution_count": null,
   "metadata": {},
   "outputs": [],
   "source": []
  },
  {
   "cell_type": "code",
   "execution_count": null,
   "metadata": {},
   "outputs": [],
   "source": []
  }
 ],
 "metadata": {
  "kernelspec": {
   "display_name": "Python 3",
   "language": "python",
   "name": "python3"
  },
  "language_info": {
   "codemirror_mode": {
    "name": "ipython",
    "version": 3
   },
   "file_extension": ".py",
   "mimetype": "text/x-python",
   "name": "python",
   "nbconvert_exporter": "python",
   "pygments_lexer": "ipython3",
   "version": "3.7.1"
  }
 },
 "nbformat": 4,
 "nbformat_minor": 2
}
