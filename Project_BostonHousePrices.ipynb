{
 "cells": [
  {
   "cell_type": "markdown",
   "metadata": {},
   "source": [
    "# Machine Learning and Statistics Project, November 2019\n",
    "***\n",
    "\n",
    "## **Submitted by:** Francis Adepoju (G00364694)\n",
    "***\n",
    "## __Title:__ Using Descriptive Statistics and Plots to Describe the Boston House Prices Dataset \n",
    "***\n",
    "\n",
    "\n",
    "## Summary of the dataset:\n",
    "#### The Boston data frame has 506 rows and 14 columns. This data frame contains the following columns:\n",
    "1. __crim__   - per capita crime rate by town.\n",
    "2. __zn__     - proportion of residential land zoned for lots over 25,000 sq.ft.\n",
    "3. __indus__  - proportion of non-retail business acres per town.\n",
    "4. __chas__   - Charles River dummy variable (= 1 if tract bounds river; 0 otherwise).\n",
    "5. __nox__    - nitrogen oxides concentration (parts per 10 million).\n",
    "6. __rm__     - average number of rooms per dwelling.\n",
    "7. __age__    - proportion of owner-occupied units built prior to 1940.\n",
    "8. __dis__    - weighted mean of distances to five Boston employment centres.\n",
    "9. __rad__    - index of accessibility to radial highways.\n",
    "10. __tax__    - full-value property-tax rate per **`$10,000`**.\n",
    "11. __ptratio__  - pupil-teacher ratio by town.\n",
    "12. __black__  - `1000 * (Bk - 0.63)^2` where Bk is the proportion of blacks by town.\n",
    "13. __lstat__  - lower status of the population (percent).\n",
    "14. __medv__  - median value of owner-occupied homes in **`$1,000`**.\n",
    "\n",
    "#### NOTE: \n",
    "1. The __medv__ variable is the target (y) variable. The prices of the house indicated by the __medv__ variable is therefore our target variable and the remaining 13 are the feature variables.The effect of the these 13 variables on house prices are to be investigated and predicted.\n",
    "2. In this project, we use the Python[1], scipy[2], keras[3], and Jupyter[4] packages to produce a comprehensive description, inference and prediction of house prices using the Boston house prices' dataset [5] \n",
    "\n",
    "***\n",
    "## 1. Description\n",
    "***"
   ]
  },
  {
   "cell_type": "markdown",
   "metadata": {},
   "source": [
    "#### Import necessary Libraries"
   ]
  },
  {
   "cell_type": "code",
   "execution_count": 44,
   "metadata": {},
   "outputs": [],
   "source": [
    "# Library for generating random variables.\n",
    "import numpy as np\n",
    "# Library for handling data.\n",
    "import pandas as pd\n",
    "# Library for plotting.\n",
    "import matplotlib.pyplot as plt\n",
    "# Library for t-tests and ANOVA.\n",
    "import scipy.stats as stats\n",
    "\n",
    "\n",
    "import seaborn as sns\n",
    "\n",
    "# For basic ML,\n",
    "import statsmodels.api as sm\n",
    "import statsmodels.formula.api as smf\n",
    "import scipy.linalg as sl\n",
    "\n",
    "# For more practical ML,  Import linear_model from sklearn.\n",
    "import sklearn.linear_model as lm\n",
    "\n",
    "# random number gen\n",
    "from random import sample\n",
    "\n",
    "# Make the plots bigger.\n",
    "plt.rcParams['figure.figsize'] = (20.0, 10.0)"
   ]
  },
  {
   "cell_type": "markdown",
   "metadata": {},
   "source": [
    "### 1.1 Load Dataset from my gitHub repository and gain some insight about the dataset"
   ]
  },
  {
   "cell_type": "code",
   "execution_count": 45,
   "metadata": {},
   "outputs": [
    {
     "data": {
      "text/html": [
       "<div>\n",
       "<style scoped>\n",
       "    .dataframe tbody tr th:only-of-type {\n",
       "        vertical-align: middle;\n",
       "    }\n",
       "\n",
       "    .dataframe tbody tr th {\n",
       "        vertical-align: top;\n",
       "    }\n",
       "\n",
       "    .dataframe thead th {\n",
       "        text-align: right;\n",
       "    }\n",
       "</style>\n",
       "<table border=\"1\" class=\"dataframe\">\n",
       "  <thead>\n",
       "    <tr style=\"text-align: right;\">\n",
       "      <th></th>\n",
       "      <th>crim</th>\n",
       "      <th>zn</th>\n",
       "      <th>indus</th>\n",
       "      <th>chas</th>\n",
       "      <th>nox</th>\n",
       "      <th>rm</th>\n",
       "      <th>age</th>\n",
       "      <th>dis</th>\n",
       "      <th>rad</th>\n",
       "      <th>tax</th>\n",
       "      <th>ptratio</th>\n",
       "      <th>black</th>\n",
       "      <th>lstat</th>\n",
       "      <th>medv</th>\n",
       "    </tr>\n",
       "  </thead>\n",
       "  <tbody>\n",
       "    <tr>\n",
       "      <td>0</td>\n",
       "      <td>0.00632</td>\n",
       "      <td>18.0</td>\n",
       "      <td>2.31</td>\n",
       "      <td>0</td>\n",
       "      <td>0.538</td>\n",
       "      <td>6.575</td>\n",
       "      <td>65.2</td>\n",
       "      <td>4.0900</td>\n",
       "      <td>1</td>\n",
       "      <td>296</td>\n",
       "      <td>15.3</td>\n",
       "      <td>396.90</td>\n",
       "      <td>4.98</td>\n",
       "      <td>24.0</td>\n",
       "    </tr>\n",
       "    <tr>\n",
       "      <td>1</td>\n",
       "      <td>0.02731</td>\n",
       "      <td>0.0</td>\n",
       "      <td>7.07</td>\n",
       "      <td>0</td>\n",
       "      <td>0.469</td>\n",
       "      <td>6.421</td>\n",
       "      <td>78.9</td>\n",
       "      <td>4.9671</td>\n",
       "      <td>2</td>\n",
       "      <td>242</td>\n",
       "      <td>17.8</td>\n",
       "      <td>396.90</td>\n",
       "      <td>9.14</td>\n",
       "      <td>21.6</td>\n",
       "    </tr>\n",
       "    <tr>\n",
       "      <td>2</td>\n",
       "      <td>0.02729</td>\n",
       "      <td>0.0</td>\n",
       "      <td>7.07</td>\n",
       "      <td>0</td>\n",
       "      <td>0.469</td>\n",
       "      <td>7.185</td>\n",
       "      <td>61.1</td>\n",
       "      <td>4.9671</td>\n",
       "      <td>2</td>\n",
       "      <td>242</td>\n",
       "      <td>17.8</td>\n",
       "      <td>392.83</td>\n",
       "      <td>4.03</td>\n",
       "      <td>34.7</td>\n",
       "    </tr>\n",
       "    <tr>\n",
       "      <td>3</td>\n",
       "      <td>0.03237</td>\n",
       "      <td>0.0</td>\n",
       "      <td>2.18</td>\n",
       "      <td>0</td>\n",
       "      <td>0.458</td>\n",
       "      <td>6.998</td>\n",
       "      <td>45.8</td>\n",
       "      <td>6.0622</td>\n",
       "      <td>3</td>\n",
       "      <td>222</td>\n",
       "      <td>18.7</td>\n",
       "      <td>394.63</td>\n",
       "      <td>2.94</td>\n",
       "      <td>33.4</td>\n",
       "    </tr>\n",
       "    <tr>\n",
       "      <td>4</td>\n",
       "      <td>0.06905</td>\n",
       "      <td>0.0</td>\n",
       "      <td>2.18</td>\n",
       "      <td>0</td>\n",
       "      <td>0.458</td>\n",
       "      <td>7.147</td>\n",
       "      <td>54.2</td>\n",
       "      <td>6.0622</td>\n",
       "      <td>3</td>\n",
       "      <td>222</td>\n",
       "      <td>18.7</td>\n",
       "      <td>396.90</td>\n",
       "      <td>5.33</td>\n",
       "      <td>36.2</td>\n",
       "    </tr>\n",
       "  </tbody>\n",
       "</table>\n",
       "</div>"
      ],
      "text/plain": [
       "      crim    zn  indus  chas    nox     rm   age     dis  rad  tax  ptratio  \\\n",
       "0  0.00632  18.0   2.31     0  0.538  6.575  65.2  4.0900    1  296     15.3   \n",
       "1  0.02731   0.0   7.07     0  0.469  6.421  78.9  4.9671    2  242     17.8   \n",
       "2  0.02729   0.0   7.07     0  0.469  7.185  61.1  4.9671    2  242     17.8   \n",
       "3  0.03237   0.0   2.18     0  0.458  6.998  45.8  6.0622    3  222     18.7   \n",
       "4  0.06905   0.0   2.18     0  0.458  7.147  54.2  6.0622    3  222     18.7   \n",
       "\n",
       "    black  lstat  medv  \n",
       "0  396.90   4.98  24.0  \n",
       "1  396.90   9.14  21.6  \n",
       "2  392.83   4.03  34.7  \n",
       "3  394.63   2.94  33.4  \n",
       "4  396.90   5.33  36.2  "
      ]
     },
     "execution_count": 45,
     "metadata": {},
     "output_type": "execute_result"
    }
   ],
   "source": [
    "# Let's use pandas to read this csv file and organise the housing data.\n",
    "# Load the boston-housing dataset... This is the URL from \"raw\" version of housing.csv file from my github\n",
    "#df = pd.read_csv(\"housingCSV2.csv\")\n",
    "df = pd.read_csv(\"https://raw.githubusercontent.com/dewaledr/MLearning-Projects/master/housing.csv\")\n",
    "df.head()"
   ]
  },
  {
   "cell_type": "code",
   "execution_count": 46,
   "metadata": {},
   "outputs": [
    {
     "data": {
      "text/html": [
       "<div>\n",
       "<style scoped>\n",
       "    .dataframe tbody tr th:only-of-type {\n",
       "        vertical-align: middle;\n",
       "    }\n",
       "\n",
       "    .dataframe tbody tr th {\n",
       "        vertical-align: top;\n",
       "    }\n",
       "\n",
       "    .dataframe thead th {\n",
       "        text-align: right;\n",
       "    }\n",
       "</style>\n",
       "<table border=\"1\" class=\"dataframe\">\n",
       "  <thead>\n",
       "    <tr style=\"text-align: right;\">\n",
       "      <th></th>\n",
       "      <th>crim</th>\n",
       "      <th>zn</th>\n",
       "      <th>indus</th>\n",
       "      <th>chas</th>\n",
       "      <th>nox</th>\n",
       "      <th>rm</th>\n",
       "      <th>age</th>\n",
       "      <th>dis</th>\n",
       "      <th>rad</th>\n",
       "      <th>tax</th>\n",
       "      <th>ptratio</th>\n",
       "      <th>black</th>\n",
       "      <th>lstat</th>\n",
       "      <th>medv</th>\n",
       "    </tr>\n",
       "  </thead>\n",
       "  <tbody>\n",
       "    <tr>\n",
       "      <td>501</td>\n",
       "      <td>0.06263</td>\n",
       "      <td>0.0</td>\n",
       "      <td>11.93</td>\n",
       "      <td>0</td>\n",
       "      <td>0.573</td>\n",
       "      <td>6.593</td>\n",
       "      <td>69.1</td>\n",
       "      <td>2.4786</td>\n",
       "      <td>1</td>\n",
       "      <td>273</td>\n",
       "      <td>21.0</td>\n",
       "      <td>391.99</td>\n",
       "      <td>9.67</td>\n",
       "      <td>22.4</td>\n",
       "    </tr>\n",
       "    <tr>\n",
       "      <td>502</td>\n",
       "      <td>0.04527</td>\n",
       "      <td>0.0</td>\n",
       "      <td>11.93</td>\n",
       "      <td>0</td>\n",
       "      <td>0.573</td>\n",
       "      <td>6.120</td>\n",
       "      <td>76.7</td>\n",
       "      <td>2.2875</td>\n",
       "      <td>1</td>\n",
       "      <td>273</td>\n",
       "      <td>21.0</td>\n",
       "      <td>396.90</td>\n",
       "      <td>9.08</td>\n",
       "      <td>20.6</td>\n",
       "    </tr>\n",
       "    <tr>\n",
       "      <td>503</td>\n",
       "      <td>0.06076</td>\n",
       "      <td>0.0</td>\n",
       "      <td>11.93</td>\n",
       "      <td>0</td>\n",
       "      <td>0.573</td>\n",
       "      <td>6.976</td>\n",
       "      <td>91.0</td>\n",
       "      <td>2.1675</td>\n",
       "      <td>1</td>\n",
       "      <td>273</td>\n",
       "      <td>21.0</td>\n",
       "      <td>396.90</td>\n",
       "      <td>5.64</td>\n",
       "      <td>23.9</td>\n",
       "    </tr>\n",
       "    <tr>\n",
       "      <td>504</td>\n",
       "      <td>0.10959</td>\n",
       "      <td>0.0</td>\n",
       "      <td>11.93</td>\n",
       "      <td>0</td>\n",
       "      <td>0.573</td>\n",
       "      <td>6.794</td>\n",
       "      <td>89.3</td>\n",
       "      <td>2.3889</td>\n",
       "      <td>1</td>\n",
       "      <td>273</td>\n",
       "      <td>21.0</td>\n",
       "      <td>393.45</td>\n",
       "      <td>6.48</td>\n",
       "      <td>22.0</td>\n",
       "    </tr>\n",
       "    <tr>\n",
       "      <td>505</td>\n",
       "      <td>0.04741</td>\n",
       "      <td>0.0</td>\n",
       "      <td>11.93</td>\n",
       "      <td>0</td>\n",
       "      <td>0.573</td>\n",
       "      <td>6.030</td>\n",
       "      <td>80.8</td>\n",
       "      <td>2.5050</td>\n",
       "      <td>1</td>\n",
       "      <td>273</td>\n",
       "      <td>21.0</td>\n",
       "      <td>396.90</td>\n",
       "      <td>7.88</td>\n",
       "      <td>11.9</td>\n",
       "    </tr>\n",
       "  </tbody>\n",
       "</table>\n",
       "</div>"
      ],
      "text/plain": [
       "        crim   zn  indus  chas    nox     rm   age     dis  rad  tax  ptratio  \\\n",
       "501  0.06263  0.0  11.93     0  0.573  6.593  69.1  2.4786    1  273     21.0   \n",
       "502  0.04527  0.0  11.93     0  0.573  6.120  76.7  2.2875    1  273     21.0   \n",
       "503  0.06076  0.0  11.93     0  0.573  6.976  91.0  2.1675    1  273     21.0   \n",
       "504  0.10959  0.0  11.93     0  0.573  6.794  89.3  2.3889    1  273     21.0   \n",
       "505  0.04741  0.0  11.93     0  0.573  6.030  80.8  2.5050    1  273     21.0   \n",
       "\n",
       "      black  lstat  medv  \n",
       "501  391.99   9.67  22.4  \n",
       "502  396.90   9.08  20.6  \n",
       "503  396.90   5.64  23.9  \n",
       "504  393.45   6.48  22.0  \n",
       "505  396.90   7.88  11.9  "
      ]
     },
     "execution_count": 46,
     "metadata": {},
     "output_type": "execute_result"
    }
   ],
   "source": [
    "df.tail()"
   ]
  },
  {
   "cell_type": "code",
   "execution_count": 47,
   "metadata": {},
   "outputs": [
    {
     "name": "stdout",
     "output_type": "stream",
     "text": [
      "<class 'pandas.core.frame.DataFrame'>\n",
      "RangeIndex: 506 entries, 0 to 505\n",
      "Data columns (total 14 columns):\n",
      "crim       506 non-null float64\n",
      "zn         506 non-null float64\n",
      "indus      506 non-null float64\n",
      "chas       506 non-null int64\n",
      "nox        506 non-null float64\n",
      "rm         506 non-null float64\n",
      "age        506 non-null float64\n",
      "dis        506 non-null float64\n",
      "rad        506 non-null int64\n",
      "tax        506 non-null int64\n",
      "ptratio    506 non-null float64\n",
      "black      506 non-null float64\n",
      "lstat      506 non-null float64\n",
      "medv       506 non-null float64\n",
      "dtypes: float64(11), int64(3)\n",
      "memory usage: 55.5 KB\n"
     ]
    }
   ],
   "source": [
    "# Investigate the data for missing or non values...\n",
    "df.info()"
   ]
  },
  {
   "cell_type": "markdown",
   "metadata": {},
   "source": [
    "To get some basic statistics about our data like mean, median, count etc. we can use __.describe()__ method as shown below:"
   ]
  },
  {
   "cell_type": "code",
   "execution_count": 48,
   "metadata": {},
   "outputs": [
    {
     "data": {
      "text/html": [
       "<div>\n",
       "<style scoped>\n",
       "    .dataframe tbody tr th:only-of-type {\n",
       "        vertical-align: middle;\n",
       "    }\n",
       "\n",
       "    .dataframe tbody tr th {\n",
       "        vertical-align: top;\n",
       "    }\n",
       "\n",
       "    .dataframe thead th {\n",
       "        text-align: right;\n",
       "    }\n",
       "</style>\n",
       "<table border=\"1\" class=\"dataframe\">\n",
       "  <thead>\n",
       "    <tr style=\"text-align: right;\">\n",
       "      <th></th>\n",
       "      <th>crim</th>\n",
       "      <th>zn</th>\n",
       "      <th>indus</th>\n",
       "      <th>chas</th>\n",
       "      <th>nox</th>\n",
       "      <th>rm</th>\n",
       "      <th>age</th>\n",
       "      <th>dis</th>\n",
       "      <th>rad</th>\n",
       "      <th>tax</th>\n",
       "      <th>ptratio</th>\n",
       "      <th>black</th>\n",
       "      <th>lstat</th>\n",
       "      <th>medv</th>\n",
       "    </tr>\n",
       "  </thead>\n",
       "  <tbody>\n",
       "    <tr>\n",
       "      <td>count</td>\n",
       "      <td>506.000000</td>\n",
       "      <td>506.000000</td>\n",
       "      <td>506.000000</td>\n",
       "      <td>506.000000</td>\n",
       "      <td>506.000000</td>\n",
       "      <td>506.000000</td>\n",
       "      <td>506.000000</td>\n",
       "      <td>506.000000</td>\n",
       "      <td>506.000000</td>\n",
       "      <td>506.000000</td>\n",
       "      <td>506.000000</td>\n",
       "      <td>506.000000</td>\n",
       "      <td>506.000000</td>\n",
       "      <td>506.000000</td>\n",
       "    </tr>\n",
       "    <tr>\n",
       "      <td>mean</td>\n",
       "      <td>3.613524</td>\n",
       "      <td>11.363636</td>\n",
       "      <td>11.136779</td>\n",
       "      <td>0.069170</td>\n",
       "      <td>0.554695</td>\n",
       "      <td>6.284634</td>\n",
       "      <td>68.574901</td>\n",
       "      <td>3.795043</td>\n",
       "      <td>9.549407</td>\n",
       "      <td>408.237154</td>\n",
       "      <td>18.455534</td>\n",
       "      <td>356.674032</td>\n",
       "      <td>12.653063</td>\n",
       "      <td>22.532806</td>\n",
       "    </tr>\n",
       "    <tr>\n",
       "      <td>std</td>\n",
       "      <td>8.601545</td>\n",
       "      <td>23.322453</td>\n",
       "      <td>6.860353</td>\n",
       "      <td>0.253994</td>\n",
       "      <td>0.115878</td>\n",
       "      <td>0.702617</td>\n",
       "      <td>28.148861</td>\n",
       "      <td>2.105710</td>\n",
       "      <td>8.707259</td>\n",
       "      <td>168.537116</td>\n",
       "      <td>2.164946</td>\n",
       "      <td>91.294864</td>\n",
       "      <td>7.141062</td>\n",
       "      <td>9.197104</td>\n",
       "    </tr>\n",
       "    <tr>\n",
       "      <td>min</td>\n",
       "      <td>0.006320</td>\n",
       "      <td>0.000000</td>\n",
       "      <td>0.460000</td>\n",
       "      <td>0.000000</td>\n",
       "      <td>0.385000</td>\n",
       "      <td>3.561000</td>\n",
       "      <td>2.900000</td>\n",
       "      <td>1.129600</td>\n",
       "      <td>1.000000</td>\n",
       "      <td>187.000000</td>\n",
       "      <td>12.600000</td>\n",
       "      <td>0.320000</td>\n",
       "      <td>1.730000</td>\n",
       "      <td>5.000000</td>\n",
       "    </tr>\n",
       "    <tr>\n",
       "      <td>25%</td>\n",
       "      <td>0.082045</td>\n",
       "      <td>0.000000</td>\n",
       "      <td>5.190000</td>\n",
       "      <td>0.000000</td>\n",
       "      <td>0.449000</td>\n",
       "      <td>5.885500</td>\n",
       "      <td>45.025000</td>\n",
       "      <td>2.100175</td>\n",
       "      <td>4.000000</td>\n",
       "      <td>279.000000</td>\n",
       "      <td>17.400000</td>\n",
       "      <td>375.377500</td>\n",
       "      <td>6.950000</td>\n",
       "      <td>17.025000</td>\n",
       "    </tr>\n",
       "    <tr>\n",
       "      <td>50%</td>\n",
       "      <td>0.256510</td>\n",
       "      <td>0.000000</td>\n",
       "      <td>9.690000</td>\n",
       "      <td>0.000000</td>\n",
       "      <td>0.538000</td>\n",
       "      <td>6.208500</td>\n",
       "      <td>77.500000</td>\n",
       "      <td>3.207450</td>\n",
       "      <td>5.000000</td>\n",
       "      <td>330.000000</td>\n",
       "      <td>19.050000</td>\n",
       "      <td>391.440000</td>\n",
       "      <td>11.360000</td>\n",
       "      <td>21.200000</td>\n",
       "    </tr>\n",
       "    <tr>\n",
       "      <td>75%</td>\n",
       "      <td>3.677082</td>\n",
       "      <td>12.500000</td>\n",
       "      <td>18.100000</td>\n",
       "      <td>0.000000</td>\n",
       "      <td>0.624000</td>\n",
       "      <td>6.623500</td>\n",
       "      <td>94.075000</td>\n",
       "      <td>5.188425</td>\n",
       "      <td>24.000000</td>\n",
       "      <td>666.000000</td>\n",
       "      <td>20.200000</td>\n",
       "      <td>396.225000</td>\n",
       "      <td>16.955000</td>\n",
       "      <td>25.000000</td>\n",
       "    </tr>\n",
       "    <tr>\n",
       "      <td>max</td>\n",
       "      <td>88.976200</td>\n",
       "      <td>100.000000</td>\n",
       "      <td>27.740000</td>\n",
       "      <td>1.000000</td>\n",
       "      <td>0.871000</td>\n",
       "      <td>8.780000</td>\n",
       "      <td>100.000000</td>\n",
       "      <td>12.126500</td>\n",
       "      <td>24.000000</td>\n",
       "      <td>711.000000</td>\n",
       "      <td>22.000000</td>\n",
       "      <td>396.900000</td>\n",
       "      <td>37.970000</td>\n",
       "      <td>50.000000</td>\n",
       "    </tr>\n",
       "  </tbody>\n",
       "</table>\n",
       "</div>"
      ],
      "text/plain": [
       "             crim          zn       indus        chas         nox          rm  \\\n",
       "count  506.000000  506.000000  506.000000  506.000000  506.000000  506.000000   \n",
       "mean     3.613524   11.363636   11.136779    0.069170    0.554695    6.284634   \n",
       "std      8.601545   23.322453    6.860353    0.253994    0.115878    0.702617   \n",
       "min      0.006320    0.000000    0.460000    0.000000    0.385000    3.561000   \n",
       "25%      0.082045    0.000000    5.190000    0.000000    0.449000    5.885500   \n",
       "50%      0.256510    0.000000    9.690000    0.000000    0.538000    6.208500   \n",
       "75%      3.677082   12.500000   18.100000    0.000000    0.624000    6.623500   \n",
       "max     88.976200  100.000000   27.740000    1.000000    0.871000    8.780000   \n",
       "\n",
       "              age         dis         rad         tax     ptratio       black  \\\n",
       "count  506.000000  506.000000  506.000000  506.000000  506.000000  506.000000   \n",
       "mean    68.574901    3.795043    9.549407  408.237154   18.455534  356.674032   \n",
       "std     28.148861    2.105710    8.707259  168.537116    2.164946   91.294864   \n",
       "min      2.900000    1.129600    1.000000  187.000000   12.600000    0.320000   \n",
       "25%     45.025000    2.100175    4.000000  279.000000   17.400000  375.377500   \n",
       "50%     77.500000    3.207450    5.000000  330.000000   19.050000  391.440000   \n",
       "75%     94.075000    5.188425   24.000000  666.000000   20.200000  396.225000   \n",
       "max    100.000000   12.126500   24.000000  711.000000   22.000000  396.900000   \n",
       "\n",
       "            lstat        medv  \n",
       "count  506.000000  506.000000  \n",
       "mean    12.653063   22.532806  \n",
       "std      7.141062    9.197104  \n",
       "min      1.730000    5.000000  \n",
       "25%      6.950000   17.025000  \n",
       "50%     11.360000   21.200000  \n",
       "75%     16.955000   25.000000  \n",
       "max     37.970000   50.000000  "
      ]
     },
     "execution_count": 48,
     "metadata": {},
     "output_type": "execute_result"
    }
   ],
   "source": [
    "df.describe()"
   ]
  },
  {
   "cell_type": "markdown",
   "metadata": {},
   "source": [
    "### 1.2 Data Clean up...\n",
    "Generally, NaN or missing values can be in any form like 0, ?, or may be written as “missing” and as observed in our dataset above __(chas and zn)__, there are a lot of  0’s, so we can replace them with NaN to calculate how much data we are missing [6]."
   ]
  },
  {
   "cell_type": "code",
   "execution_count": 49,
   "metadata": {},
   "outputs": [],
   "source": [
    "# Make a copy of the dataset\n",
    "df2 = df.copy(deep=True)"
   ]
  },
  {
   "cell_type": "code",
   "execution_count": 50,
   "metadata": {},
   "outputs": [],
   "source": [
    "#print(df2.head())\n",
    "df2.zn.replace(0, np.nan, inplace=True)\n",
    "df2.chas.replace(0, np.nan, inplace=True)"
   ]
  },
  {
   "cell_type": "code",
   "execution_count": 51,
   "metadata": {},
   "outputs": [
    {
     "name": "stdout",
     "output_type": "stream",
     "text": [
      "<class 'pandas.core.frame.DataFrame'>\n",
      "RangeIndex: 506 entries, 0 to 505\n",
      "Data columns (total 14 columns):\n",
      "crim       506 non-null float64\n",
      "zn         134 non-null float64\n",
      "indus      506 non-null float64\n",
      "chas       35 non-null float64\n",
      "nox        506 non-null float64\n",
      "rm         506 non-null float64\n",
      "age        506 non-null float64\n",
      "dis        506 non-null float64\n",
      "rad        506 non-null int64\n",
      "tax        506 non-null int64\n",
      "ptratio    506 non-null float64\n",
      "black      506 non-null float64\n",
      "lstat      506 non-null float64\n",
      "medv       506 non-null float64\n",
      "dtypes: float64(12), int64(2)\n",
      "memory usage: 55.5 KB\n"
     ]
    }
   ],
   "source": [
    "#After replacing let’s again use .info() method to see the details about missing values in our dataset:\n",
    "df2.info()"
   ]
  },
  {
   "cell_type": "code",
   "execution_count": 52,
   "metadata": {},
   "outputs": [
    {
     "data": {
      "text/plain": [
       "crim        0.000000\n",
       "zn         73.517787\n",
       "indus       0.000000\n",
       "chas       93.083004\n",
       "nox         0.000000\n",
       "rm          0.000000\n",
       "age         0.000000\n",
       "dis         0.000000\n",
       "rad         0.000000\n",
       "tax         0.000000\n",
       "ptratio     0.000000\n",
       "black       0.000000\n",
       "lstat       0.000000\n",
       "medv        0.000000\n",
       "dtype: float64"
      ]
     },
     "execution_count": 52,
     "metadata": {},
     "output_type": "execute_result"
    }
   ],
   "source": [
    "df2.isnull().sum()/len(df2)*100"
   ]
  },
  {
   "cell_type": "markdown",
   "metadata": {},
   "source": [
    "#### 1.2.2 Calculate the percentageof features with missing values\n",
    "Generally, if there is 20-25% missing values we can impute them with different ways like mean, median or an educated guess by us. But if it’s more than that, it’s better to remove those features otherwise they can affect our result. As we can see below both “zn” and “chas” missing more than 70% data so we will remove both these features."
   ]
  },
  {
   "cell_type": "code",
   "execution_count": 53,
   "metadata": {},
   "outputs": [],
   "source": [
    "df2 = df2.drop(\"zn\", 1)\n",
    "df2 = df2.drop(\"chas\", 1)"
   ]
  },
  {
   "cell_type": "code",
   "execution_count": 54,
   "metadata": {},
   "outputs": [
    {
     "data": {
      "text/html": [
       "<div>\n",
       "<style scoped>\n",
       "    .dataframe tbody tr th:only-of-type {\n",
       "        vertical-align: middle;\n",
       "    }\n",
       "\n",
       "    .dataframe tbody tr th {\n",
       "        vertical-align: top;\n",
       "    }\n",
       "\n",
       "    .dataframe thead th {\n",
       "        text-align: right;\n",
       "    }\n",
       "</style>\n",
       "<table border=\"1\" class=\"dataframe\">\n",
       "  <thead>\n",
       "    <tr style=\"text-align: right;\">\n",
       "      <th></th>\n",
       "      <th>crim</th>\n",
       "      <th>indus</th>\n",
       "      <th>nox</th>\n",
       "      <th>rm</th>\n",
       "      <th>age</th>\n",
       "      <th>dis</th>\n",
       "      <th>rad</th>\n",
       "      <th>tax</th>\n",
       "      <th>ptratio</th>\n",
       "      <th>black</th>\n",
       "      <th>lstat</th>\n",
       "      <th>medv</th>\n",
       "    </tr>\n",
       "  </thead>\n",
       "  <tbody>\n",
       "    <tr>\n",
       "      <td>0</td>\n",
       "      <td>0.00632</td>\n",
       "      <td>2.31</td>\n",
       "      <td>0.538</td>\n",
       "      <td>6.575</td>\n",
       "      <td>65.2</td>\n",
       "      <td>4.0900</td>\n",
       "      <td>1</td>\n",
       "      <td>296</td>\n",
       "      <td>15.3</td>\n",
       "      <td>396.90</td>\n",
       "      <td>4.98</td>\n",
       "      <td>24.0</td>\n",
       "    </tr>\n",
       "    <tr>\n",
       "      <td>1</td>\n",
       "      <td>0.02731</td>\n",
       "      <td>7.07</td>\n",
       "      <td>0.469</td>\n",
       "      <td>6.421</td>\n",
       "      <td>78.9</td>\n",
       "      <td>4.9671</td>\n",
       "      <td>2</td>\n",
       "      <td>242</td>\n",
       "      <td>17.8</td>\n",
       "      <td>396.90</td>\n",
       "      <td>9.14</td>\n",
       "      <td>21.6</td>\n",
       "    </tr>\n",
       "    <tr>\n",
       "      <td>2</td>\n",
       "      <td>0.02729</td>\n",
       "      <td>7.07</td>\n",
       "      <td>0.469</td>\n",
       "      <td>7.185</td>\n",
       "      <td>61.1</td>\n",
       "      <td>4.9671</td>\n",
       "      <td>2</td>\n",
       "      <td>242</td>\n",
       "      <td>17.8</td>\n",
       "      <td>392.83</td>\n",
       "      <td>4.03</td>\n",
       "      <td>34.7</td>\n",
       "    </tr>\n",
       "    <tr>\n",
       "      <td>3</td>\n",
       "      <td>0.03237</td>\n",
       "      <td>2.18</td>\n",
       "      <td>0.458</td>\n",
       "      <td>6.998</td>\n",
       "      <td>45.8</td>\n",
       "      <td>6.0622</td>\n",
       "      <td>3</td>\n",
       "      <td>222</td>\n",
       "      <td>18.7</td>\n",
       "      <td>394.63</td>\n",
       "      <td>2.94</td>\n",
       "      <td>33.4</td>\n",
       "    </tr>\n",
       "    <tr>\n",
       "      <td>4</td>\n",
       "      <td>0.06905</td>\n",
       "      <td>2.18</td>\n",
       "      <td>0.458</td>\n",
       "      <td>7.147</td>\n",
       "      <td>54.2</td>\n",
       "      <td>6.0622</td>\n",
       "      <td>3</td>\n",
       "      <td>222</td>\n",
       "      <td>18.7</td>\n",
       "      <td>396.90</td>\n",
       "      <td>5.33</td>\n",
       "      <td>36.2</td>\n",
       "    </tr>\n",
       "  </tbody>\n",
       "</table>\n",
       "</div>"
      ],
      "text/plain": [
       "      crim  indus    nox     rm   age     dis  rad  tax  ptratio   black  \\\n",
       "0  0.00632   2.31  0.538  6.575  65.2  4.0900    1  296     15.3  396.90   \n",
       "1  0.02731   7.07  0.469  6.421  78.9  4.9671    2  242     17.8  396.90   \n",
       "2  0.02729   7.07  0.469  7.185  61.1  4.9671    2  242     17.8  392.83   \n",
       "3  0.03237   2.18  0.458  6.998  45.8  6.0622    3  222     18.7  394.63   \n",
       "4  0.06905   2.18  0.458  7.147  54.2  6.0622    3  222     18.7  396.90   \n",
       "\n",
       "   lstat  medv  \n",
       "0   4.98  24.0  \n",
       "1   9.14  21.6  \n",
       "2   4.03  34.7  \n",
       "3   2.94  33.4  \n",
       "4   5.33  36.2  "
      ]
     },
     "execution_count": 54,
     "metadata": {},
     "output_type": "execute_result"
    }
   ],
   "source": [
    "df2.head()"
   ]
  },
  {
   "cell_type": "markdown",
   "metadata": {},
   "source": [
    "### 1.3 Multi-Linear Regression on the dataset - Statsmodel"
   ]
  },
  {
   "cell_type": "code",
   "execution_count": 55,
   "metadata": {},
   "outputs": [],
   "source": [
    "# Let's pretend we want to do linear regression on these variables.\n",
    "x = df2[['crim', 'indus', 'nox', 'rm', 'age', 'dis', 'rad', 'tax', \n",
    "          'ptratio', 'black', 'lstat']]"
   ]
  },
  {
   "cell_type": "code",
   "execution_count": 56,
   "metadata": {},
   "outputs": [],
   "source": [
    "# # price relationship.\n",
    "y = df['medv']"
   ]
  },
  {
   "cell_type": "code",
   "execution_count": 57,
   "metadata": {},
   "outputs": [
    {
     "name": "stdout",
     "output_type": "stream",
     "text": [
      "                            OLS Regression Results                            \n",
      "==============================================================================\n",
      "Dep. Variable:                   medv   R-squared:                       0.729\n",
      "Model:                            OLS   Adj. R-squared:                  0.723\n",
      "Method:                 Least Squares   F-statistic:                     121.0\n",
      "Date:                Tue, 12 Nov 2019   Prob (F-statistic):          1.87e-132\n",
      "Time:                        11:19:17   Log-Likelihood:                -1509.6\n",
      "No. Observations:                 506   AIC:                             3043.\n",
      "Df Residuals:                     494   BIC:                             3094.\n",
      "Df Model:                          11                                         \n",
      "Covariance Type:            nonrobust                                         \n",
      "==============================================================================\n",
      "                 coef    std err          t      P>|t|      [0.025      0.975]\n",
      "------------------------------------------------------------------------------\n",
      "const         37.3083      5.200      7.175      0.000      27.092      47.525\n",
      "crim          -0.1034      0.033     -3.102      0.002      -0.169      -0.038\n",
      "indus          0.0182      0.062      0.294      0.769      -0.104       0.140\n",
      "nox          -17.8292      3.890     -4.584      0.000     -25.472     -10.187\n",
      "rm             4.0744      0.421      9.686      0.000       3.248       4.901\n",
      "age           -0.0026      0.013     -0.198      0.843      -0.029       0.024\n",
      "dis           -1.2102      0.186     -6.502      0.000      -1.576      -0.844\n",
      "rad            0.3046      0.067      4.555      0.000       0.173       0.436\n",
      "tax           -0.0109      0.004     -2.939      0.003      -0.018      -0.004\n",
      "ptratio       -1.1311      0.126     -8.972      0.000      -1.379      -0.883\n",
      "black          0.0099      0.003      3.603      0.000       0.004       0.015\n",
      "lstat         -0.5251      0.052    -10.187      0.000      -0.626      -0.424\n",
      "==============================================================================\n",
      "Omnibus:                      195.481   Durbin-Watson:                   0.987\n",
      "Prob(Omnibus):                  0.000   Jarque-Bera (JB):              936.742\n",
      "Skew:                           1.657   Prob(JB):                    3.88e-204\n",
      "Kurtosis:                       8.783   Cond. No.                     1.51e+04\n",
      "==============================================================================\n",
      "\n",
      "Warnings:\n",
      "[1] Standard Errors assume that the covariance matrix of the errors is correctly specified.\n",
      "[2] The condition number is large, 1.51e+04. This might indicate that there are\n",
      "strong multicollinearity or other numerical problems.\n"
     ]
    }
   ],
   "source": [
    "# Tell statmodels to include an intercept.\n",
    "xwithc = sm.add_constant(x)\n",
    "\n",
    "# Create a model.\n",
    "msm = sm.OLS(y, xwithc)\n",
    "\n",
    "# Fit the data.\n",
    "rsm = msm.fit()\n",
    "\n",
    "# Print a summary.\n",
    "print(rsm.summary())"
   ]
  },
  {
   "cell_type": "markdown",
   "metadata": {},
   "source": [
    "### 1.3.1 HINT:\n",
    "The condition number is large, 15,100. This might indicate that there are strong multicollinearity or other numerical problems... Need to investigate this!\n",
    "In statistics, multicollinearity (also collinearity) is a phenomenon in which one predictor variable in a multiple regression model can be linearly predicted from the others with a substantial degree of accuracy. In this situation the coefficient estimates of the multiple regression may change erratically in response to small changes in the model or the data. Multicollinearity does not reduce the predictive power or reliability of the model as a whole, at least within the sample data set; it only affects calculations regarding individual predictors. That is, a multivariate regression model with collinear predictors can indicate how well the entire bundle of predictors predicts the outcome variable, but it may not give valid results about any individual predictor, or about which predictors are redundant with respect to others.[7]"
   ]
  },
  {
   "cell_type": "markdown",
   "metadata": {},
   "source": [
    "***\n",
    "### Multi-linear regression on the dataset - SKLearn.\n",
    "[https://scikit-learn.org/stable/](https://scikit-learn.org/stable/)"
   ]
  },
  {
   "cell_type": "code",
   "execution_count": 58,
   "metadata": {},
   "outputs": [],
   "source": [
    "# Create a linear regression model instance.\n",
    "m = lm.LinearRegression()"
   ]
  },
  {
   "cell_type": "markdown",
   "metadata": {},
   "source": [
    "#### 1.3.2:\n",
    "Assuming that the following Linear Relationship exists between the remaining features and the output (house prices):\n",
    "***"
   ]
  },
  {
   "cell_type": "markdown",
   "metadata": {},
   "source": [
    "$$ medv = int+ a (crim) + b (indus)  + c (nox) + d (rm) + e (age) + \n",
    "          f (dis) + g (rad) + h (tax) + i (ptratio) + j (black) + k (lstat) $$\n",
    "int = intercept\n",
    "***"
   ]
  },
  {
   "cell_type": "code",
   "execution_count": 59,
   "metadata": {},
   "outputs": [
    {
     "data": {
      "text/plain": [
       "LinearRegression(copy_X=True, fit_intercept=True, n_jobs=None, normalize=False)"
      ]
     },
     "execution_count": 59,
     "metadata": {},
     "output_type": "execute_result"
    }
   ],
   "source": [
    "# Ask our model to fit the data.\n",
    "m.fit(x, y)"
   ]
  },
  {
   "cell_type": "code",
   "execution_count": 60,
   "metadata": {},
   "outputs": [
    {
     "data": {
      "text/plain": [
       "37.30833678353185"
      ]
     },
     "execution_count": 60,
     "metadata": {},
     "output_type": "execute_result"
    }
   ],
   "source": [
    "# Here's our intercept.\n",
    "m.intercept_"
   ]
  },
  {
   "cell_type": "code",
   "execution_count": 61,
   "metadata": {},
   "outputs": [
    {
     "data": {
      "text/plain": [
       "array([-1.03402051e-01,  1.82116406e-02, -1.78291762e+01,  4.07437888e+00,\n",
       "       -2.64677545e-03, -1.21018231e+00,  3.04603188e-01, -1.09013226e-02,\n",
       "       -1.13114598e+00,  9.85349521e-03, -5.25072184e-01])"
      ]
     },
     "execution_count": 61,
     "metadata": {},
     "output_type": "execute_result"
    }
   ],
   "source": [
    "# Here's our coefficients, in order.\n",
    "m.coef_"
   ]
  },
  {
   "cell_type": "code",
   "execution_count": 62,
   "metadata": {},
   "outputs": [
    {
     "data": {
      "text/plain": [
       "0.7293219233110855"
      ]
     },
     "execution_count": 62,
     "metadata": {},
     "output_type": "execute_result"
    }
   ],
   "source": [
    "# See how good our fit is.\n",
    "m.score(x, y)"
   ]
  },
  {
   "cell_type": "markdown",
   "metadata": {},
   "source": [
    "### REMARKS:\n",
    "These results agree largely with those from statsmodel. Therefore, we can use statsmodel or sklearn for the descriptive analysis.\n",
    "Statsmodel involves calling fewer command to achieve the same outputs as sklearn\n",
    "Statsmodels fared quite well with Panda's data frames while sklearn models work with arrays (ndarray)."
   ]
  },
  {
   "cell_type": "markdown",
   "metadata": {},
   "source": [
    "### Generate some data and predict house prices based upon those with sklearn"
   ]
  },
  {
   "cell_type": "markdown",
   "metadata": {},
   "source": [
    "### 1.3.3 Histogram:\n",
    "Now let’s plot the histogram of all the available features to see the distribution"
   ]
  },
  {
   "cell_type": "code",
   "execution_count": 63,
   "metadata": {},
   "outputs": [
    {
     "data": {
      "text/plain": [
       "array([[<matplotlib.axes._subplots.AxesSubplot object at 0x1c29209bd0>,\n",
       "        <matplotlib.axes._subplots.AxesSubplot object at 0x1c27aba090>,\n",
       "        <matplotlib.axes._subplots.AxesSubplot object at 0x10c989490>],\n",
       "       [<matplotlib.axes._subplots.AxesSubplot object at 0x1c279b5710>,\n",
       "        <matplotlib.axes._subplots.AxesSubplot object at 0x1c293b5510>,\n",
       "        <matplotlib.axes._subplots.AxesSubplot object at 0x1c279e9850>],\n",
       "       [<matplotlib.axes._subplots.AxesSubplot object at 0x1c28417990>,\n",
       "        <matplotlib.axes._subplots.AxesSubplot object at 0x1c293bf1d0>,\n",
       "        <matplotlib.axes._subplots.AxesSubplot object at 0x1c293bfd10>],\n",
       "       [<matplotlib.axes._subplots.AxesSubplot object at 0x1c27d016d0>,\n",
       "        <matplotlib.axes._subplots.AxesSubplot object at 0x1c279d69d0>,\n",
       "        <matplotlib.axes._subplots.AxesSubplot object at 0x1c27c74d50>]],\n",
       "      dtype=object)"
      ]
     },
     "execution_count": 63,
     "metadata": {},
     "output_type": "execute_result"
    },
    {
     "data": {
      "image/png": "[encoded data removed]",
      "text/plain": [
       "<Figure size 1080x1080 with 12 Axes>"
      ]
     },
     "metadata": {},
     "output_type": "display_data"
    }
   ],
   "source": [
    "df2.hist(bins=50, figsize=(15, 15))"
   ]
  },
  {
   "cell_type": "markdown",
   "metadata": {},
   "source": [
    "### 1.3.4 Correlation:\n",
    "Now let’s check the correlation between all the feature variable and target variable by plotting the heatmap as shown below:"
   ]
  },
  {
   "cell_type": "code",
   "execution_count": 64,
   "metadata": {},
   "outputs": [
    {
     "data": {
      "text/plain": [
       "<matplotlib.axes._subplots.AxesSubplot at 0x1c27b789d0>"
      ]
     },
     "execution_count": 64,
     "metadata": {},
     "output_type": "execute_result"
    },
    {
     "data": {
      "image/png": "[encoded data removed]",
      "text/plain": [
       "<Figure size 842.4x595.44 with 2 Axes>"
      ]
     },
     "metadata": {},
     "output_type": "display_data"
    }
   ],
   "source": [
    "### set the size of the figure\n",
    "sns.set(rc={'figure.figsize':(11.7,8.27)})\n",
    "sns.heatmap(df2.corr().round(2), square=True, cmap='RdYlGn', annot=True)"
   ]
  },
  {
   "cell_type": "markdown",
   "metadata": {},
   "source": [
    "### Observation from Heat Map:\n",
    "- From the above correlation plot, we can see that MEDV is strongly correlated to LSTAT, RM\n",
    "- RAD and TAX are strongly correlated, so we don’t include this in our features together to avoid multicollinearity. Similar to the features DIS and AGE which have a correlation of -0.75. So we will exclude these four features from our features list.\n"
   ]
  },
  {
   "cell_type": "markdown",
   "metadata": {},
   "source": [
    "### NOTE:\n",
    "From Heat map above, we know that it will be neat to exclude the following features, in addition to the earlier ones from the regression equation:\n",
    "__(zn, chas, medv,rad, tax, dis, age)__\n",
    "As Scikit learn wants “features” and “target” variables in X and Y respectively. Here __medv__ is our target variable, we can extract features and target arrays from our dataset as shown below. From X we drop the medv column along with other features and in y we keep only medv column:"
   ]
  },
  {
   "cell_type": "code",
   "execution_count": 65,
   "metadata": {},
   "outputs": [],
   "source": [
    "xdrop = df2.drop([\"medv\",\"rad\",\"tax\",\"dis\",\"age\"], 1).values\n",
    "y3 = df2[\"medv\"].values\n"
   ]
  },
  {
   "cell_type": "code",
   "execution_count": 66,
   "metadata": {},
   "outputs": [],
   "source": [
    "# Let's re-do linear regression on these variables.\n",
    "x3 = df2[['crim', 'indus', 'nox', 'rm', 'ptratio', 'black', 'lstat']]"
   ]
  },
  {
   "cell_type": "code",
   "execution_count": 67,
   "metadata": {},
   "outputs": [
    {
     "name": "stdout",
     "output_type": "stream",
     "text": [
      "                            OLS Regression Results                            \n",
      "==============================================================================\n",
      "Dep. Variable:                      y   R-squared:                       0.690\n",
      "Model:                            OLS   Adj. R-squared:                  0.685\n",
      "Method:                 Least Squares   F-statistic:                     158.2\n",
      "Date:                Tue, 12 Nov 2019   Prob (F-statistic):          3.22e-122\n",
      "Time:                        11:19:21   Log-Likelihood:                -1544.1\n",
      "No. Observations:                 506   AIC:                             3104.\n",
      "Df Residuals:                     498   BIC:                             3138.\n",
      "Df Model:                           7                                         \n",
      "Covariance Type:            nonrobust                                         \n",
      "==============================================================================\n",
      "                 coef    std err          t      P>|t|      [0.025      0.975]\n",
      "------------------------------------------------------------------------------\n",
      "const         12.8620      4.548      2.828      0.005       3.927      21.797\n",
      "crim          -0.0399      0.032     -1.248      0.212      -0.103       0.023\n",
      "indus          0.0748      0.057      1.305      0.192      -0.038       0.187\n",
      "nox           -2.6653      3.334     -0.800      0.424      -9.215       3.885\n",
      "rm             4.8324      0.428     11.300      0.000       3.992       5.673\n",
      "ptratio       -0.9229      0.123     -7.496      0.000      -1.165      -0.681\n",
      "black          0.0098      0.003      3.422      0.001       0.004       0.015\n",
      "lstat         -0.5036      0.052     -9.751      0.000      -0.605      -0.402\n",
      "==============================================================================\n",
      "Omnibus:                      231.057   Durbin-Watson:                   0.897\n",
      "Prob(Omnibus):                  0.000   Jarque-Bera (JB):             1384.676\n",
      "Skew:                           1.923   Prob(JB):                    2.10e-301\n",
      "Kurtosis:                      10.133   Cond. No.                     7.76e+03\n",
      "==============================================================================\n",
      "\n",
      "Warnings:\n",
      "[1] Standard Errors assume that the covariance matrix of the errors is correctly specified.\n",
      "[2] The condition number is large, 7.76e+03. This might indicate that there are\n",
      "strong multicollinearity or other numerical problems.\n"
     ]
    },
    {
     "name": "stderr",
     "output_type": "stream",
     "text": [
      "/Users/francisadepoju/anaconda3/lib/python3.7/site-packages/numpy/core/fromnumeric.py:2495: FutureWarning: Method .ptp is deprecated and will be removed in a future version. Use numpy.ptp instead.\n",
      "  return ptp(axis=axis, out=out, **kwargs)\n"
     ]
    }
   ],
   "source": [
    "# # Tell statmodels to include an intercept.\n",
    "xwithc = sm.add_constant(x3)\n",
    "\n",
    "# Create a model.\n",
    "msm = sm.OLS(y3, xwithc)\n",
    "# Fit the data.\n",
    "rsm = msm.fit()\n",
    "# Print a summary.\n",
    "print(rsm.summary())"
   ]
  },
  {
   "cell_type": "markdown",
   "metadata": {},
   "source": [
    "### 1.3.4.1 HINT:\n",
    "The condition number is is still large (7760,) but better than earlier (15,100). This might indicate that there are still strong multicollinearity or other numerical problems... Need to investigate this further!"
   ]
  },
  {
   "cell_type": "markdown",
   "metadata": {},
   "source": [
    "***\n",
    "### Turning to Statistics:\n",
    "1. Features with high coefficients should be included in the regression\n",
    "2. For multi-linear regression, adjusted R-squared is one of the most common measures of goodness of fit. In other words it is a universal measure to evaluate how well linear regressions fair and compare.[7]. It is a much more appropriate measure for a multiple linear regression because it steps on the R-squared and adjusts for the number of variables included in the model. If we are using features with little or no explanatory power. The R squared would increase nonetheless.\n",
    "3. As observed, adjusted R-squared is still much lower than the R-squared this indicates that one or more of the predictors have little or no explanatory power, so more investigation is needed.\n",
    "4. Turning to the Summary report from the statsmodel, we were given the p values of the features which we later use to determine whether the independent variables were relevant for the model. If a variable has a **p value above 0.05** we can disregard it. Thus (crim, indus and nox should be dropped)\n",
    "***"
   ]
  },
  {
   "cell_type": "code",
   "execution_count": 68,
   "metadata": {},
   "outputs": [],
   "source": [
    "xdrop = df2.drop([\"medv\",\"rad\",\"tax\",\"dis\",\"age\",\"crim\",\"indus\",\"nox\"], 1).values\n",
    "y4 = df2[\"medv\"].values"
   ]
  },
  {
   "cell_type": "code",
   "execution_count": 69,
   "metadata": {},
   "outputs": [],
   "source": [
    "# Let's re-do linear regression on these variables.\n",
    "x4 = df2[[ 'rm', 'ptratio', 'black', 'lstat']]"
   ]
  },
  {
   "cell_type": "code",
   "execution_count": 70,
   "metadata": {},
   "outputs": [
    {
     "name": "stdout",
     "output_type": "stream",
     "text": [
      "                            OLS Regression Results                            \n",
      "==============================================================================\n",
      "Dep. Variable:                      y   R-squared:                       0.688\n",
      "Model:                            OLS   Adj. R-squared:                  0.685\n",
      "Method:                 Least Squares   F-statistic:                     275.9\n",
      "Date:                Tue, 12 Nov 2019   Prob (F-statistic):          4.10e-125\n",
      "Time:                        11:19:21   Log-Likelihood:                -1545.8\n",
      "No. Observations:                 506   AIC:                             3102.\n",
      "Df Residuals:                     501   BIC:                             3123.\n",
      "Df Model:                           4                                         \n",
      "Covariance Type:            nonrobust                                         \n",
      "==============================================================================\n",
      "                 coef    std err          t      P>|t|      [0.025      0.975]\n",
      "------------------------------------------------------------------------------\n",
      "const         12.0548      4.220      2.857      0.004       3.764      20.345\n",
      "rm             4.7458      0.424     11.180      0.000       3.912       5.580\n",
      "ptratio       -0.8990      0.116     -7.725      0.000      -1.128      -0.670\n",
      "black          0.0105      0.003      3.826      0.000       0.005       0.016\n",
      "lstat         -0.5125      0.044    -11.530      0.000      -0.600      -0.425\n",
      "==============================================================================\n",
      "Omnibus:                      225.637   Durbin-Watson:                   0.897\n",
      "Prob(Omnibus):                  0.000   Jarque-Bera (JB):             1341.814\n",
      "Skew:                           1.871   Prob(JB):                    4.25e-292\n",
      "Kurtosis:                      10.046   Cond. No.                     6.81e+03\n",
      "==============================================================================\n",
      "\n",
      "Warnings:\n",
      "[1] Standard Errors assume that the covariance matrix of the errors is correctly specified.\n",
      "[2] The condition number is large, 6.81e+03. This might indicate that there are\n",
      "strong multicollinearity or other numerical problems.\n"
     ]
    }
   ],
   "source": [
    "# # Tell statmodels to include an intercept.\n",
    "xwithc = sm.add_constant(x4)\n",
    "\n",
    "# Create a model.\n",
    "msm = sm.OLS(y4, xwithc)\n",
    "# Fit the data.\n",
    "rsm = msm.fit()\n",
    "# Print a summary.\n",
    "print(rsm.summary())"
   ]
  },
  {
   "cell_type": "markdown",
   "metadata": {},
   "source": [
    "***\n",
    "### 1.4 Summary Observation:\n",
    "1. The condition number is is still large (6,810) but better than earlier (7,760). This indicates that there are still strong multicollinearity or other numerical problems.\n",
    "2. Adjusted R-squared is still lower than the R-squared but better than previous prediction. This indicates that one or more of the predictors still have little or no explanatory power.\n",
    "3. There are no more features with p value > 0.05\n",
    "***"
   ]
  },
  {
   "cell_type": "code",
   "execution_count": 71,
   "metadata": {},
   "outputs": [
    {
     "data": {
      "image/png": "[encoded data removed]",
      "text/plain": [
       "<Figure size 1440x1080 with 4 Axes>"
      ]
     },
     "metadata": {},
     "output_type": "display_data"
    }
   ],
   "source": [
    "plt.figure(figsize=(20, 15))\n",
    "#features = ['crim','indus','nox','rm','ptratio','black','lstat']\n",
    "features = ['rm','ptratio','black','lstat']\n",
    "target = df2['medv']\n",
    "for i, col in enumerate(features):\n",
    "    plt.subplot(3, len(features)/2 , i+1)\n",
    "    x3 = df2[col]\n",
    "    y3 = target\n",
    "    plt.scatter(x3, y3, marker='o')\n",
    "    plt.title(col)\n",
    "    plt.xlabel(col)\n",
    "    plt.ylabel('MEDV')\n"
   ]
  },
  {
   "cell_type": "markdown",
   "metadata": {},
   "source": [
    "From the above visualization, we can conclude that **medv** and **rm** are linearly correlated and medv increase with an increase in rm which is number of rooms and looks like both are following a linear relationship. Also when population of lower status percentage __(lstat)__ increases,house price __(medv)__ or price decreases."
   ]
  },
  {
   "cell_type": "markdown",
   "metadata": {},
   "source": [
    "***\n",
    "## 2. Inference\n",
    "***\n",
    "\n",
    "Inferential statistics use a random sample of data taken from a population to describe and make inferences about the population. Inferential statistics are valuable when examination of each member of an entire population is not convenient or possible.\n",
    "Inferential statistics use statistical models to help compare the sample data to other samples or to previous research. \n",
    "https://www.statisticshowto.datasciencecentral.com/inferential-statistics/\n",
    "Most research uses statistical models called the Generalized Linear model and include Student’s t-tests, ANOVA (Analysis of Variance), regression analysis and various other models that result in straight-line (“linear”) probabilities and results. The main indexes for inferential statistics articles are:\n",
    "* Binomial Theorem\n",
    "* Hypothesis Testing\n",
    "* Normal Distributions\n",
    "* T-Distributions\n",
    "* Central Limit Theorem\n",
    "* Confidence Intervals\n",
    "* Regression Analysis / Linear Regression\n",
    "* Comparison of Means.\n"
   ]
  },
  {
   "cell_type": "code",
   "execution_count": 72,
   "metadata": {},
   "outputs": [
    {
     "name": "stdout",
     "output_type": "stream",
     "text": [
      "      crim    zn  indus  chas    nox     rm   age     dis  rad  tax  ptratio  \\\n",
      "0  0.00632  18.0   2.31     0  0.538  6.575  65.2  4.0900    1  296     15.3   \n",
      "1  0.02731   0.0   7.07     0  0.469  6.421  78.9  4.9671    2  242     17.8   \n",
      "2  0.02729   0.0   7.07     0  0.469  7.185  61.1  4.9671    2  242     17.8   \n",
      "3  0.03237   0.0   2.18     0  0.458  6.998  45.8  6.0622    3  222     18.7   \n",
      "4  0.06905   0.0   2.18     0  0.458  7.147  54.2  6.0622    3  222     18.7   \n",
      "\n",
      "    black  lstat  medv  \n",
      "0  396.90   4.98  24.0  \n",
      "1  396.90   9.14  21.6  \n",
      "2  392.83   4.03  34.7  \n",
      "3  394.63   2.94  33.4  \n",
      "4  396.90   5.33  36.2  \n"
     ]
    }
   ],
   "source": [
    "# Let's make a copy of the dataset and then separate the chars column to show houses that are along the Charles river\n",
    "# (chas = 1) and those that are not (chas = 0);\n",
    "df3 = df.copy(deep=True)\n",
    "print(df3.head())"
   ]
  },
  {
   "cell_type": "code",
   "execution_count": 73,
   "metadata": {},
   "outputs": [],
   "source": [
    "df3_0 = df[df3['chas'] == 0]\n",
    "df3_1 = df[df3['chas'] == 1]\n",
    "n_0 = df3_0['chas'].count()\n",
    "n_1 = df3_1['chas'].count()"
   ]
  },
  {
   "cell_type": "code",
   "execution_count": 74,
   "metadata": {},
   "outputs": [
    {
     "name": "stdout",
     "output_type": "stream",
     "text": [
      "471\n",
      "35\n"
     ]
    }
   ],
   "source": [
    "print(n_0)\n",
    "print(n_1)\n"
   ]
  },
  {
   "cell_type": "markdown",
   "metadata": {},
   "source": [
    "### NOTE:\n",
    "Above count shows there are **35** houses bounds the Charles river while **471** houses do not.\n",
    "To make a reasonable inference with t-test or Anova, a random sample of 30 houses are selected from each group as follows:"
   ]
  },
  {
   "cell_type": "code",
   "execution_count": 75,
   "metadata": {},
   "outputs": [
    {
     "name": "stdout",
     "output_type": "stream",
     "text": [
      "Bounded houses   = 30\n",
      "Unbounded houses = 30\n",
      "mean of medv for Bounded houses   = 22.07\n",
      "mean of medv for Unbounded houses = 27.59\n"
     ]
    }
   ],
   "source": [
    "# given data frame df3\n",
    "# create random index of 30 out of the lot\n",
    "rindex_0 =  np.array(sample(range(len(df3_0)), 30))\n",
    "rindex_1 =  np.array(sample(range(len(df3_1)), 30))\n",
    "# print(rindex_0)\n",
    "# print(rindex_1)\n",
    "# get 30 random rows from each of the dataframes and then print them out (using iloc for positional indexing)\n",
    "dfr_0 = df3_0.iloc[rindex_0]\n",
    "dfr_1 = df3_1.iloc[rindex_1]\n",
    "# print(dfr_0)\n",
    "# print(dfr_1)\n",
    "\n",
    "# Count the samples.\n",
    "nA = dfr_0['chas'].count()\n",
    "nB = dfr_1['chas'].count()\n",
    "print(f'Bounded houses   = {nA}')\n",
    "print(f'Unbounded houses = {nB}')\n",
    "\n",
    "# Calculate the means.\n",
    "mA = dfr_0['medv'].sum() / nA\n",
    "mB = dfr_1['medv'].sum() / nB\n",
    "\n",
    "# Print to 2 decimal places\n",
    "print(f\"mean of medv for Bounded houses   = {mA:.2f}\")\n",
    "print(f\"mean of medv for Unbounded houses = {mB:.2f}\")"
   ]
  },
  {
   "cell_type": "code",
   "execution_count": 76,
   "metadata": {},
   "outputs": [
    {
     "name": "stdout",
     "output_type": "stream",
     "text": [
      "[22.08911452 22.06796831 21.96025775 22.1114058  22.03330448 22.04664326\n",
      " 21.98505474 22.06717985 21.98113052 22.07526372 22.02069036 22.00151604\n",
      " 22.31264031 21.94320839 21.98692956 22.2262664  22.12368352 22.05367547\n",
      " 22.07516092 22.20319347 21.9779265  22.13186822 22.13759706 22.04097344\n",
      " 22.18457853 21.97613392 22.05068446 22.23368409 21.90475369 22.24597424]\n",
      "[27.50924273 27.64122824 27.5604445  27.62071924 27.70016416 27.6548648\n",
      " 27.53136709 27.54139099 27.5728033  27.53785715 27.51386383 27.48212548\n",
      " 27.68488473 27.61104148 27.75256982 27.69496973 27.67893342 27.56683875\n",
      " 27.6134565  27.549806   27.61756445 27.61519157 27.63889762 27.68265736\n",
      " 27.49471446 27.45292653 27.48201466 27.46341082 27.46295583 27.54201217]\n"
     ]
    }
   ],
   "source": [
    "# Set parameters for two populations.\n",
    "popA = {'m': mA, 's': 0.10}\n",
    "popB = {'m': mB, 's': 0.10}\n",
    "\n",
    "# # Create two samples, one from each population.\n",
    "# # Create two samples, one from each population.\n",
    "# sampA = np.random.normal(popA['m'], popA['s'], 100)\n",
    "\n",
    "sampA = np.random.normal(popA['m'], popA['s'], 30)\n",
    "sampB = np.random.normal(popB['m'], popB['s'], 30)\n",
    "print(sampA)\n",
    "print(sampB)"
   ]
  },
  {
   "cell_type": "code",
   "execution_count": 77,
   "metadata": {},
   "outputs": [
    {
     "data": {
      "image/png": "[encoded data removed]",
      "text/plain": [
       "<Figure size 842.4x595.44 with 1 Axes>"
      ]
     },
     "metadata": {},
     "output_type": "display_data"
    }
   ],
   "source": [
    "# Plot histograms of the two samples.\n",
    "plt.hist(sampA, density=True, color='r', alpha=0.25, label=\"Sample A\")\n",
    "plt.hist(sampB, density=True, color='k', alpha=0.25, label=\"Sample B\")\n",
    "\n",
    "# Display a legend.\n",
    "plt.legend()\n",
    "plt.show()"
   ]
  },
  {
   "cell_type": "code",
   "execution_count": 78,
   "metadata": {},
   "outputs": [
    {
     "name": "stdout",
     "output_type": "stream",
     "text": [
      "[22.08911452 22.06796831 21.96025775 22.1114058  22.03330448 22.04664326\n",
      " 21.98505474 22.06717985 21.98113052 22.07526372 22.02069036 22.00151604\n",
      " 22.31264031 21.94320839 21.98692956 22.2262664  22.12368352 22.05367547\n",
      " 22.07516092 22.20319347 21.9779265  22.13186822 22.13759706 22.04097344\n",
      " 22.18457853 21.97613392 22.05068446 22.23368409 21.90475369 22.24597424]\n",
      "[27.50924273 27.64122824 27.5604445  27.62071924 27.70016416 27.6548648\n",
      " 27.53136709 27.54139099 27.5728033  27.53785715 27.51386383 27.48212548\n",
      " 27.68488473 27.61104148 27.75256982 27.69496973 27.67893342 27.56683875\n",
      " 27.6134565  27.549806   27.61756445 27.61519157 27.63889762 27.68265736\n",
      " 27.49471446 27.45292653 27.48201466 27.46341082 27.46295583 27.54201217]\n"
     ]
    }
   ],
   "source": [
    "# with equal length dataset taking 30 rows at random.==> pValue too small, < 0.05 \n",
    "# we therefore reject the null hypothesis. Mean of house prices equal.\n",
    "# print(dfr_0['medv'])\n",
    "# print(dfr_0['medv'].count())\n",
    "\n",
    "# print(dfr_1['medv'])\n",
    "# print(dfr_1['medv'].count())\n",
    "# T test\n",
    "# print(stats.ttest_ind(dfr_0['medv'], dfr_1['medv']))\n",
    "print(sampA)\n",
    "print(sampB)"
   ]
  },
  {
   "cell_type": "code",
   "execution_count": 79,
   "metadata": {},
   "outputs": [
    {
     "data": {
      "text/plain": [
       "Ttest_indResult(statistic=-233.1341644825367, pvalue=6.65907073910013e-88)"
      ]
     },
     "execution_count": 79,
     "metadata": {},
     "output_type": "execute_result"
    }
   ],
   "source": [
    "stats.ttest_ind(sampA, sampB)"
   ]
  },
  {
   "cell_type": "code",
   "execution_count": 80,
   "metadata": {},
   "outputs": [
    {
     "data": {
      "text/plain": [
       "F_onewayResult(statistic=54351.53864897089, pvalue=6.659070739098569e-88)"
      ]
     },
     "execution_count": 80,
     "metadata": {},
     "output_type": "execute_result"
    }
   ],
   "source": [
    "# Anova... gives the same result as the t-test!\n",
    "# stats.f_oneway(dfr_0['medv'], dfr_1['medv'])\n",
    "stats.f_oneway(sampA, sampB)"
   ]
  },
  {
   "cell_type": "markdown",
   "metadata": {},
   "source": [
    "***\n",
    "\n",
    "### 2.1 Calculating the t-statistic\n",
    "\n",
    "From the WikiPedia pages for [Student's t-test](https://en.wikipedia.org/wiki/Student%27s_t-test#Equal_or_unequal_sample_sizes,_equal_variance) and [Variance](https://en.wikipedia.org/wiki/Variance#Sample_variance).\n",
    "\n",
    "Note that we are using the calculations for two samples, with equal variances, and possibly different sample sizes. Because the ratio of [0:1] is  471:35, we decided to use equal sample size of 30.\n",
    "\n",
    "$$ {\\displaystyle t={\\frac {{\\bar {X}}_{1}-{\\bar {X}}_{2}}{s_{p}\\cdot {\\sqrt {{\\frac {1}{n_{1}}}+{\\frac {1}{n_{2}}}}}}}} $$\n",
    "\n",
    "$$ {\\displaystyle s_{p}={\\sqrt {\\frac {\\left(n_{1}-1\\right)s_{X_{1}}^{2}+\\left(n_{2}-1\\right)s_{X_{2}}^{2}}{n_{1}+n_{2}-2}}}} $$\n",
    "\n",
    "$$ {\\displaystyle s^{2}={\\frac {1}{n-1}}\\sum _{i=1}^{n}\\left(Y_{i}-{\\overline {Y}}\\right)^{2}} $$"
   ]
  },
  {
   "cell_type": "code",
   "execution_count": 81,
   "metadata": {},
   "outputs": [
    {
     "name": "stdout",
     "output_type": "stream",
     "text": [
      "30.0\n",
      "30.0\n",
      "Mean of sample A:        22.0749\n",
      "Mean of sample B:        27.5824\n",
      "Size of sample A:        30.0000\n",
      "Size of sample B:        30.0000\n",
      "Variance of sample A:     0.0100\n",
      "Variance of sample B:     0.0067\n",
      "Pooled std dev:           0.0915\n",
      "t-statistic:            -233.1342\n"
     ]
    }
   ],
   "source": [
    "# # Count the samples.\n",
    "nA = float(len(sampA))\n",
    "nB = float(len(sampB))\n",
    "print(nA)\n",
    "print(nB)\n",
    "# # Calculate the means.\n",
    "mA = sampA.sum() / nA\n",
    "mB = sampB.sum() / nB\n",
    "\n",
    "# Sample variances.\n",
    "varA = ((sampA - mA)**2).sum() / (nA - 1.0)\n",
    "varB = ((sampB - mB)**2).sum() / (nB - 1.0)\n",
    "\n",
    "# Pooled standard deviation.\n",
    "sp = np.sqrt(((nA - 1.0) * varA + (nB - 1.0) * varB) / (nA + nB - 2.0))\n",
    "\n",
    "# t-statistic\n",
    "t = (mA - mB) / (sp * np.sqrt((1.0 / nA) + (1.0 / nB)))\n",
    "\n",
    "print(f\"Mean of sample A:       {mA:8.4f}\")\n",
    "print(f\"Mean of sample B:       {mB:8.4f}\")\n",
    "print(f\"Size of sample A:       {nA:8.4f}\")\n",
    "print(f\"Size of sample B:       {nB:8.4f}\")\n",
    "print(f\"Variance of sample A:   {varA:8.4f}\")\n",
    "print(f\"Variance of sample B:   {varB:8.4f}\")\n",
    "print(f\"Pooled std dev:         {sp:8.4f}\")\n",
    "print(f\"t-statistic:            {t:8.4f}\")"
   ]
  },
  {
   "cell_type": "markdown",
   "metadata": {},
   "source": [
    "### Note that the t-statistics is same as t-test from earlier..."
   ]
  },
  {
   "cell_type": "markdown",
   "metadata": {},
   "source": [
    "#### 2.1.1 Critical values\n",
    "\n",
    "For a two-tail test (e.g. $H_0$: the means are equal) we reject the null hypothesis $H_0$ if the value of the t-statistic from the samples is further away from zero than the t-statistic at the ($0.5 / 2.0 =$) $0.025$ level."
   ]
  },
  {
   "cell_type": "code",
   "execution_count": 82,
   "metadata": {},
   "outputs": [
    {
     "name": "stdout",
     "output_type": "stream",
     "text": [
      "2.0017174830120923\n"
     ]
    },
    {
     "data": {
      "image/png": "[encoded data removed]",
      "text/plain": [
       "<Figure size 842.4x595.44 with 1 Axes>"
      ]
     },
     "metadata": {},
     "output_type": "display_data"
    }
   ],
   "source": [
    "# x values for plotting.\n",
    "x = np.linspace(-5.0, 5.0, 1000)\n",
    "\n",
    "# The probability density functions (PDFs) for the t distribution.\n",
    "# The number of degrees of freedom is (nA + nB - 2).\n",
    "pdf = stats.t.pdf(x, (nA + nB - 2.0))\n",
    "\n",
    "# Create a dataframe from x and pdf.\n",
    "df = pd.DataFrame({'x': x, 'y': pdf})\n",
    "\n",
    "# Plot the overall distribution.\n",
    "plt.fill_between(df['x'], df['y'], color='g', alpha=0.25)\n",
    "\n",
    "# Plot the values more extreme than our |t|.\n",
    "crit = np.abs(stats.t.ppf(0.975, nA + nB - 2.0))\n",
    "tail1 = df[df['x'] >=  crit]\n",
    "tail2 = df[df['x'] <= -crit]\n",
    "plt.fill_between(tail1['x'], tail1['y'], color='b', alpha=0.25)\n",
    "plt.fill_between(tail2['x'], tail2['y'], color='b', alpha=0.25)\n",
    "\n",
    "print(crit)\n",
    "\n",
    "plt.show()"
   ]
  },
  {
   "cell_type": "markdown",
   "metadata": {},
   "source": [
    "t-statistics is much lesser than the critical value therefore __we reject__ the null hypothesis. The mean of house prices - those along & those not along the river are certainly different. "
   ]
  },
  {
   "cell_type": "markdown",
   "metadata": {},
   "source": [
    "***\n",
    "## 3. Prediction\n",
    "***"
   ]
  },
  {
   "cell_type": "code",
   "execution_count": null,
   "metadata": {},
   "outputs": [],
   "source": []
  },
  {
   "cell_type": "code",
   "execution_count": null,
   "metadata": {},
   "outputs": [],
   "source": []
  },
  {
   "cell_type": "code",
   "execution_count": null,
   "metadata": {},
   "outputs": [],
   "source": []
  },
  {
   "cell_type": "code",
   "execution_count": null,
   "metadata": {},
   "outputs": [],
   "source": []
  },
  {
   "cell_type": "markdown",
   "metadata": {},
   "source": [
    "NOTE: Kaggle account opened & housing.csv dataset downloaded - Today 3rd October, 2019\n",
    "# References:\n",
    "#### [1] Python Software Foundation: https://www.python.org/\n",
    "#### [2] SciPy developers: https://www.scipy.org/\n",
    "#### [3] Keras: https://keras.io/\n",
    "#### [4] Project Jupyter: https://jupyter.org/\n",
    "#### [5] Housing Values in Suburbs of Boston: https://www.kaggle.com/c/boston-housing.\n",
    "#### [6] Online Resources: https://www.weirdgeek.com/2018/12/linear-regression-to-boston-housing-dataset/ \n",
    "#### [7] Wiki: https://en.wikipedia.org/wiki/Multicollinearity"
   ]
  },
  {
   "cell_type": "code",
   "execution_count": null,
   "metadata": {},
   "outputs": [],
   "source": []
  },
  {
   "cell_type": "code",
   "execution_count": null,
   "metadata": {},
   "outputs": [],
   "source": []
  }
 ],
 "metadata": {
  "kernelspec": {
   "display_name": "Python 3",
   "language": "python",
   "name": "python3"
  },
  "language_info": {
   "codemirror_mode": {
    "name": "ipython",
    "version": 3
   },
   "file_extension": ".py",
   "mimetype": "text/x-python",
   "name": "python",
   "nbconvert_exporter": "python",
   "pygments_lexer": "ipython3",
   "version": "3.7.4"
  }
 },
 "nbformat": 4,
 "nbformat_minor": 4
}
