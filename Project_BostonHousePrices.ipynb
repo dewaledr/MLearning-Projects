{
 "cells": [
  {
   "cell_type": "markdown",
   "metadata": {},
   "source": [
    "# Machine Learning and Statistics Project, November 2019\n",
    "***\n",
    "\n",
    "## **Author:** Francis Adepoju\n",
    "***\n",
    "## __Project Scope:__ \n",
    "1. Using Descriptive Statistics and Plots to Describe the Boston House Prices Dataset, \n",
    "2. Using Inferential Statistics to Analyse if there is any Significant Difference in Median House Prices between Houses that are along the Charles River and those that are not. \n",
    "3. Using Keras to create a Neural Network that can Predict the Median House Price based on other variables in the Dataset.\n",
    "\n",
    "***\n",
    "\n",
    "\n",
    "## Summary of the dataset:\n",
    "#### The Boston data frame has 506 rows and 14 columns. This data frame contains the following columns:\n",
    "1. __crim__   - per capita crime rate by town.\n",
    "2. __zn__     - proportion of residential land zoned for lots over 25,000 sq.ft.\n",
    "3. __indus__  - proportion of non-retail business acres per town.\n",
    "4. __chas__   - Charles River dummy variable (= 1 if tract bounds river; 0 otherwise).\n",
    "5. __nox__    - nitrogen oxides concentration (parts per 10 million).\n",
    "6. __rm__     - average number of rooms per dwelling.\n",
    "7. __age__    - proportion of owner-occupied units built prior to 1940.\n",
    "8. __dis__    - weighted mean of distances to five Boston employment centres.\n",
    "9. __rad__    - index of accessibility to radial highways.\n",
    "10. __tax__    - full-value property-tax rate per **`$10,000`**.\n",
    "11. __ptratio__  - pupil-teacher ratio by town.\n",
    "12. __black__  - `1000 * (Bk - 0.63)^2` where Bk is the proportion of blacks by town.\n",
    "13. __lstat__  - lower status of the population (percent).\n",
    "14. __medv__  - median value of owner-occupied homes in **`$1,000`**.\n",
    "\n",
    "#### NOTE: \n",
    "1. The __medv__ variable is the target (y) variable. The prices of the house indicated by the __medv__ variable is therefore our target variable and the remaining 13 are the feature variables. The effect of the these 13 variables on house prices are to be investigated and predicted.\n",
    "2. In this project, we use the Python[1], Scipy[2], Tensorflow, Keras[3], and Jupyter[4] packages to produce a comprehensive description, inference and prediction of house prices using the Boston house prices' dataset [5] \n",
    "\n",
    "***\n",
    "## 1. Description\n",
    "***"
   ]
  },
  {
   "cell_type": "markdown",
   "metadata": {},
   "source": [
    "#### Import necessary Libraries"
   ]
  },
  {
   "cell_type": "code",
   "execution_count": 2,
   "metadata": {},
   "outputs": [],
   "source": [
    "# Library for generating random variables.\n",
    "import numpy as np\n",
    "\n",
    "# Library for handling data.\n",
    "import pandas as pd\n",
    "\n",
    "# random number gen\n",
    "from random import sample\n",
    "from numpy.random import randn\n",
    "\n",
    "# Library for plotting.\n",
    "import matplotlib.pyplot as plt\n",
    "import seaborn as sns\n",
    "\n",
    "# Library for t-tests and ANOVA.\n",
    "# And for Machine Learning\n",
    "import scipy.stats as stats\n",
    "import statsmodels.api as sm\n",
    "import statsmodels.formula.api as smf\n",
    "import scipy.linalg as sl\n",
    "import sklearn.linear_model as lm\n",
    "\n",
    "# For Machine Learning.\n",
    "import keras as kr\n",
    "from tensorflow.keras.models import Sequential\n",
    "from tensorflow.keras.layers import Dense\n",
    "\n",
    "# Data Scaler\n",
    "from sklearn.preprocessing import MinMaxScaler\n",
    "from sklearn.model_selection import train_test_split\n",
    "\n",
    "# Error Library\n",
    "from sklearn.metrics import mean_absolute_error, mean_squared_error\n",
    "\n",
    "# For whitening.\n",
    "import sklearn.decomposition as dec"
   ]
  },
  {
   "cell_type": "code",
   "execution_count": 3,
   "metadata": {},
   "outputs": [],
   "source": [
    "# Make the plots bigger.\n",
    "plt.rcParams['figure.figsize'] = (20.0, 10.0)"
   ]
  },
  {
   "cell_type": "markdown",
   "metadata": {},
   "source": [
    "### 1.1 Load Dataset from my gitHub repository and gain some insight about the dataset"
   ]
  },
  {
   "cell_type": "code",
   "execution_count": 4,
   "metadata": {},
   "outputs": [
    {
     "data": {
      "text/html": [
       "<div>\n",
       "<style scoped>\n",
       "    .dataframe tbody tr th:only-of-type {\n",
       "        vertical-align: middle;\n",
       "    }\n",
       "\n",
       "    .dataframe tbody tr th {\n",
       "        vertical-align: top;\n",
       "    }\n",
       "\n",
       "    .dataframe thead th {\n",
       "        text-align: right;\n",
       "    }\n",
       "</style>\n",
       "<table border=\"1\" class=\"dataframe\">\n",
       "  <thead>\n",
       "    <tr style=\"text-align: right;\">\n",
       "      <th></th>\n",
       "      <th>crim</th>\n",
       "      <th>zn</th>\n",
       "      <th>indus</th>\n",
       "      <th>chas</th>\n",
       "      <th>nox</th>\n",
       "      <th>rm</th>\n",
       "      <th>age</th>\n",
       "      <th>dis</th>\n",
       "      <th>rad</th>\n",
       "      <th>tax</th>\n",
       "      <th>ptratio</th>\n",
       "      <th>black</th>\n",
       "      <th>lstat</th>\n",
       "      <th>medv</th>\n",
       "    </tr>\n",
       "  </thead>\n",
       "  <tbody>\n",
       "    <tr>\n",
       "      <td>0</td>\n",
       "      <td>0.00632</td>\n",
       "      <td>18.0</td>\n",
       "      <td>2.31</td>\n",
       "      <td>0</td>\n",
       "      <td>0.538</td>\n",
       "      <td>6.575</td>\n",
       "      <td>65.2</td>\n",
       "      <td>4.0900</td>\n",
       "      <td>1</td>\n",
       "      <td>296</td>\n",
       "      <td>15.3</td>\n",
       "      <td>396.90</td>\n",
       "      <td>4.98</td>\n",
       "      <td>24.0</td>\n",
       "    </tr>\n",
       "    <tr>\n",
       "      <td>1</td>\n",
       "      <td>0.02731</td>\n",
       "      <td>0.0</td>\n",
       "      <td>7.07</td>\n",
       "      <td>0</td>\n",
       "      <td>0.469</td>\n",
       "      <td>6.421</td>\n",
       "      <td>78.9</td>\n",
       "      <td>4.9671</td>\n",
       "      <td>2</td>\n",
       "      <td>242</td>\n",
       "      <td>17.8</td>\n",
       "      <td>396.90</td>\n",
       "      <td>9.14</td>\n",
       "      <td>21.6</td>\n",
       "    </tr>\n",
       "    <tr>\n",
       "      <td>2</td>\n",
       "      <td>0.02729</td>\n",
       "      <td>0.0</td>\n",
       "      <td>7.07</td>\n",
       "      <td>0</td>\n",
       "      <td>0.469</td>\n",
       "      <td>7.185</td>\n",
       "      <td>61.1</td>\n",
       "      <td>4.9671</td>\n",
       "      <td>2</td>\n",
       "      <td>242</td>\n",
       "      <td>17.8</td>\n",
       "      <td>392.83</td>\n",
       "      <td>4.03</td>\n",
       "      <td>34.7</td>\n",
       "    </tr>\n",
       "    <tr>\n",
       "      <td>3</td>\n",
       "      <td>0.03237</td>\n",
       "      <td>0.0</td>\n",
       "      <td>2.18</td>\n",
       "      <td>0</td>\n",
       "      <td>0.458</td>\n",
       "      <td>6.998</td>\n",
       "      <td>45.8</td>\n",
       "      <td>6.0622</td>\n",
       "      <td>3</td>\n",
       "      <td>222</td>\n",
       "      <td>18.7</td>\n",
       "      <td>394.63</td>\n",
       "      <td>2.94</td>\n",
       "      <td>33.4</td>\n",
       "    </tr>\n",
       "    <tr>\n",
       "      <td>4</td>\n",
       "      <td>0.06905</td>\n",
       "      <td>0.0</td>\n",
       "      <td>2.18</td>\n",
       "      <td>0</td>\n",
       "      <td>0.458</td>\n",
       "      <td>7.147</td>\n",
       "      <td>54.2</td>\n",
       "      <td>6.0622</td>\n",
       "      <td>3</td>\n",
       "      <td>222</td>\n",
       "      <td>18.7</td>\n",
       "      <td>396.90</td>\n",
       "      <td>5.33</td>\n",
       "      <td>36.2</td>\n",
       "    </tr>\n",
       "  </tbody>\n",
       "</table>\n",
       "</div>"
      ],
      "text/plain": [
       "      crim    zn  indus  chas    nox     rm   age     dis  rad  tax  ptratio  \\\n",
       "0  0.00632  18.0   2.31     0  0.538  6.575  65.2  4.0900    1  296     15.3   \n",
       "1  0.02731   0.0   7.07     0  0.469  6.421  78.9  4.9671    2  242     17.8   \n",
       "2  0.02729   0.0   7.07     0  0.469  7.185  61.1  4.9671    2  242     17.8   \n",
       "3  0.03237   0.0   2.18     0  0.458  6.998  45.8  6.0622    3  222     18.7   \n",
       "4  0.06905   0.0   2.18     0  0.458  7.147  54.2  6.0622    3  222     18.7   \n",
       "\n",
       "    black  lstat  medv  \n",
       "0  396.90   4.98  24.0  \n",
       "1  396.90   9.14  21.6  \n",
       "2  392.83   4.03  34.7  \n",
       "3  394.63   2.94  33.4  \n",
       "4  396.90   5.33  36.2  "
      ]
     },
     "execution_count": 4,
     "metadata": {},
     "output_type": "execute_result"
    }
   ],
   "source": [
    "# Let's use pandas to read this csv file and organise the housing data.\n",
    "# Load the boston-housing dataset... This is the URL from \"raw\" version of housing.csv file from my github\n",
    "#df = pd.read_csv(\"housingCSV2.csv\")\n",
    "df = pd.read_csv(\"https://raw.githubusercontent.com/dewaledr/MLearning-Projects/master/housing.csv\")\n",
    "df.head()"
   ]
  },
  {
   "cell_type": "code",
   "execution_count": 5,
   "metadata": {},
   "outputs": [
    {
     "data": {
      "text/html": [
       "<div>\n",
       "<style scoped>\n",
       "    .dataframe tbody tr th:only-of-type {\n",
       "        vertical-align: middle;\n",
       "    }\n",
       "\n",
       "    .dataframe tbody tr th {\n",
       "        vertical-align: top;\n",
       "    }\n",
       "\n",
       "    .dataframe thead th {\n",
       "        text-align: right;\n",
       "    }\n",
       "</style>\n",
       "<table border=\"1\" class=\"dataframe\">\n",
       "  <thead>\n",
       "    <tr style=\"text-align: right;\">\n",
       "      <th></th>\n",
       "      <th>crim</th>\n",
       "      <th>zn</th>\n",
       "      <th>indus</th>\n",
       "      <th>chas</th>\n",
       "      <th>nox</th>\n",
       "      <th>rm</th>\n",
       "      <th>age</th>\n",
       "      <th>dis</th>\n",
       "      <th>rad</th>\n",
       "      <th>tax</th>\n",
       "      <th>ptratio</th>\n",
       "      <th>black</th>\n",
       "      <th>lstat</th>\n",
       "      <th>medv</th>\n",
       "    </tr>\n",
       "  </thead>\n",
       "  <tbody>\n",
       "    <tr>\n",
       "      <td>501</td>\n",
       "      <td>0.06263</td>\n",
       "      <td>0.0</td>\n",
       "      <td>11.93</td>\n",
       "      <td>0</td>\n",
       "      <td>0.573</td>\n",
       "      <td>6.593</td>\n",
       "      <td>69.1</td>\n",
       "      <td>2.4786</td>\n",
       "      <td>1</td>\n",
       "      <td>273</td>\n",
       "      <td>21.0</td>\n",
       "      <td>391.99</td>\n",
       "      <td>9.67</td>\n",
       "      <td>22.4</td>\n",
       "    </tr>\n",
       "    <tr>\n",
       "      <td>502</td>\n",
       "      <td>0.04527</td>\n",
       "      <td>0.0</td>\n",
       "      <td>11.93</td>\n",
       "      <td>0</td>\n",
       "      <td>0.573</td>\n",
       "      <td>6.120</td>\n",
       "      <td>76.7</td>\n",
       "      <td>2.2875</td>\n",
       "      <td>1</td>\n",
       "      <td>273</td>\n",
       "      <td>21.0</td>\n",
       "      <td>396.90</td>\n",
       "      <td>9.08</td>\n",
       "      <td>20.6</td>\n",
       "    </tr>\n",
       "    <tr>\n",
       "      <td>503</td>\n",
       "      <td>0.06076</td>\n",
       "      <td>0.0</td>\n",
       "      <td>11.93</td>\n",
       "      <td>0</td>\n",
       "      <td>0.573</td>\n",
       "      <td>6.976</td>\n",
       "      <td>91.0</td>\n",
       "      <td>2.1675</td>\n",
       "      <td>1</td>\n",
       "      <td>273</td>\n",
       "      <td>21.0</td>\n",
       "      <td>396.90</td>\n",
       "      <td>5.64</td>\n",
       "      <td>23.9</td>\n",
       "    </tr>\n",
       "    <tr>\n",
       "      <td>504</td>\n",
       "      <td>0.10959</td>\n",
       "      <td>0.0</td>\n",
       "      <td>11.93</td>\n",
       "      <td>0</td>\n",
       "      <td>0.573</td>\n",
       "      <td>6.794</td>\n",
       "      <td>89.3</td>\n",
       "      <td>2.3889</td>\n",
       "      <td>1</td>\n",
       "      <td>273</td>\n",
       "      <td>21.0</td>\n",
       "      <td>393.45</td>\n",
       "      <td>6.48</td>\n",
       "      <td>22.0</td>\n",
       "    </tr>\n",
       "    <tr>\n",
       "      <td>505</td>\n",
       "      <td>0.04741</td>\n",
       "      <td>0.0</td>\n",
       "      <td>11.93</td>\n",
       "      <td>0</td>\n",
       "      <td>0.573</td>\n",
       "      <td>6.030</td>\n",
       "      <td>80.8</td>\n",
       "      <td>2.5050</td>\n",
       "      <td>1</td>\n",
       "      <td>273</td>\n",
       "      <td>21.0</td>\n",
       "      <td>396.90</td>\n",
       "      <td>7.88</td>\n",
       "      <td>11.9</td>\n",
       "    </tr>\n",
       "  </tbody>\n",
       "</table>\n",
       "</div>"
      ],
      "text/plain": [
       "        crim   zn  indus  chas    nox     rm   age     dis  rad  tax  ptratio  \\\n",
       "501  0.06263  0.0  11.93     0  0.573  6.593  69.1  2.4786    1  273     21.0   \n",
       "502  0.04527  0.0  11.93     0  0.573  6.120  76.7  2.2875    1  273     21.0   \n",
       "503  0.06076  0.0  11.93     0  0.573  6.976  91.0  2.1675    1  273     21.0   \n",
       "504  0.10959  0.0  11.93     0  0.573  6.794  89.3  2.3889    1  273     21.0   \n",
       "505  0.04741  0.0  11.93     0  0.573  6.030  80.8  2.5050    1  273     21.0   \n",
       "\n",
       "      black  lstat  medv  \n",
       "501  391.99   9.67  22.4  \n",
       "502  396.90   9.08  20.6  \n",
       "503  396.90   5.64  23.9  \n",
       "504  393.45   6.48  22.0  \n",
       "505  396.90   7.88  11.9  "
      ]
     },
     "execution_count": 5,
     "metadata": {},
     "output_type": "execute_result"
    }
   ],
   "source": [
    "df.tail()"
   ]
  },
  {
   "cell_type": "markdown",
   "metadata": {},
   "source": [
    "#### To get some basic statistics about our data like mean, median, count etc. we use __.describe()__ method:"
   ]
  },
  {
   "cell_type": "code",
   "execution_count": 6,
   "metadata": {},
   "outputs": [
    {
     "data": {
      "text/html": [
       "<div>\n",
       "<style scoped>\n",
       "    .dataframe tbody tr th:only-of-type {\n",
       "        vertical-align: middle;\n",
       "    }\n",
       "\n",
       "    .dataframe tbody tr th {\n",
       "        vertical-align: top;\n",
       "    }\n",
       "\n",
       "    .dataframe thead th {\n",
       "        text-align: right;\n",
       "    }\n",
       "</style>\n",
       "<table border=\"1\" class=\"dataframe\">\n",
       "  <thead>\n",
       "    <tr style=\"text-align: right;\">\n",
       "      <th></th>\n",
       "      <th>count</th>\n",
       "      <th>mean</th>\n",
       "      <th>std</th>\n",
       "      <th>min</th>\n",
       "      <th>25%</th>\n",
       "      <th>50%</th>\n",
       "      <th>75%</th>\n",
       "      <th>max</th>\n",
       "    </tr>\n",
       "  </thead>\n",
       "  <tbody>\n",
       "    <tr>\n",
       "      <td>crim</td>\n",
       "      <td>506.0</td>\n",
       "      <td>3.613524</td>\n",
       "      <td>8.601545</td>\n",
       "      <td>0.00632</td>\n",
       "      <td>0.082045</td>\n",
       "      <td>0.25651</td>\n",
       "      <td>3.677082</td>\n",
       "      <td>88.9762</td>\n",
       "    </tr>\n",
       "    <tr>\n",
       "      <td>zn</td>\n",
       "      <td>506.0</td>\n",
       "      <td>11.363636</td>\n",
       "      <td>23.322453</td>\n",
       "      <td>0.00000</td>\n",
       "      <td>0.000000</td>\n",
       "      <td>0.00000</td>\n",
       "      <td>12.500000</td>\n",
       "      <td>100.0000</td>\n",
       "    </tr>\n",
       "    <tr>\n",
       "      <td>indus</td>\n",
       "      <td>506.0</td>\n",
       "      <td>11.136779</td>\n",
       "      <td>6.860353</td>\n",
       "      <td>0.46000</td>\n",
       "      <td>5.190000</td>\n",
       "      <td>9.69000</td>\n",
       "      <td>18.100000</td>\n",
       "      <td>27.7400</td>\n",
       "    </tr>\n",
       "    <tr>\n",
       "      <td>chas</td>\n",
       "      <td>506.0</td>\n",
       "      <td>0.069170</td>\n",
       "      <td>0.253994</td>\n",
       "      <td>0.00000</td>\n",
       "      <td>0.000000</td>\n",
       "      <td>0.00000</td>\n",
       "      <td>0.000000</td>\n",
       "      <td>1.0000</td>\n",
       "    </tr>\n",
       "    <tr>\n",
       "      <td>nox</td>\n",
       "      <td>506.0</td>\n",
       "      <td>0.554695</td>\n",
       "      <td>0.115878</td>\n",
       "      <td>0.38500</td>\n",
       "      <td>0.449000</td>\n",
       "      <td>0.53800</td>\n",
       "      <td>0.624000</td>\n",
       "      <td>0.8710</td>\n",
       "    </tr>\n",
       "    <tr>\n",
       "      <td>rm</td>\n",
       "      <td>506.0</td>\n",
       "      <td>6.284634</td>\n",
       "      <td>0.702617</td>\n",
       "      <td>3.56100</td>\n",
       "      <td>5.885500</td>\n",
       "      <td>6.20850</td>\n",
       "      <td>6.623500</td>\n",
       "      <td>8.7800</td>\n",
       "    </tr>\n",
       "    <tr>\n",
       "      <td>age</td>\n",
       "      <td>506.0</td>\n",
       "      <td>68.574901</td>\n",
       "      <td>28.148861</td>\n",
       "      <td>2.90000</td>\n",
       "      <td>45.025000</td>\n",
       "      <td>77.50000</td>\n",
       "      <td>94.075000</td>\n",
       "      <td>100.0000</td>\n",
       "    </tr>\n",
       "    <tr>\n",
       "      <td>dis</td>\n",
       "      <td>506.0</td>\n",
       "      <td>3.795043</td>\n",
       "      <td>2.105710</td>\n",
       "      <td>1.12960</td>\n",
       "      <td>2.100175</td>\n",
       "      <td>3.20745</td>\n",
       "      <td>5.188425</td>\n",
       "      <td>12.1265</td>\n",
       "    </tr>\n",
       "    <tr>\n",
       "      <td>rad</td>\n",
       "      <td>506.0</td>\n",
       "      <td>9.549407</td>\n",
       "      <td>8.707259</td>\n",
       "      <td>1.00000</td>\n",
       "      <td>4.000000</td>\n",
       "      <td>5.00000</td>\n",
       "      <td>24.000000</td>\n",
       "      <td>24.0000</td>\n",
       "    </tr>\n",
       "    <tr>\n",
       "      <td>tax</td>\n",
       "      <td>506.0</td>\n",
       "      <td>408.237154</td>\n",
       "      <td>168.537116</td>\n",
       "      <td>187.00000</td>\n",
       "      <td>279.000000</td>\n",
       "      <td>330.00000</td>\n",
       "      <td>666.000000</td>\n",
       "      <td>711.0000</td>\n",
       "    </tr>\n",
       "    <tr>\n",
       "      <td>ptratio</td>\n",
       "      <td>506.0</td>\n",
       "      <td>18.455534</td>\n",
       "      <td>2.164946</td>\n",
       "      <td>12.60000</td>\n",
       "      <td>17.400000</td>\n",
       "      <td>19.05000</td>\n",
       "      <td>20.200000</td>\n",
       "      <td>22.0000</td>\n",
       "    </tr>\n",
       "    <tr>\n",
       "      <td>black</td>\n",
       "      <td>506.0</td>\n",
       "      <td>356.674032</td>\n",
       "      <td>91.294864</td>\n",
       "      <td>0.32000</td>\n",
       "      <td>375.377500</td>\n",
       "      <td>391.44000</td>\n",
       "      <td>396.225000</td>\n",
       "      <td>396.9000</td>\n",
       "    </tr>\n",
       "    <tr>\n",
       "      <td>lstat</td>\n",
       "      <td>506.0</td>\n",
       "      <td>12.653063</td>\n",
       "      <td>7.141062</td>\n",
       "      <td>1.73000</td>\n",
       "      <td>6.950000</td>\n",
       "      <td>11.36000</td>\n",
       "      <td>16.955000</td>\n",
       "      <td>37.9700</td>\n",
       "    </tr>\n",
       "    <tr>\n",
       "      <td>medv</td>\n",
       "      <td>506.0</td>\n",
       "      <td>22.532806</td>\n",
       "      <td>9.197104</td>\n",
       "      <td>5.00000</td>\n",
       "      <td>17.025000</td>\n",
       "      <td>21.20000</td>\n",
       "      <td>25.000000</td>\n",
       "      <td>50.0000</td>\n",
       "    </tr>\n",
       "  </tbody>\n",
       "</table>\n",
       "</div>"
      ],
      "text/plain": [
       "         count        mean         std        min         25%        50%  \\\n",
       "crim     506.0    3.613524    8.601545    0.00632    0.082045    0.25651   \n",
       "zn       506.0   11.363636   23.322453    0.00000    0.000000    0.00000   \n",
       "indus    506.0   11.136779    6.860353    0.46000    5.190000    9.69000   \n",
       "chas     506.0    0.069170    0.253994    0.00000    0.000000    0.00000   \n",
       "nox      506.0    0.554695    0.115878    0.38500    0.449000    0.53800   \n",
       "rm       506.0    6.284634    0.702617    3.56100    5.885500    6.20850   \n",
       "age      506.0   68.574901   28.148861    2.90000   45.025000   77.50000   \n",
       "dis      506.0    3.795043    2.105710    1.12960    2.100175    3.20745   \n",
       "rad      506.0    9.549407    8.707259    1.00000    4.000000    5.00000   \n",
       "tax      506.0  408.237154  168.537116  187.00000  279.000000  330.00000   \n",
       "ptratio  506.0   18.455534    2.164946   12.60000   17.400000   19.05000   \n",
       "black    506.0  356.674032   91.294864    0.32000  375.377500  391.44000   \n",
       "lstat    506.0   12.653063    7.141062    1.73000    6.950000   11.36000   \n",
       "medv     506.0   22.532806    9.197104    5.00000   17.025000   21.20000   \n",
       "\n",
       "                75%       max  \n",
       "crim       3.677082   88.9762  \n",
       "zn        12.500000  100.0000  \n",
       "indus     18.100000   27.7400  \n",
       "chas       0.000000    1.0000  \n",
       "nox        0.624000    0.8710  \n",
       "rm         6.623500    8.7800  \n",
       "age       94.075000  100.0000  \n",
       "dis        5.188425   12.1265  \n",
       "rad       24.000000   24.0000  \n",
       "tax      666.000000  711.0000  \n",
       "ptratio   20.200000   22.0000  \n",
       "black    396.225000  396.9000  \n",
       "lstat     16.955000   37.9700  \n",
       "medv      25.000000   50.0000  "
      ]
     },
     "execution_count": 6,
     "metadata": {},
     "output_type": "execute_result"
    }
   ],
   "source": [
    "df.describe().transpose()"
   ]
  },
  {
   "cell_type": "code",
   "execution_count": 7,
   "metadata": {},
   "outputs": [
    {
     "name": "stdout",
     "output_type": "stream",
     "text": [
      "Number of rows in this dataset : 506\n",
      "====================================\n",
      "<class 'pandas.core.frame.DataFrame'>\n",
      "RangeIndex: 506 entries, 0 to 505\n",
      "Data columns (total 14 columns):\n",
      "crim       506 non-null float64\n",
      "zn         506 non-null float64\n",
      "indus      506 non-null float64\n",
      "chas       506 non-null int64\n",
      "nox        506 non-null float64\n",
      "rm         506 non-null float64\n",
      "age        506 non-null float64\n",
      "dis        506 non-null float64\n",
      "rad        506 non-null int64\n",
      "tax        506 non-null int64\n",
      "ptratio    506 non-null float64\n",
      "black      506 non-null float64\n",
      "lstat      506 non-null float64\n",
      "medv       506 non-null float64\n",
      "dtypes: float64(11), int64(3)\n",
      "memory usage: 55.5 KB\n"
     ]
    }
   ],
   "source": [
    "# Investigate the data for missing or non values...\n",
    "print(\"Number of rows in this dataset :\", len(df.index))\n",
    "print(\"====================================\")\n",
    "df.info()"
   ]
  },
  {
   "cell_type": "markdown",
   "metadata": {},
   "source": [
    "### 1.2 Data Backup and Clean up..."
   ]
  },
  {
   "cell_type": "code",
   "execution_count": 8,
   "metadata": {},
   "outputs": [],
   "source": [
    "# Make a copy of the dataset for Stage 2 - Description & Inference\n",
    "df2 = df.copy(deep=True)\n",
    "\n",
    "# Another copy for Stage 3 - Prediction\n",
    "df3 = df.copy(deep=True)"
   ]
  },
  {
   "cell_type": "code",
   "execution_count": 9,
   "metadata": {},
   "outputs": [],
   "source": [
    "# df2.head()"
   ]
  },
  {
   "cell_type": "markdown",
   "metadata": {},
   "source": [
    "* Generally, NaN or missing values can be in any form like 0, ?, or may be written as “missing” \n",
    "* As observed in our dataset above __(chas and zn)__, there are a lot of  0’s, \n",
    "* Therefore we can replace them with NaN to calculate how much data we are missing [6]."
   ]
  },
  {
   "cell_type": "code",
   "execution_count": 10,
   "metadata": {},
   "outputs": [],
   "source": [
    "#print(df2.head())\n",
    "df2.zn.replace(0, np.nan, inplace=True)\n",
    "df2.chas.replace(0, np.nan, inplace=True)"
   ]
  },
  {
   "cell_type": "markdown",
   "metadata": {},
   "source": [
    "#### 1.2.2 Calculate the percentageof features with missing values\n",
    "* Generally, if there is 20-25% missing values we can impute them with different ways like mean, median or an educated guess by us. \n",
    "* But if it’s more than that, it’s better to remove those features otherwise they can affect our result. \n",
    "* As we can see below both “zn” and “chas” missing more than 70% data so we will remove both these 2 features."
   ]
  },
  {
   "cell_type": "code",
   "execution_count": 11,
   "metadata": {},
   "outputs": [
    {
     "data": {
      "text/plain": [
       "crim        0.000000\n",
       "zn         73.517787\n",
       "indus       0.000000\n",
       "chas       93.083004\n",
       "nox         0.000000\n",
       "rm          0.000000\n",
       "age         0.000000\n",
       "dis         0.000000\n",
       "rad         0.000000\n",
       "tax         0.000000\n",
       "ptratio     0.000000\n",
       "black       0.000000\n",
       "lstat       0.000000\n",
       "medv        0.000000\n",
       "dtype: float64"
      ]
     },
     "execution_count": 11,
     "metadata": {},
     "output_type": "execute_result"
    }
   ],
   "source": [
    "df2.isnull().sum()/len(df2)*100"
   ]
  },
  {
   "cell_type": "code",
   "execution_count": 12,
   "metadata": {},
   "outputs": [],
   "source": [
    "# Drop these two features from df2\n",
    "df2 = df2.drop(\"zn\", 1)\n",
    "df2 = df2.drop(\"chas\", 1)"
   ]
  },
  {
   "cell_type": "code",
   "execution_count": 13,
   "metadata": {},
   "outputs": [
    {
     "data": {
      "text/html": [
       "<div>\n",
       "<style scoped>\n",
       "    .dataframe tbody tr th:only-of-type {\n",
       "        vertical-align: middle;\n",
       "    }\n",
       "\n",
       "    .dataframe tbody tr th {\n",
       "        vertical-align: top;\n",
       "    }\n",
       "\n",
       "    .dataframe thead th {\n",
       "        text-align: right;\n",
       "    }\n",
       "</style>\n",
       "<table border=\"1\" class=\"dataframe\">\n",
       "  <thead>\n",
       "    <tr style=\"text-align: right;\">\n",
       "      <th></th>\n",
       "      <th>crim</th>\n",
       "      <th>indus</th>\n",
       "      <th>nox</th>\n",
       "      <th>rm</th>\n",
       "      <th>age</th>\n",
       "      <th>dis</th>\n",
       "      <th>rad</th>\n",
       "      <th>tax</th>\n",
       "      <th>ptratio</th>\n",
       "      <th>black</th>\n",
       "      <th>lstat</th>\n",
       "      <th>medv</th>\n",
       "    </tr>\n",
       "  </thead>\n",
       "  <tbody>\n",
       "    <tr>\n",
       "      <td>0</td>\n",
       "      <td>0.00632</td>\n",
       "      <td>2.31</td>\n",
       "      <td>0.538</td>\n",
       "      <td>6.575</td>\n",
       "      <td>65.2</td>\n",
       "      <td>4.0900</td>\n",
       "      <td>1</td>\n",
       "      <td>296</td>\n",
       "      <td>15.3</td>\n",
       "      <td>396.90</td>\n",
       "      <td>4.98</td>\n",
       "      <td>24.0</td>\n",
       "    </tr>\n",
       "    <tr>\n",
       "      <td>1</td>\n",
       "      <td>0.02731</td>\n",
       "      <td>7.07</td>\n",
       "      <td>0.469</td>\n",
       "      <td>6.421</td>\n",
       "      <td>78.9</td>\n",
       "      <td>4.9671</td>\n",
       "      <td>2</td>\n",
       "      <td>242</td>\n",
       "      <td>17.8</td>\n",
       "      <td>396.90</td>\n",
       "      <td>9.14</td>\n",
       "      <td>21.6</td>\n",
       "    </tr>\n",
       "    <tr>\n",
       "      <td>2</td>\n",
       "      <td>0.02729</td>\n",
       "      <td>7.07</td>\n",
       "      <td>0.469</td>\n",
       "      <td>7.185</td>\n",
       "      <td>61.1</td>\n",
       "      <td>4.9671</td>\n",
       "      <td>2</td>\n",
       "      <td>242</td>\n",
       "      <td>17.8</td>\n",
       "      <td>392.83</td>\n",
       "      <td>4.03</td>\n",
       "      <td>34.7</td>\n",
       "    </tr>\n",
       "    <tr>\n",
       "      <td>3</td>\n",
       "      <td>0.03237</td>\n",
       "      <td>2.18</td>\n",
       "      <td>0.458</td>\n",
       "      <td>6.998</td>\n",
       "      <td>45.8</td>\n",
       "      <td>6.0622</td>\n",
       "      <td>3</td>\n",
       "      <td>222</td>\n",
       "      <td>18.7</td>\n",
       "      <td>394.63</td>\n",
       "      <td>2.94</td>\n",
       "      <td>33.4</td>\n",
       "    </tr>\n",
       "    <tr>\n",
       "      <td>4</td>\n",
       "      <td>0.06905</td>\n",
       "      <td>2.18</td>\n",
       "      <td>0.458</td>\n",
       "      <td>7.147</td>\n",
       "      <td>54.2</td>\n",
       "      <td>6.0622</td>\n",
       "      <td>3</td>\n",
       "      <td>222</td>\n",
       "      <td>18.7</td>\n",
       "      <td>396.90</td>\n",
       "      <td>5.33</td>\n",
       "      <td>36.2</td>\n",
       "    </tr>\n",
       "  </tbody>\n",
       "</table>\n",
       "</div>"
      ],
      "text/plain": [
       "      crim  indus    nox     rm   age     dis  rad  tax  ptratio   black  \\\n",
       "0  0.00632   2.31  0.538  6.575  65.2  4.0900    1  296     15.3  396.90   \n",
       "1  0.02731   7.07  0.469  6.421  78.9  4.9671    2  242     17.8  396.90   \n",
       "2  0.02729   7.07  0.469  7.185  61.1  4.9671    2  242     17.8  392.83   \n",
       "3  0.03237   2.18  0.458  6.998  45.8  6.0622    3  222     18.7  394.63   \n",
       "4  0.06905   2.18  0.458  7.147  54.2  6.0622    3  222     18.7  396.90   \n",
       "\n",
       "   lstat  medv  \n",
       "0   4.98  24.0  \n",
       "1   9.14  21.6  \n",
       "2   4.03  34.7  \n",
       "3   2.94  33.4  \n",
       "4   5.33  36.2  "
      ]
     },
     "execution_count": 13,
     "metadata": {},
     "output_type": "execute_result"
    }
   ],
   "source": [
    "df2.head()"
   ]
  },
  {
   "cell_type": "markdown",
   "metadata": {},
   "source": [
    "### 1.3 Multi-Linear Regression on the dataset [using Statsmodel]"
   ]
  },
  {
   "cell_type": "code",
   "execution_count": 14,
   "metadata": {},
   "outputs": [],
   "source": [
    "# Let's attempt to do linear regression on these remaining variables.\n",
    "x = df2[['crim', 'indus', 'nox', 'rm', 'age', 'dis', 'rad', 'tax', \n",
    "          'ptratio', 'black', 'lstat']]"
   ]
  },
  {
   "cell_type": "code",
   "execution_count": 15,
   "metadata": {},
   "outputs": [],
   "source": [
    "# House prices.\n",
    "y = df2['medv']\n",
    "#y.head()"
   ]
  },
  {
   "cell_type": "code",
   "execution_count": 16,
   "metadata": {},
   "outputs": [
    {
     "name": "stdout",
     "output_type": "stream",
     "text": [
      "                            OLS Regression Results                            \n",
      "==============================================================================\n",
      "Dep. Variable:                   medv   R-squared:                       0.729\n",
      "Model:                            OLS   Adj. R-squared:                  0.723\n",
      "Method:                 Least Squares   F-statistic:                     121.0\n",
      "Date:                Wed, 29 Jan 2020   Prob (F-statistic):          1.87e-132\n",
      "Time:                        12:01:27   Log-Likelihood:                -1509.6\n",
      "No. Observations:                 506   AIC:                             3043.\n",
      "Df Residuals:                     494   BIC:                             3094.\n",
      "Df Model:                          11                                         \n",
      "Covariance Type:            nonrobust                                         \n",
      "==============================================================================\n",
      "                 coef    std err          t      P>|t|      [0.025      0.975]\n",
      "------------------------------------------------------------------------------\n",
      "const         37.3083      5.200      7.175      0.000      27.092      47.525\n",
      "crim          -0.1034      0.033     -3.102      0.002      -0.169      -0.038\n",
      "indus          0.0182      0.062      0.294      0.769      -0.104       0.140\n",
      "nox          -17.8292      3.890     -4.584      0.000     -25.472     -10.187\n",
      "rm             4.0744      0.421      9.686      0.000       3.248       4.901\n",
      "age           -0.0026      0.013     -0.198      0.843      -0.029       0.024\n",
      "dis           -1.2102      0.186     -6.502      0.000      -1.576      -0.844\n",
      "rad            0.3046      0.067      4.555      0.000       0.173       0.436\n",
      "tax           -0.0109      0.004     -2.939      0.003      -0.018      -0.004\n",
      "ptratio       -1.1311      0.126     -8.972      0.000      -1.379      -0.883\n",
      "black          0.0099      0.003      3.603      0.000       0.004       0.015\n",
      "lstat         -0.5251      0.052    -10.187      0.000      -0.626      -0.424\n",
      "==============================================================================\n",
      "Omnibus:                      195.481   Durbin-Watson:                   0.987\n",
      "Prob(Omnibus):                  0.000   Jarque-Bera (JB):              936.742\n",
      "Skew:                           1.657   Prob(JB):                    3.88e-204\n",
      "Kurtosis:                       8.783   Cond. No.                     1.51e+04\n",
      "==============================================================================\n",
      "\n",
      "Warnings:\n",
      "[1] Standard Errors assume that the covariance matrix of the errors is correctly specified.\n",
      "[2] The condition number is large, 1.51e+04. This might indicate that there are\n",
      "strong multicollinearity or other numerical problems.\n"
     ]
    },
    {
     "name": "stderr",
     "output_type": "stream",
     "text": [
      "/Users/francisadepoju/anaconda3/lib/python3.7/site-packages/numpy/core/fromnumeric.py:2495: FutureWarning: Method .ptp is deprecated and will be removed in a future version. Use numpy.ptp instead.\n",
      "  return ptp(axis=axis, out=out, **kwargs)\n"
     ]
    }
   ],
   "source": [
    "# Tell statmodels to include an intercept.\n",
    "xwithc = sm.add_constant(x)\n",
    "\n",
    "# Create a model.\n",
    "msm = sm.OLS(y, xwithc)\n",
    "\n",
    "# Fit the data.\n",
    "rsm = msm.fit()\n",
    "\n",
    "# Print a summary.\n",
    "print(rsm.summary())"
   ]
  },
  {
   "cell_type": "markdown",
   "metadata": {},
   "source": [
    "### 1.3.1 REMARKS:\n",
    "The condition number is large, 15,100. This might indicate that there are strong multicollinearity or other numerical problems... Need to investigate this!\n",
    "In statistics, multicollinearity (also collinearity) is a phenomenon in which one predictor variable in a multiple regression model can be linearly predicted from the others with a substantial degree of accuracy. In this situation the coefficient estimates of the multiple regression may change erratically in response to small changes in the model or the data. Multicollinearity does not reduce the predictive power or reliability of the model as a whole, at least within the sample data set; it only affects calculations regarding individual predictors. That is, a multivariate regression model with collinear predictors can indicate how well the entire bundle of predictors predicts the outcome variable, but it may not give valid results about any individual predictor, or about which predictors are redundant with respect to others [7]."
   ]
  },
  {
   "cell_type": "markdown",
   "metadata": {},
   "source": [
    "***\n",
    "### 1.3 Multi-linear regression on the dataset [using SKLearn] [8] "
   ]
  },
  {
   "cell_type": "code",
   "execution_count": 17,
   "metadata": {},
   "outputs": [],
   "source": [
    "# Create a linear regression model instance.\n",
    "m = lm.LinearRegression()"
   ]
  },
  {
   "cell_type": "markdown",
   "metadata": {},
   "source": [
    "### 1.3.2: Assumed Linear Model Equation\n",
    "Assuming that the following Linear Relationship exists between the remaining features and the output (house prices):\n",
    "***"
   ]
  },
  {
   "cell_type": "markdown",
   "metadata": {},
   "source": [
    "$$ medv = int+ a (crim) + b (indus)  + c (nox) + d (rm) + e (age) + \n",
    "          f (dis) + g (rad) + h (tax) + i (ptratio) + j (black) + k (lstat) $$\n",
    "int = intercept\n",
    "***"
   ]
  },
  {
   "cell_type": "code",
   "execution_count": 18,
   "metadata": {},
   "outputs": [
    {
     "data": {
      "text/plain": [
       "LinearRegression(copy_X=True, fit_intercept=True, n_jobs=None, normalize=False)"
      ]
     },
     "execution_count": 18,
     "metadata": {},
     "output_type": "execute_result"
    }
   ],
   "source": [
    "# Ask our model to fit the data.\n",
    "m.fit(x, y)"
   ]
  },
  {
   "cell_type": "code",
   "execution_count": 19,
   "metadata": {},
   "outputs": [
    {
     "data": {
      "text/plain": [
       "37.30833678353185"
      ]
     },
     "execution_count": 19,
     "metadata": {},
     "output_type": "execute_result"
    }
   ],
   "source": [
    "# Here's our intercept.\n",
    "m.intercept_"
   ]
  },
  {
   "cell_type": "code",
   "execution_count": 20,
   "metadata": {},
   "outputs": [
    {
     "data": {
      "text/plain": [
       "array([-1.03402051e-01,  1.82116406e-02, -1.78291762e+01,  4.07437888e+00,\n",
       "       -2.64677545e-03, -1.21018231e+00,  3.04603188e-01, -1.09013226e-02,\n",
       "       -1.13114598e+00,  9.85349521e-03, -5.25072184e-01])"
      ]
     },
     "execution_count": 20,
     "metadata": {},
     "output_type": "execute_result"
    }
   ],
   "source": [
    "# Here's our coefficients, in order.\n",
    "m.coef_"
   ]
  },
  {
   "cell_type": "code",
   "execution_count": 21,
   "metadata": {},
   "outputs": [
    {
     "data": {
      "text/plain": [
       "0.7293219233110855"
      ]
     },
     "execution_count": 21,
     "metadata": {},
     "output_type": "execute_result"
    }
   ],
   "source": [
    "# See how good our fit is.\n",
    "m.score(x, y)"
   ]
  },
  {
   "cell_type": "markdown",
   "metadata": {},
   "source": [
    "### 1.3.2 REMARKS:\n",
    "- These results agree largely with those from statsmodel. \n",
    "- Therefore, we can use statsmodel or sklearn for the descriptive analysis.\n",
    "- Statsmodel involves calling fewer command to achieve the same outputs as sklearn\n",
    "- Statsmodels fared quite well with Panda's __data frames__ while sklearn models work with __arrays (ndarray)__."
   ]
  },
  {
   "cell_type": "markdown",
   "metadata": {},
   "source": [
    "### 1.3.3 Histogram:\n",
    "Now let’s plot the histogram of all the available features to see the distribution"
   ]
  },
  {
   "cell_type": "code",
   "execution_count": 22,
   "metadata": {},
   "outputs": [
    {
     "data": {
      "text/plain": [
       "array([[<matplotlib.axes._subplots.AxesSubplot object at 0x1c4ffda390>,\n",
       "        <matplotlib.axes._subplots.AxesSubplot object at 0x1c4bd24c90>,\n",
       "        <matplotlib.axes._subplots.AxesSubplot object at 0x1c50051a10>],\n",
       "       [<matplotlib.axes._subplots.AxesSubplot object at 0x1c5008fd90>,\n",
       "        <matplotlib.axes._subplots.AxesSubplot object at 0x1c500c2a50>,\n",
       "        <matplotlib.axes._subplots.AxesSubplot object at 0x1c50102dd0>],\n",
       "       [<matplotlib.axes._subplots.AxesSubplot object at 0x1c50136a90>,\n",
       "        <matplotlib.axes._subplots.AxesSubplot object at 0x1c50175290>,\n",
       "        <matplotlib.axes._subplots.AxesSubplot object at 0x1c50175dd0>],\n",
       "       [<matplotlib.axes._subplots.AxesSubplot object at 0x1c501b5790>,\n",
       "        <matplotlib.axes._subplots.AxesSubplot object at 0x1c5021ead0>,\n",
       "        <matplotlib.axes._subplots.AxesSubplot object at 0x1c5025fe50>]],\n",
       "      dtype=object)"
      ]
     },
     "execution_count": 22,
     "metadata": {},
     "output_type": "execute_result"
    },
    {
     "data": {
      "image/png": "[encoded data removed]",
      "text/plain": [
       "<Figure size 1080x1080 with 12 Axes>"
      ]
     },
     "metadata": {
      "needs_background": "light"
     },
     "output_type": "display_data"
    }
   ],
   "source": [
    "df2.hist(bins=50, figsize=(15, 15))"
   ]
  },
  {
   "cell_type": "markdown",
   "metadata": {},
   "source": [
    "### 1.3.4 Correlation:\n",
    "Now let’s check the correlation between all the feature variable and target variable by plotting the heatmap as shown below:"
   ]
  },
  {
   "cell_type": "code",
   "execution_count": 23,
   "metadata": {},
   "outputs": [
    {
     "data": {
      "text/plain": [
       "<matplotlib.axes._subplots.AxesSubplot at 0x1c5102f310>"
      ]
     },
     "execution_count": 23,
     "metadata": {},
     "output_type": "execute_result"
    },
    {
     "data": {
      "image/png": "[encoded data removed]",
      "text/plain": [
       "<Figure size 842.4x595.44 with 2 Axes>"
      ]
     },
     "metadata": {},
     "output_type": "display_data"
    }
   ],
   "source": [
    "# plt.rcParams['figure.figsize'] = (20.0, 10.0)\n",
    "# Just for compactness, reduce the size of the figure\n",
    "sns.set(rc={'figure.figsize':(11.7,8.27)})\n",
    "sns.heatmap(df2.corr().round(2), square=True, cmap='RdYlGn', annot=True)"
   ]
  },
  {
   "cell_type": "markdown",
   "metadata": {},
   "source": [
    "### Observation from Heat Map:\n",
    "- From the above correlation plot, we can see that __medv__ is strongly correlated to __lstat, rm__\n",
    "- __rad & tax__ are strongly correlated, so we don’t include this in our features together to avoid multicollinearity. \n",
    "- Similar to the features __dis & age__ which have a correlation of -0.75. So we will exclude these four features from our features list.\n"
   ]
  },
  {
   "cell_type": "markdown",
   "metadata": {},
   "source": [
    "### NOTE:\n",
    "- From Heat map above, we know that it will be neat to exclude the following features, in addition to the earlier ones from the regression equation:\n",
    "__(zn, chas, rad, tax, dis, age)__\n",
    "- As Scikit learn wants “features” and “target” variables in X and Y respectively. \n",
    "- Here __medv__ is our target variable, we can extract features and target arrays from our dataset as shown below. \n",
    "- From X we drop the medv column along with other features and in y we keep only __medv__ column:"
   ]
  },
  {
   "cell_type": "code",
   "execution_count": 24,
   "metadata": {},
   "outputs": [],
   "source": [
    "xdrop = df2.drop([\"medv\",\"rad\",\"tax\",\"dis\",\"age\"], 1).values\n",
    "y3 = df2[\"medv\"].values"
   ]
  },
  {
   "cell_type": "code",
   "execution_count": 25,
   "metadata": {},
   "outputs": [],
   "source": [
    "# Let's re-do linear regression on these variables.\n",
    "x3 = df2[['crim', 'indus', 'nox', 'rm', 'ptratio', 'black', 'lstat']]"
   ]
  },
  {
   "cell_type": "code",
   "execution_count": 26,
   "metadata": {},
   "outputs": [
    {
     "name": "stdout",
     "output_type": "stream",
     "text": [
      "                            OLS Regression Results                            \n",
      "==============================================================================\n",
      "Dep. Variable:                      y   R-squared:                       0.690\n",
      "Model:                            OLS   Adj. R-squared:                  0.685\n",
      "Method:                 Least Squares   F-statistic:                     158.2\n",
      "Date:                Wed, 29 Jan 2020   Prob (F-statistic):          3.22e-122\n",
      "Time:                        12:01:30   Log-Likelihood:                -1544.1\n",
      "No. Observations:                 506   AIC:                             3104.\n",
      "Df Residuals:                     498   BIC:                             3138.\n",
      "Df Model:                           7                                         \n",
      "Covariance Type:            nonrobust                                         \n",
      "==============================================================================\n",
      "                 coef    std err          t      P>|t|      [0.025      0.975]\n",
      "------------------------------------------------------------------------------\n",
      "const         12.8620      4.548      2.828      0.005       3.927      21.797\n",
      "crim          -0.0399      0.032     -1.248      0.212      -0.103       0.023\n",
      "indus          0.0748      0.057      1.305      0.192      -0.038       0.187\n",
      "nox           -2.6653      3.334     -0.800      0.424      -9.215       3.885\n",
      "rm             4.8324      0.428     11.300      0.000       3.992       5.673\n",
      "ptratio       -0.9229      0.123     -7.496      0.000      -1.165      -0.681\n",
      "black          0.0098      0.003      3.422      0.001       0.004       0.015\n",
      "lstat         -0.5036      0.052     -9.751      0.000      -0.605      -0.402\n",
      "==============================================================================\n",
      "Omnibus:                      231.057   Durbin-Watson:                   0.897\n",
      "Prob(Omnibus):                  0.000   Jarque-Bera (JB):             1384.676\n",
      "Skew:                           1.923   Prob(JB):                    2.10e-301\n",
      "Kurtosis:                      10.133   Cond. No.                     7.76e+03\n",
      "==============================================================================\n",
      "\n",
      "Warnings:\n",
      "[1] Standard Errors assume that the covariance matrix of the errors is correctly specified.\n",
      "[2] The condition number is large, 7.76e+03. This might indicate that there are\n",
      "strong multicollinearity or other numerical problems.\n"
     ]
    },
    {
     "name": "stderr",
     "output_type": "stream",
     "text": [
      "/Users/francisadepoju/anaconda3/lib/python3.7/site-packages/numpy/core/fromnumeric.py:2495: FutureWarning: Method .ptp is deprecated and will be removed in a future version. Use numpy.ptp instead.\n",
      "  return ptp(axis=axis, out=out, **kwargs)\n"
     ]
    }
   ],
   "source": [
    "# # Tell statmodels to include an intercept.\n",
    "xwithc = sm.add_constant(x3)\n",
    "\n",
    "# Create a model.\n",
    "msm = sm.OLS(y3, xwithc)\n",
    "# Fit the data.\n",
    "rsm = msm.fit()\n",
    "# Print a summary.\n",
    "print(rsm.summary())"
   ]
  },
  {
   "cell_type": "markdown",
   "metadata": {},
   "source": [
    "### 1.3.4 REMARKS:\n",
    "- The condition number is is still large __(7760)__ but better than earlier __(15,100)__. \n",
    "- This might indicate that there are still strong multicollinearity or other numerical problems... Need to investigate this further!"
   ]
  },
  {
   "cell_type": "markdown",
   "metadata": {},
   "source": [
    "***\n",
    "## Turning to Statistics:\n",
    "1. Features with high coefficients should be included in the regression\n",
    "2. For multi-linear regression, adjusted R-squared is one of the most common measures of goodness of fit. In other words it is a universal measure to evaluate how well linear regressions fair and compare [7]. It is a much more appropriate measure for a multiple linear regression because it steps on the R-squared and adjusts for the number of variables included in the model. If we are using features with little or no explanatory power. The R squared would increase nonetheless.\n",
    "3. As observed, adjusted R-squared is still much lower than the R-squared this indicates that one or more of the predictors have little or no explanatory power, so more investigation is needed.\n",
    "4. Turning to the Summary report from the statsmodel, we were given the p values of the features which we later use to determine whether the independent variables were relevant for the model. If a variable has a __p value above 0.05__ we can disregard it. Thus __(crim, indus and nox)__ should be dropped.\n",
    "***"
   ]
  },
  {
   "cell_type": "code",
   "execution_count": 27,
   "metadata": {},
   "outputs": [],
   "source": [
    "# Let's re-do linear regression on these remaining variables.\n",
    "x4 = df2[[ 'rm', 'ptratio', 'black', 'lstat']]\n",
    "y4 = df2[\"medv\"].values"
   ]
  },
  {
   "cell_type": "code",
   "execution_count": 28,
   "metadata": {},
   "outputs": [
    {
     "name": "stdout",
     "output_type": "stream",
     "text": [
      "                            OLS Regression Results                            \n",
      "==============================================================================\n",
      "Dep. Variable:                      y   R-squared:                       0.688\n",
      "Model:                            OLS   Adj. R-squared:                  0.685\n",
      "Method:                 Least Squares   F-statistic:                     275.9\n",
      "Date:                Wed, 29 Jan 2020   Prob (F-statistic):          4.10e-125\n",
      "Time:                        12:01:30   Log-Likelihood:                -1545.8\n",
      "No. Observations:                 506   AIC:                             3102.\n",
      "Df Residuals:                     501   BIC:                             3123.\n",
      "Df Model:                           4                                         \n",
      "Covariance Type:            nonrobust                                         \n",
      "==============================================================================\n",
      "                 coef    std err          t      P>|t|      [0.025      0.975]\n",
      "------------------------------------------------------------------------------\n",
      "const         12.0548      4.220      2.857      0.004       3.764      20.345\n",
      "rm             4.7458      0.424     11.180      0.000       3.912       5.580\n",
      "ptratio       -0.8990      0.116     -7.725      0.000      -1.128      -0.670\n",
      "black          0.0105      0.003      3.826      0.000       0.005       0.016\n",
      "lstat         -0.5125      0.044    -11.530      0.000      -0.600      -0.425\n",
      "==============================================================================\n",
      "Omnibus:                      225.637   Durbin-Watson:                   0.897\n",
      "Prob(Omnibus):                  0.000   Jarque-Bera (JB):             1341.814\n",
      "Skew:                           1.871   Prob(JB):                    4.25e-292\n",
      "Kurtosis:                      10.046   Cond. No.                     6.81e+03\n",
      "==============================================================================\n",
      "\n",
      "Warnings:\n",
      "[1] Standard Errors assume that the covariance matrix of the errors is correctly specified.\n",
      "[2] The condition number is large, 6.81e+03. This might indicate that there are\n",
      "strong multicollinearity or other numerical problems.\n"
     ]
    }
   ],
   "source": [
    "# # Tell statmodels to include an intercept.\n",
    "xwithc = sm.add_constant(x4)\n",
    "\n",
    "# Create a model.\n",
    "msm = sm.OLS(y4, xwithc)\n",
    "# Fit the data.\n",
    "rsm = msm.fit()\n",
    "\n",
    "# Print a summary.\n",
    "print(rsm.summary())"
   ]
  },
  {
   "cell_type": "markdown",
   "metadata": {},
   "source": [
    "***\n",
    "### 1.4 Summary Observation:\n",
    "1. The condition number is is still large __(6,810)__ but better than earlier __(7,760)__. This indicates that there are still strong multicollinearity or other numerical problems.\n",
    "2. Adjusted R-squared is still lower than the R-squared but better than previous prediction. This indicates that one or more of the predictors __still have little or no explanatory power__.\n",
    "3. There are no more features with p value > 0.05\n",
    "***"
   ]
  },
  {
   "cell_type": "code",
   "execution_count": 29,
   "metadata": {},
   "outputs": [
    {
     "data": {
      "image/png": "[encoded data removed]",
      "text/plain": [
       "<Figure size 1440x1080 with 4 Axes>"
      ]
     },
     "metadata": {},
     "output_type": "display_data"
    }
   ],
   "source": [
    "# Plot the relationships between remaining features and the medv\n",
    "plt.figure(figsize=(20, 15))\n",
    "\n",
    "#features = ['crim','indus','nox','rm','ptratio','black','lstat']\n",
    "features = ['rm','ptratio','black','lstat']\n",
    "target = df2['medv']\n",
    "for i,col in enumerate(features):\n",
    "    plt.subplot(3, len(features)/2 , i+1)\n",
    "    x3 = df2[col]\n",
    "    y3 = target\n",
    "    plt.scatter(x3, y3, marker='o')\n",
    "    plt.title(col)\n",
    "    plt.xlabel(col)\n",
    "    plt.ylabel('MEDV')\n"
   ]
  },
  {
   "cell_type": "markdown",
   "metadata": {},
   "source": [
    "- From the above visualization, we can conclude that **medv** and **rm** are linearly correlated \n",
    "- __(medv)__ increase with an increase in __(rm)__ which is number of rooms and looks like both are following a linear relationship. \n",
    "- Also when population of lower status percentage __(lstat)__ increases,house price __(medv)__ or price decreases."
   ]
  },
  {
   "cell_type": "markdown",
   "metadata": {},
   "source": [
    "***\n",
    "## 2. Inference\n",
    "***\n",
    "\n",
    "Inferential statistics use a random sample of data taken from a population to describe and make inferences about the population. Inferential statistics are valuable when examination of each member of an entire population is not convenient or possible.\n",
    "Inferential statistics use statistical models to help compare the sample data to other samples or to previous research [9].\n",
    "Most research uses statistical models called the Generalized Linear model and include Student’s t-tests, ANOVA (Analysis of Variance), regression analysis and various other models that result in straight-line (“linear”) probabilities and results. The main indexes for inferential statistics articles are:\n",
    "* Binomial Theorem\n",
    "* Hypothesis Testing\n",
    "* Normal Distributions\n",
    "* T-Distributions\n",
    "* Central Limit Theorem\n",
    "* Confidence Intervals\n",
    "* Regression Analysis / Linear Regression\n",
    "* Comparison of Means.\n"
   ]
  },
  {
   "cell_type": "code",
   "execution_count": 30,
   "metadata": {},
   "outputs": [],
   "source": [
    "# Let's make a copy of the dataset and then separate the chars column to show houses that are \n",
    "# along the Charles river (chas = 1) and those that are not (chas = 0);"
   ]
  },
  {
   "cell_type": "code",
   "execution_count": 31,
   "metadata": {},
   "outputs": [],
   "source": [
    "df3_0 = df[df3['chas'] == 0]\n",
    "df3_1 = df[df3['chas'] == 1]\n",
    "n_0 = df3_0['chas'].count()\n",
    "n_1 = df3_1['chas'].count()"
   ]
  },
  {
   "cell_type": "code",
   "execution_count": 32,
   "metadata": {},
   "outputs": [
    {
     "name": "stdout",
     "output_type": "stream",
     "text": [
      "Non-boundary Houses:  471\n",
      "Boundary Houses    :  35\n",
      "Total no. Houses   :  506\n"
     ]
    }
   ],
   "source": [
    "print(\"Non-boundary Houses: \", n_0)\n",
    "print(\"Boundary Houses    : \", n_1)\n",
    "print(\"Total no. Houses   : \", n_0 + n_1)\n"
   ]
  },
  {
   "cell_type": "markdown",
   "metadata": {},
   "source": [
    "### NOTE:\n",
    "- Above count shows there are **35** houses bounds the Charles river while **471** houses do not.\n",
    "- To make a reasonable inference with t-test or Anova, a random sample of 30 houses are selected from each group as follows:"
   ]
  },
  {
   "cell_type": "code",
   "execution_count": 33,
   "metadata": {},
   "outputs": [
    {
     "name": "stdout",
     "output_type": "stream",
     "text": [
      "Non-Boundary houses = 30\n",
      "Boundary houses     = 30\n",
      "mean of medv for Non-Bounded houses   = 22.28\n",
      "mean of medv for Bounded houses = 28.45\n"
     ]
    }
   ],
   "source": [
    "# create random index of 30 out of the lot\n",
    "\n",
    "#np.random.seed(101)  #Seeding not working here? \n",
    "rindex_0 =  np.array(sample(range(len(df3_0)), 30))\n",
    "rindex_1 =  np.array(sample(range(len(df3_1)), 30))\n",
    "# print(rindex_0)\n",
    "# print(rindex_1)\n",
    "\n",
    "# get 30 random rows from each of the dataframes and then print them out (using iloc for positional indexing)\n",
    "dfr_0 = df3_0.iloc[rindex_0]\n",
    "dfr_1 = df3_1.iloc[rindex_1]\n",
    "# print(dfr_0)\n",
    "# print(dfr_1)\n",
    "\n",
    "# Count the samples.\n",
    "nA = dfr_0['chas'].count()\n",
    "nB = dfr_1['chas'].count()\n",
    "print(f'Non-Boundary houses = {nA}')\n",
    "print(f'Boundary houses     = {nB}')\n",
    "\n",
    "# Calculate the means.\n",
    "mA = dfr_0['medv'].sum() / nA\n",
    "mB = dfr_1['medv'].sum() / nB\n",
    "\n",
    "# Print to 2 decimal places\n",
    "print(f\"mean of medv for Non-Bounded houses   = {mA:.2f}\")\n",
    "print(f\"mean of medv for Bounded houses = {mB:.2f}\")"
   ]
  },
  {
   "cell_type": "code",
   "execution_count": 34,
   "metadata": {},
   "outputs": [
    {
     "name": "stdout",
     "output_type": "stream",
     "text": [
      "[22.16258504 22.61112626 22.7138408  22.15425617 21.77419146 21.04429361\n",
      " 22.92015147 22.35296984 22.98771847 22.21667953 21.97228873 22.98168913\n",
      " 22.18866208 22.25892493 23.35211851 21.84294909 22.41336295 23.43987909\n",
      " 22.54293478 21.98645411 22.45861994 22.3255145  22.12591415 21.14356029\n",
      " 23.28543513 22.21214716 22.25419051 22.91540467 22.71662863 22.17828994]\n",
      "[28.3509348  28.54951848 28.29864661 27.98910493 28.44713665 27.90539912\n",
      " 28.97675592 27.89045784 28.84268187 27.85293695 29.56611367 28.26859143\n",
      " 28.43474423 27.69788595 29.44119003 28.78760603 28.30834975 29.07400953\n",
      " 28.67782584 27.58615676 27.73752474 28.19144365 28.21601366 29.34866055\n",
      " 28.34726442 28.09366809 27.67743051 29.10068239 28.65624395 28.41766269]\n"
     ]
    }
   ],
   "source": [
    "# Set parameters for two populations.\n",
    "popA = {'m': mA, 's': 0.50}\n",
    "popB = {'m': mB, 's': 0.50}\n",
    "\n",
    "# # Create two samples, one from each population.\n",
    "# # Create two samples, one from each population.\n",
    "\n",
    "sampA = np.random.normal(popA['m'], popA['s'], 30)\n",
    "sampB = np.random.normal(popB['m'], popB['s'], 30)\n",
    "\n",
    "print(sampA)\n",
    "print(sampB)"
   ]
  },
  {
   "cell_type": "code",
   "execution_count": 35,
   "metadata": {},
   "outputs": [
    {
     "data": {
      "image/png": "[encoded data removed]",
      "text/plain": [
       "<Figure size 842.4x595.44 with 1 Axes>"
      ]
     },
     "metadata": {},
     "output_type": "display_data"
    },
    {
     "name": "stdout",
     "output_type": "stream",
     "text": [
      "\n",
      "***********************************************\n",
      "mean of medv for Non-Bounded houses  = 22.28\n",
      "mean of medv for Bounded houses      = 28.45\n",
      "***********************************************\n"
     ]
    }
   ],
   "source": [
    "# Plot histograms of the two samples.\n",
    "plt.hist(sampA, density=True, color='g', label=\"Sample A, Non-Boundary River\")\n",
    "plt.hist(sampB, density=True, color='b', label=\"Sample B, Boundary River\")\n",
    "\n",
    "# Display a legend.\n",
    "plt.legend()\n",
    "plt.show()\n",
    "print(\"\")\n",
    "\n",
    "print(\"***********************************************\")\n",
    "print(f\"mean of medv for Non-Bounded houses  = {mA:.2f}\")\n",
    "print(f\"mean of medv for Bounded houses      = {mB:.2f}\")\n",
    "print(\"***********************************************\")"
   ]
  },
  {
   "cell_type": "code",
   "execution_count": 36,
   "metadata": {},
   "outputs": [
    {
     "data": {
      "text/plain": [
       "Ttest_indResult(statistic=-42.52883013366111, pvalue=2.0100992246296534e-45)"
      ]
     },
     "execution_count": 36,
     "metadata": {},
     "output_type": "execute_result"
    }
   ],
   "source": [
    "stats.ttest_ind(sampA, sampB)"
   ]
  },
  {
   "cell_type": "code",
   "execution_count": 37,
   "metadata": {},
   "outputs": [
    {
     "data": {
      "text/plain": [
       "F_onewayResult(statistic=1808.7013925377935, pvalue=2.0100992246298703e-45)"
      ]
     },
     "execution_count": 37,
     "metadata": {},
     "output_type": "execute_result"
    }
   ],
   "source": [
    "# Anova... gives the same result as the t-test!\n",
    "# stats.f_oneway(dfr_0['medv'], dfr_1['medv'])\n",
    "stats.f_oneway(sampA, sampB)"
   ]
  },
  {
   "cell_type": "markdown",
   "metadata": {},
   "source": [
    "***\n",
    "\n",
    "### 2.1 Calculating the t-statistic\n",
    "\n",
    "From the __WikiPedia__ pages for [Student's t-test](https://en.wikipedia.org/wiki/Student%27s_t-test#Equal_or_unequal_sample_sizes,_equal_variance) and [Variance](https://en.wikipedia.org/wiki/Variance#Sample_variance).\n",
    "\n",
    "Note that we are using the calculations for two samples, with equal variances, and possibly different sample sizes. Because the ratio of [0:1] is  471:35, we decided to use equal sample size of 30.\n",
    "\n",
    "$$ {\\displaystyle t={\\frac {{\\bar {X}}_{1}-{\\bar {X}}_{2}}{s_{p}\\cdot {\\sqrt {{\\frac {1}{n_{1}}}+{\\frac {1}{n_{2}}}}}}}} $$\n",
    "\n",
    "$$ {\\displaystyle s_{p}={\\sqrt {\\frac {\\left(n_{1}-1\\right)s_{X_{1}}^{2}+\\left(n_{2}-1\\right)s_{X_{2}}^{2}}{n_{1}+n_{2}-2}}}} $$\n",
    "\n",
    "$$ {\\displaystyle s^{2}={\\frac {1}{n-1}}\\sum _{i=1}^{n}\\left(Y_{i}-{\\overline {Y}}\\right)^{2}} $$"
   ]
  },
  {
   "cell_type": "code",
   "execution_count": 38,
   "metadata": {},
   "outputs": [
    {
     "name": "stdout",
     "output_type": "stream",
     "text": [
      "30.0\n",
      "30.0\n",
      "Mean of sample A:        22.3844\n",
      "Mean of sample B:        28.4244\n",
      "Size of sample A:        30.0000\n",
      "Size of sample B:        30.0000\n",
      "Variance of sample A:     0.3148\n",
      "Variance of sample B:     0.2903\n",
      "Pooled std dev:           0.5500\n",
      "t-statistic:            -42.5288\n"
     ]
    }
   ],
   "source": [
    "# # Count the samples.\n",
    "nA = float(len(sampA))\n",
    "nB = float(len(sampB))\n",
    "print(nA)\n",
    "print(nB)\n",
    "\n",
    "# # Calculate the means.\n",
    "mA = sampA.sum() / nA\n",
    "mB = sampB.sum() / nB\n",
    "\n",
    "# Sample variances.\n",
    "varA = ((sampA - mA)**2).sum() / (nA - 1.0)\n",
    "varB = ((sampB - mB)**2).sum() / (nB - 1.0)\n",
    "\n",
    "# Pooled standard deviation.\n",
    "sp = np.sqrt(((nA - 1.0) * varA + (nB - 1.0) * varB) / (nA + nB - 2.0))\n",
    "\n",
    "# t-statistic\n",
    "t = (mA - mB) / (sp * np.sqrt((1.0 / nA) + (1.0 / nB)))\n",
    "\n",
    "print(f\"Mean of sample A:       {mA:8.4f}\")\n",
    "print(f\"Mean of sample B:       {mB:8.4f}\")\n",
    "print(f\"Size of sample A:       {nA:8.4f}\")\n",
    "print(f\"Size of sample B:       {nB:8.4f}\")\n",
    "print(f\"Variance of sample A:   {varA:8.4f}\")\n",
    "print(f\"Variance of sample B:   {varB:8.4f}\")\n",
    "print(f\"Pooled std dev:         {sp:8.4f}\")\n",
    "print(f\"t-statistic:            {t:8.4f}\")"
   ]
  },
  {
   "cell_type": "markdown",
   "metadata": {},
   "source": [
    "#### Note that the t-statistics is same as t-test from earlier generated by scipy..."
   ]
  },
  {
   "cell_type": "markdown",
   "metadata": {},
   "source": [
    "#### 2.1.1 Critical values\n",
    "\n",
    "* For a two-tail test (e.g. $H_0$: the means are equal) we reject the null hypothesis $H_0$ if the value of the t-statistic from the samples is further away from zero than the t-statistic at the ($0.5 / 2.0 =$) $0.025$ level."
   ]
  },
  {
   "cell_type": "code",
   "execution_count": 39,
   "metadata": {},
   "outputs": [
    {
     "name": "stdout",
     "output_type": "stream",
     "text": [
      "2.0017174830120923\n"
     ]
    },
    {
     "data": {
      "image/png": "[encoded data removed]",
      "text/plain": [
       "<Figure size 842.4x595.44 with 1 Axes>"
      ]
     },
     "metadata": {},
     "output_type": "display_data"
    }
   ],
   "source": [
    "# x values for plotting.\n",
    "x = np.linspace(-5.0, 5.0, 1000)\n",
    "\n",
    "# The probability density functions (PDFs) for the t distribution.\n",
    "# The number of degrees of freedom is (nA + nB - 2).\n",
    "pdf = stats.t.pdf(x, (nA + nB - 2.0))\n",
    "\n",
    "# Create a dataframe from x and pdf.\n",
    "df = pd.DataFrame({'x': x, 'y': pdf})\n",
    "\n",
    "# Plot the overall distribution.\n",
    "plt.fill_between(df['x'], df['y'], color='g', alpha=0.25)\n",
    "\n",
    "# Plot the values more extreme than our |t|.\n",
    "crit = np.abs(stats.t.ppf(0.975, nA + nB - 2.0))     #ppf\n",
    "tail1 = df[df['x'] >=  crit]\n",
    "tail2 = df[df['x'] <= -crit]\n",
    "plt.fill_between(tail1['x'], tail1['y'], color='b', alpha=0.25)\n",
    "plt.fill_between(tail2['x'], tail2['y'], color='b', alpha=0.25)\n",
    "\n",
    "print(crit)\n",
    "\n",
    "plt.show()"
   ]
  },
  {
   "cell_type": "markdown",
   "metadata": {},
   "source": [
    "* t-statistics is much lesser than the critical value therefore __we reject__ the null hypothesis. \n",
    "* The mean of house prices - those along & those not along the river are __certainly different__. "
   ]
  },
  {
   "cell_type": "markdown",
   "metadata": {},
   "source": [
    "***\n",
    "## 3. Prediction\n",
    "***"
   ]
  },
  {
   "cell_type": "markdown",
   "metadata": {},
   "source": [
    "### 3.1 The dataset, input and output view"
   ]
  },
  {
   "cell_type": "markdown",
   "metadata": {},
   "source": [
    "Peek into the dataset once more..."
   ]
  },
  {
   "cell_type": "code",
   "execution_count": 40,
   "metadata": {},
   "outputs": [
    {
     "data": {
      "text/html": [
       "<div>\n",
       "<style scoped>\n",
       "    .dataframe tbody tr th:only-of-type {\n",
       "        vertical-align: middle;\n",
       "    }\n",
       "\n",
       "    .dataframe tbody tr th {\n",
       "        vertical-align: top;\n",
       "    }\n",
       "\n",
       "    .dataframe thead th {\n",
       "        text-align: right;\n",
       "    }\n",
       "</style>\n",
       "<table border=\"1\" class=\"dataframe\">\n",
       "  <thead>\n",
       "    <tr style=\"text-align: right;\">\n",
       "      <th></th>\n",
       "      <th>crim</th>\n",
       "      <th>zn</th>\n",
       "      <th>indus</th>\n",
       "      <th>chas</th>\n",
       "      <th>nox</th>\n",
       "      <th>rm</th>\n",
       "      <th>age</th>\n",
       "      <th>dis</th>\n",
       "      <th>rad</th>\n",
       "      <th>tax</th>\n",
       "      <th>ptratio</th>\n",
       "      <th>black</th>\n",
       "      <th>lstat</th>\n",
       "      <th>medv</th>\n",
       "    </tr>\n",
       "  </thead>\n",
       "  <tbody>\n",
       "    <tr>\n",
       "      <td>0</td>\n",
       "      <td>0.00632</td>\n",
       "      <td>18.0</td>\n",
       "      <td>2.31</td>\n",
       "      <td>0</td>\n",
       "      <td>0.538</td>\n",
       "      <td>6.575</td>\n",
       "      <td>65.2</td>\n",
       "      <td>4.0900</td>\n",
       "      <td>1</td>\n",
       "      <td>296</td>\n",
       "      <td>15.3</td>\n",
       "      <td>396.90</td>\n",
       "      <td>4.98</td>\n",
       "      <td>24.0</td>\n",
       "    </tr>\n",
       "    <tr>\n",
       "      <td>1</td>\n",
       "      <td>0.02731</td>\n",
       "      <td>0.0</td>\n",
       "      <td>7.07</td>\n",
       "      <td>0</td>\n",
       "      <td>0.469</td>\n",
       "      <td>6.421</td>\n",
       "      <td>78.9</td>\n",
       "      <td>4.9671</td>\n",
       "      <td>2</td>\n",
       "      <td>242</td>\n",
       "      <td>17.8</td>\n",
       "      <td>396.90</td>\n",
       "      <td>9.14</td>\n",
       "      <td>21.6</td>\n",
       "    </tr>\n",
       "    <tr>\n",
       "      <td>2</td>\n",
       "      <td>0.02729</td>\n",
       "      <td>0.0</td>\n",
       "      <td>7.07</td>\n",
       "      <td>0</td>\n",
       "      <td>0.469</td>\n",
       "      <td>7.185</td>\n",
       "      <td>61.1</td>\n",
       "      <td>4.9671</td>\n",
       "      <td>2</td>\n",
       "      <td>242</td>\n",
       "      <td>17.8</td>\n",
       "      <td>392.83</td>\n",
       "      <td>4.03</td>\n",
       "      <td>34.7</td>\n",
       "    </tr>\n",
       "    <tr>\n",
       "      <td>3</td>\n",
       "      <td>0.03237</td>\n",
       "      <td>0.0</td>\n",
       "      <td>2.18</td>\n",
       "      <td>0</td>\n",
       "      <td>0.458</td>\n",
       "      <td>6.998</td>\n",
       "      <td>45.8</td>\n",
       "      <td>6.0622</td>\n",
       "      <td>3</td>\n",
       "      <td>222</td>\n",
       "      <td>18.7</td>\n",
       "      <td>394.63</td>\n",
       "      <td>2.94</td>\n",
       "      <td>33.4</td>\n",
       "    </tr>\n",
       "    <tr>\n",
       "      <td>4</td>\n",
       "      <td>0.06905</td>\n",
       "      <td>0.0</td>\n",
       "      <td>2.18</td>\n",
       "      <td>0</td>\n",
       "      <td>0.458</td>\n",
       "      <td>7.147</td>\n",
       "      <td>54.2</td>\n",
       "      <td>6.0622</td>\n",
       "      <td>3</td>\n",
       "      <td>222</td>\n",
       "      <td>18.7</td>\n",
       "      <td>396.90</td>\n",
       "      <td>5.33</td>\n",
       "      <td>36.2</td>\n",
       "    </tr>\n",
       "  </tbody>\n",
       "</table>\n",
       "</div>"
      ],
      "text/plain": [
       "      crim    zn  indus  chas    nox     rm   age     dis  rad  tax  ptratio  \\\n",
       "0  0.00632  18.0   2.31     0  0.538  6.575  65.2  4.0900    1  296     15.3   \n",
       "1  0.02731   0.0   7.07     0  0.469  6.421  78.9  4.9671    2  242     17.8   \n",
       "2  0.02729   0.0   7.07     0  0.469  7.185  61.1  4.9671    2  242     17.8   \n",
       "3  0.03237   0.0   2.18     0  0.458  6.998  45.8  6.0622    3  222     18.7   \n",
       "4  0.06905   0.0   2.18     0  0.458  7.147  54.2  6.0622    3  222     18.7   \n",
       "\n",
       "    black  lstat  medv  \n",
       "0  396.90   4.98  24.0  \n",
       "1  396.90   9.14  21.6  \n",
       "2  392.83   4.03  34.7  \n",
       "3  394.63   2.94  33.4  \n",
       "4  396.90   5.33  36.2  "
      ]
     },
     "execution_count": 40,
     "metadata": {},
     "output_type": "execute_result"
    }
   ],
   "source": [
    "df3.head()"
   ]
  },
  {
   "cell_type": "markdown",
   "metadata": {},
   "source": [
    "#### The first task is to split the dataset into two random samples (80% and 20%) for 80% training and 20% testing\n",
    "***"
   ]
  },
  {
   "cell_type": "markdown",
   "metadata": {},
   "source": [
    "### 3.2 Partition the dataset to Training and Test  - ratio(80:20) (The dataset, input and output view)\n",
    "- When we do a train test split we both split our features into X-train, X-test as well as our labels into y-train and y-test\n",
    "- Then we choose a percentage as your test size. We select 20% for test and therefore 80% of the data for training as shown below.\n",
    "- For repeatability so that the results of the split is the same every time, we set a random_ state variable to to a specific number. This number is just an arbitrary arbitrary choice.\n",
    "\n"
   ]
  },
  {
   "cell_type": "code",
   "execution_count": 41,
   "metadata": {},
   "outputs": [
    {
     "data": {
      "text/html": [
       "<div>\n",
       "<style scoped>\n",
       "    .dataframe tbody tr th:only-of-type {\n",
       "        vertical-align: middle;\n",
       "    }\n",
       "\n",
       "    .dataframe tbody tr th {\n",
       "        vertical-align: top;\n",
       "    }\n",
       "\n",
       "    .dataframe thead th {\n",
       "        text-align: right;\n",
       "    }\n",
       "</style>\n",
       "<table border=\"1\" class=\"dataframe\">\n",
       "  <thead>\n",
       "    <tr style=\"text-align: right;\">\n",
       "      <th></th>\n",
       "      <th>crim</th>\n",
       "      <th>zn</th>\n",
       "      <th>indus</th>\n",
       "      <th>chas</th>\n",
       "      <th>nox</th>\n",
       "      <th>rm</th>\n",
       "      <th>age</th>\n",
       "      <th>dis</th>\n",
       "      <th>rad</th>\n",
       "      <th>tax</th>\n",
       "      <th>ptratio</th>\n",
       "      <th>black</th>\n",
       "      <th>lstat</th>\n",
       "      <th>medv</th>\n",
       "    </tr>\n",
       "  </thead>\n",
       "  <tbody>\n",
       "    <tr>\n",
       "      <td>0</td>\n",
       "      <td>0.00632</td>\n",
       "      <td>18.0</td>\n",
       "      <td>2.31</td>\n",
       "      <td>0</td>\n",
       "      <td>0.538</td>\n",
       "      <td>6.575</td>\n",
       "      <td>65.2</td>\n",
       "      <td>4.0900</td>\n",
       "      <td>1</td>\n",
       "      <td>296</td>\n",
       "      <td>15.3</td>\n",
       "      <td>396.90</td>\n",
       "      <td>4.98</td>\n",
       "      <td>24.0</td>\n",
       "    </tr>\n",
       "    <tr>\n",
       "      <td>1</td>\n",
       "      <td>0.02731</td>\n",
       "      <td>0.0</td>\n",
       "      <td>7.07</td>\n",
       "      <td>0</td>\n",
       "      <td>0.469</td>\n",
       "      <td>6.421</td>\n",
       "      <td>78.9</td>\n",
       "      <td>4.9671</td>\n",
       "      <td>2</td>\n",
       "      <td>242</td>\n",
       "      <td>17.8</td>\n",
       "      <td>396.90</td>\n",
       "      <td>9.14</td>\n",
       "      <td>21.6</td>\n",
       "    </tr>\n",
       "    <tr>\n",
       "      <td>2</td>\n",
       "      <td>0.02729</td>\n",
       "      <td>0.0</td>\n",
       "      <td>7.07</td>\n",
       "      <td>0</td>\n",
       "      <td>0.469</td>\n",
       "      <td>7.185</td>\n",
       "      <td>61.1</td>\n",
       "      <td>4.9671</td>\n",
       "      <td>2</td>\n",
       "      <td>242</td>\n",
       "      <td>17.8</td>\n",
       "      <td>392.83</td>\n",
       "      <td>4.03</td>\n",
       "      <td>34.7</td>\n",
       "    </tr>\n",
       "    <tr>\n",
       "      <td>3</td>\n",
       "      <td>0.03237</td>\n",
       "      <td>0.0</td>\n",
       "      <td>2.18</td>\n",
       "      <td>0</td>\n",
       "      <td>0.458</td>\n",
       "      <td>6.998</td>\n",
       "      <td>45.8</td>\n",
       "      <td>6.0622</td>\n",
       "      <td>3</td>\n",
       "      <td>222</td>\n",
       "      <td>18.7</td>\n",
       "      <td>394.63</td>\n",
       "      <td>2.94</td>\n",
       "      <td>33.4</td>\n",
       "    </tr>\n",
       "    <tr>\n",
       "      <td>4</td>\n",
       "      <td>0.06905</td>\n",
       "      <td>0.0</td>\n",
       "      <td>2.18</td>\n",
       "      <td>0</td>\n",
       "      <td>0.458</td>\n",
       "      <td>7.147</td>\n",
       "      <td>54.2</td>\n",
       "      <td>6.0622</td>\n",
       "      <td>3</td>\n",
       "      <td>222</td>\n",
       "      <td>18.7</td>\n",
       "      <td>396.90</td>\n",
       "      <td>5.33</td>\n",
       "      <td>36.2</td>\n",
       "    </tr>\n",
       "    <tr>\n",
       "      <td>...</td>\n",
       "      <td>...</td>\n",
       "      <td>...</td>\n",
       "      <td>...</td>\n",
       "      <td>...</td>\n",
       "      <td>...</td>\n",
       "      <td>...</td>\n",
       "      <td>...</td>\n",
       "      <td>...</td>\n",
       "      <td>...</td>\n",
       "      <td>...</td>\n",
       "      <td>...</td>\n",
       "      <td>...</td>\n",
       "      <td>...</td>\n",
       "      <td>...</td>\n",
       "    </tr>\n",
       "    <tr>\n",
       "      <td>501</td>\n",
       "      <td>0.06263</td>\n",
       "      <td>0.0</td>\n",
       "      <td>11.93</td>\n",
       "      <td>0</td>\n",
       "      <td>0.573</td>\n",
       "      <td>6.593</td>\n",
       "      <td>69.1</td>\n",
       "      <td>2.4786</td>\n",
       "      <td>1</td>\n",
       "      <td>273</td>\n",
       "      <td>21.0</td>\n",
       "      <td>391.99</td>\n",
       "      <td>9.67</td>\n",
       "      <td>22.4</td>\n",
       "    </tr>\n",
       "    <tr>\n",
       "      <td>502</td>\n",
       "      <td>0.04527</td>\n",
       "      <td>0.0</td>\n",
       "      <td>11.93</td>\n",
       "      <td>0</td>\n",
       "      <td>0.573</td>\n",
       "      <td>6.120</td>\n",
       "      <td>76.7</td>\n",
       "      <td>2.2875</td>\n",
       "      <td>1</td>\n",
       "      <td>273</td>\n",
       "      <td>21.0</td>\n",
       "      <td>396.90</td>\n",
       "      <td>9.08</td>\n",
       "      <td>20.6</td>\n",
       "    </tr>\n",
       "    <tr>\n",
       "      <td>503</td>\n",
       "      <td>0.06076</td>\n",
       "      <td>0.0</td>\n",
       "      <td>11.93</td>\n",
       "      <td>0</td>\n",
       "      <td>0.573</td>\n",
       "      <td>6.976</td>\n",
       "      <td>91.0</td>\n",
       "      <td>2.1675</td>\n",
       "      <td>1</td>\n",
       "      <td>273</td>\n",
       "      <td>21.0</td>\n",
       "      <td>396.90</td>\n",
       "      <td>5.64</td>\n",
       "      <td>23.9</td>\n",
       "    </tr>\n",
       "    <tr>\n",
       "      <td>504</td>\n",
       "      <td>0.10959</td>\n",
       "      <td>0.0</td>\n",
       "      <td>11.93</td>\n",
       "      <td>0</td>\n",
       "      <td>0.573</td>\n",
       "      <td>6.794</td>\n",
       "      <td>89.3</td>\n",
       "      <td>2.3889</td>\n",
       "      <td>1</td>\n",
       "      <td>273</td>\n",
       "      <td>21.0</td>\n",
       "      <td>393.45</td>\n",
       "      <td>6.48</td>\n",
       "      <td>22.0</td>\n",
       "    </tr>\n",
       "    <tr>\n",
       "      <td>505</td>\n",
       "      <td>0.04741</td>\n",
       "      <td>0.0</td>\n",
       "      <td>11.93</td>\n",
       "      <td>0</td>\n",
       "      <td>0.573</td>\n",
       "      <td>6.030</td>\n",
       "      <td>80.8</td>\n",
       "      <td>2.5050</td>\n",
       "      <td>1</td>\n",
       "      <td>273</td>\n",
       "      <td>21.0</td>\n",
       "      <td>396.90</td>\n",
       "      <td>7.88</td>\n",
       "      <td>11.9</td>\n",
       "    </tr>\n",
       "  </tbody>\n",
       "</table>\n",
       "<p>506 rows × 14 columns</p>\n",
       "</div>"
      ],
      "text/plain": [
       "        crim    zn  indus  chas    nox     rm   age     dis  rad  tax  \\\n",
       "0    0.00632  18.0   2.31     0  0.538  6.575  65.2  4.0900    1  296   \n",
       "1    0.02731   0.0   7.07     0  0.469  6.421  78.9  4.9671    2  242   \n",
       "2    0.02729   0.0   7.07     0  0.469  7.185  61.1  4.9671    2  242   \n",
       "3    0.03237   0.0   2.18     0  0.458  6.998  45.8  6.0622    3  222   \n",
       "4    0.06905   0.0   2.18     0  0.458  7.147  54.2  6.0622    3  222   \n",
       "..       ...   ...    ...   ...    ...    ...   ...     ...  ...  ...   \n",
       "501  0.06263   0.0  11.93     0  0.573  6.593  69.1  2.4786    1  273   \n",
       "502  0.04527   0.0  11.93     0  0.573  6.120  76.7  2.2875    1  273   \n",
       "503  0.06076   0.0  11.93     0  0.573  6.976  91.0  2.1675    1  273   \n",
       "504  0.10959   0.0  11.93     0  0.573  6.794  89.3  2.3889    1  273   \n",
       "505  0.04741   0.0  11.93     0  0.573  6.030  80.8  2.5050    1  273   \n",
       "\n",
       "     ptratio   black  lstat  medv  \n",
       "0       15.3  396.90   4.98  24.0  \n",
       "1       17.8  396.90   9.14  21.6  \n",
       "2       17.8  392.83   4.03  34.7  \n",
       "3       18.7  394.63   2.94  33.4  \n",
       "4       18.7  396.90   5.33  36.2  \n",
       "..       ...     ...    ...   ...  \n",
       "501     21.0  391.99   9.67  22.4  \n",
       "502     21.0  396.90   9.08  20.6  \n",
       "503     21.0  396.90   5.64  23.9  \n",
       "504     21.0  393.45   6.48  22.0  \n",
       "505     21.0  396.90   7.88  11.9  \n",
       "\n",
       "[506 rows x 14 columns]"
      ]
     },
     "execution_count": 41,
     "metadata": {},
     "output_type": "execute_result"
    }
   ],
   "source": [
    "# Features\n",
    "X = df3[['crim', 'zn', 'indus','chas','nox','rm','age','dis','rad','tax','ptratio','black','lstat']].values\n",
    "\n",
    "# Label\n",
    "y  = df3['medv'].values\n",
    "\n",
    "# Split the dataset\n",
    "X_train, X_test, y_train, y_test = train_test_split(X,y,test_size=0.2,random_state=111)\n",
    "df3"
   ]
  },
  {
   "cell_type": "code",
   "execution_count": 42,
   "metadata": {},
   "outputs": [
    {
     "name": "stdout",
     "output_type": "stream",
     "text": [
      "=====================================\n",
      "Size of Test data is:\t\t 102\n",
      "Size of Training data is: \t 404\n",
      "Total size of dataset is: \t 506\n",
      "=====================================\n"
     ]
    }
   ],
   "source": [
    "print(\"=====================================\")\n",
    "print(\"Size of Test data is:\\t\\t\", len(X_test))\n",
    "print(\"Size of Training data is: \\t\", len(X_train))\n",
    "print(\"Total size of dataset is: \\t\", len(X_test) + len(X_train))\n",
    "print(\"=====================================\")\n",
    "# print(inputTrainDataX)"
   ]
  },
  {
   "cell_type": "markdown",
   "metadata": {},
   "source": [
    "### 3.3 Scale the training and test Data and then Create the model\n",
    "- We'll go ahead and import MinMaxScalar to transform or normalize the data based off the standard deviation of the data as well as the min and max values."
   ]
  },
  {
   "cell_type": "code",
   "execution_count": 43,
   "metadata": {},
   "outputs": [],
   "source": [
    "# Scale the trainData (to range between 0 & 1) so it will work well with sgd [REFz]\n",
    "scaler = MinMaxScaler()\n",
    "scaler.fit(X_train)\n",
    "\n",
    "X_train = scaler.transform(X_train)\n",
    "X_test = scaler.transform(X_test)"
   ]
  },
  {
   "cell_type": "markdown",
   "metadata": {},
   "source": [
    "#### 3.3.1 Whitening...__NOTE: Whitening did not improve the model prediction as such in this work__"
   ]
  },
  {
   "cell_type": "code",
   "execution_count": 44,
   "metadata": {},
   "outputs": [],
   "source": [
    "# - Convert NDArray to pd.Dataframe\n",
    "#Xx_train = pd.DataFrame(data=X_train[1:,1:],index=X_train[1:,0],columns=X_train[0,0:])\n",
    "# Xx_train = pd.DataFrame(data=X_train[1:,1:])\n",
    "# Xx_train\n",
    "# Xx_train = pd.DataFrame(X_train[0:])\n",
    "# # Xx_train.columns = ['crim', 'zn', 'indus','chas','nox','rm','age','dis','rad','tax','ptratio','black','lstat']\n",
    "# Xx_train"
   ]
  },
  {
   "cell_type": "code",
   "execution_count": 45,
   "metadata": {},
   "outputs": [],
   "source": [
    "# pca = dec.PCA(n_components=13, whiten=True)\n",
    "# pca.fit(X_train)\n",
    "# # X_train_white = pd.DataFrame(pca.transform(X_train), columns=Xx_train.columns)\n",
    "# X_train_white = pca.transform(X_train)\n",
    "# X_train_white"
   ]
  },
  {
   "cell_type": "code",
   "execution_count": 46,
   "metadata": {},
   "outputs": [],
   "source": [
    "# X_test_white = pca.transform(X_test)\n",
    "# X_test_white"
   ]
  },
  {
   "cell_type": "markdown",
   "metadata": {},
   "source": [
    "#### 3.3.2 Choosing an optimizer and loss\n",
    "\n",
    "It is very important to carefully consider the kind of problem at hand in order to select the right combination on optimizers and loss functions. The following are suitable guides.[10]\n",
    "\n",
    "##### __For a multi-class classification problem__\n",
    "- model.compile(optimizer='rmsprop', loss='categorical_crossentropy', metrics=['accuracy'])\n",
    "\n",
    "##### __For a binary classification problem__\n",
    "- model.compile(optimizer='rmsprop', loss='binary_crossentropy', metrics=['accuracy'])\n",
    "\n",
    "##### __For a mean squared error regression problem__\n",
    "- model.compile(optimizer='rmsprop', loss='mse'). In reality, __adam__ is more popular choice.\n",
    "\n",
    "#### The problem at hand in this project falls in the category of 'mean squared error regression'"
   ]
  },
  {
   "cell_type": "code",
   "execution_count": 47,
   "metadata": {},
   "outputs": [],
   "source": [
    "model = Sequential()\n",
    "\n",
    "model.add(Dense(13,activation='relu'))\n",
    "model.add(Dense(13,activation='relu'))\n",
    "model.add(Dense(26,activation='relu'))\n",
    "model.add(Dense(50,activation='relu'))\n",
    "model.add(Dense(26,activation='relu'))\n",
    "model.add(Dense(13,activation='relu'))\n",
    "model.add(Dense(13,activation='relu'))\n",
    "# Final output node for prediction\n",
    "model.add(Dense(1,activation='linear'))"
   ]
  },
  {
   "cell_type": "markdown",
   "metadata": {},
   "source": [
    "### 3.4 Compile and train the model (fitting the data) "
   ]
  },
  {
   "cell_type": "markdown",
   "metadata": {},
   "source": [
    "#### 3.4.1 Quick Notes on NEW terms ... [3]\n",
    "#### Some common definitions that are necessary to know and understand to correctly utilize Keras:\n",
    "\n",
    "* __Sample:__ one element of a dataset.\n",
    "    * Example: one image is a sample in a convolutional network\n",
    "    * Example: one audio file is a sample for a speech recognition model\n",
    "* __Batch:__ a set of N samples. The samples in a batch are processed independently, in parallel. If training, a batch results in only one update to the model.A batch generally approximates the distribution of the input data better than a single input. The larger the batch, the better the approximation; however, it is also true that the batch will take longer to process and will still result in only one update. For inference (evaluate/predict), it is recommended to pick a batch size that is as large as you can afford without going out of memory (since larger batches will usually result in faster evaluation/prediction).\n",
    "* __Epoch:__ an arbitrary cutoff, generally defined as \"one pass over the entire dataset\", used to separate training into distinct phases, which is useful for logging and periodic evaluation.\n",
    "* When using validation_data or validation_split with the fit method of Keras models, evaluation will be run at the end of every epoch.\n",
    "* Within Keras, there is the ability to add callbacks specifically designed to be run at the end of an epoch. Examples of these are learning rate changes and model checkpointing (saving)."
   ]
  },
  {
   "cell_type": "code",
   "execution_count": 48,
   "metadata": {},
   "outputs": [],
   "source": [
    "# model.compile(optimizer='rmsprop',loss='mse')\n",
    "model.compile(optimizer='adam',loss='mse')"
   ]
  },
  {
   "cell_type": "code",
   "execution_count": 49,
   "metadata": {},
   "outputs": [
    {
     "name": "stdout",
     "output_type": "stream",
     "text": [
      "Train on 404 samples\n",
      "Epoch 1/300\n",
      "404/404 [==============================] - 1s 3ms/sample - loss: 495.2154\n",
      "Epoch 2/300\n",
      "404/404 [==============================] - 0s 207us/sample - loss: 123.8134\n",
      "Epoch 3/300\n",
      "404/404 [==============================] - 0s 190us/sample - loss: 74.3540\n",
      "Epoch 4/300\n",
      "404/404 [==============================] - 0s 198us/sample - loss: 57.0559\n",
      "Epoch 5/300\n",
      "404/404 [==============================] - 0s 202us/sample - loss: 48.2886\n",
      "Epoch 6/300\n",
      "404/404 [==============================] - 0s 200us/sample - loss: 40.6443\n",
      "Epoch 7/300\n",
      "404/404 [==============================] - 0s 199us/sample - loss: 33.8924\n",
      "Epoch 8/300\n",
      "404/404 [==============================] - 0s 189us/sample - loss: 28.3859\n",
      "Epoch 9/300\n",
      "404/404 [==============================] - 0s 195us/sample - loss: 25.2862\n",
      "Epoch 10/300\n",
      "404/404 [==============================] - 0s 199us/sample - loss: 23.0951\n",
      "Epoch 11/300\n",
      "404/404 [==============================] - 0s 198us/sample - loss: 22.0866\n",
      "Epoch 12/300\n",
      "404/404 [==============================] - 0s 187us/sample - loss: 21.1493\n",
      "Epoch 13/300\n",
      "404/404 [==============================] - 0s 198us/sample - loss: 20.6283\n",
      "Epoch 14/300\n",
      "404/404 [==============================] - 0s 195us/sample - loss: 20.4695\n",
      "Epoch 15/300\n",
      "404/404 [==============================] - 0s 198us/sample - loss: 19.5030\n",
      "Epoch 16/300\n",
      "404/404 [==============================] - 0s 194us/sample - loss: 18.9949\n",
      "Epoch 17/300\n",
      "404/404 [==============================] - 0s 204us/sample - loss: 18.7482\n",
      "Epoch 18/300\n",
      "404/404 [==============================] - 0s 188us/sample - loss: 18.1136\n",
      "Epoch 19/300\n",
      "404/404 [==============================] - 0s 194us/sample - loss: 18.6929\n",
      "Epoch 20/300\n",
      "404/404 [==============================] - 0s 197us/sample - loss: 16.9463\n",
      "Epoch 21/300\n",
      "404/404 [==============================] - 0s 194us/sample - loss: 18.2407\n",
      "Epoch 22/300\n",
      "404/404 [==============================] - 0s 192us/sample - loss: 17.1493\n",
      "Epoch 23/300\n",
      "404/404 [==============================] - 0s 197us/sample - loss: 16.5171\n",
      "Epoch 24/300\n",
      "404/404 [==============================] - 0s 208us/sample - loss: 17.1369\n",
      "Epoch 25/300\n",
      "404/404 [==============================] - 0s 201us/sample - loss: 16.9044\n",
      "Epoch 26/300\n",
      "404/404 [==============================] - 0s 215us/sample - loss: 17.6293\n",
      "Epoch 27/300\n",
      "404/404 [==============================] - 0s 197us/sample - loss: 15.7884\n",
      "Epoch 28/300\n",
      "404/404 [==============================] - 0s 199us/sample - loss: 16.9169\n",
      "Epoch 29/300\n",
      "404/404 [==============================] - 0s 203us/sample - loss: 15.6173\n",
      "Epoch 30/300\n",
      "404/404 [==============================] - 0s 203us/sample - loss: 17.0979\n",
      "Epoch 31/300\n",
      "404/404 [==============================] - 0s 187us/sample - loss: 18.8215\n",
      "Epoch 32/300\n",
      "404/404 [==============================] - 0s 196us/sample - loss: 15.4558\n",
      "Epoch 33/300\n",
      "404/404 [==============================] - 0s 196us/sample - loss: 15.6830\n",
      "Epoch 34/300\n",
      "404/404 [==============================] - 0s 199us/sample - loss: 15.1647\n",
      "Epoch 35/300\n",
      "404/404 [==============================] - 0s 196us/sample - loss: 15.3354\n",
      "Epoch 36/300\n",
      "404/404 [==============================] - 0s 201us/sample - loss: 15.3232\n",
      "Epoch 37/300\n",
      "404/404 [==============================] - 0s 210us/sample - loss: 15.3118\n",
      "Epoch 38/300\n",
      "404/404 [==============================] - 0s 191us/sample - loss: 14.8384\n",
      "Epoch 39/300\n",
      "404/404 [==============================] - 0s 192us/sample - loss: 15.4751\n",
      "Epoch 40/300\n",
      "404/404 [==============================] - 0s 216us/sample - loss: 14.7714\n",
      "Epoch 41/300\n",
      "404/404 [==============================] - 0s 200us/sample - loss: 14.5722\n",
      "Epoch 42/300\n",
      "404/404 [==============================] - 0s 197us/sample - loss: 15.1805\n",
      "Epoch 43/300\n",
      "404/404 [==============================] - 0s 198us/sample - loss: 15.2528\n",
      "Epoch 44/300\n",
      "404/404 [==============================] - 0s 196us/sample - loss: 15.2717\n",
      "Epoch 45/300\n",
      "404/404 [==============================] - 0s 197us/sample - loss: 14.1389\n",
      "Epoch 46/300\n",
      "404/404 [==============================] - 0s 196us/sample - loss: 14.7470\n",
      "Epoch 47/300\n",
      "404/404 [==============================] - 0s 192us/sample - loss: 15.1823\n",
      "Epoch 48/300\n",
      "404/404 [==============================] - 0s 196us/sample - loss: 13.8251\n",
      "Epoch 49/300\n",
      "404/404 [==============================] - 0s 188us/sample - loss: 13.9437\n",
      "Epoch 50/300\n",
      "404/404 [==============================] - 0s 197us/sample - loss: 15.4518\n",
      "Epoch 51/300\n",
      "404/404 [==============================] - 0s 200us/sample - loss: 17.2197\n",
      "Epoch 52/300\n",
      "404/404 [==============================] - 0s 196us/sample - loss: 14.3538\n",
      "Epoch 53/300\n",
      "404/404 [==============================] - 0s 190us/sample - loss: 15.0671\n",
      "Epoch 54/300\n",
      "404/404 [==============================] - 0s 206us/sample - loss: 14.0538\n",
      "Epoch 55/300\n",
      "404/404 [==============================] - 0s 194us/sample - loss: 13.4135\n",
      "Epoch 56/300\n",
      "404/404 [==============================] - 0s 195us/sample - loss: 14.1556\n",
      "Epoch 57/300\n",
      "404/404 [==============================] - 0s 192us/sample - loss: 14.2969\n",
      "Epoch 58/300\n",
      "404/404 [==============================] - 0s 195us/sample - loss: 13.7405\n",
      "Epoch 59/300\n",
      "404/404 [==============================] - 0s 191us/sample - loss: 13.0923\n",
      "Epoch 60/300\n",
      "404/404 [==============================] - 0s 199us/sample - loss: 13.2525\n",
      "Epoch 61/300\n",
      "404/404 [==============================] - 0s 191us/sample - loss: 15.2162\n",
      "Epoch 62/300\n",
      "404/404 [==============================] - 0s 194us/sample - loss: 14.4105\n",
      "Epoch 63/300\n",
      "404/404 [==============================] - 0s 198us/sample - loss: 13.7915\n",
      "Epoch 64/300\n",
      "404/404 [==============================] - 0s 239us/sample - loss: 13.2602\n",
      "Epoch 65/300\n",
      "404/404 [==============================] - 0s 196us/sample - loss: 13.6873\n",
      "Epoch 66/300\n",
      "404/404 [==============================] - 0s 183us/sample - loss: 13.0042\n",
      "Epoch 67/300\n",
      "404/404 [==============================] - 0s 202us/sample - loss: 12.9236\n",
      "Epoch 68/300\n",
      "404/404 [==============================] - 0s 217us/sample - loss: 12.9276\n",
      "Epoch 69/300\n",
      "404/404 [==============================] - 0s 219us/sample - loss: 13.9442\n",
      "Epoch 70/300\n",
      "404/404 [==============================] - 0s 204us/sample - loss: 12.7519\n",
      "Epoch 71/300\n",
      "404/404 [==============================] - 0s 202us/sample - loss: 12.6046\n",
      "Epoch 72/300\n",
      "404/404 [==============================] - 0s 191us/sample - loss: 12.6142\n",
      "Epoch 73/300\n",
      "404/404 [==============================] - 0s 197us/sample - loss: 13.4302\n",
      "Epoch 74/300\n",
      "404/404 [==============================] - 0s 193us/sample - loss: 13.7867\n",
      "Epoch 75/300\n",
      "404/404 [==============================] - 0s 193us/sample - loss: 13.2291\n",
      "Epoch 76/300\n",
      "404/404 [==============================] - 0s 196us/sample - loss: 12.5550\n",
      "Epoch 77/300\n",
      "404/404 [==============================] - 0s 192us/sample - loss: 12.7010\n",
      "Epoch 78/300\n",
      "404/404 [==============================] - 0s 197us/sample - loss: 12.9716\n",
      "Epoch 79/300\n",
      "404/404 [==============================] - 0s 200us/sample - loss: 12.4004\n",
      "Epoch 80/300\n",
      "404/404 [==============================] - 0s 191us/sample - loss: 12.0528\n",
      "Epoch 81/300\n",
      "404/404 [==============================] - 0s 200us/sample - loss: 11.9656\n",
      "Epoch 82/300\n",
      "404/404 [==============================] - 0s 215us/sample - loss: 11.8039\n",
      "Epoch 83/300\n",
      "404/404 [==============================] - 0s 197us/sample - loss: 11.8198\n",
      "Epoch 84/300\n",
      "404/404 [==============================] - 0s 200us/sample - loss: 12.5501\n",
      "Epoch 85/300\n",
      "404/404 [==============================] - 0s 197us/sample - loss: 12.0334\n",
      "Epoch 86/300\n",
      "404/404 [==============================] - 0s 198us/sample - loss: 10.8763\n",
      "Epoch 87/300\n",
      "404/404 [==============================] - 0s 195us/sample - loss: 13.9894\n",
      "Epoch 88/300\n",
      "404/404 [==============================] - 0s 197us/sample - loss: 13.5395\n",
      "Epoch 89/300\n",
      "404/404 [==============================] - 0s 198us/sample - loss: 12.4616\n",
      "Epoch 90/300\n",
      "404/404 [==============================] - 0s 196us/sample - loss: 11.6472\n",
      "Epoch 91/300\n",
      "404/404 [==============================] - 0s 202us/sample - loss: 11.3443\n",
      "Epoch 92/300\n",
      "404/404 [==============================] - 0s 193us/sample - loss: 10.4755\n",
      "Epoch 93/300\n",
      "404/404 [==============================] - 0s 189us/sample - loss: 10.5241\n",
      "Epoch 94/300\n",
      "404/404 [==============================] - 0s 199us/sample - loss: 10.4809\n",
      "Epoch 95/300\n",
      "404/404 [==============================] - 0s 204us/sample - loss: 9.8928\n",
      "Epoch 96/300\n",
      "404/404 [==============================] - 0s 194us/sample - loss: 10.9851\n",
      "Epoch 97/300\n",
      "404/404 [==============================] - 0s 196us/sample - loss: 11.5256\n",
      "Epoch 98/300\n",
      "404/404 [==============================] - 0s 194us/sample - loss: 10.2847\n",
      "Epoch 99/300\n",
      "404/404 [==============================] - 0s 194us/sample - loss: 10.2266\n",
      "Epoch 100/300\n",
      "404/404 [==============================] - 0s 193us/sample - loss: 9.8847\n",
      "Epoch 101/300\n",
      "404/404 [==============================] - 0s 199us/sample - loss: 9.9553\n",
      "Epoch 102/300\n",
      "404/404 [==============================] - 0s 185us/sample - loss: 10.6568\n",
      "Epoch 103/300\n",
      "404/404 [==============================] - 0s 203us/sample - loss: 11.0887\n",
      "Epoch 104/300\n",
      "404/404 [==============================] - 0s 208us/sample - loss: 10.1455\n",
      "Epoch 105/300\n",
      "404/404 [==============================] - 0s 191us/sample - loss: 9.7180\n",
      "Epoch 106/300\n",
      "404/404 [==============================] - 0s 206us/sample - loss: 10.6102\n",
      "Epoch 107/300\n",
      "404/404 [==============================] - 0s 200us/sample - loss: 9.3846\n",
      "Epoch 108/300\n",
      "404/404 [==============================] - 0s 201us/sample - loss: 8.8752\n",
      "Epoch 109/300\n",
      "404/404 [==============================] - 0s 200us/sample - loss: 9.7335\n",
      "Epoch 110/300\n",
      "404/404 [==============================] - 0s 191us/sample - loss: 11.2783\n",
      "Epoch 111/300\n",
      "404/404 [==============================] - 0s 209us/sample - loss: 8.8025\n",
      "Epoch 112/300\n",
      "404/404 [==============================] - 0s 212us/sample - loss: 8.8670\n",
      "Epoch 113/300\n",
      "404/404 [==============================] - 0s 205us/sample - loss: 9.1700\n",
      "Epoch 114/300\n",
      "404/404 [==============================] - 0s 209us/sample - loss: 9.4426\n",
      "Epoch 115/300\n",
      "404/404 [==============================] - 0s 204us/sample - loss: 8.6834\n",
      "Epoch 116/300\n",
      "404/404 [==============================] - 0s 200us/sample - loss: 8.6528\n",
      "Epoch 117/300\n",
      "404/404 [==============================] - 0s 212us/sample - loss: 7.9898\n",
      "Epoch 118/300\n",
      "404/404 [==============================] - 0s 209us/sample - loss: 8.4666\n",
      "Epoch 119/300\n",
      "404/404 [==============================] - 0s 209us/sample - loss: 9.0779\n",
      "Epoch 120/300\n",
      "404/404 [==============================] - 0s 192us/sample - loss: 8.0905\n",
      "Epoch 121/300\n",
      "404/404 [==============================] - 0s 196us/sample - loss: 8.1399\n",
      "Epoch 122/300\n",
      "404/404 [==============================] - 0s 197us/sample - loss: 8.7679\n",
      "Epoch 123/300\n",
      "404/404 [==============================] - 0s 195us/sample - loss: 7.8529\n",
      "Epoch 124/300\n",
      "404/404 [==============================] - 0s 200us/sample - loss: 7.4515\n",
      "Epoch 125/300\n",
      "404/404 [==============================] - 0s 215us/sample - loss: 8.0841\n",
      "Epoch 126/300\n",
      "404/404 [==============================] - 0s 192us/sample - loss: 7.6584\n",
      "Epoch 127/300\n",
      "404/404 [==============================] - 0s 199us/sample - loss: 7.5790\n",
      "Epoch 128/300\n",
      "404/404 [==============================] - 0s 222us/sample - loss: 7.6554\n",
      "Epoch 129/300\n",
      "404/404 [==============================] - 0s 212us/sample - loss: 7.4175\n",
      "Epoch 130/300\n",
      "404/404 [==============================] - 0s 199us/sample - loss: 8.0243\n",
      "Epoch 131/300\n",
      "404/404 [==============================] - 0s 195us/sample - loss: 8.9130\n",
      "Epoch 132/300\n",
      "404/404 [==============================] - 0s 196us/sample - loss: 7.1159\n",
      "Epoch 133/300\n",
      "404/404 [==============================] - 0s 196us/sample - loss: 7.3949\n",
      "Epoch 134/300\n",
      "404/404 [==============================] - 0s 199us/sample - loss: 7.2545\n",
      "Epoch 135/300\n",
      "404/404 [==============================] - 0s 199us/sample - loss: 7.8668\n",
      "Epoch 136/300\n",
      "404/404 [==============================] - 0s 192us/sample - loss: 7.5863\n",
      "Epoch 137/300\n",
      "404/404 [==============================] - 0s 200us/sample - loss: 6.9500\n",
      "Epoch 138/300\n",
      "404/404 [==============================] - 0s 204us/sample - loss: 7.4451\n",
      "Epoch 139/300\n",
      "404/404 [==============================] - 0s 203us/sample - loss: 7.4955\n",
      "Epoch 140/300\n",
      "404/404 [==============================] - 0s 206us/sample - loss: 7.0749\n",
      "Epoch 141/300\n",
      "404/404 [==============================] - 0s 202us/sample - loss: 6.7416\n",
      "Epoch 142/300\n",
      "404/404 [==============================] - 0s 202us/sample - loss: 6.4211\n",
      "Epoch 143/300\n",
      "404/404 [==============================] - 0s 202us/sample - loss: 6.8639\n",
      "Epoch 144/300\n",
      "404/404 [==============================] - 0s 199us/sample - loss: 7.2722\n",
      "Epoch 145/300\n",
      "404/404 [==============================] - 0s 194us/sample - loss: 6.4599\n",
      "Epoch 146/300\n",
      "404/404 [==============================] - 0s 188us/sample - loss: 7.5118\n",
      "Epoch 147/300\n",
      "404/404 [==============================] - 0s 203us/sample - loss: 7.9277\n",
      "Epoch 148/300\n",
      "404/404 [==============================] - 0s 208us/sample - loss: 6.5061\n",
      "Epoch 149/300\n",
      "404/404 [==============================] - 0s 197us/sample - loss: 6.6576\n",
      "Epoch 150/300\n",
      "404/404 [==============================] - 0s 202us/sample - loss: 6.3932\n",
      "Epoch 151/300\n",
      "404/404 [==============================] - 0s 194us/sample - loss: 6.4646\n",
      "Epoch 152/300\n",
      "404/404 [==============================] - 0s 199us/sample - loss: 5.9785\n",
      "Epoch 153/300\n",
      "404/404 [==============================] - 0s 195us/sample - loss: 6.6378\n",
      "Epoch 154/300\n",
      "404/404 [==============================] - 0s 197us/sample - loss: 6.3294\n",
      "Epoch 155/300\n",
      "404/404 [==============================] - 0s 199us/sample - loss: 6.9290\n",
      "Epoch 156/300\n",
      "404/404 [==============================] - 0s 195us/sample - loss: 6.2496\n",
      "Epoch 157/300\n",
      "404/404 [==============================] - 0s 194us/sample - loss: 5.9507\n",
      "Epoch 158/300\n",
      "404/404 [==============================] - 0s 207us/sample - loss: 6.0498\n",
      "Epoch 159/300\n",
      "404/404 [==============================] - 0s 192us/sample - loss: 5.9048\n",
      "Epoch 160/300\n",
      "404/404 [==============================] - 0s 203us/sample - loss: 6.4324\n",
      "Epoch 161/300\n",
      "404/404 [==============================] - 0s 205us/sample - loss: 6.3339\n",
      "Epoch 162/300\n",
      "404/404 [==============================] - 0s 204us/sample - loss: 6.4692\n",
      "Epoch 163/300\n",
      "404/404 [==============================] - 0s 197us/sample - loss: 5.8654\n",
      "Epoch 164/300\n",
      "404/404 [==============================] - 0s 210us/sample - loss: 5.7956\n",
      "Epoch 165/300\n",
      "404/404 [==============================] - 0s 219us/sample - loss: 6.3682\n",
      "Epoch 166/300\n",
      "404/404 [==============================] - 0s 198us/sample - loss: 5.8352\n",
      "Epoch 167/300\n",
      "404/404 [==============================] - 0s 202us/sample - loss: 5.4397\n",
      "Epoch 168/300\n",
      "404/404 [==============================] - 0s 205us/sample - loss: 5.3296\n",
      "Epoch 169/300\n",
      "404/404 [==============================] - 0s 211us/sample - loss: 5.5436\n",
      "Epoch 170/300\n",
      "404/404 [==============================] - 0s 206us/sample - loss: 5.8312\n",
      "Epoch 171/300\n",
      "404/404 [==============================] - 0s 198us/sample - loss: 5.6822\n",
      "Epoch 172/300\n",
      "404/404 [==============================] - 0s 198us/sample - loss: 5.4657\n",
      "Epoch 173/300\n",
      "404/404 [==============================] - 0s 200us/sample - loss: 5.7753\n",
      "Epoch 174/300\n",
      "404/404 [==============================] - 0s 198us/sample - loss: 4.9999\n",
      "Epoch 175/300\n",
      "404/404 [==============================] - 0s 202us/sample - loss: 5.6678\n",
      "Epoch 176/300\n",
      "404/404 [==============================] - 0s 197us/sample - loss: 5.4539\n",
      "Epoch 177/300\n",
      "404/404 [==============================] - 0s 205us/sample - loss: 5.3006\n",
      "Epoch 178/300\n",
      "404/404 [==============================] - 0s 218us/sample - loss: 5.4810\n",
      "Epoch 179/300\n",
      "404/404 [==============================] - 0s 198us/sample - loss: 5.0602\n",
      "Epoch 180/300\n",
      "404/404 [==============================] - 0s 209us/sample - loss: 5.0819\n",
      "Epoch 181/300\n",
      "404/404 [==============================] - 0s 202us/sample - loss: 4.9515\n",
      "Epoch 182/300\n",
      "404/404 [==============================] - 0s 206us/sample - loss: 5.3880\n",
      "Epoch 183/300\n",
      "404/404 [==============================] - 0s 210us/sample - loss: 5.4442\n",
      "Epoch 184/300\n",
      "404/404 [==============================] - 0s 202us/sample - loss: 5.2517\n",
      "Epoch 185/300\n",
      "404/404 [==============================] - 0s 204us/sample - loss: 5.0183\n",
      "Epoch 186/300\n",
      "404/404 [==============================] - 0s 217us/sample - loss: 6.0490\n",
      "Epoch 187/300\n",
      "404/404 [==============================] - 0s 221us/sample - loss: 5.3196\n",
      "Epoch 188/300\n",
      "404/404 [==============================] - 0s 207us/sample - loss: 4.8927\n",
      "Epoch 189/300\n",
      "404/404 [==============================] - 0s 199us/sample - loss: 5.5059\n",
      "Epoch 190/300\n",
      "404/404 [==============================] - 0s 208us/sample - loss: 4.9034\n",
      "Epoch 191/300\n",
      "404/404 [==============================] - 0s 202us/sample - loss: 5.3342\n",
      "Epoch 192/300\n",
      "404/404 [==============================] - 0s 198us/sample - loss: 4.7708\n",
      "Epoch 193/300\n",
      "404/404 [==============================] - 0s 204us/sample - loss: 4.6941\n",
      "Epoch 194/300\n",
      "404/404 [==============================] - 0s 203us/sample - loss: 5.2075\n",
      "Epoch 195/300\n",
      "404/404 [==============================] - 0s 206us/sample - loss: 4.7755\n",
      "Epoch 196/300\n",
      "404/404 [==============================] - 0s 199us/sample - loss: 4.9091\n",
      "Epoch 197/300\n",
      "404/404 [==============================] - 0s 201us/sample - loss: 4.5019\n",
      "Epoch 198/300\n",
      "404/404 [==============================] - 0s 196us/sample - loss: 4.5992\n",
      "Epoch 199/300\n",
      "404/404 [==============================] - 0s 204us/sample - loss: 4.7764\n",
      "Epoch 200/300\n",
      "404/404 [==============================] - 0s 208us/sample - loss: 4.5066\n",
      "Epoch 201/300\n",
      "404/404 [==============================] - 0s 199us/sample - loss: 4.5122\n",
      "Epoch 202/300\n",
      "404/404 [==============================] - 0s 204us/sample - loss: 4.9689\n",
      "Epoch 203/300\n",
      "404/404 [==============================] - 0s 196us/sample - loss: 5.2630\n",
      "Epoch 204/300\n",
      "404/404 [==============================] - 0s 201us/sample - loss: 5.0762\n",
      "Epoch 205/300\n",
      "404/404 [==============================] - 0s 202us/sample - loss: 4.3594\n",
      "Epoch 206/300\n",
      "404/404 [==============================] - 0s 216us/sample - loss: 6.0210\n",
      "Epoch 207/300\n",
      "404/404 [==============================] - 0s 205us/sample - loss: 4.5330\n",
      "Epoch 208/300\n",
      "404/404 [==============================] - 0s 206us/sample - loss: 4.3632\n",
      "Epoch 209/300\n",
      "404/404 [==============================] - 0s 202us/sample - loss: 4.3810\n",
      "Epoch 210/300\n",
      "404/404 [==============================] - 0s 202us/sample - loss: 4.9123\n",
      "Epoch 211/300\n",
      "404/404 [==============================] - 0s 192us/sample - loss: 4.1316\n",
      "Epoch 212/300\n",
      "404/404 [==============================] - 0s 202us/sample - loss: 4.4536\n",
      "Epoch 213/300\n",
      "404/404 [==============================] - 0s 201us/sample - loss: 4.9820\n",
      "Epoch 214/300\n",
      "404/404 [==============================] - 0s 200us/sample - loss: 4.7905\n",
      "Epoch 215/300\n",
      "404/404 [==============================] - 0s 197us/sample - loss: 4.2450\n",
      "Epoch 216/300\n",
      "404/404 [==============================] - 0s 200us/sample - loss: 4.6200\n",
      "Epoch 217/300\n",
      "404/404 [==============================] - 0s 214us/sample - loss: 4.4003\n",
      "Epoch 218/300\n",
      "404/404 [==============================] - 0s 231us/sample - loss: 4.1026\n",
      "Epoch 219/300\n",
      "404/404 [==============================] - 0s 220us/sample - loss: 4.5712\n",
      "Epoch 220/300\n",
      "404/404 [==============================] - 0s 200us/sample - loss: 4.2048\n",
      "Epoch 221/300\n",
      "404/404 [==============================] - 0s 205us/sample - loss: 4.3642\n",
      "Epoch 222/300\n",
      "404/404 [==============================] - 0s 201us/sample - loss: 4.3354\n",
      "Epoch 223/300\n",
      "404/404 [==============================] - 0s 201us/sample - loss: 4.6209\n",
      "Epoch 224/300\n",
      "404/404 [==============================] - 0s 204us/sample - loss: 4.7952\n",
      "Epoch 225/300\n",
      "404/404 [==============================] - 0s 206us/sample - loss: 5.1264\n",
      "Epoch 226/300\n",
      "404/404 [==============================] - 0s 211us/sample - loss: 4.4562\n",
      "Epoch 227/300\n",
      "404/404 [==============================] - 0s 199us/sample - loss: 4.6400\n",
      "Epoch 228/300\n",
      "404/404 [==============================] - 0s 199us/sample - loss: 4.6265\n",
      "Epoch 229/300\n",
      "404/404 [==============================] - 0s 205us/sample - loss: 4.4469\n",
      "Epoch 230/300\n",
      "404/404 [==============================] - 0s 208us/sample - loss: 4.4583\n",
      "Epoch 231/300\n",
      "404/404 [==============================] - 0s 195us/sample - loss: 4.3269\n",
      "Epoch 232/300\n",
      "404/404 [==============================] - 0s 207us/sample - loss: 4.2787\n",
      "Epoch 233/300\n",
      "404/404 [==============================] - 0s 205us/sample - loss: 3.9737\n",
      "Epoch 234/300\n",
      "404/404 [==============================] - 0s 209us/sample - loss: 4.2216\n",
      "Epoch 235/300\n",
      "404/404 [==============================] - 0s 204us/sample - loss: 4.5739\n",
      "Epoch 236/300\n",
      "404/404 [==============================] - 0s 208us/sample - loss: 3.6539\n",
      "Epoch 237/300\n",
      "404/404 [==============================] - 0s 206us/sample - loss: 4.2436\n",
      "Epoch 238/300\n",
      "404/404 [==============================] - 0s 204us/sample - loss: 3.8904\n",
      "Epoch 239/300\n",
      "404/404 [==============================] - 0s 199us/sample - loss: 4.2732\n",
      "Epoch 240/300\n",
      "404/404 [==============================] - 0s 203us/sample - loss: 5.1390\n",
      "Epoch 241/300\n",
      "404/404 [==============================] - 0s 197us/sample - loss: 4.6309\n",
      "Epoch 242/300\n",
      "404/404 [==============================] - 0s 201us/sample - loss: 4.2147\n",
      "Epoch 243/300\n",
      "404/404 [==============================] - 0s 203us/sample - loss: 4.1135\n",
      "Epoch 244/300\n",
      "404/404 [==============================] - 0s 200us/sample - loss: 3.9092\n",
      "Epoch 245/300\n",
      "404/404 [==============================] - 0s 201us/sample - loss: 4.1399\n",
      "Epoch 246/300\n",
      "404/404 [==============================] - 0s 203us/sample - loss: 3.6191\n",
      "Epoch 247/300\n",
      "404/404 [==============================] - 0s 222us/sample - loss: 3.8749\n",
      "Epoch 248/300\n",
      "404/404 [==============================] - 0s 219us/sample - loss: 4.1185\n",
      "Epoch 249/300\n",
      "404/404 [==============================] - 0s 213us/sample - loss: 4.0860\n",
      "Epoch 250/300\n",
      "404/404 [==============================] - 0s 208us/sample - loss: 3.8047\n",
      "Epoch 251/300\n",
      "404/404 [==============================] - 0s 207us/sample - loss: 3.6768\n",
      "Epoch 252/300\n",
      "404/404 [==============================] - 0s 204us/sample - loss: 3.9497\n",
      "Epoch 253/300\n",
      "404/404 [==============================] - 0s 206us/sample - loss: 4.1453\n",
      "Epoch 254/300\n",
      "404/404 [==============================] - 0s 207us/sample - loss: 3.8534\n",
      "Epoch 255/300\n",
      "404/404 [==============================] - 0s 201us/sample - loss: 3.3940\n",
      "Epoch 256/300\n",
      "404/404 [==============================] - 0s 204us/sample - loss: 4.0995\n",
      "Epoch 257/300\n",
      "404/404 [==============================] - 0s 201us/sample - loss: 3.6294\n",
      "Epoch 258/300\n",
      "404/404 [==============================] - 0s 207us/sample - loss: 4.2148\n",
      "Epoch 259/300\n",
      "404/404 [==============================] - 0s 203us/sample - loss: 3.7427\n",
      "Epoch 260/300\n",
      "404/404 [==============================] - 0s 219us/sample - loss: 3.9010\n",
      "Epoch 261/300\n",
      "404/404 [==============================] - 0s 206us/sample - loss: 3.7068\n",
      "Epoch 262/300\n",
      "404/404 [==============================] - 0s 207us/sample - loss: 4.3629\n",
      "Epoch 263/300\n",
      "404/404 [==============================] - 0s 206us/sample - loss: 4.8517\n",
      "Epoch 264/300\n",
      "404/404 [==============================] - 0s 208us/sample - loss: 4.5920\n",
      "Epoch 265/300\n",
      "404/404 [==============================] - 0s 209us/sample - loss: 3.9389\n",
      "Epoch 266/300\n",
      "404/404 [==============================] - 0s 202us/sample - loss: 3.3622\n",
      "Epoch 267/300\n",
      "404/404 [==============================] - 0s 210us/sample - loss: 3.8055\n",
      "Epoch 268/300\n",
      "404/404 [==============================] - 0s 215us/sample - loss: 4.0150\n",
      "Epoch 269/300\n",
      "404/404 [==============================] - 0s 206us/sample - loss: 3.5947\n",
      "Epoch 270/300\n",
      "404/404 [==============================] - 0s 206us/sample - loss: 4.2620\n",
      "Epoch 271/300\n",
      "404/404 [==============================] - 0s 207us/sample - loss: 4.0242\n",
      "Epoch 272/300\n",
      "404/404 [==============================] - 0s 201us/sample - loss: 3.6715\n",
      "Epoch 273/300\n",
      "404/404 [==============================] - 0s 202us/sample - loss: 4.2824\n",
      "Epoch 274/300\n",
      "404/404 [==============================] - 0s 209us/sample - loss: 3.5015\n",
      "Epoch 275/300\n",
      "404/404 [==============================] - 0s 208us/sample - loss: 4.5818\n",
      "Epoch 276/300\n",
      "404/404 [==============================] - 0s 206us/sample - loss: 3.7060\n",
      "Epoch 277/300\n",
      "404/404 [==============================] - 0s 204us/sample - loss: 3.4314\n",
      "Epoch 278/300\n",
      "404/404 [==============================] - 0s 203us/sample - loss: 3.5617\n",
      "Epoch 279/300\n",
      "404/404 [==============================] - 0s 210us/sample - loss: 3.5075\n",
      "Epoch 280/300\n",
      "404/404 [==============================] - 0s 201us/sample - loss: 3.7090\n",
      "Epoch 281/300\n",
      "404/404 [==============================] - 0s 204us/sample - loss: 3.7529\n",
      "Epoch 282/300\n",
      "404/404 [==============================] - 0s 204us/sample - loss: 3.4432\n",
      "Epoch 283/300\n",
      "404/404 [==============================] - 0s 206us/sample - loss: 3.7087\n",
      "Epoch 284/300\n",
      "404/404 [==============================] - 0s 203us/sample - loss: 3.8319\n",
      "Epoch 285/300\n",
      "404/404 [==============================] - 0s 204us/sample - loss: 3.7999\n",
      "Epoch 286/300\n",
      "404/404 [==============================] - 0s 207us/sample - loss: 3.6420\n",
      "Epoch 287/300\n",
      "404/404 [==============================] - 0s 202us/sample - loss: 3.2699\n",
      "Epoch 288/300\n",
      "404/404 [==============================] - 0s 204us/sample - loss: 3.6276\n",
      "Epoch 289/300\n",
      "404/404 [==============================] - 0s 205us/sample - loss: 3.4590\n",
      "Epoch 290/300\n",
      "404/404 [==============================] - 0s 203us/sample - loss: 3.4799\n",
      "Epoch 291/300\n",
      "404/404 [==============================] - 0s 205us/sample - loss: 3.2497\n",
      "Epoch 292/300\n",
      "404/404 [==============================] - 0s 200us/sample - loss: 3.4093\n",
      "Epoch 293/300\n",
      "404/404 [==============================] - 0s 223us/sample - loss: 3.6331\n",
      "Epoch 294/300\n",
      "404/404 [==============================] - 0s 218us/sample - loss: 3.6334\n",
      "Epoch 295/300\n",
      "404/404 [==============================] - 0s 200us/sample - loss: 3.4102\n",
      "Epoch 296/300\n",
      "404/404 [==============================] - 0s 220us/sample - loss: 4.0554\n",
      "Epoch 297/300\n",
      "404/404 [==============================] - 0s 216us/sample - loss: 4.0339\n",
      "Epoch 298/300\n",
      "404/404 [==============================] - 0s 207us/sample - loss: 3.8725\n",
      "Epoch 299/300\n",
      "404/404 [==============================] - 0s 227us/sample - loss: 3.4710\n",
      "Epoch 300/300\n",
      "404/404 [==============================] - 0s 222us/sample - loss: 3.4919\n"
     ]
    },
    {
     "data": {
      "text/plain": [
       "<tensorflow.python.keras.callbacks.History at 0x1c52166d50>"
      ]
     },
     "execution_count": 49,
     "metadata": {},
     "output_type": "execute_result"
    }
   ],
   "source": [
    "# # Train the neural network.\n",
    "model.fit(X_train, y_train, epochs=300, verbose=1, batch_size=10)"
   ]
  },
  {
   "cell_type": "code",
   "execution_count": 50,
   "metadata": {},
   "outputs": [],
   "source": [
    "# model.fit(X_train_white,y_train,epochs=250,verbose=1, batch=10)"
   ]
  },
  {
   "cell_type": "code",
   "execution_count": 51,
   "metadata": {},
   "outputs": [],
   "source": [
    "#model.history.history"
   ]
  },
  {
   "cell_type": "code",
   "execution_count": 52,
   "metadata": {},
   "outputs": [],
   "source": [
    "loss = model.history.history['loss']"
   ]
  },
  {
   "cell_type": "code",
   "execution_count": 53,
   "metadata": {},
   "outputs": [
    {
     "data": {
      "image/png": "[encoded data removed]",
      "text/plain": [
       "<Figure size 842.4x595.44 with 1 Axes>"
      ]
     },
     "metadata": {},
     "output_type": "display_data"
    }
   ],
   "source": [
    "sns.lineplot(x=range(len(loss)),y=loss)\n",
    "plt.title(\"Training Loss per Epoch\");"
   ]
  },
  {
   "cell_type": "markdown",
   "metadata": {},
   "source": [
    "### 3.6 Predict and View the output"
   ]
  },
  {
   "cell_type": "code",
   "execution_count": 54,
   "metadata": {},
   "outputs": [
    {
     "data": {
      "text/plain": [
       "['loss']"
      ]
     },
     "execution_count": 54,
     "metadata": {},
     "output_type": "execute_result"
    }
   ],
   "source": [
    "model.metrics_names"
   ]
  },
  {
   "cell_type": "markdown",
   "metadata": {},
   "source": [
    "#### 3.6.1 Observe the variation between prediction and real values"
   ]
  },
  {
   "cell_type": "code",
   "execution_count": 55,
   "metadata": {},
   "outputs": [],
   "source": [
    "training_score = model.evaluate(X_train,y_train,verbose=0)"
   ]
  },
  {
   "cell_type": "code",
   "execution_count": 56,
   "metadata": {},
   "outputs": [],
   "source": [
    "# training_score = model.evaluate(X_train_white,y_train,verbose=0)"
   ]
  },
  {
   "cell_type": "code",
   "execution_count": 57,
   "metadata": {},
   "outputs": [],
   "source": [
    "test_score = model.evaluate(X_test,y_test,verbose=0)"
   ]
  },
  {
   "cell_type": "code",
   "execution_count": 58,
   "metadata": {},
   "outputs": [],
   "source": [
    "# test_score = model.evaluate(X_test_white,y_test,verbose=0)"
   ]
  },
  {
   "cell_type": "markdown",
   "metadata": {},
   "source": [
    "#### 3.6.2 Print(error_in_prediction)"
   ]
  },
  {
   "cell_type": "code",
   "execution_count": 59,
   "metadata": {},
   "outputs": [
    {
     "name": "stdout",
     "output_type": "stream",
     "text": [
      "Training Score = : 3.955\n",
      "    Test Score = : 10.3864\n"
     ]
    }
   ],
   "source": [
    "# Mean Square error of this prediction\n",
    "# np.sqrt(np.sum((error_in_prediction)**2))\n",
    "print(\"Training Score = :\", training_score.round(4))\n",
    "print(\"    Test Score = :\", test_score.round(4))"
   ]
  },
  {
   "cell_type": "markdown",
   "metadata": {},
   "source": [
    "### 3.7 Tweaking the model and Visually comparing the outputs"
   ]
  },
  {
   "cell_type": "code",
   "execution_count": 60,
   "metadata": {},
   "outputs": [],
   "source": [
    "train_prediction = model.predict(X_train)\n",
    "#train_prediction.T"
   ]
  },
  {
   "cell_type": "code",
   "execution_count": 61,
   "metadata": {},
   "outputs": [],
   "source": [
    "# train_prediction = model.predict(X_train_white) "
   ]
  },
  {
   "cell_type": "code",
   "execution_count": 62,
   "metadata": {},
   "outputs": [
    {
     "data": {
      "image/png": "[encoded data removed]",
      "text/plain": [
       "<Figure size 842.4x595.44 with 1 Axes>"
      ]
     },
     "metadata": {},
     "output_type": "display_data"
    }
   ],
   "source": [
    "# Create plots of the 2 Outputs for better visual comparison\n",
    "xT = np.arange(0.0,404.0,1)\n",
    "\n",
    "# T = Known Training Output(blue), P = Predicted Training Output(red)\n",
    "plt.plot(xT, y_train, 'b-')\n",
    "plt.plot(xT, train_prediction, 'r-')\n",
    "plt.title(\"Comparing Real and Predicted Housing price Outputs Training Data\")\n",
    "plt.xlabel(\"datapoint\")\n",
    "plt.ylabel(\"medv\")\n",
    "plt.legend(\"TP\")    \n",
    "\n",
    "plt.show()"
   ]
  },
  {
   "cell_type": "markdown",
   "metadata": {},
   "source": [
    "## 3.8 Time to test the model with the testData..."
   ]
  },
  {
   "cell_type": "code",
   "execution_count": 63,
   "metadata": {},
   "outputs": [],
   "source": [
    "test_predictions = model.predict(X_test)\n",
    "#test_predictions.T\n"
   ]
  },
  {
   "cell_type": "code",
   "execution_count": 64,
   "metadata": {},
   "outputs": [],
   "source": [
    "# test_predictions = model.predict(X_test_white).round()\n",
    "# test_predictions.T"
   ]
  },
  {
   "cell_type": "code",
   "execution_count": 65,
   "metadata": {},
   "outputs": [
    {
     "data": {
      "image/png": "[encoded data removed]",
      "text/plain": [
       "<Figure size 842.4x595.44 with 1 Axes>"
      ]
     },
     "metadata": {},
     "output_type": "display_data"
    }
   ],
   "source": [
    "# Create plots of the 2 Outputs for better visual comparison 101\n",
    "xT = np.arange(0.0,102.0,1)\n",
    "\n",
    "# S = Known TEST Output(green), P = Predicted TEST Output(red)\n",
    "plt.plot(xT, y_test, 'g-')\n",
    "plt.plot(xT, test_predictions, 'r-')\n",
    "plt.title(\"Comparing Real and Predicted Housing price Outputs TEST Data\")\n",
    "plt.xlabel(\"datapoint\")\n",
    "plt.ylabel(\"medv\")\n",
    "plt.legend(\"SP\") \n",
    "\n",
    "plt.show()"
   ]
  },
  {
   "cell_type": "markdown",
   "metadata": {},
   "source": []
  },
  {
   "cell_type": "code",
   "execution_count": 66,
   "metadata": {},
   "outputs": [
    {
     "data": {
      "text/plain": [
       "(102, 1)"
      ]
     },
     "execution_count": 66,
     "metadata": {},
     "output_type": "execute_result"
    }
   ],
   "source": [
    "pred_df = pd.DataFrame(y_test,columns=['Test Y'])\n",
    "pred_df.shape"
   ]
  },
  {
   "cell_type": "code",
   "execution_count": 67,
   "metadata": {},
   "outputs": [],
   "source": [
    "test_predictions = pd.Series(test_predictions.reshape(102,))"
   ]
  },
  {
   "cell_type": "code",
   "execution_count": 68,
   "metadata": {},
   "outputs": [
    {
     "data": {
      "text/plain": [
       "0      27.610733\n",
       "1      26.764463\n",
       "2      30.436852\n",
       "3      19.899408\n",
       "4      50.807796\n",
       "         ...    \n",
       "97     21.690029\n",
       "98     15.959305\n",
       "99     16.824886\n",
       "100    21.049187\n",
       "101    26.693165\n",
       "Length: 102, dtype: float32"
      ]
     },
     "execution_count": 68,
     "metadata": {},
     "output_type": "execute_result"
    }
   ],
   "source": [
    "test_predictions"
   ]
  },
  {
   "cell_type": "markdown",
   "metadata": {},
   "source": [
    "### 3.8.1 Compute Errors in Test"
   ]
  },
  {
   "cell_type": "code",
   "execution_count": 69,
   "metadata": {},
   "outputs": [
    {
     "data": {
      "text/html": [
       "<div>\n",
       "<style scoped>\n",
       "    .dataframe tbody tr th:only-of-type {\n",
       "        vertical-align: middle;\n",
       "    }\n",
       "\n",
       "    .dataframe tbody tr th {\n",
       "        vertical-align: top;\n",
       "    }\n",
       "\n",
       "    .dataframe thead th {\n",
       "        text-align: right;\n",
       "    }\n",
       "</style>\n",
       "<table border=\"1\" class=\"dataframe\">\n",
       "  <thead>\n",
       "    <tr style=\"text-align: right;\">\n",
       "      <th></th>\n",
       "      <th>Test-Y</th>\n",
       "      <th>Y-Predicted</th>\n",
       "    </tr>\n",
       "  </thead>\n",
       "  <tbody>\n",
       "    <tr>\n",
       "      <td>0</td>\n",
       "      <td>25.0</td>\n",
       "      <td>27.610733</td>\n",
       "    </tr>\n",
       "    <tr>\n",
       "      <td>1</td>\n",
       "      <td>30.1</td>\n",
       "      <td>26.764463</td>\n",
       "    </tr>\n",
       "    <tr>\n",
       "      <td>2</td>\n",
       "      <td>30.8</td>\n",
       "      <td>30.436852</td>\n",
       "    </tr>\n",
       "    <tr>\n",
       "      <td>3</td>\n",
       "      <td>20.5</td>\n",
       "      <td>19.899408</td>\n",
       "    </tr>\n",
       "    <tr>\n",
       "      <td>4</td>\n",
       "      <td>48.5</td>\n",
       "      <td>50.807796</td>\n",
       "    </tr>\n",
       "    <tr>\n",
       "      <td>...</td>\n",
       "      <td>...</td>\n",
       "      <td>...</td>\n",
       "    </tr>\n",
       "    <tr>\n",
       "      <td>97</td>\n",
       "      <td>25.0</td>\n",
       "      <td>21.690029</td>\n",
       "    </tr>\n",
       "    <tr>\n",
       "      <td>98</td>\n",
       "      <td>15.6</td>\n",
       "      <td>15.959305</td>\n",
       "    </tr>\n",
       "    <tr>\n",
       "      <td>99</td>\n",
       "      <td>13.8</td>\n",
       "      <td>16.824886</td>\n",
       "    </tr>\n",
       "    <tr>\n",
       "      <td>100</td>\n",
       "      <td>20.9</td>\n",
       "      <td>21.049187</td>\n",
       "    </tr>\n",
       "    <tr>\n",
       "      <td>101</td>\n",
       "      <td>22.0</td>\n",
       "      <td>26.693165</td>\n",
       "    </tr>\n",
       "  </tbody>\n",
       "</table>\n",
       "<p>102 rows × 2 columns</p>\n",
       "</div>"
      ],
      "text/plain": [
       "     Test-Y  Y-Predicted\n",
       "0      25.0    27.610733\n",
       "1      30.1    26.764463\n",
       "2      30.8    30.436852\n",
       "3      20.5    19.899408\n",
       "4      48.5    50.807796\n",
       "..      ...          ...\n",
       "97     25.0    21.690029\n",
       "98     15.6    15.959305\n",
       "99     13.8    16.824886\n",
       "100    20.9    21.049187\n",
       "101    22.0    26.693165\n",
       "\n",
       "[102 rows x 2 columns]"
      ]
     },
     "execution_count": 69,
     "metadata": {},
     "output_type": "execute_result"
    }
   ],
   "source": [
    "pred_df         = pd.concat([pred_df,test_predictions],axis=1)\n",
    "pred_df.columns = ['Test-Y','Y-Predicted']\n",
    "\n",
    "pred_df"
   ]
  },
  {
   "cell_type": "markdown",
   "metadata": {},
   "source": [
    "### 3.8.2 Plot Predicted vs. Test values. In theory, __...a 45degrees plot is a perfect achievement.__"
   ]
  },
  {
   "cell_type": "code",
   "execution_count": 70,
   "metadata": {},
   "outputs": [
    {
     "data": {
      "text/plain": [
       "<matplotlib.axes._subplots.AxesSubplot at 0x1c50a30910>"
      ]
     },
     "execution_count": 70,
     "metadata": {},
     "output_type": "execute_result"
    },
    {
     "data": {
      "image/png": "[encoded data removed]",
      "text/plain": [
       "<Figure size 842.4x595.44 with 1 Axes>"
      ]
     },
     "metadata": {},
     "output_type": "display_data"
    }
   ],
   "source": [
    "#sns.scatterplot(x='Test-Y',y='Y-Predicted', data=pred_df, palette=cmap, legend='full')\n",
    "sns.scatterplot(x='Test-Y',y='Y-Predicted', data=pred_df, legend='full')"
   ]
  },
  {
   "cell_type": "markdown",
   "metadata": {},
   "source": [
    "### 3.8.3 Absoulte Errors"
   ]
  },
  {
   "cell_type": "code",
   "execution_count": 71,
   "metadata": {},
   "outputs": [],
   "source": [
    "pred_df['Error'] = pred_df['Test-Y'] - pred_df['Y-Predicted']"
   ]
  },
  {
   "cell_type": "code",
   "execution_count": 72,
   "metadata": {},
   "outputs": [
    {
     "data": {
      "text/plain": [
       "<matplotlib.axes._subplots.AxesSubplot at 0x1c4e8c4f50>"
      ]
     },
     "execution_count": 72,
     "metadata": {},
     "output_type": "execute_result"
    },
    {
     "data": {
      "image/png": "[encoded data removed]",
      "text/plain": [
       "<Figure size 842.4x595.44 with 1 Axes>"
      ]
     },
     "metadata": {},
     "output_type": "display_data"
    }
   ],
   "source": [
    "sns.distplot(pred_df['Error'],bins=50)"
   ]
  },
  {
   "cell_type": "code",
   "execution_count": 73,
   "metadata": {},
   "outputs": [
    {
     "data": {
      "text/plain": [
       "2.3397"
      ]
     },
     "execution_count": 73,
     "metadata": {},
     "output_type": "execute_result"
    }
   ],
   "source": [
    "# Mean absolute Error\n",
    "mean_absolute_error(pred_df['Test-Y'],pred_df['Y-Predicted']).round(4)"
   ]
  },
  {
   "cell_type": "code",
   "execution_count": 74,
   "metadata": {},
   "outputs": [
    {
     "data": {
      "text/plain": [
       "10.3864"
      ]
     },
     "execution_count": 74,
     "metadata": {},
     "output_type": "execute_result"
    }
   ],
   "source": [
    "# Mean squared Error\n",
    "mean_squared_error(pred_df['Test-Y'],pred_df['Y-Predicted']).round(4)"
   ]
  },
  {
   "cell_type": "code",
   "execution_count": 75,
   "metadata": {},
   "outputs": [
    {
     "data": {
      "text/plain": [
       "10.3864"
      ]
     },
     "execution_count": 75,
     "metadata": {},
     "output_type": "execute_result"
    }
   ],
   "source": [
    "# Essentially the same thing, difference just due to precision\n",
    "test_score.round(4)"
   ]
  },
  {
   "cell_type": "code",
   "execution_count": 76,
   "metadata": {},
   "outputs": [
    {
     "data": {
      "text/plain": [
       "3.2228"
      ]
     },
     "execution_count": 76,
     "metadata": {},
     "output_type": "execute_result"
    }
   ],
   "source": [
    "# Root Mean Squared Error\n",
    "(test_score**0.5).round(4)"
   ]
  },
  {
   "cell_type": "markdown",
   "metadata": {},
   "source": [
    "NOTE: Kaggle account opened & housing.csv dataset downloaded - Today 3rd October, 2019\n",
    "# References:\n",
    "#### [1] Python Software Foundation: https://www.python.org/\n",
    "#### [2] SciPy developers: https://www.scipy.org/\n",
    "#### [3] Keras: https://keras.io/\n",
    "#### [4] Project Jupyter: https://jupyter.org/\n",
    "#### [5] Housing Values in Suburbs of Boston: https://www.kaggle.com/c/boston-housing.\n",
    "#### [6] Online Resources: https://www.weirdgeek.com/2018/12/linear-regression-to-boston-housing-dataset/ \n",
    "#### [7] Wiki: https://en.wikipedia.org/wiki/Multicollinearity\n",
    "#### [8] Scikit Learn: https://scikit-learn.org/stable/](https://scikit-learn.org/stable/\n",
    "#### [9] Inferential Statistics: https://www.statisticshowto.datasciencecentral.com/inferential-statistics/\n",
    "#### [10] Choosing Optimizers: https://www.dlology.com/blog/quick-notes-on-how-to-choose-optimizer-in-keras/"
   ]
  },
  {
   "cell_type": "markdown",
   "metadata": {},
   "source": [
    "## END..."
   ]
  }
 ],
 "metadata": {
  "kernelspec": {
   "display_name": "Python 3",
   "language": "python",
   "name": "python3"
  },
  "language_info": {
   "codemirror_mode": {
    "name": "ipython",
    "version": 3
   },
   "file_extension": ".py",
   "mimetype": "text/x-python",
   "name": "python",
   "nbconvert_exporter": "python",
   "pygments_lexer": "ipython3",
   "version": "3.7.4"
  }
 },
 "nbformat": 4,
 "nbformat_minor": 4
}
