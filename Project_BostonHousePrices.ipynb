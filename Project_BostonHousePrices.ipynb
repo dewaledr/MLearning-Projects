{
 "cells": [
  {
   "cell_type": "markdown",
   "metadata": {},
   "source": [
    "# Machine Learning and Statistics Project, November 2019\n",
    "***\n",
    "\n",
    "## **Submitted by:** Francis Adepoju (G00364694)\n",
    "***\n",
    "## __Project Scope:__ \n",
    "1. Using Descriptive Statistics and Plots to Describe the Boston House Prices Dataset, \n",
    "2. Using Inferential Statistics to Analyse if there is any Significant Difference in Median House Prices between Houses that are along the Charles River and those that are not. \n",
    "3. Using Keras to create a Neural Network that can Predict the Median House Price based on other variables in the Dataset.\n",
    "\n",
    "***\n",
    "\n",
    "\n",
    "## Summary of the dataset:\n",
    "#### The Boston data frame has 506 rows and 14 columns. This data frame contains the following columns:\n",
    "1. __crim__   - per capita crime rate by town.\n",
    "2. __zn__     - proportion of residential land zoned for lots over 25,000 sq.ft.\n",
    "3. __indus__  - proportion of non-retail business acres per town.\n",
    "4. __chas__   - Charles River dummy variable (= 1 if tract bounds river; 0 otherwise).\n",
    "5. __nox__    - nitrogen oxides concentration (parts per 10 million).\n",
    "6. __rm__     - average number of rooms per dwelling.\n",
    "7. __age__    - proportion of owner-occupied units built prior to 1940.\n",
    "8. __dis__    - weighted mean of distances to five Boston employment centres.\n",
    "9. __rad__    - index of accessibility to radial highways.\n",
    "10. __tax__    - full-value property-tax rate per **`$10,000`**.\n",
    "11. __ptratio__  - pupil-teacher ratio by town.\n",
    "12. __black__  - `1000 * (Bk - 0.63)^2` where Bk is the proportion of blacks by town.\n",
    "13. __lstat__  - lower status of the population (percent).\n",
    "14. __medv__  - median value of owner-occupied homes in **`$1,000`**.\n",
    "\n",
    "#### NOTE: \n",
    "1. The __medv__ variable is the target (y) variable. The prices of the house indicated by the __medv__ variable is therefore our target variable and the remaining 13 are the feature variables. The effect of the these 13 variables on house prices are to be investigated and predicted.\n",
    "2. In this project, we use the Python[1], Scipy[2], Tensorflow, Keras[3], and Jupyter[4] packages to produce a comprehensive description, inference and prediction of house prices using the Boston house prices' dataset [5] \n",
    "\n",
    "***\n",
    "## 1. Description\n",
    "***"
   ]
  },
  {
   "cell_type": "markdown",
   "metadata": {},
   "source": [
    "#### Import necessary Libraries"
   ]
  },
  {
   "cell_type": "code",
   "execution_count": 538,
   "metadata": {},
   "outputs": [],
   "source": [
    "# Library for generating random variables.\n",
    "import numpy as np\n",
    "\n",
    "# Library for handling data.\n",
    "import pandas as pd\n",
    "\n",
    "# random number gen\n",
    "from random import sample\n",
    "from numpy.random import randn\n",
    "\n",
    "# Library for plotting.\n",
    "import matplotlib.pyplot as plt\n",
    "import seaborn as sns\n",
    "\n",
    "# Library for t-tests and ANOVA.\n",
    "# And for Machine Learning\n",
    "import scipy.stats as stats\n",
    "import statsmodels.api as sm\n",
    "import statsmodels.formula.api as smf\n",
    "import scipy.linalg as sl\n",
    "import sklearn.linear_model as lm\n",
    "\n",
    "# For Machine Learning.\n",
    "import keras as kr\n",
    "from tensorflow.keras.models import Sequential\n",
    "from tensorflow.keras.layers import Dense\n",
    "\n",
    "# Data Scaler\n",
    "from sklearn.preprocessing import MinMaxScaler\n",
    "from sklearn.model_selection import train_test_split\n",
    "# Error Library\n",
    "from sklearn.metrics import mean_absolute_error, mean_squared_error\n",
    "\n",
    "# For whitening.\n",
    "import sklearn.decomposition as dec"
   ]
  },
  {
   "cell_type": "code",
   "execution_count": 539,
   "metadata": {},
   "outputs": [],
   "source": [
    "# Make the plots bigger.\n",
    "plt.rcParams['figure.figsize'] = (20.0, 10.0)"
   ]
  },
  {
   "cell_type": "markdown",
   "metadata": {},
   "source": [
    "### 1.1 Load Dataset from my gitHub repository and gain some insight about the dataset"
   ]
  },
  {
   "cell_type": "code",
   "execution_count": 540,
   "metadata": {},
   "outputs": [
    {
     "data": {
      "text/html": [
       "<div>\n",
       "<style scoped>\n",
       "    .dataframe tbody tr th:only-of-type {\n",
       "        vertical-align: middle;\n",
       "    }\n",
       "\n",
       "    .dataframe tbody tr th {\n",
       "        vertical-align: top;\n",
       "    }\n",
       "\n",
       "    .dataframe thead th {\n",
       "        text-align: right;\n",
       "    }\n",
       "</style>\n",
       "<table border=\"1\" class=\"dataframe\">\n",
       "  <thead>\n",
       "    <tr style=\"text-align: right;\">\n",
       "      <th></th>\n",
       "      <th>crim</th>\n",
       "      <th>zn</th>\n",
       "      <th>indus</th>\n",
       "      <th>chas</th>\n",
       "      <th>nox</th>\n",
       "      <th>rm</th>\n",
       "      <th>age</th>\n",
       "      <th>dis</th>\n",
       "      <th>rad</th>\n",
       "      <th>tax</th>\n",
       "      <th>ptratio</th>\n",
       "      <th>black</th>\n",
       "      <th>lstat</th>\n",
       "      <th>medv</th>\n",
       "    </tr>\n",
       "  </thead>\n",
       "  <tbody>\n",
       "    <tr>\n",
       "      <td>0</td>\n",
       "      <td>0.00632</td>\n",
       "      <td>18.0</td>\n",
       "      <td>2.31</td>\n",
       "      <td>0</td>\n",
       "      <td>0.538</td>\n",
       "      <td>6.575</td>\n",
       "      <td>65.2</td>\n",
       "      <td>4.0900</td>\n",
       "      <td>1</td>\n",
       "      <td>296</td>\n",
       "      <td>15.3</td>\n",
       "      <td>396.90</td>\n",
       "      <td>4.98</td>\n",
       "      <td>24.0</td>\n",
       "    </tr>\n",
       "    <tr>\n",
       "      <td>1</td>\n",
       "      <td>0.02731</td>\n",
       "      <td>0.0</td>\n",
       "      <td>7.07</td>\n",
       "      <td>0</td>\n",
       "      <td>0.469</td>\n",
       "      <td>6.421</td>\n",
       "      <td>78.9</td>\n",
       "      <td>4.9671</td>\n",
       "      <td>2</td>\n",
       "      <td>242</td>\n",
       "      <td>17.8</td>\n",
       "      <td>396.90</td>\n",
       "      <td>9.14</td>\n",
       "      <td>21.6</td>\n",
       "    </tr>\n",
       "    <tr>\n",
       "      <td>2</td>\n",
       "      <td>0.02729</td>\n",
       "      <td>0.0</td>\n",
       "      <td>7.07</td>\n",
       "      <td>0</td>\n",
       "      <td>0.469</td>\n",
       "      <td>7.185</td>\n",
       "      <td>61.1</td>\n",
       "      <td>4.9671</td>\n",
       "      <td>2</td>\n",
       "      <td>242</td>\n",
       "      <td>17.8</td>\n",
       "      <td>392.83</td>\n",
       "      <td>4.03</td>\n",
       "      <td>34.7</td>\n",
       "    </tr>\n",
       "    <tr>\n",
       "      <td>3</td>\n",
       "      <td>0.03237</td>\n",
       "      <td>0.0</td>\n",
       "      <td>2.18</td>\n",
       "      <td>0</td>\n",
       "      <td>0.458</td>\n",
       "      <td>6.998</td>\n",
       "      <td>45.8</td>\n",
       "      <td>6.0622</td>\n",
       "      <td>3</td>\n",
       "      <td>222</td>\n",
       "      <td>18.7</td>\n",
       "      <td>394.63</td>\n",
       "      <td>2.94</td>\n",
       "      <td>33.4</td>\n",
       "    </tr>\n",
       "    <tr>\n",
       "      <td>4</td>\n",
       "      <td>0.06905</td>\n",
       "      <td>0.0</td>\n",
       "      <td>2.18</td>\n",
       "      <td>0</td>\n",
       "      <td>0.458</td>\n",
       "      <td>7.147</td>\n",
       "      <td>54.2</td>\n",
       "      <td>6.0622</td>\n",
       "      <td>3</td>\n",
       "      <td>222</td>\n",
       "      <td>18.7</td>\n",
       "      <td>396.90</td>\n",
       "      <td>5.33</td>\n",
       "      <td>36.2</td>\n",
       "    </tr>\n",
       "  </tbody>\n",
       "</table>\n",
       "</div>"
      ],
      "text/plain": [
       "      crim    zn  indus  chas    nox     rm   age     dis  rad  tax  ptratio  \\\n",
       "0  0.00632  18.0   2.31     0  0.538  6.575  65.2  4.0900    1  296     15.3   \n",
       "1  0.02731   0.0   7.07     0  0.469  6.421  78.9  4.9671    2  242     17.8   \n",
       "2  0.02729   0.0   7.07     0  0.469  7.185  61.1  4.9671    2  242     17.8   \n",
       "3  0.03237   0.0   2.18     0  0.458  6.998  45.8  6.0622    3  222     18.7   \n",
       "4  0.06905   0.0   2.18     0  0.458  7.147  54.2  6.0622    3  222     18.7   \n",
       "\n",
       "    black  lstat  medv  \n",
       "0  396.90   4.98  24.0  \n",
       "1  396.90   9.14  21.6  \n",
       "2  392.83   4.03  34.7  \n",
       "3  394.63   2.94  33.4  \n",
       "4  396.90   5.33  36.2  "
      ]
     },
     "execution_count": 540,
     "metadata": {},
     "output_type": "execute_result"
    }
   ],
   "source": [
    "# Let's use pandas to read this csv file and organise the housing data.\n",
    "# Load the boston-housing dataset... This is the URL from \"raw\" version of housing.csv file from my github\n",
    "#df = pd.read_csv(\"housingCSV2.csv\")\n",
    "df = pd.read_csv(\"https://raw.githubusercontent.com/dewaledr/MLearning-Projects/master/housing.csv\")\n",
    "df.head()"
   ]
  },
  {
   "cell_type": "code",
   "execution_count": 541,
   "metadata": {},
   "outputs": [
    {
     "data": {
      "text/html": [
       "<div>\n",
       "<style scoped>\n",
       "    .dataframe tbody tr th:only-of-type {\n",
       "        vertical-align: middle;\n",
       "    }\n",
       "\n",
       "    .dataframe tbody tr th {\n",
       "        vertical-align: top;\n",
       "    }\n",
       "\n",
       "    .dataframe thead th {\n",
       "        text-align: right;\n",
       "    }\n",
       "</style>\n",
       "<table border=\"1\" class=\"dataframe\">\n",
       "  <thead>\n",
       "    <tr style=\"text-align: right;\">\n",
       "      <th></th>\n",
       "      <th>crim</th>\n",
       "      <th>zn</th>\n",
       "      <th>indus</th>\n",
       "      <th>chas</th>\n",
       "      <th>nox</th>\n",
       "      <th>rm</th>\n",
       "      <th>age</th>\n",
       "      <th>dis</th>\n",
       "      <th>rad</th>\n",
       "      <th>tax</th>\n",
       "      <th>ptratio</th>\n",
       "      <th>black</th>\n",
       "      <th>lstat</th>\n",
       "      <th>medv</th>\n",
       "    </tr>\n",
       "  </thead>\n",
       "  <tbody>\n",
       "    <tr>\n",
       "      <td>501</td>\n",
       "      <td>0.06263</td>\n",
       "      <td>0.0</td>\n",
       "      <td>11.93</td>\n",
       "      <td>0</td>\n",
       "      <td>0.573</td>\n",
       "      <td>6.593</td>\n",
       "      <td>69.1</td>\n",
       "      <td>2.4786</td>\n",
       "      <td>1</td>\n",
       "      <td>273</td>\n",
       "      <td>21.0</td>\n",
       "      <td>391.99</td>\n",
       "      <td>9.67</td>\n",
       "      <td>22.4</td>\n",
       "    </tr>\n",
       "    <tr>\n",
       "      <td>502</td>\n",
       "      <td>0.04527</td>\n",
       "      <td>0.0</td>\n",
       "      <td>11.93</td>\n",
       "      <td>0</td>\n",
       "      <td>0.573</td>\n",
       "      <td>6.120</td>\n",
       "      <td>76.7</td>\n",
       "      <td>2.2875</td>\n",
       "      <td>1</td>\n",
       "      <td>273</td>\n",
       "      <td>21.0</td>\n",
       "      <td>396.90</td>\n",
       "      <td>9.08</td>\n",
       "      <td>20.6</td>\n",
       "    </tr>\n",
       "    <tr>\n",
       "      <td>503</td>\n",
       "      <td>0.06076</td>\n",
       "      <td>0.0</td>\n",
       "      <td>11.93</td>\n",
       "      <td>0</td>\n",
       "      <td>0.573</td>\n",
       "      <td>6.976</td>\n",
       "      <td>91.0</td>\n",
       "      <td>2.1675</td>\n",
       "      <td>1</td>\n",
       "      <td>273</td>\n",
       "      <td>21.0</td>\n",
       "      <td>396.90</td>\n",
       "      <td>5.64</td>\n",
       "      <td>23.9</td>\n",
       "    </tr>\n",
       "    <tr>\n",
       "      <td>504</td>\n",
       "      <td>0.10959</td>\n",
       "      <td>0.0</td>\n",
       "      <td>11.93</td>\n",
       "      <td>0</td>\n",
       "      <td>0.573</td>\n",
       "      <td>6.794</td>\n",
       "      <td>89.3</td>\n",
       "      <td>2.3889</td>\n",
       "      <td>1</td>\n",
       "      <td>273</td>\n",
       "      <td>21.0</td>\n",
       "      <td>393.45</td>\n",
       "      <td>6.48</td>\n",
       "      <td>22.0</td>\n",
       "    </tr>\n",
       "    <tr>\n",
       "      <td>505</td>\n",
       "      <td>0.04741</td>\n",
       "      <td>0.0</td>\n",
       "      <td>11.93</td>\n",
       "      <td>0</td>\n",
       "      <td>0.573</td>\n",
       "      <td>6.030</td>\n",
       "      <td>80.8</td>\n",
       "      <td>2.5050</td>\n",
       "      <td>1</td>\n",
       "      <td>273</td>\n",
       "      <td>21.0</td>\n",
       "      <td>396.90</td>\n",
       "      <td>7.88</td>\n",
       "      <td>11.9</td>\n",
       "    </tr>\n",
       "  </tbody>\n",
       "</table>\n",
       "</div>"
      ],
      "text/plain": [
       "        crim   zn  indus  chas    nox     rm   age     dis  rad  tax  ptratio  \\\n",
       "501  0.06263  0.0  11.93     0  0.573  6.593  69.1  2.4786    1  273     21.0   \n",
       "502  0.04527  0.0  11.93     0  0.573  6.120  76.7  2.2875    1  273     21.0   \n",
       "503  0.06076  0.0  11.93     0  0.573  6.976  91.0  2.1675    1  273     21.0   \n",
       "504  0.10959  0.0  11.93     0  0.573  6.794  89.3  2.3889    1  273     21.0   \n",
       "505  0.04741  0.0  11.93     0  0.573  6.030  80.8  2.5050    1  273     21.0   \n",
       "\n",
       "      black  lstat  medv  \n",
       "501  391.99   9.67  22.4  \n",
       "502  396.90   9.08  20.6  \n",
       "503  396.90   5.64  23.9  \n",
       "504  393.45   6.48  22.0  \n",
       "505  396.90   7.88  11.9  "
      ]
     },
     "execution_count": 541,
     "metadata": {},
     "output_type": "execute_result"
    }
   ],
   "source": [
    "df.tail()"
   ]
  },
  {
   "cell_type": "markdown",
   "metadata": {},
   "source": [
    "#### To get some basic statistics about our data like mean, median, count etc. we use __.describe()__ method:"
   ]
  },
  {
   "cell_type": "code",
   "execution_count": 542,
   "metadata": {},
   "outputs": [
    {
     "data": {
      "text/html": [
       "<div>\n",
       "<style scoped>\n",
       "    .dataframe tbody tr th:only-of-type {\n",
       "        vertical-align: middle;\n",
       "    }\n",
       "\n",
       "    .dataframe tbody tr th {\n",
       "        vertical-align: top;\n",
       "    }\n",
       "\n",
       "    .dataframe thead th {\n",
       "        text-align: right;\n",
       "    }\n",
       "</style>\n",
       "<table border=\"1\" class=\"dataframe\">\n",
       "  <thead>\n",
       "    <tr style=\"text-align: right;\">\n",
       "      <th></th>\n",
       "      <th>count</th>\n",
       "      <th>mean</th>\n",
       "      <th>std</th>\n",
       "      <th>min</th>\n",
       "      <th>25%</th>\n",
       "      <th>50%</th>\n",
       "      <th>75%</th>\n",
       "      <th>max</th>\n",
       "    </tr>\n",
       "  </thead>\n",
       "  <tbody>\n",
       "    <tr>\n",
       "      <td>crim</td>\n",
       "      <td>506.0</td>\n",
       "      <td>3.613524</td>\n",
       "      <td>8.601545</td>\n",
       "      <td>0.00632</td>\n",
       "      <td>0.082045</td>\n",
       "      <td>0.25651</td>\n",
       "      <td>3.677082</td>\n",
       "      <td>88.9762</td>\n",
       "    </tr>\n",
       "    <tr>\n",
       "      <td>zn</td>\n",
       "      <td>506.0</td>\n",
       "      <td>11.363636</td>\n",
       "      <td>23.322453</td>\n",
       "      <td>0.00000</td>\n",
       "      <td>0.000000</td>\n",
       "      <td>0.00000</td>\n",
       "      <td>12.500000</td>\n",
       "      <td>100.0000</td>\n",
       "    </tr>\n",
       "    <tr>\n",
       "      <td>indus</td>\n",
       "      <td>506.0</td>\n",
       "      <td>11.136779</td>\n",
       "      <td>6.860353</td>\n",
       "      <td>0.46000</td>\n",
       "      <td>5.190000</td>\n",
       "      <td>9.69000</td>\n",
       "      <td>18.100000</td>\n",
       "      <td>27.7400</td>\n",
       "    </tr>\n",
       "    <tr>\n",
       "      <td>chas</td>\n",
       "      <td>506.0</td>\n",
       "      <td>0.069170</td>\n",
       "      <td>0.253994</td>\n",
       "      <td>0.00000</td>\n",
       "      <td>0.000000</td>\n",
       "      <td>0.00000</td>\n",
       "      <td>0.000000</td>\n",
       "      <td>1.0000</td>\n",
       "    </tr>\n",
       "    <tr>\n",
       "      <td>nox</td>\n",
       "      <td>506.0</td>\n",
       "      <td>0.554695</td>\n",
       "      <td>0.115878</td>\n",
       "      <td>0.38500</td>\n",
       "      <td>0.449000</td>\n",
       "      <td>0.53800</td>\n",
       "      <td>0.624000</td>\n",
       "      <td>0.8710</td>\n",
       "    </tr>\n",
       "    <tr>\n",
       "      <td>rm</td>\n",
       "      <td>506.0</td>\n",
       "      <td>6.284634</td>\n",
       "      <td>0.702617</td>\n",
       "      <td>3.56100</td>\n",
       "      <td>5.885500</td>\n",
       "      <td>6.20850</td>\n",
       "      <td>6.623500</td>\n",
       "      <td>8.7800</td>\n",
       "    </tr>\n",
       "    <tr>\n",
       "      <td>age</td>\n",
       "      <td>506.0</td>\n",
       "      <td>68.574901</td>\n",
       "      <td>28.148861</td>\n",
       "      <td>2.90000</td>\n",
       "      <td>45.025000</td>\n",
       "      <td>77.50000</td>\n",
       "      <td>94.075000</td>\n",
       "      <td>100.0000</td>\n",
       "    </tr>\n",
       "    <tr>\n",
       "      <td>dis</td>\n",
       "      <td>506.0</td>\n",
       "      <td>3.795043</td>\n",
       "      <td>2.105710</td>\n",
       "      <td>1.12960</td>\n",
       "      <td>2.100175</td>\n",
       "      <td>3.20745</td>\n",
       "      <td>5.188425</td>\n",
       "      <td>12.1265</td>\n",
       "    </tr>\n",
       "    <tr>\n",
       "      <td>rad</td>\n",
       "      <td>506.0</td>\n",
       "      <td>9.549407</td>\n",
       "      <td>8.707259</td>\n",
       "      <td>1.00000</td>\n",
       "      <td>4.000000</td>\n",
       "      <td>5.00000</td>\n",
       "      <td>24.000000</td>\n",
       "      <td>24.0000</td>\n",
       "    </tr>\n",
       "    <tr>\n",
       "      <td>tax</td>\n",
       "      <td>506.0</td>\n",
       "      <td>408.237154</td>\n",
       "      <td>168.537116</td>\n",
       "      <td>187.00000</td>\n",
       "      <td>279.000000</td>\n",
       "      <td>330.00000</td>\n",
       "      <td>666.000000</td>\n",
       "      <td>711.0000</td>\n",
       "    </tr>\n",
       "    <tr>\n",
       "      <td>ptratio</td>\n",
       "      <td>506.0</td>\n",
       "      <td>18.455534</td>\n",
       "      <td>2.164946</td>\n",
       "      <td>12.60000</td>\n",
       "      <td>17.400000</td>\n",
       "      <td>19.05000</td>\n",
       "      <td>20.200000</td>\n",
       "      <td>22.0000</td>\n",
       "    </tr>\n",
       "    <tr>\n",
       "      <td>black</td>\n",
       "      <td>506.0</td>\n",
       "      <td>356.674032</td>\n",
       "      <td>91.294864</td>\n",
       "      <td>0.32000</td>\n",
       "      <td>375.377500</td>\n",
       "      <td>391.44000</td>\n",
       "      <td>396.225000</td>\n",
       "      <td>396.9000</td>\n",
       "    </tr>\n",
       "    <tr>\n",
       "      <td>lstat</td>\n",
       "      <td>506.0</td>\n",
       "      <td>12.653063</td>\n",
       "      <td>7.141062</td>\n",
       "      <td>1.73000</td>\n",
       "      <td>6.950000</td>\n",
       "      <td>11.36000</td>\n",
       "      <td>16.955000</td>\n",
       "      <td>37.9700</td>\n",
       "    </tr>\n",
       "    <tr>\n",
       "      <td>medv</td>\n",
       "      <td>506.0</td>\n",
       "      <td>22.532806</td>\n",
       "      <td>9.197104</td>\n",
       "      <td>5.00000</td>\n",
       "      <td>17.025000</td>\n",
       "      <td>21.20000</td>\n",
       "      <td>25.000000</td>\n",
       "      <td>50.0000</td>\n",
       "    </tr>\n",
       "  </tbody>\n",
       "</table>\n",
       "</div>"
      ],
      "text/plain": [
       "         count        mean         std        min         25%        50%  \\\n",
       "crim     506.0    3.613524    8.601545    0.00632    0.082045    0.25651   \n",
       "zn       506.0   11.363636   23.322453    0.00000    0.000000    0.00000   \n",
       "indus    506.0   11.136779    6.860353    0.46000    5.190000    9.69000   \n",
       "chas     506.0    0.069170    0.253994    0.00000    0.000000    0.00000   \n",
       "nox      506.0    0.554695    0.115878    0.38500    0.449000    0.53800   \n",
       "rm       506.0    6.284634    0.702617    3.56100    5.885500    6.20850   \n",
       "age      506.0   68.574901   28.148861    2.90000   45.025000   77.50000   \n",
       "dis      506.0    3.795043    2.105710    1.12960    2.100175    3.20745   \n",
       "rad      506.0    9.549407    8.707259    1.00000    4.000000    5.00000   \n",
       "tax      506.0  408.237154  168.537116  187.00000  279.000000  330.00000   \n",
       "ptratio  506.0   18.455534    2.164946   12.60000   17.400000   19.05000   \n",
       "black    506.0  356.674032   91.294864    0.32000  375.377500  391.44000   \n",
       "lstat    506.0   12.653063    7.141062    1.73000    6.950000   11.36000   \n",
       "medv     506.0   22.532806    9.197104    5.00000   17.025000   21.20000   \n",
       "\n",
       "                75%       max  \n",
       "crim       3.677082   88.9762  \n",
       "zn        12.500000  100.0000  \n",
       "indus     18.100000   27.7400  \n",
       "chas       0.000000    1.0000  \n",
       "nox        0.624000    0.8710  \n",
       "rm         6.623500    8.7800  \n",
       "age       94.075000  100.0000  \n",
       "dis        5.188425   12.1265  \n",
       "rad       24.000000   24.0000  \n",
       "tax      666.000000  711.0000  \n",
       "ptratio   20.200000   22.0000  \n",
       "black    396.225000  396.9000  \n",
       "lstat     16.955000   37.9700  \n",
       "medv      25.000000   50.0000  "
      ]
     },
     "execution_count": 542,
     "metadata": {},
     "output_type": "execute_result"
    }
   ],
   "source": [
    "df.describe().transpose()"
   ]
  },
  {
   "cell_type": "code",
   "execution_count": 543,
   "metadata": {},
   "outputs": [
    {
     "name": "stdout",
     "output_type": "stream",
     "text": [
      "Number of rows in this dataset : 506\n",
      "====================================\n",
      "<class 'pandas.core.frame.DataFrame'>\n",
      "RangeIndex: 506 entries, 0 to 505\n",
      "Data columns (total 14 columns):\n",
      "crim       506 non-null float64\n",
      "zn         506 non-null float64\n",
      "indus      506 non-null float64\n",
      "chas       506 non-null int64\n",
      "nox        506 non-null float64\n",
      "rm         506 non-null float64\n",
      "age        506 non-null float64\n",
      "dis        506 non-null float64\n",
      "rad        506 non-null int64\n",
      "tax        506 non-null int64\n",
      "ptratio    506 non-null float64\n",
      "black      506 non-null float64\n",
      "lstat      506 non-null float64\n",
      "medv       506 non-null float64\n",
      "dtypes: float64(11), int64(3)\n",
      "memory usage: 55.5 KB\n"
     ]
    }
   ],
   "source": [
    "# Investigate the data for missing or non values...\n",
    "print(\"Number of rows in this dataset :\", len(df.index))\n",
    "print(\"====================================\")\n",
    "df.info()"
   ]
  },
  {
   "cell_type": "markdown",
   "metadata": {},
   "source": [
    "### 1.2 Data Backup and Clean up..."
   ]
  },
  {
   "cell_type": "code",
   "execution_count": 544,
   "metadata": {},
   "outputs": [],
   "source": [
    "# Make a copy of the dataset for Stage 2 - Description & Inference\n",
    "df2 = df.copy(deep=True)\n",
    "\n",
    "# Another copy for Stage 3 - Prediction\n",
    "df3 = df.copy(deep=True)"
   ]
  },
  {
   "cell_type": "code",
   "execution_count": 545,
   "metadata": {},
   "outputs": [],
   "source": [
    "# df2.head()"
   ]
  },
  {
   "cell_type": "markdown",
   "metadata": {},
   "source": [
    "* Generally, NaN or missing values can be in any form like 0, ?, or may be written as “missing” \n",
    "* As observed in our dataset above __(chas and zn)__, there are a lot of  0’s, \n",
    "* Therefore we can replace them with NaN to calculate how much data we are missing [6]."
   ]
  },
  {
   "cell_type": "code",
   "execution_count": 546,
   "metadata": {},
   "outputs": [],
   "source": [
    "#print(df2.head())\n",
    "df2.zn.replace(0, np.nan, inplace=True)\n",
    "df2.chas.replace(0, np.nan, inplace=True)"
   ]
  },
  {
   "cell_type": "markdown",
   "metadata": {},
   "source": [
    "#### 1.2.2 Calculate the percentageof features with missing values\n",
    "* Generally, if there is 20-25% missing values we can impute them with different ways like mean, median or an educated guess by us. \n",
    "* But if it’s more than that, it’s better to remove those features otherwise they can affect our result. \n",
    "* As we can see below both “zn” and “chas” missing more than 70% data so we will remove both these 2 features."
   ]
  },
  {
   "cell_type": "code",
   "execution_count": 547,
   "metadata": {},
   "outputs": [
    {
     "data": {
      "text/plain": [
       "crim        0.000000\n",
       "zn         73.517787\n",
       "indus       0.000000\n",
       "chas       93.083004\n",
       "nox         0.000000\n",
       "rm          0.000000\n",
       "age         0.000000\n",
       "dis         0.000000\n",
       "rad         0.000000\n",
       "tax         0.000000\n",
       "ptratio     0.000000\n",
       "black       0.000000\n",
       "lstat       0.000000\n",
       "medv        0.000000\n",
       "dtype: float64"
      ]
     },
     "execution_count": 547,
     "metadata": {},
     "output_type": "execute_result"
    }
   ],
   "source": [
    "df2.isnull().sum()/len(df2)*100"
   ]
  },
  {
   "cell_type": "code",
   "execution_count": 548,
   "metadata": {},
   "outputs": [],
   "source": [
    "# Drop these two features from df2\n",
    "df2 = df2.drop(\"zn\", 1)\n",
    "df2 = df2.drop(\"chas\", 1)"
   ]
  },
  {
   "cell_type": "code",
   "execution_count": 549,
   "metadata": {},
   "outputs": [
    {
     "data": {
      "text/html": [
       "<div>\n",
       "<style scoped>\n",
       "    .dataframe tbody tr th:only-of-type {\n",
       "        vertical-align: middle;\n",
       "    }\n",
       "\n",
       "    .dataframe tbody tr th {\n",
       "        vertical-align: top;\n",
       "    }\n",
       "\n",
       "    .dataframe thead th {\n",
       "        text-align: right;\n",
       "    }\n",
       "</style>\n",
       "<table border=\"1\" class=\"dataframe\">\n",
       "  <thead>\n",
       "    <tr style=\"text-align: right;\">\n",
       "      <th></th>\n",
       "      <th>crim</th>\n",
       "      <th>indus</th>\n",
       "      <th>nox</th>\n",
       "      <th>rm</th>\n",
       "      <th>age</th>\n",
       "      <th>dis</th>\n",
       "      <th>rad</th>\n",
       "      <th>tax</th>\n",
       "      <th>ptratio</th>\n",
       "      <th>black</th>\n",
       "      <th>lstat</th>\n",
       "      <th>medv</th>\n",
       "    </tr>\n",
       "  </thead>\n",
       "  <tbody>\n",
       "    <tr>\n",
       "      <td>0</td>\n",
       "      <td>0.00632</td>\n",
       "      <td>2.31</td>\n",
       "      <td>0.538</td>\n",
       "      <td>6.575</td>\n",
       "      <td>65.2</td>\n",
       "      <td>4.0900</td>\n",
       "      <td>1</td>\n",
       "      <td>296</td>\n",
       "      <td>15.3</td>\n",
       "      <td>396.90</td>\n",
       "      <td>4.98</td>\n",
       "      <td>24.0</td>\n",
       "    </tr>\n",
       "    <tr>\n",
       "      <td>1</td>\n",
       "      <td>0.02731</td>\n",
       "      <td>7.07</td>\n",
       "      <td>0.469</td>\n",
       "      <td>6.421</td>\n",
       "      <td>78.9</td>\n",
       "      <td>4.9671</td>\n",
       "      <td>2</td>\n",
       "      <td>242</td>\n",
       "      <td>17.8</td>\n",
       "      <td>396.90</td>\n",
       "      <td>9.14</td>\n",
       "      <td>21.6</td>\n",
       "    </tr>\n",
       "    <tr>\n",
       "      <td>2</td>\n",
       "      <td>0.02729</td>\n",
       "      <td>7.07</td>\n",
       "      <td>0.469</td>\n",
       "      <td>7.185</td>\n",
       "      <td>61.1</td>\n",
       "      <td>4.9671</td>\n",
       "      <td>2</td>\n",
       "      <td>242</td>\n",
       "      <td>17.8</td>\n",
       "      <td>392.83</td>\n",
       "      <td>4.03</td>\n",
       "      <td>34.7</td>\n",
       "    </tr>\n",
       "    <tr>\n",
       "      <td>3</td>\n",
       "      <td>0.03237</td>\n",
       "      <td>2.18</td>\n",
       "      <td>0.458</td>\n",
       "      <td>6.998</td>\n",
       "      <td>45.8</td>\n",
       "      <td>6.0622</td>\n",
       "      <td>3</td>\n",
       "      <td>222</td>\n",
       "      <td>18.7</td>\n",
       "      <td>394.63</td>\n",
       "      <td>2.94</td>\n",
       "      <td>33.4</td>\n",
       "    </tr>\n",
       "    <tr>\n",
       "      <td>4</td>\n",
       "      <td>0.06905</td>\n",
       "      <td>2.18</td>\n",
       "      <td>0.458</td>\n",
       "      <td>7.147</td>\n",
       "      <td>54.2</td>\n",
       "      <td>6.0622</td>\n",
       "      <td>3</td>\n",
       "      <td>222</td>\n",
       "      <td>18.7</td>\n",
       "      <td>396.90</td>\n",
       "      <td>5.33</td>\n",
       "      <td>36.2</td>\n",
       "    </tr>\n",
       "  </tbody>\n",
       "</table>\n",
       "</div>"
      ],
      "text/plain": [
       "      crim  indus    nox     rm   age     dis  rad  tax  ptratio   black  \\\n",
       "0  0.00632   2.31  0.538  6.575  65.2  4.0900    1  296     15.3  396.90   \n",
       "1  0.02731   7.07  0.469  6.421  78.9  4.9671    2  242     17.8  396.90   \n",
       "2  0.02729   7.07  0.469  7.185  61.1  4.9671    2  242     17.8  392.83   \n",
       "3  0.03237   2.18  0.458  6.998  45.8  6.0622    3  222     18.7  394.63   \n",
       "4  0.06905   2.18  0.458  7.147  54.2  6.0622    3  222     18.7  396.90   \n",
       "\n",
       "   lstat  medv  \n",
       "0   4.98  24.0  \n",
       "1   9.14  21.6  \n",
       "2   4.03  34.7  \n",
       "3   2.94  33.4  \n",
       "4   5.33  36.2  "
      ]
     },
     "execution_count": 549,
     "metadata": {},
     "output_type": "execute_result"
    }
   ],
   "source": [
    "df2.head()"
   ]
  },
  {
   "cell_type": "markdown",
   "metadata": {},
   "source": [
    "### 1.3 Multi-Linear Regression on the dataset [using Statsmodel]"
   ]
  },
  {
   "cell_type": "code",
   "execution_count": 550,
   "metadata": {},
   "outputs": [],
   "source": [
    "# Let's attempt to do linear regression on these remaining variables.\n",
    "x = df2[['crim', 'indus', 'nox', 'rm', 'age', 'dis', 'rad', 'tax', \n",
    "          'ptratio', 'black', 'lstat']]"
   ]
  },
  {
   "cell_type": "code",
   "execution_count": 551,
   "metadata": {},
   "outputs": [],
   "source": [
    "# House prices.\n",
    "y = df2['medv']\n",
    "#y.head()"
   ]
  },
  {
   "cell_type": "code",
   "execution_count": 552,
   "metadata": {},
   "outputs": [
    {
     "name": "stdout",
     "output_type": "stream",
     "text": [
      "                            OLS Regression Results                            \n",
      "==============================================================================\n",
      "Dep. Variable:                   medv   R-squared:                       0.729\n",
      "Model:                            OLS   Adj. R-squared:                  0.723\n",
      "Method:                 Least Squares   F-statistic:                     121.0\n",
      "Date:                Sat, 30 Nov 2019   Prob (F-statistic):          1.87e-132\n",
      "Time:                        00:18:54   Log-Likelihood:                -1509.6\n",
      "No. Observations:                 506   AIC:                             3043.\n",
      "Df Residuals:                     494   BIC:                             3094.\n",
      "Df Model:                          11                                         \n",
      "Covariance Type:            nonrobust                                         \n",
      "==============================================================================\n",
      "                 coef    std err          t      P>|t|      [0.025      0.975]\n",
      "------------------------------------------------------------------------------\n",
      "const         37.3083      5.200      7.175      0.000      27.092      47.525\n",
      "crim          -0.1034      0.033     -3.102      0.002      -0.169      -0.038\n",
      "indus          0.0182      0.062      0.294      0.769      -0.104       0.140\n",
      "nox          -17.8292      3.890     -4.584      0.000     -25.472     -10.187\n",
      "rm             4.0744      0.421      9.686      0.000       3.248       4.901\n",
      "age           -0.0026      0.013     -0.198      0.843      -0.029       0.024\n",
      "dis           -1.2102      0.186     -6.502      0.000      -1.576      -0.844\n",
      "rad            0.3046      0.067      4.555      0.000       0.173       0.436\n",
      "tax           -0.0109      0.004     -2.939      0.003      -0.018      -0.004\n",
      "ptratio       -1.1311      0.126     -8.972      0.000      -1.379      -0.883\n",
      "black          0.0099      0.003      3.603      0.000       0.004       0.015\n",
      "lstat         -0.5251      0.052    -10.187      0.000      -0.626      -0.424\n",
      "==============================================================================\n",
      "Omnibus:                      195.481   Durbin-Watson:                   0.987\n",
      "Prob(Omnibus):                  0.000   Jarque-Bera (JB):              936.742\n",
      "Skew:                           1.657   Prob(JB):                    3.88e-204\n",
      "Kurtosis:                       8.783   Cond. No.                     1.51e+04\n",
      "==============================================================================\n",
      "\n",
      "Warnings:\n",
      "[1] Standard Errors assume that the covariance matrix of the errors is correctly specified.\n",
      "[2] The condition number is large, 1.51e+04. This might indicate that there are\n",
      "strong multicollinearity or other numerical problems.\n"
     ]
    },
    {
     "name": "stderr",
     "output_type": "stream",
     "text": [
      "/Users/francisadepoju/anaconda3/lib/python3.7/site-packages/numpy/core/fromnumeric.py:2495: FutureWarning: Method .ptp is deprecated and will be removed in a future version. Use numpy.ptp instead.\n",
      "  return ptp(axis=axis, out=out, **kwargs)\n"
     ]
    }
   ],
   "source": [
    "# Tell statmodels to include an intercept.\n",
    "xwithc = sm.add_constant(x)\n",
    "\n",
    "# Create a model.\n",
    "msm = sm.OLS(y, xwithc)\n",
    "\n",
    "# Fit the data.\n",
    "rsm = msm.fit()\n",
    "\n",
    "# Print a summary.\n",
    "print(rsm.summary())"
   ]
  },
  {
   "cell_type": "markdown",
   "metadata": {},
   "source": [
    "### 1.3.1 REMARKS:\n",
    "The condition number is large, 15,100. This might indicate that there are strong multicollinearity or other numerical problems... Need to investigate this!\n",
    "In statistics, multicollinearity (also collinearity) is a phenomenon in which one predictor variable in a multiple regression model can be linearly predicted from the others with a substantial degree of accuracy. In this situation the coefficient estimates of the multiple regression may change erratically in response to small changes in the model or the data. Multicollinearity does not reduce the predictive power or reliability of the model as a whole, at least within the sample data set; it only affects calculations regarding individual predictors. That is, a multivariate regression model with collinear predictors can indicate how well the entire bundle of predictors predicts the outcome variable, but it may not give valid results about any individual predictor, or about which predictors are redundant with respect to others [7]."
   ]
  },
  {
   "cell_type": "markdown",
   "metadata": {},
   "source": [
    "***\n",
    "### 1.3 Multi-linear regression on the dataset [using SKLearn] [8] "
   ]
  },
  {
   "cell_type": "code",
   "execution_count": 553,
   "metadata": {},
   "outputs": [],
   "source": [
    "# Create a linear regression model instance.\n",
    "m = lm.LinearRegression()"
   ]
  },
  {
   "cell_type": "markdown",
   "metadata": {},
   "source": [
    "### 1.3.2: Assumed Linear Model Equation\n",
    "Assuming that the following Linear Relationship exists between the remaining features and the output (house prices):\n",
    "***"
   ]
  },
  {
   "cell_type": "markdown",
   "metadata": {},
   "source": [
    "$$ medv = int+ a (crim) + b (indus)  + c (nox) + d (rm) + e (age) + \n",
    "          f (dis) + g (rad) + h (tax) + i (ptratio) + j (black) + k (lstat) $$\n",
    "int = intercept\n",
    "***"
   ]
  },
  {
   "cell_type": "code",
   "execution_count": 554,
   "metadata": {},
   "outputs": [
    {
     "data": {
      "text/plain": [
       "LinearRegression(copy_X=True, fit_intercept=True, n_jobs=None, normalize=False)"
      ]
     },
     "execution_count": 554,
     "metadata": {},
     "output_type": "execute_result"
    }
   ],
   "source": [
    "# Ask our model to fit the data.\n",
    "m.fit(x, y)"
   ]
  },
  {
   "cell_type": "code",
   "execution_count": 555,
   "metadata": {},
   "outputs": [
    {
     "data": {
      "text/plain": [
       "37.30833678353185"
      ]
     },
     "execution_count": 555,
     "metadata": {},
     "output_type": "execute_result"
    }
   ],
   "source": [
    "# Here's our intercept.\n",
    "m.intercept_"
   ]
  },
  {
   "cell_type": "code",
   "execution_count": 556,
   "metadata": {},
   "outputs": [
    {
     "data": {
      "text/plain": [
       "array([-1.03402051e-01,  1.82116406e-02, -1.78291762e+01,  4.07437888e+00,\n",
       "       -2.64677545e-03, -1.21018231e+00,  3.04603188e-01, -1.09013226e-02,\n",
       "       -1.13114598e+00,  9.85349521e-03, -5.25072184e-01])"
      ]
     },
     "execution_count": 556,
     "metadata": {},
     "output_type": "execute_result"
    }
   ],
   "source": [
    "# Here's our coefficients, in order.\n",
    "m.coef_"
   ]
  },
  {
   "cell_type": "code",
   "execution_count": 557,
   "metadata": {},
   "outputs": [
    {
     "data": {
      "text/plain": [
       "0.7293219233110855"
      ]
     },
     "execution_count": 557,
     "metadata": {},
     "output_type": "execute_result"
    }
   ],
   "source": [
    "# See how good our fit is.\n",
    "m.score(x, y)"
   ]
  },
  {
   "cell_type": "markdown",
   "metadata": {},
   "source": [
    "### 1.3.2 REMARKS:\n",
    "- These results agree largely with those from statsmodel. \n",
    "- Therefore, we can use statsmodel or sklearn for the descriptive analysis.\n",
    "- Statsmodel involves calling fewer command to achieve the same outputs as sklearn\n",
    "- Statsmodels fared quite well with Panda's __data frames__ while sklearn models work with __arrays (ndarray)__."
   ]
  },
  {
   "cell_type": "markdown",
   "metadata": {},
   "source": [
    "### 1.3.3 Histogram:\n",
    "Now let’s plot the histogram of all the available features to see the distribution"
   ]
  },
  {
   "cell_type": "code",
   "execution_count": 558,
   "metadata": {},
   "outputs": [
    {
     "data": {
      "text/plain": [
       "array([[<matplotlib.axes._subplots.AxesSubplot object at 0x1c56190950>,\n",
       "        <matplotlib.axes._subplots.AxesSubplot object at 0x1c58e73fd0>,\n",
       "        <matplotlib.axes._subplots.AxesSubplot object at 0x1c5840c850>],\n",
       "       [<matplotlib.axes._subplots.AxesSubplot object at 0x1c583a0b50>,\n",
       "        <matplotlib.axes._subplots.AxesSubplot object at 0x1c583d5e50>,\n",
       "        <matplotlib.axes._subplots.AxesSubplot object at 0x1c58378c10>],\n",
       "       [<matplotlib.axes._subplots.AxesSubplot object at 0x1c59330f90>,\n",
       "        <matplotlib.axes._subplots.AxesSubplot object at 0x1c5936a790>,\n",
       "        <matplotlib.axes._subplots.AxesSubplot object at 0x1c59374250>],\n",
       "       [<matplotlib.axes._subplots.AxesSubplot object at 0x1c593ab690>,\n",
       "        <matplotlib.axes._subplots.AxesSubplot object at 0x1c5941bb50>,\n",
       "        <matplotlib.axes._subplots.AxesSubplot object at 0x1c59452e50>]],\n",
       "      dtype=object)"
      ]
     },
     "execution_count": 558,
     "metadata": {},
     "output_type": "execute_result"
    },
    {
     "data": {
      "image/png": "[encoded data removed]",
      "text/plain": [
       "<Figure size 1080x1080 with 12 Axes>"
      ]
     },
     "metadata": {},
     "output_type": "display_data"
    }
   ],
   "source": [
    "df2.hist(bins=50, figsize=(15, 15))"
   ]
  },
  {
   "cell_type": "markdown",
   "metadata": {},
   "source": [
    "### 1.3.4 Correlation:\n",
    "Now let’s check the correlation between all the feature variable and target variable by plotting the heatmap as shown below:"
   ]
  },
  {
   "cell_type": "code",
   "execution_count": 559,
   "metadata": {},
   "outputs": [
    {
     "data": {
      "text/plain": [
       "<matplotlib.axes._subplots.AxesSubplot at 0x1c5950ad10>"
      ]
     },
     "execution_count": 559,
     "metadata": {},
     "output_type": "execute_result"
    },
    {
     "data": {
      "image/png": "[encoded data removed]",
      "text/plain": [
       "<Figure size 842.4x595.44 with 2 Axes>"
      ]
     },
     "metadata": {},
     "output_type": "display_data"
    }
   ],
   "source": [
    "# plt.rcParams['figure.figsize'] = (20.0, 10.0)\n",
    "# Just for compactness, reduce the size of the figure\n",
    "sns.set(rc={'figure.figsize':(11.7,8.27)})\n",
    "sns.heatmap(df2.corr().round(2), square=True, cmap='RdYlGn', annot=True)"
   ]
  },
  {
   "cell_type": "markdown",
   "metadata": {},
   "source": [
    "### Observation from Heat Map:\n",
    "- From the above correlation plot, we can see that __medv__ is strongly correlated to __lstat, rm__\n",
    "- __rad & tax__ are strongly correlated, so we don’t include this in our features together to avoid multicollinearity. \n",
    "- Similar to the features __dis & age__ which have a correlation of -0.75. So we will exclude these four features from our features list.\n"
   ]
  },
  {
   "cell_type": "markdown",
   "metadata": {},
   "source": [
    "### NOTE:\n",
    "- From Heat map above, we know that it will be neat to exclude the following features, in addition to the earlier ones from the regression equation:\n",
    "__(zn, chas, rad, tax, dis, age)__\n",
    "- As Scikit learn wants “features” and “target” variables in X and Y respectively. \n",
    "- Here __medv__ is our target variable, we can extract features and target arrays from our dataset as shown below. \n",
    "- From X we drop the medv column along with other features and in y we keep only __medv__ column:"
   ]
  },
  {
   "cell_type": "code",
   "execution_count": 560,
   "metadata": {},
   "outputs": [],
   "source": [
    "xdrop = df2.drop([\"medv\",\"rad\",\"tax\",\"dis\",\"age\"], 1).values\n",
    "y3 = df2[\"medv\"].values"
   ]
  },
  {
   "cell_type": "code",
   "execution_count": 561,
   "metadata": {},
   "outputs": [],
   "source": [
    "# Let's re-do linear regression on these variables.\n",
    "x3 = df2[['crim', 'indus', 'nox', 'rm', 'ptratio', 'black', 'lstat']]"
   ]
  },
  {
   "cell_type": "code",
   "execution_count": 562,
   "metadata": {},
   "outputs": [
    {
     "name": "stderr",
     "output_type": "stream",
     "text": [
      "/Users/francisadepoju/anaconda3/lib/python3.7/site-packages/numpy/core/fromnumeric.py:2495: FutureWarning: Method .ptp is deprecated and will be removed in a future version. Use numpy.ptp instead.\n",
      "  return ptp(axis=axis, out=out, **kwargs)\n"
     ]
    },
    {
     "name": "stdout",
     "output_type": "stream",
     "text": [
      "                            OLS Regression Results                            \n",
      "==============================================================================\n",
      "Dep. Variable:                      y   R-squared:                       0.690\n",
      "Model:                            OLS   Adj. R-squared:                  0.685\n",
      "Method:                 Least Squares   F-statistic:                     158.2\n",
      "Date:                Sat, 30 Nov 2019   Prob (F-statistic):          3.22e-122\n",
      "Time:                        00:18:57   Log-Likelihood:                -1544.1\n",
      "No. Observations:                 506   AIC:                             3104.\n",
      "Df Residuals:                     498   BIC:                             3138.\n",
      "Df Model:                           7                                         \n",
      "Covariance Type:            nonrobust                                         \n",
      "==============================================================================\n",
      "                 coef    std err          t      P>|t|      [0.025      0.975]\n",
      "------------------------------------------------------------------------------\n",
      "const         12.8620      4.548      2.828      0.005       3.927      21.797\n",
      "crim          -0.0399      0.032     -1.248      0.212      -0.103       0.023\n",
      "indus          0.0748      0.057      1.305      0.192      -0.038       0.187\n",
      "nox           -2.6653      3.334     -0.800      0.424      -9.215       3.885\n",
      "rm             4.8324      0.428     11.300      0.000       3.992       5.673\n",
      "ptratio       -0.9229      0.123     -7.496      0.000      -1.165      -0.681\n",
      "black          0.0098      0.003      3.422      0.001       0.004       0.015\n",
      "lstat         -0.5036      0.052     -9.751      0.000      -0.605      -0.402\n",
      "==============================================================================\n",
      "Omnibus:                      231.057   Durbin-Watson:                   0.897\n",
      "Prob(Omnibus):                  0.000   Jarque-Bera (JB):             1384.676\n",
      "Skew:                           1.923   Prob(JB):                    2.10e-301\n",
      "Kurtosis:                      10.133   Cond. No.                     7.76e+03\n",
      "==============================================================================\n",
      "\n",
      "Warnings:\n",
      "[1] Standard Errors assume that the covariance matrix of the errors is correctly specified.\n",
      "[2] The condition number is large, 7.76e+03. This might indicate that there are\n",
      "strong multicollinearity or other numerical problems.\n"
     ]
    }
   ],
   "source": [
    "# # Tell statmodels to include an intercept.\n",
    "xwithc = sm.add_constant(x3)\n",
    "\n",
    "# Create a model.\n",
    "msm = sm.OLS(y3, xwithc)\n",
    "# Fit the data.\n",
    "rsm = msm.fit()\n",
    "# Print a summary.\n",
    "print(rsm.summary())"
   ]
  },
  {
   "cell_type": "markdown",
   "metadata": {},
   "source": [
    "### 1.3.4 REMARKS:\n",
    "- The condition number is is still large __(7760)__ but better than earlier __(15,100)__. \n",
    "- This might indicate that there are still strong multicollinearity or other numerical problems... Need to investigate this further!"
   ]
  },
  {
   "cell_type": "markdown",
   "metadata": {},
   "source": [
    "***\n",
    "## Turning to Statistics:\n",
    "1. Features with high coefficients should be included in the regression\n",
    "2. For multi-linear regression, adjusted R-squared is one of the most common measures of goodness of fit. In other words it is a universal measure to evaluate how well linear regressions fair and compare [7]. It is a much more appropriate measure for a multiple linear regression because it steps on the R-squared and adjusts for the number of variables included in the model. If we are using features with little or no explanatory power. The R squared would increase nonetheless.\n",
    "3. As observed, adjusted R-squared is still much lower than the R-squared this indicates that one or more of the predictors have little or no explanatory power, so more investigation is needed.\n",
    "4. Turning to the Summary report from the statsmodel, we were given the p values of the features which we later use to determine whether the independent variables were relevant for the model. If a variable has a __p value above 0.05__ we can disregard it. Thus __(crim, indus and nox)__ should be dropped.\n",
    "***"
   ]
  },
  {
   "cell_type": "code",
   "execution_count": 563,
   "metadata": {},
   "outputs": [],
   "source": [
    "# Let's re-do linear regression on these remaining variables.\n",
    "x4 = df2[[ 'rm', 'ptratio', 'black', 'lstat']]\n",
    "y4 = df2[\"medv\"].values"
   ]
  },
  {
   "cell_type": "code",
   "execution_count": 564,
   "metadata": {},
   "outputs": [
    {
     "name": "stdout",
     "output_type": "stream",
     "text": [
      "                            OLS Regression Results                            \n",
      "==============================================================================\n",
      "Dep. Variable:                      y   R-squared:                       0.688\n",
      "Model:                            OLS   Adj. R-squared:                  0.685\n",
      "Method:                 Least Squares   F-statistic:                     275.9\n",
      "Date:                Sat, 30 Nov 2019   Prob (F-statistic):          4.10e-125\n",
      "Time:                        00:18:58   Log-Likelihood:                -1545.8\n",
      "No. Observations:                 506   AIC:                             3102.\n",
      "Df Residuals:                     501   BIC:                             3123.\n",
      "Df Model:                           4                                         \n",
      "Covariance Type:            nonrobust                                         \n",
      "==============================================================================\n",
      "                 coef    std err          t      P>|t|      [0.025      0.975]\n",
      "------------------------------------------------------------------------------\n",
      "const         12.0548      4.220      2.857      0.004       3.764      20.345\n",
      "rm             4.7458      0.424     11.180      0.000       3.912       5.580\n",
      "ptratio       -0.8990      0.116     -7.725      0.000      -1.128      -0.670\n",
      "black          0.0105      0.003      3.826      0.000       0.005       0.016\n",
      "lstat         -0.5125      0.044    -11.530      0.000      -0.600      -0.425\n",
      "==============================================================================\n",
      "Omnibus:                      225.637   Durbin-Watson:                   0.897\n",
      "Prob(Omnibus):                  0.000   Jarque-Bera (JB):             1341.814\n",
      "Skew:                           1.871   Prob(JB):                    4.25e-292\n",
      "Kurtosis:                      10.046   Cond. No.                     6.81e+03\n",
      "==============================================================================\n",
      "\n",
      "Warnings:\n",
      "[1] Standard Errors assume that the covariance matrix of the errors is correctly specified.\n",
      "[2] The condition number is large, 6.81e+03. This might indicate that there are\n",
      "strong multicollinearity or other numerical problems.\n"
     ]
    }
   ],
   "source": [
    "# # Tell statmodels to include an intercept.\n",
    "xwithc = sm.add_constant(x4)\n",
    "\n",
    "# Create a model.\n",
    "msm = sm.OLS(y4, xwithc)\n",
    "# Fit the data.\n",
    "rsm = msm.fit()\n",
    "\n",
    "# Print a summary.\n",
    "print(rsm.summary())"
   ]
  },
  {
   "cell_type": "markdown",
   "metadata": {},
   "source": [
    "***\n",
    "### 1.4 Summary Observation:\n",
    "1. The condition number is is still large __(6,810)__ but better than earlier __(7,760)__. This indicates that there are still strong multicollinearity or other numerical problems.\n",
    "2. Adjusted R-squared is still lower than the R-squared but better than previous prediction. This indicates that one or more of the predictors __still have little or no explanatory power__.\n",
    "3. There are no more features with p value > 0.05\n",
    "***"
   ]
  },
  {
   "cell_type": "code",
   "execution_count": 565,
   "metadata": {},
   "outputs": [
    {
     "data": {
      "image/png": "[encoded data removed]",
      "text/plain": [
       "<Figure size 1440x1080 with 4 Axes>"
      ]
     },
     "metadata": {},
     "output_type": "display_data"
    }
   ],
   "source": [
    "# Plot the relationships between remaining features and the medv\n",
    "plt.figure(figsize=(20, 15))\n",
    "\n",
    "#features = ['crim','indus','nox','rm','ptratio','black','lstat']\n",
    "features = ['rm','ptratio','black','lstat']\n",
    "target = df2['medv']\n",
    "for i,col in enumerate(features):\n",
    "    plt.subplot(3, len(features)/2 , i+1)\n",
    "    x3 = df2[col]\n",
    "    y3 = target\n",
    "    plt.scatter(x3, y3, marker='o')\n",
    "    plt.title(col)\n",
    "    plt.xlabel(col)\n",
    "    plt.ylabel('MEDV')\n"
   ]
  },
  {
   "cell_type": "markdown",
   "metadata": {},
   "source": [
    "- From the above visualization, we can conclude that **medv** and **rm** are linearly correlated \n",
    "- __(medv)__ increase with an increase in __(rm)__ which is number of rooms and looks like both are following a linear relationship. \n",
    "- Also when population of lower status percentage __(lstat)__ increases,house price __(medv)__ or price decreases."
   ]
  },
  {
   "cell_type": "markdown",
   "metadata": {},
   "source": [
    "***\n",
    "## 2. Inference\n",
    "***\n",
    "\n",
    "Inferential statistics use a random sample of data taken from a population to describe and make inferences about the population. Inferential statistics are valuable when examination of each member of an entire population is not convenient or possible.\n",
    "Inferential statistics use statistical models to help compare the sample data to other samples or to previous research [9].\n",
    "Most research uses statistical models called the Generalized Linear model and include Student’s t-tests, ANOVA (Analysis of Variance), regression analysis and various other models that result in straight-line (“linear”) probabilities and results. The main indexes for inferential statistics articles are:\n",
    "* Binomial Theorem\n",
    "* Hypothesis Testing\n",
    "* Normal Distributions\n",
    "* T-Distributions\n",
    "* Central Limit Theorem\n",
    "* Confidence Intervals\n",
    "* Regression Analysis / Linear Regression\n",
    "* Comparison of Means.\n"
   ]
  },
  {
   "cell_type": "code",
   "execution_count": 566,
   "metadata": {},
   "outputs": [],
   "source": [
    "# Let's make a copy of the dataset and then separate the chars column to show houses that are \n",
    "# along the Charles river (chas = 1) and those that are not (chas = 0);"
   ]
  },
  {
   "cell_type": "code",
   "execution_count": 567,
   "metadata": {},
   "outputs": [],
   "source": [
    "df3_0 = df[df3['chas'] == 0]\n",
    "df3_1 = df[df3['chas'] == 1]\n",
    "n_0 = df3_0['chas'].count()\n",
    "n_1 = df3_1['chas'].count()"
   ]
  },
  {
   "cell_type": "code",
   "execution_count": 568,
   "metadata": {},
   "outputs": [
    {
     "name": "stdout",
     "output_type": "stream",
     "text": [
      "Non-boundary Houses:  471\n",
      "Boundary Houses    :  35\n",
      "Total no. Houses   :  506\n"
     ]
    }
   ],
   "source": [
    "print(\"Non-boundary Houses: \", n_0)\n",
    "print(\"Boundary Houses    : \", n_1)\n",
    "print(\"Total no. Houses   : \", n_0 + n_1)\n"
   ]
  },
  {
   "cell_type": "markdown",
   "metadata": {},
   "source": [
    "### NOTE:\n",
    "- Above count shows there are **35** houses bounds the Charles river while **471** houses do not.\n",
    "- To make a reasonable inference with t-test or Anova, a random sample of 30 houses are selected from each group as follows:"
   ]
  },
  {
   "cell_type": "code",
   "execution_count": 569,
   "metadata": {},
   "outputs": [
    {
     "name": "stdout",
     "output_type": "stream",
     "text": [
      "Non-Boundary houses = 30\n",
      "Boundary houses     = 30\n",
      "mean of medv for Non-Bounded houses   = 24.66\n",
      "mean of medv for Bounded houses = 28.73\n"
     ]
    }
   ],
   "source": [
    "# create random index of 30 out of the lot\n",
    "\n",
    "#np.random.seed(101)  #Seeding not working here? \n",
    "rindex_0 =  np.array(sample(range(len(df3_0)), 30))\n",
    "rindex_1 =  np.array(sample(range(len(df3_1)), 30))\n",
    "# print(rindex_0)\n",
    "# print(rindex_1)\n",
    "\n",
    "# get 30 random rows from each of the dataframes and then print them out (using iloc for positional indexing)\n",
    "dfr_0 = df3_0.iloc[rindex_0]\n",
    "dfr_1 = df3_1.iloc[rindex_1]\n",
    "# print(dfr_0)\n",
    "# print(dfr_1)\n",
    "\n",
    "# Count the samples.\n",
    "nA = dfr_0['chas'].count()\n",
    "nB = dfr_1['chas'].count()\n",
    "print(f'Non-Boundary houses = {nA}')\n",
    "print(f'Boundary houses     = {nB}')\n",
    "\n",
    "# Calculate the means.\n",
    "mA = dfr_0['medv'].sum() / nA\n",
    "mB = dfr_1['medv'].sum() / nB\n",
    "\n",
    "# Print to 2 decimal places\n",
    "print(f\"mean of medv for Non-Bounded houses   = {mA:.2f}\")\n",
    "print(f\"mean of medv for Bounded houses = {mB:.2f}\")"
   ]
  },
  {
   "cell_type": "code",
   "execution_count": 570,
   "metadata": {},
   "outputs": [
    {
     "name": "stdout",
     "output_type": "stream",
     "text": [
      "[24.98348058 24.8769416  23.89475383 24.56084051 25.02421735 24.62471958\n",
      " 24.09921839 25.73973759 24.4689832  24.44420202 24.88557998 24.85611416\n",
      " 24.41698018 25.346455   24.43631845 24.67889625 25.09040548 24.93053874\n",
      " 24.70270646 24.65177652 24.77611986 24.28767438 24.99308116 24.3899572\n",
      " 24.21258838 25.79428106 24.30790728 24.83211926 24.24151243 24.44662294]\n",
      "[29.02392422 29.44361127 28.8060324  28.78036063 28.67015412 28.65113677\n",
      " 29.75534542 29.4488299  28.79692218 27.85872856 29.09542816 28.41760168\n",
      " 27.96146488 29.02238731 28.21485606 27.90756449 28.40589822 28.72856251\n",
      " 27.84945498 28.52396805 29.33869918 29.31663813 28.82993093 27.83436332\n",
      " 28.49038074 28.33144039 29.55464753 28.73037231 28.32909696 28.69963896]\n"
     ]
    }
   ],
   "source": [
    "# Set parameters for two populations.\n",
    "popA = {'m': mA, 's': 0.50}\n",
    "popB = {'m': mB, 's': 0.50}\n",
    "\n",
    "# # Create two samples, one from each population.\n",
    "# # Create two samples, one from each population.\n",
    "\n",
    "sampA = np.random.normal(popA['m'], popA['s'], 30)\n",
    "sampB = np.random.normal(popB['m'], popB['s'], 30)\n",
    "\n",
    "print(sampA)\n",
    "print(sampB)"
   ]
  },
  {
   "cell_type": "code",
   "execution_count": 571,
   "metadata": {},
   "outputs": [
    {
     "data": {
      "image/png": "[encoded data removed]",
      "text/plain": [
       "<Figure size 842.4x595.44 with 1 Axes>"
      ]
     },
     "metadata": {},
     "output_type": "display_data"
    },
    {
     "name": "stdout",
     "output_type": "stream",
     "text": [
      "\n",
      "***********************************************\n",
      "mean of medv for Non-Bounded houses  = 24.66\n",
      "mean of medv for Bounded houses      = 28.73\n",
      "***********************************************\n"
     ]
    }
   ],
   "source": [
    "# Plot histograms of the two samples.\n",
    "plt.hist(sampA, density=True, color='g', label=\"Sample A, Non-Boundary River\")\n",
    "plt.hist(sampB, density=True, color='b', label=\"Sample B, Boundary River\")\n",
    "\n",
    "# Display a legend.\n",
    "plt.legend()\n",
    "plt.show()\n",
    "print(\"\")\n",
    "\n",
    "print(\"***********************************************\")\n",
    "print(f\"mean of medv for Non-Bounded houses  = {mA:.2f}\")\n",
    "print(f\"mean of medv for Bounded houses      = {mB:.2f}\")\n",
    "print(\"***********************************************\")"
   ]
  },
  {
   "cell_type": "code",
   "execution_count": 572,
   "metadata": {},
   "outputs": [
    {
     "data": {
      "text/plain": [
       "Ttest_indResult(statistic=-31.727808739546376, pvalue=2.4014284620959324e-38)"
      ]
     },
     "execution_count": 572,
     "metadata": {},
     "output_type": "execute_result"
    }
   ],
   "source": [
    "stats.ttest_ind(sampA, sampB)"
   ]
  },
  {
   "cell_type": "code",
   "execution_count": 573,
   "metadata": {},
   "outputs": [
    {
     "data": {
      "text/plain": [
       "F_onewayResult(statistic=1006.6538474132376, pvalue=2.4014284620957617e-38)"
      ]
     },
     "execution_count": 573,
     "metadata": {},
     "output_type": "execute_result"
    }
   ],
   "source": [
    "# Anova... gives the same result as the t-test!\n",
    "# stats.f_oneway(dfr_0['medv'], dfr_1['medv'])\n",
    "stats.f_oneway(sampA, sampB)"
   ]
  },
  {
   "cell_type": "markdown",
   "metadata": {},
   "source": [
    "***\n",
    "\n",
    "### 2.1 Calculating the t-statistic\n",
    "\n",
    "From the __WikiPedia__ pages for [Student's t-test](https://en.wikipedia.org/wiki/Student%27s_t-test#Equal_or_unequal_sample_sizes,_equal_variance) and [Variance](https://en.wikipedia.org/wiki/Variance#Sample_variance).\n",
    "\n",
    "Note that we are using the calculations for two samples, with equal variances, and possibly different sample sizes. Because the ratio of [0:1] is  471:35, we decided to use equal sample size of 30.\n",
    "\n",
    "$$ {\\displaystyle t={\\frac {{\\bar {X}}_{1}-{\\bar {X}}_{2}}{s_{p}\\cdot {\\sqrt {{\\frac {1}{n_{1}}}+{\\frac {1}{n_{2}}}}}}}} $$\n",
    "\n",
    "$$ {\\displaystyle s_{p}={\\sqrt {\\frac {\\left(n_{1}-1\\right)s_{X_{1}}^{2}+\\left(n_{2}-1\\right)s_{X_{2}}^{2}}{n_{1}+n_{2}-2}}}} $$\n",
    "\n",
    "$$ {\\displaystyle s^{2}={\\frac {1}{n-1}}\\sum _{i=1}^{n}\\left(Y_{i}-{\\overline {Y}}\\right)^{2}} $$"
   ]
  },
  {
   "cell_type": "code",
   "execution_count": 574,
   "metadata": {},
   "outputs": [
    {
     "name": "stdout",
     "output_type": "stream",
     "text": [
      "30.0\n",
      "30.0\n",
      "Mean of sample A:        24.6998\n",
      "Mean of sample B:        28.6939\n",
      "Size of sample A:        30.0000\n",
      "Size of sample B:        30.0000\n",
      "Variance of sample A:     0.1905\n",
      "Variance of sample B:     0.2849\n",
      "Pooled std dev:           0.4876\n",
      "t-statistic:            -31.7278\n"
     ]
    }
   ],
   "source": [
    "# # Count the samples.\n",
    "nA = float(len(sampA))\n",
    "nB = float(len(sampB))\n",
    "print(nA)\n",
    "print(nB)\n",
    "\n",
    "# # Calculate the means.\n",
    "mA = sampA.sum() / nA\n",
    "mB = sampB.sum() / nB\n",
    "\n",
    "# Sample variances.\n",
    "varA = ((sampA - mA)**2).sum() / (nA - 1.0)\n",
    "varB = ((sampB - mB)**2).sum() / (nB - 1.0)\n",
    "\n",
    "# Pooled standard deviation.\n",
    "sp = np.sqrt(((nA - 1.0) * varA + (nB - 1.0) * varB) / (nA + nB - 2.0))\n",
    "\n",
    "# t-statistic\n",
    "t = (mA - mB) / (sp * np.sqrt((1.0 / nA) + (1.0 / nB)))\n",
    "\n",
    "print(f\"Mean of sample A:       {mA:8.4f}\")\n",
    "print(f\"Mean of sample B:       {mB:8.4f}\")\n",
    "print(f\"Size of sample A:       {nA:8.4f}\")\n",
    "print(f\"Size of sample B:       {nB:8.4f}\")\n",
    "print(f\"Variance of sample A:   {varA:8.4f}\")\n",
    "print(f\"Variance of sample B:   {varB:8.4f}\")\n",
    "print(f\"Pooled std dev:         {sp:8.4f}\")\n",
    "print(f\"t-statistic:            {t:8.4f}\")"
   ]
  },
  {
   "cell_type": "markdown",
   "metadata": {},
   "source": [
    "#### Note that the t-statistics is same as t-test from earlier generated by scipy..."
   ]
  },
  {
   "cell_type": "markdown",
   "metadata": {},
   "source": [
    "#### 2.1.1 Critical values\n",
    "\n",
    "* For a two-tail test (e.g. $H_0$: the means are equal) we reject the null hypothesis $H_0$ if the value of the t-statistic from the samples is further away from zero than the t-statistic at the ($0.5 / 2.0 =$) $0.025$ level."
   ]
  },
  {
   "cell_type": "code",
   "execution_count": 575,
   "metadata": {},
   "outputs": [
    {
     "name": "stdout",
     "output_type": "stream",
     "text": [
      "2.0017174830120923\n"
     ]
    },
    {
     "data": {
      "image/png": "[encoded data removed]",
      "text/plain": [
       "<Figure size 842.4x595.44 with 1 Axes>"
      ]
     },
     "metadata": {},
     "output_type": "display_data"
    }
   ],
   "source": [
    "# x values for plotting.\n",
    "x = np.linspace(-5.0, 5.0, 1000)\n",
    "\n",
    "# The probability density functions (PDFs) for the t distribution.\n",
    "# The number of degrees of freedom is (nA + nB - 2).\n",
    "pdf = stats.t.pdf(x, (nA + nB - 2.0))\n",
    "\n",
    "# Create a dataframe from x and pdf.\n",
    "df = pd.DataFrame({'x': x, 'y': pdf})\n",
    "\n",
    "# Plot the overall distribution.\n",
    "plt.fill_between(df['x'], df['y'], color='g', alpha=0.25)\n",
    "\n",
    "# Plot the values more extreme than our |t|.\n",
    "crit = np.abs(stats.t.ppf(0.975, nA + nB - 2.0))     #ppf\n",
    "tail1 = df[df['x'] >=  crit]\n",
    "tail2 = df[df['x'] <= -crit]\n",
    "plt.fill_between(tail1['x'], tail1['y'], color='b', alpha=0.25)\n",
    "plt.fill_between(tail2['x'], tail2['y'], color='b', alpha=0.25)\n",
    "\n",
    "print(crit)\n",
    "\n",
    "plt.show()"
   ]
  },
  {
   "cell_type": "markdown",
   "metadata": {},
   "source": [
    "* t-statistics is much lesser than the critical value therefore __we reject__ the null hypothesis. \n",
    "* The mean of house prices - those along & those not along the river are __certainly different__. "
   ]
  },
  {
   "cell_type": "markdown",
   "metadata": {},
   "source": [
    "***\n",
    "## 3. Prediction\n",
    "***"
   ]
  },
  {
   "cell_type": "markdown",
   "metadata": {},
   "source": [
    "### 3.1 The dataset, input and output view"
   ]
  },
  {
   "cell_type": "markdown",
   "metadata": {},
   "source": [
    "Peek into the dataset once more..."
   ]
  },
  {
   "cell_type": "code",
   "execution_count": 576,
   "metadata": {},
   "outputs": [
    {
     "data": {
      "text/html": [
       "<div>\n",
       "<style scoped>\n",
       "    .dataframe tbody tr th:only-of-type {\n",
       "        vertical-align: middle;\n",
       "    }\n",
       "\n",
       "    .dataframe tbody tr th {\n",
       "        vertical-align: top;\n",
       "    }\n",
       "\n",
       "    .dataframe thead th {\n",
       "        text-align: right;\n",
       "    }\n",
       "</style>\n",
       "<table border=\"1\" class=\"dataframe\">\n",
       "  <thead>\n",
       "    <tr style=\"text-align: right;\">\n",
       "      <th></th>\n",
       "      <th>crim</th>\n",
       "      <th>zn</th>\n",
       "      <th>indus</th>\n",
       "      <th>chas</th>\n",
       "      <th>nox</th>\n",
       "      <th>rm</th>\n",
       "      <th>age</th>\n",
       "      <th>dis</th>\n",
       "      <th>rad</th>\n",
       "      <th>tax</th>\n",
       "      <th>ptratio</th>\n",
       "      <th>black</th>\n",
       "      <th>lstat</th>\n",
       "      <th>medv</th>\n",
       "    </tr>\n",
       "  </thead>\n",
       "  <tbody>\n",
       "    <tr>\n",
       "      <td>0</td>\n",
       "      <td>0.00632</td>\n",
       "      <td>18.0</td>\n",
       "      <td>2.31</td>\n",
       "      <td>0</td>\n",
       "      <td>0.538</td>\n",
       "      <td>6.575</td>\n",
       "      <td>65.2</td>\n",
       "      <td>4.0900</td>\n",
       "      <td>1</td>\n",
       "      <td>296</td>\n",
       "      <td>15.3</td>\n",
       "      <td>396.90</td>\n",
       "      <td>4.98</td>\n",
       "      <td>24.0</td>\n",
       "    </tr>\n",
       "    <tr>\n",
       "      <td>1</td>\n",
       "      <td>0.02731</td>\n",
       "      <td>0.0</td>\n",
       "      <td>7.07</td>\n",
       "      <td>0</td>\n",
       "      <td>0.469</td>\n",
       "      <td>6.421</td>\n",
       "      <td>78.9</td>\n",
       "      <td>4.9671</td>\n",
       "      <td>2</td>\n",
       "      <td>242</td>\n",
       "      <td>17.8</td>\n",
       "      <td>396.90</td>\n",
       "      <td>9.14</td>\n",
       "      <td>21.6</td>\n",
       "    </tr>\n",
       "    <tr>\n",
       "      <td>2</td>\n",
       "      <td>0.02729</td>\n",
       "      <td>0.0</td>\n",
       "      <td>7.07</td>\n",
       "      <td>0</td>\n",
       "      <td>0.469</td>\n",
       "      <td>7.185</td>\n",
       "      <td>61.1</td>\n",
       "      <td>4.9671</td>\n",
       "      <td>2</td>\n",
       "      <td>242</td>\n",
       "      <td>17.8</td>\n",
       "      <td>392.83</td>\n",
       "      <td>4.03</td>\n",
       "      <td>34.7</td>\n",
       "    </tr>\n",
       "    <tr>\n",
       "      <td>3</td>\n",
       "      <td>0.03237</td>\n",
       "      <td>0.0</td>\n",
       "      <td>2.18</td>\n",
       "      <td>0</td>\n",
       "      <td>0.458</td>\n",
       "      <td>6.998</td>\n",
       "      <td>45.8</td>\n",
       "      <td>6.0622</td>\n",
       "      <td>3</td>\n",
       "      <td>222</td>\n",
       "      <td>18.7</td>\n",
       "      <td>394.63</td>\n",
       "      <td>2.94</td>\n",
       "      <td>33.4</td>\n",
       "    </tr>\n",
       "    <tr>\n",
       "      <td>4</td>\n",
       "      <td>0.06905</td>\n",
       "      <td>0.0</td>\n",
       "      <td>2.18</td>\n",
       "      <td>0</td>\n",
       "      <td>0.458</td>\n",
       "      <td>7.147</td>\n",
       "      <td>54.2</td>\n",
       "      <td>6.0622</td>\n",
       "      <td>3</td>\n",
       "      <td>222</td>\n",
       "      <td>18.7</td>\n",
       "      <td>396.90</td>\n",
       "      <td>5.33</td>\n",
       "      <td>36.2</td>\n",
       "    </tr>\n",
       "  </tbody>\n",
       "</table>\n",
       "</div>"
      ],
      "text/plain": [
       "      crim    zn  indus  chas    nox     rm   age     dis  rad  tax  ptratio  \\\n",
       "0  0.00632  18.0   2.31     0  0.538  6.575  65.2  4.0900    1  296     15.3   \n",
       "1  0.02731   0.0   7.07     0  0.469  6.421  78.9  4.9671    2  242     17.8   \n",
       "2  0.02729   0.0   7.07     0  0.469  7.185  61.1  4.9671    2  242     17.8   \n",
       "3  0.03237   0.0   2.18     0  0.458  6.998  45.8  6.0622    3  222     18.7   \n",
       "4  0.06905   0.0   2.18     0  0.458  7.147  54.2  6.0622    3  222     18.7   \n",
       "\n",
       "    black  lstat  medv  \n",
       "0  396.90   4.98  24.0  \n",
       "1  396.90   9.14  21.6  \n",
       "2  392.83   4.03  34.7  \n",
       "3  394.63   2.94  33.4  \n",
       "4  396.90   5.33  36.2  "
      ]
     },
     "execution_count": 576,
     "metadata": {},
     "output_type": "execute_result"
    }
   ],
   "source": [
    "df3.head()"
   ]
  },
  {
   "cell_type": "markdown",
   "metadata": {},
   "source": [
    "#### The first task is to split the dataset into two random samples (80% and 20%) for 80% training and 20% testing\n",
    "***"
   ]
  },
  {
   "cell_type": "markdown",
   "metadata": {},
   "source": [
    "### 3.2 Partition the dataset to Training and Test  - ratio(80:20) (The dataset, input and output view)\n",
    "- When we do a train test split we both split our features into X-train, X-test as well as our labels into y-train and y-test\n",
    "- Then we choose a percentage as your test size. We select 20% for test and therefore 80% of the data for training as shown below.\n",
    "- For repeatability so that the results of the split is the same every time, we set a random_ state variable to to a specific number. This number is just an arbitrary arbitrary choice.\n",
    "\n"
   ]
  },
  {
   "cell_type": "code",
   "execution_count": 577,
   "metadata": {},
   "outputs": [
    {
     "data": {
      "text/html": [
       "<div>\n",
       "<style scoped>\n",
       "    .dataframe tbody tr th:only-of-type {\n",
       "        vertical-align: middle;\n",
       "    }\n",
       "\n",
       "    .dataframe tbody tr th {\n",
       "        vertical-align: top;\n",
       "    }\n",
       "\n",
       "    .dataframe thead th {\n",
       "        text-align: right;\n",
       "    }\n",
       "</style>\n",
       "<table border=\"1\" class=\"dataframe\">\n",
       "  <thead>\n",
       "    <tr style=\"text-align: right;\">\n",
       "      <th></th>\n",
       "      <th>crim</th>\n",
       "      <th>zn</th>\n",
       "      <th>indus</th>\n",
       "      <th>chas</th>\n",
       "      <th>nox</th>\n",
       "      <th>rm</th>\n",
       "      <th>age</th>\n",
       "      <th>dis</th>\n",
       "      <th>rad</th>\n",
       "      <th>tax</th>\n",
       "      <th>ptratio</th>\n",
       "      <th>black</th>\n",
       "      <th>lstat</th>\n",
       "      <th>medv</th>\n",
       "    </tr>\n",
       "  </thead>\n",
       "  <tbody>\n",
       "    <tr>\n",
       "      <td>0</td>\n",
       "      <td>0.00632</td>\n",
       "      <td>18.0</td>\n",
       "      <td>2.31</td>\n",
       "      <td>0</td>\n",
       "      <td>0.538</td>\n",
       "      <td>6.575</td>\n",
       "      <td>65.2</td>\n",
       "      <td>4.0900</td>\n",
       "      <td>1</td>\n",
       "      <td>296</td>\n",
       "      <td>15.3</td>\n",
       "      <td>396.90</td>\n",
       "      <td>4.98</td>\n",
       "      <td>24.0</td>\n",
       "    </tr>\n",
       "    <tr>\n",
       "      <td>1</td>\n",
       "      <td>0.02731</td>\n",
       "      <td>0.0</td>\n",
       "      <td>7.07</td>\n",
       "      <td>0</td>\n",
       "      <td>0.469</td>\n",
       "      <td>6.421</td>\n",
       "      <td>78.9</td>\n",
       "      <td>4.9671</td>\n",
       "      <td>2</td>\n",
       "      <td>242</td>\n",
       "      <td>17.8</td>\n",
       "      <td>396.90</td>\n",
       "      <td>9.14</td>\n",
       "      <td>21.6</td>\n",
       "    </tr>\n",
       "    <tr>\n",
       "      <td>2</td>\n",
       "      <td>0.02729</td>\n",
       "      <td>0.0</td>\n",
       "      <td>7.07</td>\n",
       "      <td>0</td>\n",
       "      <td>0.469</td>\n",
       "      <td>7.185</td>\n",
       "      <td>61.1</td>\n",
       "      <td>4.9671</td>\n",
       "      <td>2</td>\n",
       "      <td>242</td>\n",
       "      <td>17.8</td>\n",
       "      <td>392.83</td>\n",
       "      <td>4.03</td>\n",
       "      <td>34.7</td>\n",
       "    </tr>\n",
       "    <tr>\n",
       "      <td>3</td>\n",
       "      <td>0.03237</td>\n",
       "      <td>0.0</td>\n",
       "      <td>2.18</td>\n",
       "      <td>0</td>\n",
       "      <td>0.458</td>\n",
       "      <td>6.998</td>\n",
       "      <td>45.8</td>\n",
       "      <td>6.0622</td>\n",
       "      <td>3</td>\n",
       "      <td>222</td>\n",
       "      <td>18.7</td>\n",
       "      <td>394.63</td>\n",
       "      <td>2.94</td>\n",
       "      <td>33.4</td>\n",
       "    </tr>\n",
       "    <tr>\n",
       "      <td>4</td>\n",
       "      <td>0.06905</td>\n",
       "      <td>0.0</td>\n",
       "      <td>2.18</td>\n",
       "      <td>0</td>\n",
       "      <td>0.458</td>\n",
       "      <td>7.147</td>\n",
       "      <td>54.2</td>\n",
       "      <td>6.0622</td>\n",
       "      <td>3</td>\n",
       "      <td>222</td>\n",
       "      <td>18.7</td>\n",
       "      <td>396.90</td>\n",
       "      <td>5.33</td>\n",
       "      <td>36.2</td>\n",
       "    </tr>\n",
       "    <tr>\n",
       "      <td>...</td>\n",
       "      <td>...</td>\n",
       "      <td>...</td>\n",
       "      <td>...</td>\n",
       "      <td>...</td>\n",
       "      <td>...</td>\n",
       "      <td>...</td>\n",
       "      <td>...</td>\n",
       "      <td>...</td>\n",
       "      <td>...</td>\n",
       "      <td>...</td>\n",
       "      <td>...</td>\n",
       "      <td>...</td>\n",
       "      <td>...</td>\n",
       "      <td>...</td>\n",
       "    </tr>\n",
       "    <tr>\n",
       "      <td>501</td>\n",
       "      <td>0.06263</td>\n",
       "      <td>0.0</td>\n",
       "      <td>11.93</td>\n",
       "      <td>0</td>\n",
       "      <td>0.573</td>\n",
       "      <td>6.593</td>\n",
       "      <td>69.1</td>\n",
       "      <td>2.4786</td>\n",
       "      <td>1</td>\n",
       "      <td>273</td>\n",
       "      <td>21.0</td>\n",
       "      <td>391.99</td>\n",
       "      <td>9.67</td>\n",
       "      <td>22.4</td>\n",
       "    </tr>\n",
       "    <tr>\n",
       "      <td>502</td>\n",
       "      <td>0.04527</td>\n",
       "      <td>0.0</td>\n",
       "      <td>11.93</td>\n",
       "      <td>0</td>\n",
       "      <td>0.573</td>\n",
       "      <td>6.120</td>\n",
       "      <td>76.7</td>\n",
       "      <td>2.2875</td>\n",
       "      <td>1</td>\n",
       "      <td>273</td>\n",
       "      <td>21.0</td>\n",
       "      <td>396.90</td>\n",
       "      <td>9.08</td>\n",
       "      <td>20.6</td>\n",
       "    </tr>\n",
       "    <tr>\n",
       "      <td>503</td>\n",
       "      <td>0.06076</td>\n",
       "      <td>0.0</td>\n",
       "      <td>11.93</td>\n",
       "      <td>0</td>\n",
       "      <td>0.573</td>\n",
       "      <td>6.976</td>\n",
       "      <td>91.0</td>\n",
       "      <td>2.1675</td>\n",
       "      <td>1</td>\n",
       "      <td>273</td>\n",
       "      <td>21.0</td>\n",
       "      <td>396.90</td>\n",
       "      <td>5.64</td>\n",
       "      <td>23.9</td>\n",
       "    </tr>\n",
       "    <tr>\n",
       "      <td>504</td>\n",
       "      <td>0.10959</td>\n",
       "      <td>0.0</td>\n",
       "      <td>11.93</td>\n",
       "      <td>0</td>\n",
       "      <td>0.573</td>\n",
       "      <td>6.794</td>\n",
       "      <td>89.3</td>\n",
       "      <td>2.3889</td>\n",
       "      <td>1</td>\n",
       "      <td>273</td>\n",
       "      <td>21.0</td>\n",
       "      <td>393.45</td>\n",
       "      <td>6.48</td>\n",
       "      <td>22.0</td>\n",
       "    </tr>\n",
       "    <tr>\n",
       "      <td>505</td>\n",
       "      <td>0.04741</td>\n",
       "      <td>0.0</td>\n",
       "      <td>11.93</td>\n",
       "      <td>0</td>\n",
       "      <td>0.573</td>\n",
       "      <td>6.030</td>\n",
       "      <td>80.8</td>\n",
       "      <td>2.5050</td>\n",
       "      <td>1</td>\n",
       "      <td>273</td>\n",
       "      <td>21.0</td>\n",
       "      <td>396.90</td>\n",
       "      <td>7.88</td>\n",
       "      <td>11.9</td>\n",
       "    </tr>\n",
       "  </tbody>\n",
       "</table>\n",
       "<p>506 rows × 14 columns</p>\n",
       "</div>"
      ],
      "text/plain": [
       "        crim    zn  indus  chas    nox     rm   age     dis  rad  tax  \\\n",
       "0    0.00632  18.0   2.31     0  0.538  6.575  65.2  4.0900    1  296   \n",
       "1    0.02731   0.0   7.07     0  0.469  6.421  78.9  4.9671    2  242   \n",
       "2    0.02729   0.0   7.07     0  0.469  7.185  61.1  4.9671    2  242   \n",
       "3    0.03237   0.0   2.18     0  0.458  6.998  45.8  6.0622    3  222   \n",
       "4    0.06905   0.0   2.18     0  0.458  7.147  54.2  6.0622    3  222   \n",
       "..       ...   ...    ...   ...    ...    ...   ...     ...  ...  ...   \n",
       "501  0.06263   0.0  11.93     0  0.573  6.593  69.1  2.4786    1  273   \n",
       "502  0.04527   0.0  11.93     0  0.573  6.120  76.7  2.2875    1  273   \n",
       "503  0.06076   0.0  11.93     0  0.573  6.976  91.0  2.1675    1  273   \n",
       "504  0.10959   0.0  11.93     0  0.573  6.794  89.3  2.3889    1  273   \n",
       "505  0.04741   0.0  11.93     0  0.573  6.030  80.8  2.5050    1  273   \n",
       "\n",
       "     ptratio   black  lstat  medv  \n",
       "0       15.3  396.90   4.98  24.0  \n",
       "1       17.8  396.90   9.14  21.6  \n",
       "2       17.8  392.83   4.03  34.7  \n",
       "3       18.7  394.63   2.94  33.4  \n",
       "4       18.7  396.90   5.33  36.2  \n",
       "..       ...     ...    ...   ...  \n",
       "501     21.0  391.99   9.67  22.4  \n",
       "502     21.0  396.90   9.08  20.6  \n",
       "503     21.0  396.90   5.64  23.9  \n",
       "504     21.0  393.45   6.48  22.0  \n",
       "505     21.0  396.90   7.88  11.9  \n",
       "\n",
       "[506 rows x 14 columns]"
      ]
     },
     "execution_count": 577,
     "metadata": {},
     "output_type": "execute_result"
    }
   ],
   "source": [
    "# Features\n",
    "X = df3[['crim', 'zn', 'indus','chas','nox','rm','age','dis','rad','tax','ptratio','black','lstat']].values\n",
    "\n",
    "# Label\n",
    "y  = df3['medv'].values\n",
    "\n",
    "# Split the dataset\n",
    "X_train, X_test, y_train, y_test = train_test_split(X,y,test_size=0.2,random_state=111)\n",
    "df3"
   ]
  },
  {
   "cell_type": "code",
   "execution_count": 578,
   "metadata": {},
   "outputs": [
    {
     "name": "stdout",
     "output_type": "stream",
     "text": [
      "=====================================\n",
      "Size of Test data is:\t\t 102\n",
      "Size of Training data is: \t 404\n",
      "Total size of dataset is: \t 506\n",
      "=====================================\n"
     ]
    }
   ],
   "source": [
    "print(\"=====================================\")\n",
    "print(\"Size of Test data is:\\t\\t\", len(X_test))\n",
    "print(\"Size of Training data is: \\t\", len(X_train))\n",
    "print(\"Total size of dataset is: \\t\", len(X_test) + len(X_train))\n",
    "print(\"=====================================\")\n",
    "# print(inputTrainDataX)"
   ]
  },
  {
   "cell_type": "markdown",
   "metadata": {},
   "source": [
    "### 3.3 Scale the training and test Data and then Create the model\n",
    "- We'll go ahead and import MinMaxScalar to transform or normalize the data based off the standard deviation of the data as well as the min and max values."
   ]
  },
  {
   "cell_type": "code",
   "execution_count": 579,
   "metadata": {},
   "outputs": [],
   "source": [
    "# Scale the trainData (to range between 0 & 1) so it will work well with sgd [REFz]\n",
    "scaler = MinMaxScaler()\n",
    "scaler.fit(X_train)\n",
    "\n",
    "X_train = scaler.transform(X_train)\n",
    "X_test = scaler.transform(X_test)"
   ]
  },
  {
   "cell_type": "markdown",
   "metadata": {},
   "source": [
    "### 3.31 Whitening...This did not improve the prediction as such\n",
    "- Convert NDArray to pd.Dataframe"
   ]
  },
  {
   "cell_type": "code",
   "execution_count": 580,
   "metadata": {},
   "outputs": [],
   "source": [
    "#Xx_train = pd.DataFrame(data=X_train[1:,1:],index=X_train[1:,0],columns=X_train[0,0:])\n",
    "# Xx_train = pd.DataFrame(data=X_train[1:,1:])\n",
    "# Xx_train\n",
    "# Xx_train = pd.DataFrame(X_train[0:])\n",
    "# # Xx_train.columns = ['crim', 'zn', 'indus','chas','nox','rm','age','dis','rad','tax','ptratio','black','lstat']\n",
    "# Xx_train"
   ]
  },
  {
   "cell_type": "code",
   "execution_count": 581,
   "metadata": {},
   "outputs": [],
   "source": [
    "# pca = dec.PCA(n_components=13, whiten=True)\n",
    "# pca.fit(X_train)\n",
    "# # X_train_white = pd.DataFrame(pca.transform(X_train), columns=Xx_train.columns)\n",
    "# X_train_white = pca.transform(X_train)\n",
    "# X_train_white"
   ]
  },
  {
   "cell_type": "code",
   "execution_count": 582,
   "metadata": {},
   "outputs": [],
   "source": [
    "# X_test_white = pca.transform(X_test)\n",
    "# X_test_white"
   ]
  },
  {
   "cell_type": "code",
   "execution_count": 583,
   "metadata": {},
   "outputs": [],
   "source": [
    "model = Sequential()\n",
    "\n",
    "model.add(Dense(13,activation='relu'))\n",
    "model.add(Dense(13,activation='relu'))\n",
    "model.add(Dense(26,activation='relu'))\n",
    "model.add(Dense(50,activation='relu'))\n",
    "model.add(Dense(26,activation='relu'))\n",
    "model.add(Dense(13,activation='relu'))\n",
    "model.add(Dense(13,activation='relu'))\n",
    "# Final output node for prediction\n",
    "model.add(Dense(1,activation='linear'))"
   ]
  },
  {
   "cell_type": "markdown",
   "metadata": {},
   "source": [
    "### 3.4 Compile and train the model (fitting the data) "
   ]
  },
  {
   "cell_type": "markdown",
   "metadata": {},
   "source": [
    "### 3.4.1 Quick Explanation - relu, adam, mse, epoch, verbose... "
   ]
  },
  {
   "cell_type": "code",
   "execution_count": 584,
   "metadata": {},
   "outputs": [],
   "source": []
  },
  {
   "cell_type": "code",
   "execution_count": 585,
   "metadata": {},
   "outputs": [],
   "source": []
  },
  {
   "cell_type": "code",
   "execution_count": 586,
   "metadata": {},
   "outputs": [],
   "source": []
  },
  {
   "cell_type": "code",
   "execution_count": 587,
   "metadata": {},
   "outputs": [],
   "source": []
  },
  {
   "cell_type": "code",
   "execution_count": 588,
   "metadata": {},
   "outputs": [],
   "source": [
    "# model.compile(optimizer='rmsprop',loss='mse')\n",
    "model.compile(optimizer='adam',loss='mse')"
   ]
  },
  {
   "cell_type": "code",
   "execution_count": 589,
   "metadata": {},
   "outputs": [
    {
     "name": "stdout",
     "output_type": "stream",
     "text": [
      "Train on 404 samples\n",
      "Epoch 1/250\n",
      "404/404 [==============================] - 1s 2ms/sample - loss: 546.5317\n",
      "Epoch 2/250\n",
      "404/404 [==============================] - 0s 221us/sample - loss: 233.4293\n",
      "Epoch 3/250\n",
      "404/404 [==============================] - 0s 217us/sample - loss: 89.9119\n",
      "Epoch 4/250\n",
      "404/404 [==============================] - 0s 216us/sample - loss: 59.8659\n",
      "Epoch 5/250\n",
      "404/404 [==============================] - 0s 216us/sample - loss: 44.3512\n",
      "Epoch 6/250\n",
      "404/404 [==============================] - 0s 214us/sample - loss: 37.6094\n",
      "Epoch 7/250\n",
      "404/404 [==============================] - 0s 226us/sample - loss: 34.9095\n",
      "Epoch 8/250\n",
      "404/404 [==============================] - 0s 231us/sample - loss: 34.0044\n",
      "Epoch 9/250\n",
      "404/404 [==============================] - 0s 223us/sample - loss: 29.8510\n",
      "Epoch 10/250\n",
      "404/404 [==============================] - 0s 210us/sample - loss: 30.8385\n",
      "Epoch 11/250\n",
      "404/404 [==============================] - 0s 213us/sample - loss: 24.9918\n",
      "Epoch 12/250\n",
      "404/404 [==============================] - 0s 209us/sample - loss: 24.5099\n",
      "Epoch 13/250\n",
      "404/404 [==============================] - 0s 216us/sample - loss: 22.9280\n",
      "Epoch 14/250\n",
      "404/404 [==============================] - 0s 211us/sample - loss: 21.3670\n",
      "Epoch 15/250\n",
      "404/404 [==============================] - 0s 208us/sample - loss: 21.0829\n",
      "Epoch 16/250\n",
      "404/404 [==============================] - 0s 214us/sample - loss: 20.2974\n",
      "Epoch 17/250\n",
      "404/404 [==============================] - 0s 211us/sample - loss: 19.8063\n",
      "Epoch 18/250\n",
      "404/404 [==============================] - 0s 215us/sample - loss: 19.4287\n",
      "Epoch 19/250\n",
      "404/404 [==============================] - 0s 214us/sample - loss: 20.0550\n",
      "Epoch 20/250\n",
      "404/404 [==============================] - 0s 211us/sample - loss: 19.3556\n",
      "Epoch 21/250\n",
      "404/404 [==============================] - 0s 210us/sample - loss: 19.6071\n",
      "Epoch 22/250\n",
      "404/404 [==============================] - 0s 211us/sample - loss: 18.2571\n",
      "Epoch 23/250\n",
      "404/404 [==============================] - 0s 208us/sample - loss: 18.6784\n",
      "Epoch 24/250\n",
      "404/404 [==============================] - 0s 215us/sample - loss: 18.0552\n",
      "Epoch 25/250\n",
      "404/404 [==============================] - 0s 214us/sample - loss: 18.1084\n",
      "Epoch 26/250\n",
      "404/404 [==============================] - 0s 214us/sample - loss: 17.5773\n",
      "Epoch 27/250\n",
      "404/404 [==============================] - 0s 219us/sample - loss: 17.2571\n",
      "Epoch 28/250\n",
      "404/404 [==============================] - 0s 217us/sample - loss: 16.9660\n",
      "Epoch 29/250\n",
      "404/404 [==============================] - 0s 220us/sample - loss: 17.2503\n",
      "Epoch 30/250\n",
      "404/404 [==============================] - 0s 213us/sample - loss: 16.7135\n",
      "Epoch 31/250\n",
      "404/404 [==============================] - 0s 216us/sample - loss: 16.9307\n",
      "Epoch 32/250\n",
      "404/404 [==============================] - 0s 206us/sample - loss: 16.0977\n",
      "Epoch 33/250\n",
      "404/404 [==============================] - 0s 234us/sample - loss: 16.1117\n",
      "Epoch 34/250\n",
      "404/404 [==============================] - 0s 232us/sample - loss: 15.6787\n",
      "Epoch 35/250\n",
      "404/404 [==============================] - 0s 231us/sample - loss: 16.6180\n",
      "Epoch 36/250\n",
      "404/404 [==============================] - 0s 208us/sample - loss: 15.2313\n",
      "Epoch 37/250\n",
      "404/404 [==============================] - 0s 220us/sample - loss: 15.5544\n",
      "Epoch 38/250\n",
      "404/404 [==============================] - 0s 220us/sample - loss: 15.3593\n",
      "Epoch 39/250\n",
      "404/404 [==============================] - 0s 206us/sample - loss: 15.1656\n",
      "Epoch 40/250\n",
      "404/404 [==============================] - 0s 220us/sample - loss: 14.6897\n",
      "Epoch 41/250\n",
      "404/404 [==============================] - 0s 216us/sample - loss: 15.8345\n",
      "Epoch 42/250\n",
      "404/404 [==============================] - 0s 217us/sample - loss: 14.6943\n",
      "Epoch 43/250\n",
      "404/404 [==============================] - 0s 217us/sample - loss: 13.9181\n",
      "Epoch 44/250\n",
      "404/404 [==============================] - 0s 216us/sample - loss: 13.9669\n",
      "Epoch 45/250\n",
      "404/404 [==============================] - 0s 219us/sample - loss: 14.0402\n",
      "Epoch 46/250\n",
      "404/404 [==============================] - 0s 222us/sample - loss: 13.6879\n",
      "Epoch 47/250\n",
      "404/404 [==============================] - 0s 221us/sample - loss: 13.3459\n",
      "Epoch 48/250\n",
      "404/404 [==============================] - 0s 218us/sample - loss: 13.7128\n",
      "Epoch 49/250\n",
      "404/404 [==============================] - 0s 218us/sample - loss: 13.1458\n",
      "Epoch 50/250\n",
      "404/404 [==============================] - 0s 213us/sample - loss: 12.9088\n",
      "Epoch 51/250\n",
      "404/404 [==============================] - 0s 233us/sample - loss: 12.6101\n",
      "Epoch 52/250\n",
      "404/404 [==============================] - 0s 229us/sample - loss: 12.8936\n",
      "Epoch 53/250\n",
      "404/404 [==============================] - 0s 231us/sample - loss: 12.8879\n",
      "Epoch 54/250\n",
      "404/404 [==============================] - 0s 216us/sample - loss: 12.0591\n",
      "Epoch 55/250\n",
      "404/404 [==============================] - 0s 210us/sample - loss: 12.5313\n",
      "Epoch 56/250\n",
      "404/404 [==============================] - 0s 225us/sample - loss: 12.1990\n",
      "Epoch 57/250\n",
      "404/404 [==============================] - 0s 218us/sample - loss: 11.9445\n",
      "Epoch 58/250\n",
      "404/404 [==============================] - 0s 238us/sample - loss: 11.5384\n",
      "Epoch 59/250\n",
      "404/404 [==============================] - 0s 219us/sample - loss: 11.3657\n",
      "Epoch 60/250\n",
      "404/404 [==============================] - 0s 209us/sample - loss: 11.2891\n",
      "Epoch 61/250\n",
      "404/404 [==============================] - 0s 239us/sample - loss: 11.1386\n",
      "Epoch 62/250\n",
      "404/404 [==============================] - 0s 228us/sample - loss: 11.5226\n",
      "Epoch 63/250\n",
      "404/404 [==============================] - 0s 221us/sample - loss: 12.1456\n",
      "Epoch 64/250\n",
      "404/404 [==============================] - 0s 216us/sample - loss: 11.0853\n",
      "Epoch 65/250\n",
      "404/404 [==============================] - 0s 217us/sample - loss: 11.4083\n",
      "Epoch 66/250\n",
      "404/404 [==============================] - 0s 218us/sample - loss: 10.6230\n",
      "Epoch 67/250\n",
      "404/404 [==============================] - 0s 210us/sample - loss: 10.7868\n",
      "Epoch 68/250\n",
      "404/404 [==============================] - 0s 219us/sample - loss: 10.5220\n",
      "Epoch 69/250\n",
      "404/404 [==============================] - 0s 223us/sample - loss: 10.5673\n",
      "Epoch 70/250\n",
      "404/404 [==============================] - 0s 221us/sample - loss: 10.5162\n",
      "Epoch 71/250\n",
      "404/404 [==============================] - 0s 221us/sample - loss: 10.7646\n",
      "Epoch 72/250\n",
      "404/404 [==============================] - 0s 220us/sample - loss: 10.0563\n",
      "Epoch 73/250\n",
      "404/404 [==============================] - 0s 218us/sample - loss: 10.4956\n",
      "Epoch 74/250\n",
      "404/404 [==============================] - 0s 222us/sample - loss: 9.6440\n",
      "Epoch 75/250\n",
      "404/404 [==============================] - 0s 242us/sample - loss: 10.0101\n",
      "Epoch 76/250\n",
      "404/404 [==============================] - 0s 248us/sample - loss: 9.7688\n",
      "Epoch 77/250\n",
      "404/404 [==============================] - 0s 246us/sample - loss: 9.4185\n",
      "Epoch 78/250\n",
      "404/404 [==============================] - 0s 236us/sample - loss: 9.2322\n",
      "Epoch 79/250\n",
      "404/404 [==============================] - 0s 232us/sample - loss: 9.1595\n",
      "Epoch 80/250\n",
      "404/404 [==============================] - 0s 243us/sample - loss: 8.9949\n",
      "Epoch 81/250\n",
      "404/404 [==============================] - 0s 234us/sample - loss: 9.3483\n",
      "Epoch 82/250\n",
      "404/404 [==============================] - 0s 234us/sample - loss: 8.6356\n",
      "Epoch 83/250\n",
      "404/404 [==============================] - 0s 244us/sample - loss: 9.2200\n",
      "Epoch 84/250\n",
      "404/404 [==============================] - 0s 233us/sample - loss: 8.8406\n",
      "Epoch 85/250\n",
      "404/404 [==============================] - 0s 242us/sample - loss: 8.7737\n",
      "Epoch 86/250\n",
      "404/404 [==============================] - 0s 256us/sample - loss: 9.3369\n",
      "Epoch 87/250\n",
      "404/404 [==============================] - 0s 238us/sample - loss: 8.4780\n",
      "Epoch 88/250\n",
      "404/404 [==============================] - 0s 228us/sample - loss: 8.4726\n",
      "Epoch 89/250\n",
      "404/404 [==============================] - 0s 239us/sample - loss: 8.5302\n",
      "Epoch 90/250\n",
      "404/404 [==============================] - 0s 235us/sample - loss: 8.8501\n",
      "Epoch 91/250\n",
      "404/404 [==============================] - 0s 245us/sample - loss: 8.4089\n",
      "Epoch 92/250\n",
      "404/404 [==============================] - 0s 224us/sample - loss: 8.1044\n",
      "Epoch 93/250\n",
      "404/404 [==============================] - 0s 236us/sample - loss: 8.0251\n",
      "Epoch 94/250\n",
      "404/404 [==============================] - 0s 293us/sample - loss: 8.0209\n",
      "Epoch 95/250\n",
      "404/404 [==============================] - 0s 266us/sample - loss: 7.7322\n",
      "Epoch 96/250\n",
      "404/404 [==============================] - 0s 250us/sample - loss: 7.8198\n",
      "Epoch 97/250\n",
      "404/404 [==============================] - 0s 259us/sample - loss: 8.0796\n",
      "Epoch 98/250\n",
      "404/404 [==============================] - 0s 245us/sample - loss: 7.8262\n",
      "Epoch 99/250\n",
      "404/404 [==============================] - 0s 229us/sample - loss: 7.7734\n",
      "Epoch 100/250\n",
      "404/404 [==============================] - 0s 224us/sample - loss: 7.9050\n",
      "Epoch 101/250\n",
      "404/404 [==============================] - 0s 224us/sample - loss: 7.3372\n",
      "Epoch 102/250\n",
      "404/404 [==============================] - 0s 225us/sample - loss: 7.4256\n",
      "Epoch 103/250\n",
      "404/404 [==============================] - 0s 222us/sample - loss: 7.5074\n",
      "Epoch 104/250\n",
      "404/404 [==============================] - 0s 225us/sample - loss: 8.4729\n",
      "Epoch 105/250\n",
      "404/404 [==============================] - 0s 231us/sample - loss: 6.9656\n",
      "Epoch 106/250\n",
      "404/404 [==============================] - 0s 226us/sample - loss: 8.0678\n",
      "Epoch 107/250\n",
      "404/404 [==============================] - 0s 220us/sample - loss: 7.7132\n",
      "Epoch 108/250\n",
      "404/404 [==============================] - 0s 229us/sample - loss: 7.8038\n",
      "Epoch 109/250\n",
      "404/404 [==============================] - 0s 223us/sample - loss: 8.0292\n",
      "Epoch 110/250\n",
      "404/404 [==============================] - 0s 227us/sample - loss: 7.3306\n",
      "Epoch 111/250\n",
      "404/404 [==============================] - 0s 239us/sample - loss: 7.2711\n",
      "Epoch 112/250\n",
      "404/404 [==============================] - 0s 234us/sample - loss: 7.7931\n",
      "Epoch 113/250\n",
      "404/404 [==============================] - 0s 234us/sample - loss: 8.7783\n",
      "Epoch 114/250\n",
      "404/404 [==============================] - 0s 223us/sample - loss: 7.2163\n",
      "Epoch 115/250\n",
      "404/404 [==============================] - 0s 224us/sample - loss: 7.5372\n",
      "Epoch 116/250\n",
      "404/404 [==============================] - 0s 228us/sample - loss: 7.3852\n",
      "Epoch 117/250\n",
      "404/404 [==============================] - 0s 229us/sample - loss: 7.6733\n",
      "Epoch 118/250\n",
      "404/404 [==============================] - 0s 232us/sample - loss: 7.2131\n",
      "Epoch 119/250\n",
      "404/404 [==============================] - 0s 226us/sample - loss: 7.4057\n",
      "Epoch 120/250\n",
      "404/404 [==============================] - 0s 252us/sample - loss: 7.3505\n",
      "Epoch 121/250\n",
      "404/404 [==============================] - 0s 249us/sample - loss: 6.9567\n",
      "Epoch 122/250\n",
      "404/404 [==============================] - 0s 247us/sample - loss: 7.1047\n",
      "Epoch 123/250\n",
      "404/404 [==============================] - 0s 236us/sample - loss: 7.2028\n",
      "Epoch 124/250\n",
      "404/404 [==============================] - 0s 240us/sample - loss: 7.1729\n",
      "Epoch 125/250\n",
      "404/404 [==============================] - 0s 230us/sample - loss: 6.7708\n",
      "Epoch 126/250\n",
      "404/404 [==============================] - 0s 221us/sample - loss: 8.6301\n",
      "Epoch 127/250\n",
      "404/404 [==============================] - 0s 225us/sample - loss: 7.1239\n",
      "Epoch 128/250\n",
      "404/404 [==============================] - 0s 226us/sample - loss: 6.7582\n",
      "Epoch 129/250\n",
      "404/404 [==============================] - 0s 224us/sample - loss: 7.2935\n",
      "Epoch 130/250\n",
      "404/404 [==============================] - 0s 231us/sample - loss: 6.9479\n",
      "Epoch 131/250\n",
      "404/404 [==============================] - 0s 230us/sample - loss: 6.8839\n",
      "Epoch 132/250\n",
      "404/404 [==============================] - 0s 224us/sample - loss: 7.0313\n",
      "Epoch 133/250\n",
      "404/404 [==============================] - 0s 217us/sample - loss: 6.6539\n",
      "Epoch 134/250\n",
      "404/404 [==============================] - 0s 229us/sample - loss: 7.5329\n",
      "Epoch 135/250\n",
      "404/404 [==============================] - 0s 242us/sample - loss: 6.9041\n",
      "Epoch 136/250\n",
      "404/404 [==============================] - 0s 239us/sample - loss: 6.5273\n",
      "Epoch 137/250\n",
      "404/404 [==============================] - 0s 222us/sample - loss: 6.6743\n",
      "Epoch 138/250\n",
      "404/404 [==============================] - 0s 225us/sample - loss: 6.9441\n",
      "Epoch 139/250\n",
      "404/404 [==============================] - 0s 230us/sample - loss: 6.6409\n",
      "Epoch 140/250\n",
      "404/404 [==============================] - 0s 234us/sample - loss: 6.8402\n",
      "Epoch 141/250\n",
      "404/404 [==============================] - 0s 236us/sample - loss: 6.8707\n",
      "Epoch 142/250\n",
      "404/404 [==============================] - 0s 238us/sample - loss: 6.8107\n",
      "Epoch 143/250\n",
      "404/404 [==============================] - 0s 227us/sample - loss: 6.4729\n",
      "Epoch 144/250\n",
      "404/404 [==============================] - 0s 222us/sample - loss: 6.8669\n",
      "Epoch 145/250\n",
      "404/404 [==============================] - 0s 220us/sample - loss: 6.8909\n",
      "Epoch 146/250\n",
      "404/404 [==============================] - 0s 224us/sample - loss: 6.4725\n",
      "Epoch 147/250\n",
      "404/404 [==============================] - 0s 230us/sample - loss: 6.5947\n",
      "Epoch 148/250\n",
      "404/404 [==============================] - 0s 227us/sample - loss: 6.3632\n",
      "Epoch 149/250\n",
      "404/404 [==============================] - 0s 230us/sample - loss: 6.2874\n",
      "Epoch 150/250\n",
      "404/404 [==============================] - 0s 232us/sample - loss: 6.4197\n",
      "Epoch 151/250\n",
      "404/404 [==============================] - 0s 233us/sample - loss: 6.4049\n",
      "Epoch 152/250\n",
      "404/404 [==============================] - 0s 228us/sample - loss: 6.6281\n",
      "Epoch 153/250\n",
      "404/404 [==============================] - 0s 225us/sample - loss: 6.8999\n",
      "Epoch 154/250\n",
      "404/404 [==============================] - 0s 219us/sample - loss: 6.4731\n",
      "Epoch 155/250\n",
      "404/404 [==============================] - 0s 220us/sample - loss: 7.8793\n",
      "Epoch 156/250\n",
      "404/404 [==============================] - 0s 213us/sample - loss: 6.4449\n",
      "Epoch 157/250\n",
      "404/404 [==============================] - 0s 215us/sample - loss: 7.0744\n",
      "Epoch 158/250\n",
      "404/404 [==============================] - 0s 225us/sample - loss: 7.0042\n",
      "Epoch 159/250\n",
      "404/404 [==============================] - 0s 222us/sample - loss: 6.9920\n",
      "Epoch 160/250\n",
      "404/404 [==============================] - 0s 226us/sample - loss: 6.3855\n",
      "Epoch 161/250\n",
      "404/404 [==============================] - 0s 231us/sample - loss: 6.4669\n",
      "Epoch 162/250\n",
      "404/404 [==============================] - 0s 222us/sample - loss: 7.3119\n",
      "Epoch 163/250\n",
      "404/404 [==============================] - 0s 223us/sample - loss: 7.6244\n",
      "Epoch 164/250\n",
      "404/404 [==============================] - 0s 225us/sample - loss: 6.3334\n",
      "Epoch 165/250\n",
      "404/404 [==============================] - 0s 224us/sample - loss: 6.5524\n",
      "Epoch 166/250\n",
      "404/404 [==============================] - 0s 220us/sample - loss: 6.2552\n",
      "Epoch 167/250\n",
      "404/404 [==============================] - 0s 218us/sample - loss: 6.1823\n",
      "Epoch 168/250\n",
      "404/404 [==============================] - 0s 219us/sample - loss: 6.7074\n",
      "Epoch 169/250\n",
      "404/404 [==============================] - 0s 231us/sample - loss: 6.2560\n",
      "Epoch 170/250\n",
      "404/404 [==============================] - 0s 222us/sample - loss: 6.2486\n",
      "Epoch 171/250\n",
      "404/404 [==============================] - 0s 219us/sample - loss: 6.6587\n",
      "Epoch 172/250\n",
      "404/404 [==============================] - 0s 240us/sample - loss: 6.9361\n",
      "Epoch 173/250\n",
      "404/404 [==============================] - 0s 240us/sample - loss: 5.8963\n",
      "Epoch 174/250\n",
      "404/404 [==============================] - 0s 247us/sample - loss: 6.3906\n",
      "Epoch 175/250\n",
      "404/404 [==============================] - 0s 227us/sample - loss: 6.0751\n",
      "Epoch 176/250\n",
      "404/404 [==============================] - 0s 227us/sample - loss: 5.9644\n",
      "Epoch 177/250\n",
      "404/404 [==============================] - 0s 223us/sample - loss: 6.2743\n",
      "Epoch 178/250\n",
      "404/404 [==============================] - 0s 223us/sample - loss: 6.4008\n",
      "Epoch 179/250\n",
      "404/404 [==============================] - 0s 231us/sample - loss: 6.1280\n",
      "Epoch 180/250\n",
      "404/404 [==============================] - 0s 225us/sample - loss: 6.1232\n",
      "Epoch 181/250\n",
      "404/404 [==============================] - 0s 215us/sample - loss: 6.0017\n",
      "Epoch 182/250\n",
      "404/404 [==============================] - 0s 224us/sample - loss: 6.0666\n",
      "Epoch 183/250\n",
      "404/404 [==============================] - 0s 223us/sample - loss: 6.0263\n",
      "Epoch 184/250\n",
      "404/404 [==============================] - 0s 220us/sample - loss: 6.5248\n",
      "Epoch 185/250\n",
      "404/404 [==============================] - 0s 224us/sample - loss: 5.8398\n",
      "Epoch 186/250\n",
      "404/404 [==============================] - 0s 241us/sample - loss: 5.8848\n",
      "Epoch 187/250\n",
      "404/404 [==============================] - 0s 226us/sample - loss: 5.7488\n",
      "Epoch 188/250\n",
      "404/404 [==============================] - 0s 229us/sample - loss: 6.5143\n",
      "Epoch 189/250\n",
      "404/404 [==============================] - 0s 236us/sample - loss: 6.5827\n",
      "Epoch 190/250\n",
      "404/404 [==============================] - 0s 243us/sample - loss: 6.2675\n",
      "Epoch 191/250\n",
      "404/404 [==============================] - 0s 239us/sample - loss: 5.9063\n",
      "Epoch 192/250\n",
      "404/404 [==============================] - 0s 239us/sample - loss: 5.8899\n",
      "Epoch 193/250\n",
      "404/404 [==============================] - 0s 239us/sample - loss: 6.3770\n",
      "Epoch 194/250\n",
      "404/404 [==============================] - 0s 239us/sample - loss: 5.7447\n",
      "Epoch 195/250\n",
      "404/404 [==============================] - 0s 227us/sample - loss: 5.9148\n",
      "Epoch 196/250\n",
      "404/404 [==============================] - 0s 233us/sample - loss: 5.7462\n",
      "Epoch 197/250\n",
      "404/404 [==============================] - 0s 240us/sample - loss: 5.8194\n",
      "Epoch 198/250\n",
      "404/404 [==============================] - 0s 224us/sample - loss: 6.3129\n",
      "Epoch 199/250\n",
      "404/404 [==============================] - 0s 218us/sample - loss: 5.7387\n",
      "Epoch 200/250\n",
      "404/404 [==============================] - 0s 214us/sample - loss: 5.8256\n",
      "Epoch 201/250\n",
      "404/404 [==============================] - 0s 212us/sample - loss: 5.5205\n",
      "Epoch 202/250\n",
      "404/404 [==============================] - 0s 215us/sample - loss: 6.0827\n",
      "Epoch 203/250\n",
      "404/404 [==============================] - 0s 212us/sample - loss: 6.0711\n",
      "Epoch 204/250\n",
      "404/404 [==============================] - 0s 228us/sample - loss: 5.6833\n",
      "Epoch 205/250\n",
      "404/404 [==============================] - 0s 240us/sample - loss: 6.5983\n",
      "Epoch 206/250\n",
      "404/404 [==============================] - 0s 244us/sample - loss: 5.6610\n",
      "Epoch 207/250\n",
      "404/404 [==============================] - 0s 244us/sample - loss: 6.1683\n",
      "Epoch 208/250\n",
      "404/404 [==============================] - 0s 229us/sample - loss: 6.1557\n",
      "Epoch 209/250\n",
      "404/404 [==============================] - 0s 235us/sample - loss: 6.2607\n",
      "Epoch 210/250\n",
      "404/404 [==============================] - 0s 237us/sample - loss: 6.0516\n",
      "Epoch 211/250\n",
      "404/404 [==============================] - 0s 227us/sample - loss: 5.5043\n",
      "Epoch 212/250\n",
      "404/404 [==============================] - 0s 218us/sample - loss: 5.8100\n",
      "Epoch 213/250\n",
      "404/404 [==============================] - 0s 217us/sample - loss: 6.5319\n",
      "Epoch 214/250\n",
      "404/404 [==============================] - 0s 221us/sample - loss: 6.3257\n",
      "Epoch 215/250\n",
      "404/404 [==============================] - 0s 217us/sample - loss: 5.9701\n",
      "Epoch 216/250\n",
      "404/404 [==============================] - 0s 218us/sample - loss: 5.3708\n",
      "Epoch 217/250\n",
      "404/404 [==============================] - 0s 217us/sample - loss: 5.5486\n",
      "Epoch 218/250\n",
      "404/404 [==============================] - 0s 220us/sample - loss: 6.5296\n",
      "Epoch 219/250\n",
      "404/404 [==============================] - 0s 223us/sample - loss: 6.4826\n",
      "Epoch 220/250\n",
      "404/404 [==============================] - 0s 231us/sample - loss: 5.6456\n",
      "Epoch 221/250\n",
      "404/404 [==============================] - 0s 249us/sample - loss: 5.5971\n",
      "Epoch 222/250\n",
      "404/404 [==============================] - 0s 259us/sample - loss: 5.6456\n",
      "Epoch 223/250\n",
      "404/404 [==============================] - 0s 260us/sample - loss: 5.4118\n",
      "Epoch 224/250\n",
      "404/404 [==============================] - 0s 256us/sample - loss: 5.6599\n",
      "Epoch 225/250\n",
      "404/404 [==============================] - 0s 243us/sample - loss: 6.2896\n",
      "Epoch 226/250\n",
      "404/404 [==============================] - 0s 242us/sample - loss: 6.7169\n",
      "Epoch 227/250\n",
      "404/404 [==============================] - 0s 222us/sample - loss: 5.3243\n",
      "Epoch 228/250\n",
      "404/404 [==============================] - 0s 230us/sample - loss: 5.9583\n",
      "Epoch 229/250\n",
      "404/404 [==============================] - 0s 230us/sample - loss: 5.5397\n",
      "Epoch 230/250\n",
      "404/404 [==============================] - 0s 242us/sample - loss: 5.5646\n",
      "Epoch 231/250\n",
      "404/404 [==============================] - 0s 236us/sample - loss: 5.8344\n",
      "Epoch 232/250\n",
      "404/404 [==============================] - 0s 234us/sample - loss: 5.6714\n",
      "Epoch 233/250\n",
      "404/404 [==============================] - 0s 239us/sample - loss: 6.1347\n",
      "Epoch 234/250\n",
      "404/404 [==============================] - 0s 251us/sample - loss: 5.5835\n",
      "Epoch 235/250\n",
      "404/404 [==============================] - 0s 246us/sample - loss: 5.2854\n",
      "Epoch 236/250\n",
      "404/404 [==============================] - 0s 241us/sample - loss: 5.4914\n",
      "Epoch 237/250\n",
      "404/404 [==============================] - 0s 220us/sample - loss: 5.4277\n",
      "Epoch 238/250\n",
      "404/404 [==============================] - 0s 217us/sample - loss: 5.2751\n",
      "Epoch 239/250\n",
      "404/404 [==============================] - 0s 216us/sample - loss: 5.6015\n",
      "Epoch 240/250\n",
      "404/404 [==============================] - 0s 222us/sample - loss: 5.2302\n",
      "Epoch 241/250\n",
      "404/404 [==============================] - 0s 221us/sample - loss: 5.9623\n",
      "Epoch 242/250\n",
      "404/404 [==============================] - 0s 228us/sample - loss: 5.4285\n",
      "Epoch 243/250\n",
      "404/404 [==============================] - 0s 234us/sample - loss: 5.5527\n",
      "Epoch 244/250\n",
      "404/404 [==============================] - 0s 242us/sample - loss: 5.9902\n",
      "Epoch 245/250\n",
      "404/404 [==============================] - 0s 247us/sample - loss: 5.4823\n",
      "Epoch 246/250\n",
      "404/404 [==============================] - 0s 251us/sample - loss: 5.4690\n",
      "Epoch 247/250\n",
      "404/404 [==============================] - 0s 244us/sample - loss: 5.4793\n",
      "Epoch 248/250\n",
      "404/404 [==============================] - 0s 241us/sample - loss: 5.5808\n",
      "Epoch 249/250\n",
      "404/404 [==============================] - 0s 234us/sample - loss: 5.5033\n",
      "Epoch 250/250\n",
      "404/404 [==============================] - 0s 250us/sample - loss: 5.4250\n"
     ]
    },
    {
     "data": {
      "text/plain": [
       "<tensorflow.python.keras.callbacks.History at 0x1c5454da50>"
      ]
     },
     "execution_count": 589,
     "metadata": {},
     "output_type": "execute_result"
    }
   ],
   "source": [
    "# # Train the neural network.\n",
    "model.fit(X_train, y_train, epochs=250, verbose=1, batch_size=10)"
   ]
  },
  {
   "cell_type": "code",
   "execution_count": 590,
   "metadata": {},
   "outputs": [],
   "source": [
    "# model.fit(X_train_white,y_train,epochs=250,verbose=1, batch=10)"
   ]
  },
  {
   "cell_type": "code",
   "execution_count": 591,
   "metadata": {},
   "outputs": [],
   "source": [
    "#model.history.history"
   ]
  },
  {
   "cell_type": "code",
   "execution_count": 592,
   "metadata": {},
   "outputs": [],
   "source": [
    "loss = model.history.history['loss']"
   ]
  },
  {
   "cell_type": "code",
   "execution_count": 593,
   "metadata": {},
   "outputs": [
    {
     "data": {
      "image/png": "[encoded data removed]",
      "text/plain": [
       "<Figure size 842.4x595.44 with 1 Axes>"
      ]
     },
     "metadata": {},
     "output_type": "display_data"
    }
   ],
   "source": [
    "sns.lineplot(x=range(len(loss)),y=loss)\n",
    "plt.title(\"Training Loss per Epoch\");"
   ]
  },
  {
   "cell_type": "markdown",
   "metadata": {},
   "source": [
    "### 3.6 Predict and View the output"
   ]
  },
  {
   "cell_type": "code",
   "execution_count": 594,
   "metadata": {},
   "outputs": [
    {
     "data": {
      "text/plain": [
       "['loss']"
      ]
     },
     "execution_count": 594,
     "metadata": {},
     "output_type": "execute_result"
    }
   ],
   "source": [
    "model.metrics_names"
   ]
  },
  {
   "cell_type": "markdown",
   "metadata": {},
   "source": [
    "#### 3.6.1 Observe the variation between prediction and real values"
   ]
  },
  {
   "cell_type": "code",
   "execution_count": 595,
   "metadata": {},
   "outputs": [],
   "source": [
    "training_score = model.evaluate(X_train,y_train,verbose=0)"
   ]
  },
  {
   "cell_type": "code",
   "execution_count": 596,
   "metadata": {},
   "outputs": [],
   "source": [
    "# training_score = model.evaluate(X_train_white,y_train,verbose=0)"
   ]
  },
  {
   "cell_type": "code",
   "execution_count": 597,
   "metadata": {},
   "outputs": [],
   "source": [
    "test_score = model.evaluate(X_test,y_test,verbose=0)"
   ]
  },
  {
   "cell_type": "code",
   "execution_count": 598,
   "metadata": {},
   "outputs": [],
   "source": [
    "# test_score = model.evaluate(X_test_white,y_test,verbose=0)"
   ]
  },
  {
   "cell_type": "markdown",
   "metadata": {},
   "source": [
    "#### 3.6.2 Print(error_in_prediction)"
   ]
  },
  {
   "cell_type": "code",
   "execution_count": 599,
   "metadata": {},
   "outputs": [
    {
     "name": "stdout",
     "output_type": "stream",
     "text": [
      "Training Score = : 5.736\n",
      "    Test Score = : 10.7389\n"
     ]
    }
   ],
   "source": [
    "# Mean Square error of this prediction\n",
    "# np.sqrt(np.sum((error_in_prediction)**2))\n",
    "print(\"Training Score = :\", training_score.round(4))\n",
    "print(\"    Test Score = :\", test_score.round(4))"
   ]
  },
  {
   "cell_type": "markdown",
   "metadata": {},
   "source": [
    "### 3.7 Tweaking the model and Visually comparing the outputs"
   ]
  },
  {
   "cell_type": "code",
   "execution_count": 600,
   "metadata": {},
   "outputs": [],
   "source": [
    "train_prediction = model.predict(X_train)\n",
    "#train_prediction.T"
   ]
  },
  {
   "cell_type": "code",
   "execution_count": 601,
   "metadata": {},
   "outputs": [],
   "source": [
    "# train_prediction = model.predict(X_train_white) "
   ]
  },
  {
   "cell_type": "code",
   "execution_count": 602,
   "metadata": {},
   "outputs": [
    {
     "data": {
      "image/png": "[encoded data removed]",
      "text/plain": [
       "<Figure size 842.4x595.44 with 1 Axes>"
      ]
     },
     "metadata": {},
     "output_type": "display_data"
    }
   ],
   "source": [
    "# Create plots of the 2 Outputs for better visual comparison\n",
    "xT = np.arange(0.0,404.0,1)\n",
    "\n",
    "# T = Known Training Output(blue), P = Predicted Training Output(red)\n",
    "plt.plot(xT, y_train, 'b-')\n",
    "plt.plot(xT, train_prediction, 'r-')\n",
    "plt.title(\"Comparing Real and Predicted Housing price Outputs Training Data\")\n",
    "plt.xlabel(\"datapoint\")\n",
    "plt.ylabel(\"medv\")\n",
    "plt.legend(\"TP\")    \n",
    "\n",
    "plt.show()"
   ]
  },
  {
   "cell_type": "markdown",
   "metadata": {},
   "source": [
    "## 3.8 Time to test the model with the testData..."
   ]
  },
  {
   "cell_type": "code",
   "execution_count": 603,
   "metadata": {},
   "outputs": [],
   "source": [
    "test_predictions = model.predict(X_test)\n",
    "#test_predictions.T\n"
   ]
  },
  {
   "cell_type": "code",
   "execution_count": 604,
   "metadata": {},
   "outputs": [],
   "source": [
    "# test_predictions = model.predict(X_test_white).round()\n",
    "# test_predictions.T"
   ]
  },
  {
   "cell_type": "code",
   "execution_count": 605,
   "metadata": {},
   "outputs": [
    {
     "data": {
      "image/png": "[encoded data removed]",
      "text/plain": [
       "<Figure size 842.4x595.44 with 1 Axes>"
      ]
     },
     "metadata": {},
     "output_type": "display_data"
    }
   ],
   "source": [
    "# Create plots of the 2 Outputs for better visual comparison 101\n",
    "xT = np.arange(0.0,102.0,1)\n",
    "\n",
    "# S = Known TEST Output(green), P = Predicted TEST Output(red)\n",
    "plt.plot(xT, y_test, 'g-')\n",
    "plt.plot(xT, test_predictions, 'r-')\n",
    "plt.title(\"Comparing Real and Predicted Housing price Outputs TEST Data\")\n",
    "plt.xlabel(\"datapoint\")\n",
    "plt.ylabel(\"medv\")\n",
    "plt.legend(\"SP\") \n",
    "\n",
    "plt.show()"
   ]
  },
  {
   "cell_type": "markdown",
   "metadata": {},
   "source": []
  },
  {
   "cell_type": "code",
   "execution_count": 606,
   "metadata": {},
   "outputs": [
    {
     "data": {
      "text/plain": [
       "(102, 1)"
      ]
     },
     "execution_count": 606,
     "metadata": {},
     "output_type": "execute_result"
    }
   ],
   "source": [
    "pred_df = pd.DataFrame(y_test,columns=['Test Y'])\n",
    "pred_df.shape"
   ]
  },
  {
   "cell_type": "code",
   "execution_count": 607,
   "metadata": {},
   "outputs": [],
   "source": [
    "test_predictions = pd.Series(test_predictions.reshape(102,))"
   ]
  },
  {
   "cell_type": "code",
   "execution_count": 608,
   "metadata": {},
   "outputs": [
    {
     "data": {
      "text/plain": [
       "0      26.110525\n",
       "1      26.331179\n",
       "2      30.120724\n",
       "3      19.302889\n",
       "4      49.884144\n",
       "         ...    \n",
       "97     27.217175\n",
       "98     13.511003\n",
       "99     16.229261\n",
       "100    21.295843\n",
       "101    25.105652\n",
       "Length: 102, dtype: float32"
      ]
     },
     "execution_count": 608,
     "metadata": {},
     "output_type": "execute_result"
    }
   ],
   "source": [
    "test_predictions"
   ]
  },
  {
   "cell_type": "markdown",
   "metadata": {},
   "source": [
    "### 3.8.1 Compute Errors in Test"
   ]
  },
  {
   "cell_type": "code",
   "execution_count": 609,
   "metadata": {},
   "outputs": [
    {
     "data": {
      "text/html": [
       "<div>\n",
       "<style scoped>\n",
       "    .dataframe tbody tr th:only-of-type {\n",
       "        vertical-align: middle;\n",
       "    }\n",
       "\n",
       "    .dataframe tbody tr th {\n",
       "        vertical-align: top;\n",
       "    }\n",
       "\n",
       "    .dataframe thead th {\n",
       "        text-align: right;\n",
       "    }\n",
       "</style>\n",
       "<table border=\"1\" class=\"dataframe\">\n",
       "  <thead>\n",
       "    <tr style=\"text-align: right;\">\n",
       "      <th></th>\n",
       "      <th>Test-Y</th>\n",
       "      <th>Y-Predicted</th>\n",
       "    </tr>\n",
       "  </thead>\n",
       "  <tbody>\n",
       "    <tr>\n",
       "      <td>0</td>\n",
       "      <td>25.0</td>\n",
       "      <td>26.110525</td>\n",
       "    </tr>\n",
       "    <tr>\n",
       "      <td>1</td>\n",
       "      <td>30.1</td>\n",
       "      <td>26.331179</td>\n",
       "    </tr>\n",
       "    <tr>\n",
       "      <td>2</td>\n",
       "      <td>30.8</td>\n",
       "      <td>30.120724</td>\n",
       "    </tr>\n",
       "    <tr>\n",
       "      <td>3</td>\n",
       "      <td>20.5</td>\n",
       "      <td>19.302889</td>\n",
       "    </tr>\n",
       "    <tr>\n",
       "      <td>4</td>\n",
       "      <td>48.5</td>\n",
       "      <td>49.884144</td>\n",
       "    </tr>\n",
       "    <tr>\n",
       "      <td>...</td>\n",
       "      <td>...</td>\n",
       "      <td>...</td>\n",
       "    </tr>\n",
       "    <tr>\n",
       "      <td>97</td>\n",
       "      <td>25.0</td>\n",
       "      <td>27.217175</td>\n",
       "    </tr>\n",
       "    <tr>\n",
       "      <td>98</td>\n",
       "      <td>15.6</td>\n",
       "      <td>13.511003</td>\n",
       "    </tr>\n",
       "    <tr>\n",
       "      <td>99</td>\n",
       "      <td>13.8</td>\n",
       "      <td>16.229261</td>\n",
       "    </tr>\n",
       "    <tr>\n",
       "      <td>100</td>\n",
       "      <td>20.9</td>\n",
       "      <td>21.295843</td>\n",
       "    </tr>\n",
       "    <tr>\n",
       "      <td>101</td>\n",
       "      <td>22.0</td>\n",
       "      <td>25.105652</td>\n",
       "    </tr>\n",
       "  </tbody>\n",
       "</table>\n",
       "<p>102 rows × 2 columns</p>\n",
       "</div>"
      ],
      "text/plain": [
       "     Test-Y  Y-Predicted\n",
       "0      25.0    26.110525\n",
       "1      30.1    26.331179\n",
       "2      30.8    30.120724\n",
       "3      20.5    19.302889\n",
       "4      48.5    49.884144\n",
       "..      ...          ...\n",
       "97     25.0    27.217175\n",
       "98     15.6    13.511003\n",
       "99     13.8    16.229261\n",
       "100    20.9    21.295843\n",
       "101    22.0    25.105652\n",
       "\n",
       "[102 rows x 2 columns]"
      ]
     },
     "execution_count": 609,
     "metadata": {},
     "output_type": "execute_result"
    }
   ],
   "source": [
    "pred_df         = pd.concat([pred_df,test_predictions],axis=1)\n",
    "pred_df.columns = ['Test-Y','Y-Predicted']\n",
    "\n",
    "pred_df"
   ]
  },
  {
   "cell_type": "markdown",
   "metadata": {},
   "source": [
    "### 3.8.2 Plot and See the difference"
   ]
  },
  {
   "cell_type": "code",
   "execution_count": 610,
   "metadata": {},
   "outputs": [
    {
     "data": {
      "text/plain": [
       "<matplotlib.axes._subplots.AxesSubplot at 0x1c57eb8ad0>"
      ]
     },
     "execution_count": 610,
     "metadata": {},
     "output_type": "execute_result"
    },
    {
     "data": {
      "image/png": "[encoded data removed]",
      "text/plain": [
       "<Figure size 842.4x595.44 with 1 Axes>"
      ]
     },
     "metadata": {},
     "output_type": "display_data"
    }
   ],
   "source": [
    "sns.scatterplot(x='Test-Y',y='Y-Predicted',data=pred_df)"
   ]
  },
  {
   "cell_type": "markdown",
   "metadata": {},
   "source": [
    "### 3.8.3 Absoulte Errors"
   ]
  },
  {
   "cell_type": "code",
   "execution_count": 611,
   "metadata": {},
   "outputs": [],
   "source": [
    "pred_df['Error'] = pred_df['Test-Y'] - pred_df['Y-Predicted']"
   ]
  },
  {
   "cell_type": "code",
   "execution_count": 612,
   "metadata": {},
   "outputs": [
    {
     "data": {
      "text/plain": [
       "<matplotlib.axes._subplots.AxesSubplot at 0x1c58002610>"
      ]
     },
     "execution_count": 612,
     "metadata": {},
     "output_type": "execute_result"
    },
    {
     "data": {
      "image/png": "[encoded data removed]",
      "text/plain": [
       "<Figure size 842.4x595.44 with 1 Axes>"
      ]
     },
     "metadata": {},
     "output_type": "display_data"
    }
   ],
   "source": [
    "sns.distplot(pred_df['Error'],bins=50)"
   ]
  },
  {
   "cell_type": "code",
   "execution_count": 613,
   "metadata": {},
   "outputs": [
    {
     "data": {
      "text/plain": [
       "2.4318"
      ]
     },
     "execution_count": 613,
     "metadata": {},
     "output_type": "execute_result"
    }
   ],
   "source": [
    "# Mean absolute Error\n",
    "mean_absolute_error(pred_df['Test-Y'],pred_df['Y-Predicted']).round(4)"
   ]
  },
  {
   "cell_type": "code",
   "execution_count": 614,
   "metadata": {},
   "outputs": [
    {
     "data": {
      "text/plain": [
       "10.7389"
      ]
     },
     "execution_count": 614,
     "metadata": {},
     "output_type": "execute_result"
    }
   ],
   "source": [
    "# Mean squared Error\n",
    "mean_squared_error(pred_df['Test-Y'],pred_df['Y-Predicted']).round(4)"
   ]
  },
  {
   "cell_type": "code",
   "execution_count": 615,
   "metadata": {},
   "outputs": [
    {
     "data": {
      "text/plain": [
       "10.7389"
      ]
     },
     "execution_count": 615,
     "metadata": {},
     "output_type": "execute_result"
    }
   ],
   "source": [
    "# Essentially the same thing, difference just due to precision\n",
    "test_score.round(4)"
   ]
  },
  {
   "cell_type": "code",
   "execution_count": 616,
   "metadata": {},
   "outputs": [
    {
     "data": {
      "text/plain": [
       "3.277"
      ]
     },
     "execution_count": 616,
     "metadata": {},
     "output_type": "execute_result"
    }
   ],
   "source": [
    "# Root Mean Squared Error\n",
    "(test_score**0.5).round(4)"
   ]
  },
  {
   "cell_type": "code",
   "execution_count": null,
   "metadata": {},
   "outputs": [],
   "source": []
  },
  {
   "cell_type": "markdown",
   "metadata": {},
   "source": [
    "NOTE: Kaggle account opened & housing.csv dataset downloaded - Today 3rd October, 2019\n",
    "# References:\n",
    "#### [1] Python Software Foundation: https://www.python.org/\n",
    "#### [2] SciPy developers: https://www.scipy.org/\n",
    "#### [3] Keras: https://keras.io/\n",
    "#### [4] Project Jupyter: https://jupyter.org/\n",
    "#### [5] Housing Values in Suburbs of Boston: https://www.kaggle.com/c/boston-housing.\n",
    "#### [6] Online Resources: https://www.weirdgeek.com/2018/12/linear-regression-to-boston-housing-dataset/ \n",
    "#### [7] Wiki: https://en.wikipedia.org/wiki/Multicollinearity\n",
    "#### [8] Scikit Learn: https://scikit-learn.org/stable/](https://scikit-learn.org/stable/\n",
    "#### [9] Inferential Statistics: https://www.statisticshowto.datasciencecentral.com/inferential-statistics/\n",
    "#### [10]\n",
    "#### [11]\n",
    "#### [12]"
   ]
  },
  {
   "cell_type": "code",
   "execution_count": null,
   "metadata": {},
   "outputs": [],
   "source": []
  },
  {
   "cell_type": "markdown",
   "metadata": {},
   "source": [
    "## END..."
   ]
  }
 ],
 "metadata": {
  "kernelspec": {
   "display_name": "Python 3",
   "language": "python",
   "name": "python3"
  },
  "language_info": {
   "codemirror_mode": {
    "name": "ipython",
    "version": 3
   },
   "file_extension": ".py",
   "mimetype": "text/x-python",
   "name": "python",
   "nbconvert_exporter": "python",
   "pygments_lexer": "ipython3",
   "version": "3.7.4"
  }
 },
 "nbformat": 4,
 "nbformat_minor": 4
}
